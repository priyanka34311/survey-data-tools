{
 "cells": [
  {
   "cell_type": "code",
   "execution_count": 162,
   "id": "983e4032-6b80-422e-ab2a-c8dc4d4c75b5",
   "metadata": {
    "tags": []
   },
   "outputs": [],
   "source": [
    "# Set up environment\n",
    "\n",
    "from IPython.core.interactiveshell import InteractiveShell\n",
    "InteractiveShell.ast_node_interactivity = \"all\"\n",
    "\n",
    "import pandas as pd\n",
    "import numpy as np\n",
    "import seaborn as sns"
   ]
  },
  {
   "cell_type": "code",
   "execution_count": 163,
   "id": "7d0f5a37-cb18-4760-a3a2-c8bc07d0ed9f",
   "metadata": {},
   "outputs": [
    {
     "data": {
      "text/plain": [
       "(68, 120)"
      ]
     },
     "execution_count": 163,
     "metadata": {},
     "output_type": "execute_result"
    },
    {
     "data": {
      "text/plain": [
       "array(['StartDate', 'EndDate', 'Status', 'IPAddress', 'Progress',\n",
       "       'Duration (in seconds)', 'Finished', 'RecordedDate', 'ResponseId',\n",
       "       'RecipientLastName', 'RecipientFirstName', 'RecipientEmail',\n",
       "       'ExternalReference', 'LocationLatitude', 'LocationLongitude',\n",
       "       'DistributionChannel', 'UserLanguage', 'Q1', 'Q2', 'Q3_1', 'Q3_2',\n",
       "       'Q3_3', 'Q3_4', 'Q3_5', 'Q4', 'Q5', 'Q6_1', 'Q6_2', 'Q6_3', 'Q6_4',\n",
       "       'Q6_5', 'Q7_1', 'Q7_2', 'Q7_3', 'Q7_4', 'Q7_5', 'Q8', 'Q9', 'Q10',\n",
       "       'Q11', 'Q12', 'Q13', 'Q13_2_TEXT', 'Q14', 'Q15_1', 'Q15_2',\n",
       "       'Q15_3', 'Q15_4', 'Q15_5', 'Q15_6', 'Q15_7', 'Q15_8', 'Q15_9',\n",
       "       'Q15_10', 'Q15_11', 'Q15_12', 'Q15_13', 'Q15_14', 'Q15_15',\n",
       "       'Q15_16', 'Q15_17', 'Q15_18', 'Q15_19', 'Q15_20', 'Q15_21',\n",
       "       'Q15_22', 'Q15_23', 'Q15_24', 'Q15_25', 'Q15_26', 'Q15_27',\n",
       "       'Q15_28', 'Q15_29', 'Q16_1', 'Q16_2', 'Q16_3', 'Q16_4', 'Q16_5',\n",
       "       'Q16_6', 'Q16_7', 'Q16_8', 'Q16_9', 'Q16_10', 'Q16_11', 'Q16_12',\n",
       "       'Q16_13', 'Q16_14', 'Q16_15', 'Q16_16', 'Q16_17', 'Q17_1', 'Q17_2',\n",
       "       'Q17_3', 'Q17_4', 'Q17_5', 'Q17_6', 'Q17_7', 'Q17_8', 'Q17_9',\n",
       "       'Q17_10', 'Q17_11', 'Q17_12', 'Q17_13', 'Q18', 'Q32', 'Q19', 'Q20',\n",
       "       'Q21', 'Q21_3_TEXT', 'Q22', 'Q23', 'Q24', 'Q25', 'Q26', 'Q27',\n",
       "       'Q28', 'Q29', 'Q30', 'Q30_2_TEXT', 'Q31'], dtype=object)"
      ]
     },
     "execution_count": 163,
     "metadata": {},
     "output_type": "execute_result"
    }
   ],
   "source": [
    "# Read in and preview dataset\n",
    "\n",
    "df = pd.read_csv('Conexion Baseline:Depression.csv')\n",
    "df.shape\n",
    "#df.info(verbose=True,show_counts=True)\n",
    "#df.head()\n",
    "#df.tail().T\n",
    "df.columns.values\n"
   ]
  },
  {
   "cell_type": "code",
   "execution_count": 164,
   "id": "dd46e5bb-de8d-4605-ab3a-deaece148ee6",
   "metadata": {},
   "outputs": [
    {
     "data": {
      "text/html": [
       "<div>\n",
       "<style scoped>\n",
       "    .dataframe tbody tr th:only-of-type {\n",
       "        vertical-align: middle;\n",
       "    }\n",
       "\n",
       "    .dataframe tbody tr th {\n",
       "        vertical-align: top;\n",
       "    }\n",
       "\n",
       "    .dataframe thead th {\n",
       "        text-align: right;\n",
       "    }\n",
       "</style>\n",
       "<table border=\"1\" class=\"dataframe\">\n",
       "  <thead>\n",
       "    <tr style=\"text-align: right;\">\n",
       "      <th></th>\n",
       "      <th>StartDate</th>\n",
       "      <th>EndDate</th>\n",
       "      <th>Status</th>\n",
       "      <th>IPAddress</th>\n",
       "      <th>Progress</th>\n",
       "      <th>Duration (in seconds)</th>\n",
       "      <th>Finished</th>\n",
       "      <th>RecordedDate</th>\n",
       "      <th>ResponseId</th>\n",
       "      <th>RecipientLastName</th>\n",
       "      <th>...</th>\n",
       "      <th>Q23</th>\n",
       "      <th>Q24</th>\n",
       "      <th>Q25</th>\n",
       "      <th>Q26</th>\n",
       "      <th>Q27</th>\n",
       "      <th>Q28</th>\n",
       "      <th>Q29</th>\n",
       "      <th>Q30</th>\n",
       "      <th>Q30_2_TEXT</th>\n",
       "      <th>Q31</th>\n",
       "    </tr>\n",
       "  </thead>\n",
       "  <tbody>\n",
       "    <tr>\n",
       "      <th>2</th>\n",
       "      <td>2019-11-04 09:35:05</td>\n",
       "      <td>2019-11-04 09:39:32</td>\n",
       "      <td>4</td>\n",
       "      <td>156.111.111.152</td>\n",
       "      <td>100</td>\n",
       "      <td>267</td>\n",
       "      <td>1</td>\n",
       "      <td>2021-06-25 09:29:03</td>\n",
       "      <td>R_1RhyHhpJzS5wMXI</td>\n",
       "      <td>NaN</td>\n",
       "      <td>...</td>\n",
       "      <td>4</td>\n",
       "      <td>1</td>\n",
       "      <td>2</td>\n",
       "      <td>1</td>\n",
       "      <td>3</td>\n",
       "      <td>2</td>\n",
       "      <td>1</td>\n",
       "      <td>1</td>\n",
       "      <td>NaN</td>\n",
       "      <td>NaN</td>\n",
       "    </tr>\n",
       "    <tr>\n",
       "      <th>3</th>\n",
       "      <td>2020-01-23 12:26:35</td>\n",
       "      <td>2020-01-23 12:29:21</td>\n",
       "      <td>4</td>\n",
       "      <td>156.111.111.218</td>\n",
       "      <td>100</td>\n",
       "      <td>166</td>\n",
       "      <td>1</td>\n",
       "      <td>2021-06-25 09:29:03</td>\n",
       "      <td>R_3vEi0niI0eB8SN0</td>\n",
       "      <td>NaN</td>\n",
       "      <td>...</td>\n",
       "      <td>30</td>\n",
       "      <td>5</td>\n",
       "      <td>5</td>\n",
       "      <td>2</td>\n",
       "      <td>1</td>\n",
       "      <td>1</td>\n",
       "      <td>2</td>\n",
       "      <td>2</td>\n",
       "      <td>dr</td>\n",
       "      <td>30</td>\n",
       "    </tr>\n",
       "    <tr>\n",
       "      <th>4</th>\n",
       "      <td>2020-03-05 13:28:10</td>\n",
       "      <td>2020-03-05 13:30:44</td>\n",
       "      <td>4</td>\n",
       "      <td>156.111.111.152</td>\n",
       "      <td>100</td>\n",
       "      <td>154</td>\n",
       "      <td>1</td>\n",
       "      <td>2021-06-25 09:29:03</td>\n",
       "      <td>R_3wL11OsqMOL8QAe</td>\n",
       "      <td>NaN</td>\n",
       "      <td>...</td>\n",
       "      <td>55</td>\n",
       "      <td>4</td>\n",
       "      <td>5</td>\n",
       "      <td>1</td>\n",
       "      <td>1</td>\n",
       "      <td>NaN</td>\n",
       "      <td>2</td>\n",
       "      <td>2</td>\n",
       "      <td>Greece</td>\n",
       "      <td>55</td>\n",
       "    </tr>\n",
       "    <tr>\n",
       "      <th>5</th>\n",
       "      <td>2020-01-23 12:32:32</td>\n",
       "      <td>2020-01-23 12:35:15</td>\n",
       "      <td>4</td>\n",
       "      <td>156.111.111.218</td>\n",
       "      <td>100</td>\n",
       "      <td>162</td>\n",
       "      <td>1</td>\n",
       "      <td>2021-06-25 09:29:03</td>\n",
       "      <td>R_6hgCPaA2EGwODlA</td>\n",
       "      <td>NaN</td>\n",
       "      <td>...</td>\n",
       "      <td>48</td>\n",
       "      <td>4</td>\n",
       "      <td>3</td>\n",
       "      <td>2</td>\n",
       "      <td>1</td>\n",
       "      <td>3</td>\n",
       "      <td>2</td>\n",
       "      <td>2</td>\n",
       "      <td>DR</td>\n",
       "      <td>48</td>\n",
       "    </tr>\n",
       "    <tr>\n",
       "      <th>6</th>\n",
       "      <td>2019-09-04 14:19:47</td>\n",
       "      <td>2019-09-04 14:24:03</td>\n",
       "      <td>4</td>\n",
       "      <td>156.111.111.160</td>\n",
       "      <td>100</td>\n",
       "      <td>256</td>\n",
       "      <td>1</td>\n",
       "      <td>2021-06-25 09:29:03</td>\n",
       "      <td>R_bIo7mk55GXP5adg</td>\n",
       "      <td>NaN</td>\n",
       "      <td>...</td>\n",
       "      <td>7</td>\n",
       "      <td>5</td>\n",
       "      <td>5</td>\n",
       "      <td>2</td>\n",
       "      <td>1</td>\n",
       "      <td>2</td>\n",
       "      <td>2</td>\n",
       "      <td>2</td>\n",
       "      <td>Ecuador</td>\n",
       "      <td>7</td>\n",
       "    </tr>\n",
       "    <tr>\n",
       "      <th>...</th>\n",
       "      <td>...</td>\n",
       "      <td>...</td>\n",
       "      <td>...</td>\n",
       "      <td>...</td>\n",
       "      <td>...</td>\n",
       "      <td>...</td>\n",
       "      <td>...</td>\n",
       "      <td>...</td>\n",
       "      <td>...</td>\n",
       "      <td>...</td>\n",
       "      <td>...</td>\n",
       "      <td>...</td>\n",
       "      <td>...</td>\n",
       "      <td>...</td>\n",
       "      <td>...</td>\n",
       "      <td>...</td>\n",
       "      <td>...</td>\n",
       "      <td>...</td>\n",
       "      <td>...</td>\n",
       "      <td>...</td>\n",
       "      <td>...</td>\n",
       "    </tr>\n",
       "    <tr>\n",
       "      <th>63</th>\n",
       "      <td>2019-11-12 14:59:03</td>\n",
       "      <td>2019-11-12 15:02:14</td>\n",
       "      <td>4</td>\n",
       "      <td>156.111.111.159</td>\n",
       "      <td>100</td>\n",
       "      <td>191</td>\n",
       "      <td>1</td>\n",
       "      <td>2021-06-25 09:29:03</td>\n",
       "      <td>R_80nyzg5g9W1pVsi</td>\n",
       "      <td>NaN</td>\n",
       "      <td>...</td>\n",
       "      <td>12</td>\n",
       "      <td>3</td>\n",
       "      <td>4</td>\n",
       "      <td>1</td>\n",
       "      <td>1</td>\n",
       "      <td>4</td>\n",
       "      <td>2</td>\n",
       "      <td>1</td>\n",
       "      <td>NaN</td>\n",
       "      <td>NaN</td>\n",
       "    </tr>\n",
       "    <tr>\n",
       "      <th>64</th>\n",
       "      <td>2020-01-31 11:23:13</td>\n",
       "      <td>2020-01-31 11:27:30</td>\n",
       "      <td>4</td>\n",
       "      <td>156.111.111.218</td>\n",
       "      <td>100</td>\n",
       "      <td>257</td>\n",
       "      <td>1</td>\n",
       "      <td>2021-06-25 09:29:03</td>\n",
       "      <td>R_9uIbsOOPABIilj8</td>\n",
       "      <td>NaN</td>\n",
       "      <td>...</td>\n",
       "      <td>20</td>\n",
       "      <td>5</td>\n",
       "      <td>5</td>\n",
       "      <td>1</td>\n",
       "      <td>1</td>\n",
       "      <td>1</td>\n",
       "      <td>1</td>\n",
       "      <td>2</td>\n",
       "      <td>DR</td>\n",
       "      <td>30</td>\n",
       "    </tr>\n",
       "    <tr>\n",
       "      <th>65</th>\n",
       "      <td>2020-11-17 13:59:54</td>\n",
       "      <td>2020-11-17 14:14:38</td>\n",
       "      <td>4</td>\n",
       "      <td>98.203.88.57</td>\n",
       "      <td>100</td>\n",
       "      <td>884</td>\n",
       "      <td>1</td>\n",
       "      <td>2021-06-25 09:29:03</td>\n",
       "      <td>R_doomuitqNZlwBPE</td>\n",
       "      <td>NaN</td>\n",
       "      <td>...</td>\n",
       "      <td>20</td>\n",
       "      <td>3</td>\n",
       "      <td>3</td>\n",
       "      <td>1</td>\n",
       "      <td>1</td>\n",
       "      <td>4</td>\n",
       "      <td>1</td>\n",
       "      <td>1</td>\n",
       "      <td>NaN</td>\n",
       "      <td>NaN</td>\n",
       "    </tr>\n",
       "    <tr>\n",
       "      <th>66</th>\n",
       "      <td>2020-01-10 12:13:38</td>\n",
       "      <td>2020-01-13 12:06:42</td>\n",
       "      <td>4</td>\n",
       "      <td>156.111.111.159</td>\n",
       "      <td>100</td>\n",
       "      <td>258783</td>\n",
       "      <td>1</td>\n",
       "      <td>2021-06-25 09:29:03</td>\n",
       "      <td>R_7NCwoQeAlhOxLJI</td>\n",
       "      <td>NaN</td>\n",
       "      <td>...</td>\n",
       "      <td>38</td>\n",
       "      <td>4</td>\n",
       "      <td>4</td>\n",
       "      <td>1</td>\n",
       "      <td>1</td>\n",
       "      <td>1</td>\n",
       "      <td>2</td>\n",
       "      <td>2</td>\n",
       "      <td>peru</td>\n",
       "      <td>38</td>\n",
       "    </tr>\n",
       "    <tr>\n",
       "      <th>67</th>\n",
       "      <td>2020-01-23 12:35:42</td>\n",
       "      <td>2020-01-23 12:38:01</td>\n",
       "      <td>4</td>\n",
       "      <td>156.111.111.218</td>\n",
       "      <td>100</td>\n",
       "      <td>139</td>\n",
       "      <td>1</td>\n",
       "      <td>2021-06-25 09:29:03</td>\n",
       "      <td>R_eIL5nhlYv7xwlQG</td>\n",
       "      <td>NaN</td>\n",
       "      <td>...</td>\n",
       "      <td>11</td>\n",
       "      <td>3</td>\n",
       "      <td>3</td>\n",
       "      <td>2</td>\n",
       "      <td>2</td>\n",
       "      <td>1</td>\n",
       "      <td>2</td>\n",
       "      <td>1</td>\n",
       "      <td>NaN</td>\n",
       "      <td>NaN</td>\n",
       "    </tr>\n",
       "  </tbody>\n",
       "</table>\n",
       "<p>66 rows × 120 columns</p>\n",
       "</div>"
      ],
      "text/plain": [
       "              StartDate              EndDate Status        IPAddress Progress  \\\n",
       "2   2019-11-04 09:35:05  2019-11-04 09:39:32      4  156.111.111.152      100   \n",
       "3   2020-01-23 12:26:35  2020-01-23 12:29:21      4  156.111.111.218      100   \n",
       "4   2020-03-05 13:28:10  2020-03-05 13:30:44      4  156.111.111.152      100   \n",
       "5   2020-01-23 12:32:32  2020-01-23 12:35:15      4  156.111.111.218      100   \n",
       "6   2019-09-04 14:19:47  2019-09-04 14:24:03      4  156.111.111.160      100   \n",
       "..                  ...                  ...    ...              ...      ...   \n",
       "63  2019-11-12 14:59:03  2019-11-12 15:02:14      4  156.111.111.159      100   \n",
       "64  2020-01-31 11:23:13  2020-01-31 11:27:30      4  156.111.111.218      100   \n",
       "65  2020-11-17 13:59:54  2020-11-17 14:14:38      4     98.203.88.57      100   \n",
       "66  2020-01-10 12:13:38  2020-01-13 12:06:42      4  156.111.111.159      100   \n",
       "67  2020-01-23 12:35:42  2020-01-23 12:38:01      4  156.111.111.218      100   \n",
       "\n",
       "   Duration (in seconds) Finished         RecordedDate         ResponseId  \\\n",
       "2                    267        1  2021-06-25 09:29:03  R_1RhyHhpJzS5wMXI   \n",
       "3                    166        1  2021-06-25 09:29:03  R_3vEi0niI0eB8SN0   \n",
       "4                    154        1  2021-06-25 09:29:03  R_3wL11OsqMOL8QAe   \n",
       "5                    162        1  2021-06-25 09:29:03  R_6hgCPaA2EGwODlA   \n",
       "6                    256        1  2021-06-25 09:29:03  R_bIo7mk55GXP5adg   \n",
       "..                   ...      ...                  ...                ...   \n",
       "63                   191        1  2021-06-25 09:29:03  R_80nyzg5g9W1pVsi   \n",
       "64                   257        1  2021-06-25 09:29:03  R_9uIbsOOPABIilj8   \n",
       "65                   884        1  2021-06-25 09:29:03  R_doomuitqNZlwBPE   \n",
       "66                258783        1  2021-06-25 09:29:03  R_7NCwoQeAlhOxLJI   \n",
       "67                   139        1  2021-06-25 09:29:03  R_eIL5nhlYv7xwlQG   \n",
       "\n",
       "   RecipientLastName  ... Q23 Q24 Q25 Q26 Q27  Q28 Q29 Q30 Q30_2_TEXT  Q31  \n",
       "2                NaN  ...   4   1   2   1   3    2   1   1        NaN  NaN  \n",
       "3                NaN  ...  30   5   5   2   1    1   2   2         dr   30  \n",
       "4                NaN  ...  55   4   5   1   1  NaN   2   2     Greece   55  \n",
       "5                NaN  ...  48   4   3   2   1    3   2   2         DR   48  \n",
       "6                NaN  ...   7   5   5   2   1    2   2   2    Ecuador    7  \n",
       "..               ...  ...  ..  ..  ..  ..  ..  ...  ..  ..        ...  ...  \n",
       "63               NaN  ...  12   3   4   1   1    4   2   1        NaN  NaN  \n",
       "64               NaN  ...  20   5   5   1   1    1   1   2         DR   30  \n",
       "65               NaN  ...  20   3   3   1   1    4   1   1        NaN  NaN  \n",
       "66               NaN  ...  38   4   4   1   1    1   2   2       peru   38  \n",
       "67               NaN  ...  11   3   3   2   2    1   2   1        NaN  NaN  \n",
       "\n",
       "[66 rows x 120 columns]"
      ]
     },
     "execution_count": 164,
     "metadata": {},
     "output_type": "execute_result"
    }
   ],
   "source": [
    "# Drop rows 0 & 1\n",
    "df = df.drop([0,1])\n",
    "df"
   ]
  },
  {
   "cell_type": "code",
   "execution_count": 165,
   "id": "0b38c260-f04b-4768-b72a-ff7e595450b4",
   "metadata": {},
   "outputs": [
    {
     "data": {
      "text/html": [
       "<div>\n",
       "<style scoped>\n",
       "    .dataframe tbody tr th:only-of-type {\n",
       "        vertical-align: middle;\n",
       "    }\n",
       "\n",
       "    .dataframe tbody tr th {\n",
       "        vertical-align: top;\n",
       "    }\n",
       "\n",
       "    .dataframe thead th {\n",
       "        text-align: right;\n",
       "    }\n",
       "</style>\n",
       "<table border=\"1\" class=\"dataframe\">\n",
       "  <thead>\n",
       "    <tr style=\"text-align: right;\">\n",
       "      <th></th>\n",
       "      <th>StartDate</th>\n",
       "      <th>EndDate</th>\n",
       "      <th>Status</th>\n",
       "      <th>IPAddress</th>\n",
       "      <th>Progress</th>\n",
       "      <th>Duration (in seconds)</th>\n",
       "      <th>Finished</th>\n",
       "      <th>RecordedDate</th>\n",
       "      <th>ResponseId</th>\n",
       "      <th>RecipientLastName</th>\n",
       "      <th>...</th>\n",
       "      <th>Q23</th>\n",
       "      <th>Q24</th>\n",
       "      <th>Q25</th>\n",
       "      <th>Q26</th>\n",
       "      <th>Q27</th>\n",
       "      <th>Q28</th>\n",
       "      <th>Q29</th>\n",
       "      <th>Q30</th>\n",
       "      <th>Q30_2_TEXT</th>\n",
       "      <th>Q31</th>\n",
       "    </tr>\n",
       "  </thead>\n",
       "  <tbody>\n",
       "    <tr>\n",
       "      <th>0</th>\n",
       "      <td>0</td>\n",
       "      <td>0</td>\n",
       "      <td>0</td>\n",
       "      <td>0</td>\n",
       "      <td>0</td>\n",
       "      <td>0</td>\n",
       "      <td>0</td>\n",
       "      <td>0</td>\n",
       "      <td>0</td>\n",
       "      <td>0</td>\n",
       "      <td>...</td>\n",
       "      <td>0</td>\n",
       "      <td>0</td>\n",
       "      <td>0</td>\n",
       "      <td>0</td>\n",
       "      <td>0</td>\n",
       "      <td>0</td>\n",
       "      <td>0</td>\n",
       "      <td>0</td>\n",
       "      <td>0</td>\n",
       "      <td>0</td>\n",
       "    </tr>\n",
       "  </tbody>\n",
       "</table>\n",
       "<p>1 rows × 120 columns</p>\n",
       "</div>"
      ],
      "text/plain": [
       "   StartDate  EndDate  Status  IPAddress  Progress  Duration (in seconds)  \\\n",
       "0          0        0       0          0         0                      0   \n",
       "\n",
       "   Finished  RecordedDate  ResponseId  RecipientLastName  ...  Q23  Q24  Q25  \\\n",
       "0         0             0           0                  0  ...    0    0    0   \n",
       "\n",
       "   Q26  Q27  Q28  Q29  Q30  Q30_2_TEXT  Q31  \n",
       "0    0    0    0    0    0           0    0  \n",
       "\n",
       "[1 rows x 120 columns]"
      ]
     },
     "execution_count": 165,
     "metadata": {},
     "output_type": "execute_result"
    },
    {
     "data": {
      "text/html": [
       "<div>\n",
       "<style scoped>\n",
       "    .dataframe tbody tr th:only-of-type {\n",
       "        vertical-align: middle;\n",
       "    }\n",
       "\n",
       "    .dataframe tbody tr th {\n",
       "        vertical-align: top;\n",
       "    }\n",
       "\n",
       "    .dataframe thead th {\n",
       "        text-align: right;\n",
       "    }\n",
       "</style>\n",
       "<table border=\"1\" class=\"dataframe\">\n",
       "  <thead>\n",
       "    <tr style=\"text-align: right;\">\n",
       "      <th></th>\n",
       "      <th>StartDate</th>\n",
       "      <th>EndDate</th>\n",
       "      <th>Status</th>\n",
       "      <th>IPAddress</th>\n",
       "      <th>Progress</th>\n",
       "      <th>Duration (in seconds)</th>\n",
       "      <th>Finished</th>\n",
       "      <th>RecordedDate</th>\n",
       "      <th>ResponseId</th>\n",
       "      <th>RecipientLastName</th>\n",
       "      <th>...</th>\n",
       "      <th>Q23</th>\n",
       "      <th>Q24</th>\n",
       "      <th>Q25</th>\n",
       "      <th>Q26</th>\n",
       "      <th>Q27</th>\n",
       "      <th>Q28</th>\n",
       "      <th>Q29</th>\n",
       "      <th>Q30</th>\n",
       "      <th>Q30_2_TEXT</th>\n",
       "      <th>Q31</th>\n",
       "    </tr>\n",
       "  </thead>\n",
       "  <tbody>\n",
       "    <tr>\n",
       "      <th>0</th>\n",
       "      <td>2019-11-04 09:35:05</td>\n",
       "      <td>2019-11-04 09:39:32</td>\n",
       "      <td>4</td>\n",
       "      <td>156.111.111.152</td>\n",
       "      <td>100</td>\n",
       "      <td>267</td>\n",
       "      <td>1</td>\n",
       "      <td>2021-06-25 09:29:03</td>\n",
       "      <td>R_1RhyHhpJzS5wMXI</td>\n",
       "      <td>NaN</td>\n",
       "      <td>...</td>\n",
       "      <td>4</td>\n",
       "      <td>1</td>\n",
       "      <td>2</td>\n",
       "      <td>1</td>\n",
       "      <td>3</td>\n",
       "      <td>2</td>\n",
       "      <td>1</td>\n",
       "      <td>1</td>\n",
       "      <td>NaN</td>\n",
       "      <td>NaN</td>\n",
       "    </tr>\n",
       "    <tr>\n",
       "      <th>1</th>\n",
       "      <td>2020-01-23 12:26:35</td>\n",
       "      <td>2020-01-23 12:29:21</td>\n",
       "      <td>4</td>\n",
       "      <td>156.111.111.218</td>\n",
       "      <td>100</td>\n",
       "      <td>166</td>\n",
       "      <td>1</td>\n",
       "      <td>2021-06-25 09:29:03</td>\n",
       "      <td>R_3vEi0niI0eB8SN0</td>\n",
       "      <td>NaN</td>\n",
       "      <td>...</td>\n",
       "      <td>30</td>\n",
       "      <td>5</td>\n",
       "      <td>5</td>\n",
       "      <td>2</td>\n",
       "      <td>1</td>\n",
       "      <td>1</td>\n",
       "      <td>2</td>\n",
       "      <td>2</td>\n",
       "      <td>dr</td>\n",
       "      <td>30</td>\n",
       "    </tr>\n",
       "    <tr>\n",
       "      <th>2</th>\n",
       "      <td>2020-03-05 13:28:10</td>\n",
       "      <td>2020-03-05 13:30:44</td>\n",
       "      <td>4</td>\n",
       "      <td>156.111.111.152</td>\n",
       "      <td>100</td>\n",
       "      <td>154</td>\n",
       "      <td>1</td>\n",
       "      <td>2021-06-25 09:29:03</td>\n",
       "      <td>R_3wL11OsqMOL8QAe</td>\n",
       "      <td>NaN</td>\n",
       "      <td>...</td>\n",
       "      <td>55</td>\n",
       "      <td>4</td>\n",
       "      <td>5</td>\n",
       "      <td>1</td>\n",
       "      <td>1</td>\n",
       "      <td>NaN</td>\n",
       "      <td>2</td>\n",
       "      <td>2</td>\n",
       "      <td>Greece</td>\n",
       "      <td>55</td>\n",
       "    </tr>\n",
       "    <tr>\n",
       "      <th>3</th>\n",
       "      <td>2020-01-23 12:32:32</td>\n",
       "      <td>2020-01-23 12:35:15</td>\n",
       "      <td>4</td>\n",
       "      <td>156.111.111.218</td>\n",
       "      <td>100</td>\n",
       "      <td>162</td>\n",
       "      <td>1</td>\n",
       "      <td>2021-06-25 09:29:03</td>\n",
       "      <td>R_6hgCPaA2EGwODlA</td>\n",
       "      <td>NaN</td>\n",
       "      <td>...</td>\n",
       "      <td>48</td>\n",
       "      <td>4</td>\n",
       "      <td>3</td>\n",
       "      <td>2</td>\n",
       "      <td>1</td>\n",
       "      <td>3</td>\n",
       "      <td>2</td>\n",
       "      <td>2</td>\n",
       "      <td>DR</td>\n",
       "      <td>48</td>\n",
       "    </tr>\n",
       "    <tr>\n",
       "      <th>4</th>\n",
       "      <td>2019-09-04 14:19:47</td>\n",
       "      <td>2019-09-04 14:24:03</td>\n",
       "      <td>4</td>\n",
       "      <td>156.111.111.160</td>\n",
       "      <td>100</td>\n",
       "      <td>256</td>\n",
       "      <td>1</td>\n",
       "      <td>2021-06-25 09:29:03</td>\n",
       "      <td>R_bIo7mk55GXP5adg</td>\n",
       "      <td>NaN</td>\n",
       "      <td>...</td>\n",
       "      <td>7</td>\n",
       "      <td>5</td>\n",
       "      <td>5</td>\n",
       "      <td>2</td>\n",
       "      <td>1</td>\n",
       "      <td>2</td>\n",
       "      <td>2</td>\n",
       "      <td>2</td>\n",
       "      <td>Ecuador</td>\n",
       "      <td>7</td>\n",
       "    </tr>\n",
       "    <tr>\n",
       "      <th>...</th>\n",
       "      <td>...</td>\n",
       "      <td>...</td>\n",
       "      <td>...</td>\n",
       "      <td>...</td>\n",
       "      <td>...</td>\n",
       "      <td>...</td>\n",
       "      <td>...</td>\n",
       "      <td>...</td>\n",
       "      <td>...</td>\n",
       "      <td>...</td>\n",
       "      <td>...</td>\n",
       "      <td>...</td>\n",
       "      <td>...</td>\n",
       "      <td>...</td>\n",
       "      <td>...</td>\n",
       "      <td>...</td>\n",
       "      <td>...</td>\n",
       "      <td>...</td>\n",
       "      <td>...</td>\n",
       "      <td>...</td>\n",
       "      <td>...</td>\n",
       "    </tr>\n",
       "    <tr>\n",
       "      <th>61</th>\n",
       "      <td>2019-11-12 14:59:03</td>\n",
       "      <td>2019-11-12 15:02:14</td>\n",
       "      <td>4</td>\n",
       "      <td>156.111.111.159</td>\n",
       "      <td>100</td>\n",
       "      <td>191</td>\n",
       "      <td>1</td>\n",
       "      <td>2021-06-25 09:29:03</td>\n",
       "      <td>R_80nyzg5g9W1pVsi</td>\n",
       "      <td>NaN</td>\n",
       "      <td>...</td>\n",
       "      <td>12</td>\n",
       "      <td>3</td>\n",
       "      <td>4</td>\n",
       "      <td>1</td>\n",
       "      <td>1</td>\n",
       "      <td>4</td>\n",
       "      <td>2</td>\n",
       "      <td>1</td>\n",
       "      <td>NaN</td>\n",
       "      <td>NaN</td>\n",
       "    </tr>\n",
       "    <tr>\n",
       "      <th>62</th>\n",
       "      <td>2020-01-31 11:23:13</td>\n",
       "      <td>2020-01-31 11:27:30</td>\n",
       "      <td>4</td>\n",
       "      <td>156.111.111.218</td>\n",
       "      <td>100</td>\n",
       "      <td>257</td>\n",
       "      <td>1</td>\n",
       "      <td>2021-06-25 09:29:03</td>\n",
       "      <td>R_9uIbsOOPABIilj8</td>\n",
       "      <td>NaN</td>\n",
       "      <td>...</td>\n",
       "      <td>20</td>\n",
       "      <td>5</td>\n",
       "      <td>5</td>\n",
       "      <td>1</td>\n",
       "      <td>1</td>\n",
       "      <td>1</td>\n",
       "      <td>1</td>\n",
       "      <td>2</td>\n",
       "      <td>DR</td>\n",
       "      <td>30</td>\n",
       "    </tr>\n",
       "    <tr>\n",
       "      <th>63</th>\n",
       "      <td>2020-11-17 13:59:54</td>\n",
       "      <td>2020-11-17 14:14:38</td>\n",
       "      <td>4</td>\n",
       "      <td>98.203.88.57</td>\n",
       "      <td>100</td>\n",
       "      <td>884</td>\n",
       "      <td>1</td>\n",
       "      <td>2021-06-25 09:29:03</td>\n",
       "      <td>R_doomuitqNZlwBPE</td>\n",
       "      <td>NaN</td>\n",
       "      <td>...</td>\n",
       "      <td>20</td>\n",
       "      <td>3</td>\n",
       "      <td>3</td>\n",
       "      <td>1</td>\n",
       "      <td>1</td>\n",
       "      <td>4</td>\n",
       "      <td>1</td>\n",
       "      <td>1</td>\n",
       "      <td>NaN</td>\n",
       "      <td>NaN</td>\n",
       "    </tr>\n",
       "    <tr>\n",
       "      <th>64</th>\n",
       "      <td>2020-01-10 12:13:38</td>\n",
       "      <td>2020-01-13 12:06:42</td>\n",
       "      <td>4</td>\n",
       "      <td>156.111.111.159</td>\n",
       "      <td>100</td>\n",
       "      <td>258783</td>\n",
       "      <td>1</td>\n",
       "      <td>2021-06-25 09:29:03</td>\n",
       "      <td>R_7NCwoQeAlhOxLJI</td>\n",
       "      <td>NaN</td>\n",
       "      <td>...</td>\n",
       "      <td>38</td>\n",
       "      <td>4</td>\n",
       "      <td>4</td>\n",
       "      <td>1</td>\n",
       "      <td>1</td>\n",
       "      <td>1</td>\n",
       "      <td>2</td>\n",
       "      <td>2</td>\n",
       "      <td>peru</td>\n",
       "      <td>38</td>\n",
       "    </tr>\n",
       "    <tr>\n",
       "      <th>65</th>\n",
       "      <td>2020-01-23 12:35:42</td>\n",
       "      <td>2020-01-23 12:38:01</td>\n",
       "      <td>4</td>\n",
       "      <td>156.111.111.218</td>\n",
       "      <td>100</td>\n",
       "      <td>139</td>\n",
       "      <td>1</td>\n",
       "      <td>2021-06-25 09:29:03</td>\n",
       "      <td>R_eIL5nhlYv7xwlQG</td>\n",
       "      <td>NaN</td>\n",
       "      <td>...</td>\n",
       "      <td>11</td>\n",
       "      <td>3</td>\n",
       "      <td>3</td>\n",
       "      <td>2</td>\n",
       "      <td>2</td>\n",
       "      <td>1</td>\n",
       "      <td>2</td>\n",
       "      <td>1</td>\n",
       "      <td>NaN</td>\n",
       "      <td>NaN</td>\n",
       "    </tr>\n",
       "  </tbody>\n",
       "</table>\n",
       "<p>66 rows × 120 columns</p>\n",
       "</div>"
      ],
      "text/plain": [
       "              StartDate              EndDate Status        IPAddress Progress  \\\n",
       "0   2019-11-04 09:35:05  2019-11-04 09:39:32      4  156.111.111.152      100   \n",
       "1   2020-01-23 12:26:35  2020-01-23 12:29:21      4  156.111.111.218      100   \n",
       "2   2020-03-05 13:28:10  2020-03-05 13:30:44      4  156.111.111.152      100   \n",
       "3   2020-01-23 12:32:32  2020-01-23 12:35:15      4  156.111.111.218      100   \n",
       "4   2019-09-04 14:19:47  2019-09-04 14:24:03      4  156.111.111.160      100   \n",
       "..                  ...                  ...    ...              ...      ...   \n",
       "61  2019-11-12 14:59:03  2019-11-12 15:02:14      4  156.111.111.159      100   \n",
       "62  2020-01-31 11:23:13  2020-01-31 11:27:30      4  156.111.111.218      100   \n",
       "63  2020-11-17 13:59:54  2020-11-17 14:14:38      4     98.203.88.57      100   \n",
       "64  2020-01-10 12:13:38  2020-01-13 12:06:42      4  156.111.111.159      100   \n",
       "65  2020-01-23 12:35:42  2020-01-23 12:38:01      4  156.111.111.218      100   \n",
       "\n",
       "   Duration (in seconds) Finished         RecordedDate         ResponseId  \\\n",
       "0                    267        1  2021-06-25 09:29:03  R_1RhyHhpJzS5wMXI   \n",
       "1                    166        1  2021-06-25 09:29:03  R_3vEi0niI0eB8SN0   \n",
       "2                    154        1  2021-06-25 09:29:03  R_3wL11OsqMOL8QAe   \n",
       "3                    162        1  2021-06-25 09:29:03  R_6hgCPaA2EGwODlA   \n",
       "4                    256        1  2021-06-25 09:29:03  R_bIo7mk55GXP5adg   \n",
       "..                   ...      ...                  ...                ...   \n",
       "61                   191        1  2021-06-25 09:29:03  R_80nyzg5g9W1pVsi   \n",
       "62                   257        1  2021-06-25 09:29:03  R_9uIbsOOPABIilj8   \n",
       "63                   884        1  2021-06-25 09:29:03  R_doomuitqNZlwBPE   \n",
       "64                258783        1  2021-06-25 09:29:03  R_7NCwoQeAlhOxLJI   \n",
       "65                   139        1  2021-06-25 09:29:03  R_eIL5nhlYv7xwlQG   \n",
       "\n",
       "   RecipientLastName  ... Q23 Q24 Q25 Q26 Q27  Q28 Q29 Q30 Q30_2_TEXT  Q31  \n",
       "0                NaN  ...   4   1   2   1   3    2   1   1        NaN  NaN  \n",
       "1                NaN  ...  30   5   5   2   1    1   2   2         dr   30  \n",
       "2                NaN  ...  55   4   5   1   1  NaN   2   2     Greece   55  \n",
       "3                NaN  ...  48   4   3   2   1    3   2   2         DR   48  \n",
       "4                NaN  ...   7   5   5   2   1    2   2   2    Ecuador    7  \n",
       "..               ...  ...  ..  ..  ..  ..  ..  ...  ..  ..        ...  ...  \n",
       "61               NaN  ...  12   3   4   1   1    4   2   1        NaN  NaN  \n",
       "62               NaN  ...  20   5   5   1   1    1   1   2         DR   30  \n",
       "63               NaN  ...  20   3   3   1   1    4   1   1        NaN  NaN  \n",
       "64               NaN  ...  38   4   4   1   1    1   2   2       peru   38  \n",
       "65               NaN  ...  11   3   3   2   2    1   2   1        NaN  NaN  \n",
       "\n",
       "[66 rows x 120 columns]"
      ]
     },
     "execution_count": 165,
     "metadata": {},
     "output_type": "execute_result"
    }
   ],
   "source": [
    "# Add new indices to dataframe\n",
    "\n",
    "df_idx = pd.read_csv('Baseline_Depression_Cols_Append.csv')\n",
    "df_idx\n",
    "\n",
    "df = pd.concat([df,df_idx],ignore_index=True)\n",
    "\n",
    "df.drop(66,inplace=True)\n",
    "df"
   ]
  },
  {
   "cell_type": "code",
   "execution_count": 166,
   "id": "abfa1660-06b5-4eca-8b0e-1f6c6ea5eb24",
   "metadata": {},
   "outputs": [
    {
     "data": {
      "text/plain": [
       "(66, 105)"
      ]
     },
     "execution_count": 166,
     "metadata": {},
     "output_type": "execute_result"
    }
   ],
   "source": [
    "# Drop Qualtrics columns that don't provide pertinent\n",
    "drop_cols = ['StartDate', 'EndDate', 'Status', 'IPAddress', 'Progress',\n",
    "             'Finished', 'RecordedDate', 'ResponseId',\n",
    "       'RecipientLastName', 'RecipientFirstName', 'RecipientEmail',\n",
    "       'ExternalReference', 'LocationLatitude', 'LocationLongitude','DistributionChannel']\n",
    "df = df.drop(columns=drop_cols)\n",
    "df.shape"
   ]
  },
  {
   "cell_type": "code",
   "execution_count": 167,
   "id": "d80921a2-3b35-4d61-8806-96e0a28cba07",
   "metadata": {},
   "outputs": [
    {
     "data": {
      "text/html": [
       "<div>\n",
       "<style scoped>\n",
       "    .dataframe tbody tr th:only-of-type {\n",
       "        vertical-align: middle;\n",
       "    }\n",
       "\n",
       "    .dataframe tbody tr th {\n",
       "        vertical-align: top;\n",
       "    }\n",
       "\n",
       "    .dataframe thead th {\n",
       "        text-align: right;\n",
       "    }\n",
       "</style>\n",
       "<table border=\"1\" class=\"dataframe\">\n",
       "  <thead>\n",
       "    <tr style=\"text-align: right;\">\n",
       "      <th></th>\n",
       "      <th>0</th>\n",
       "      <th>1</th>\n",
       "      <th>2</th>\n",
       "      <th>3</th>\n",
       "      <th>4</th>\n",
       "    </tr>\n",
       "  </thead>\n",
       "  <tbody>\n",
       "    <tr>\n",
       "      <th>ParticipantID</th>\n",
       "      <td>8020</td>\n",
       "      <td>0981</td>\n",
       "      <td>8218</td>\n",
       "      <td>9178</td>\n",
       "      <td>7030</td>\n",
       "    </tr>\n",
       "    <tr>\n",
       "      <th>SurveyDate</th>\n",
       "      <td>11/04/2019</td>\n",
       "      <td>01/15/2020</td>\n",
       "      <td>03/05/2020</td>\n",
       "      <td>01/15/2020</td>\n",
       "      <td>08/08/2019</td>\n",
       "    </tr>\n",
       "    <tr>\n",
       "      <th>UserLanguage</th>\n",
       "      <td>EN</td>\n",
       "      <td>ES-ES</td>\n",
       "      <td>EN</td>\n",
       "      <td>ES-ES</td>\n",
       "      <td>ES-ES</td>\n",
       "    </tr>\n",
       "    <tr>\n",
       "      <th>Duration (in seconds)</th>\n",
       "      <td>267</td>\n",
       "      <td>166</td>\n",
       "      <td>154</td>\n",
       "      <td>162</td>\n",
       "      <td>256</td>\n",
       "    </tr>\n",
       "    <tr>\n",
       "      <th>Q3_1</th>\n",
       "      <td>2</td>\n",
       "      <td>3</td>\n",
       "      <td>3</td>\n",
       "      <td>1</td>\n",
       "      <td>1</td>\n",
       "    </tr>\n",
       "    <tr>\n",
       "      <th>...</th>\n",
       "      <td>...</td>\n",
       "      <td>...</td>\n",
       "      <td>...</td>\n",
       "      <td>...</td>\n",
       "      <td>...</td>\n",
       "    </tr>\n",
       "    <tr>\n",
       "      <th>Q28</th>\n",
       "      <td>2</td>\n",
       "      <td>1</td>\n",
       "      <td>NaN</td>\n",
       "      <td>3</td>\n",
       "      <td>2</td>\n",
       "    </tr>\n",
       "    <tr>\n",
       "      <th>Q29</th>\n",
       "      <td>1</td>\n",
       "      <td>2</td>\n",
       "      <td>2</td>\n",
       "      <td>2</td>\n",
       "      <td>2</td>\n",
       "    </tr>\n",
       "    <tr>\n",
       "      <th>Q30</th>\n",
       "      <td>1</td>\n",
       "      <td>2</td>\n",
       "      <td>2</td>\n",
       "      <td>2</td>\n",
       "      <td>2</td>\n",
       "    </tr>\n",
       "    <tr>\n",
       "      <th>Q30_2_TEXT</th>\n",
       "      <td>NaN</td>\n",
       "      <td>dr</td>\n",
       "      <td>Greece</td>\n",
       "      <td>DR</td>\n",
       "      <td>Ecuador</td>\n",
       "    </tr>\n",
       "    <tr>\n",
       "      <th>Q31</th>\n",
       "      <td>NaN</td>\n",
       "      <td>30</td>\n",
       "      <td>55</td>\n",
       "      <td>48</td>\n",
       "      <td>7</td>\n",
       "    </tr>\n",
       "  </tbody>\n",
       "</table>\n",
       "<p>105 rows × 5 columns</p>\n",
       "</div>"
      ],
      "text/plain": [
       "                                0           1           2           3  \\\n",
       "ParticipantID                8020        0981        8218        9178   \n",
       "SurveyDate             11/04/2019  01/15/2020  03/05/2020  01/15/2020   \n",
       "UserLanguage                   EN       ES-ES          EN       ES-ES   \n",
       "Duration (in seconds)         267         166         154         162   \n",
       "Q3_1                            2           3           3           1   \n",
       "...                           ...         ...         ...         ...   \n",
       "Q28                             2           1         NaN           3   \n",
       "Q29                             1           2           2           2   \n",
       "Q30                             1           2           2           2   \n",
       "Q30_2_TEXT                    NaN          dr      Greece          DR   \n",
       "Q31                           NaN          30          55          48   \n",
       "\n",
       "                                4  \n",
       "ParticipantID                7030  \n",
       "SurveyDate             08/08/2019  \n",
       "UserLanguage                ES-ES  \n",
       "Duration (in seconds)         256  \n",
       "Q3_1                            1  \n",
       "...                           ...  \n",
       "Q28                             2  \n",
       "Q29                             2  \n",
       "Q30                             2  \n",
       "Q30_2_TEXT                Ecuador  \n",
       "Q31                             7  \n",
       "\n",
       "[105 rows x 5 columns]"
      ]
     },
     "execution_count": 167,
     "metadata": {},
     "output_type": "execute_result"
    }
   ],
   "source": [
    "# Change column order of dataset for better storytelling\n",
    "ID = df['Q1']\n",
    "df.drop(labels=['Q1'],axis=1,inplace=True)\n",
    "df.insert(0,'ParticipantID',ID)\n",
    "\n",
    "Date = df['Q2']\n",
    "df.drop(labels=['Q2'],axis=1,inplace=True)\n",
    "df.insert(1,'SurveyDate',Date)\n",
    "\n",
    "Language = df['UserLanguage']\n",
    "df.drop(labels=['UserLanguage'],axis=1,inplace=True)\n",
    "df.insert(2,'UserLanguage',Language)\n",
    "\n",
    "Seconds = df['Duration (in seconds)']\n",
    "df.drop(labels=['Duration (in seconds)'],axis=1,inplace=True)\n",
    "df.insert(3,'Duration (in seconds)',Seconds)\n",
    "\n",
    "# preview the dataset to check re-formatting\n",
    "df.head().T"
   ]
  },
  {
   "cell_type": "code",
   "execution_count": 168,
   "id": "22d1062b-8d99-433c-9969-9a8d746b1708",
   "metadata": {
    "tags": []
   },
   "outputs": [
    {
     "data": {
      "text/plain": [
       "65"
      ]
     },
     "execution_count": 168,
     "metadata": {},
     "output_type": "execute_result"
    },
    {
     "data": {
      "text/plain": [
       "False    66\n",
       "dtype: int64"
      ]
     },
     "execution_count": 168,
     "metadata": {},
     "output_type": "execute_result"
    }
   ],
   "source": [
    "# Begin cleaning.\n",
    "# Check if there are duplicates in the Participant IDs or flag identical rows\n",
    "df['ParticipantID'].nunique()\n",
    "df.duplicated().value_counts()\n",
    "\n"
   ]
  },
  {
   "cell_type": "code",
   "execution_count": 169,
   "id": "0018921e-c812-4f16-bc16-851535d33e4b",
   "metadata": {
    "tags": []
   },
   "outputs": [
    {
     "data": {
      "text/plain": [
       "8701    2\n",
       "8447    1\n",
       "3741    1\n",
       "0697    1\n",
       "8943    1\n",
       "       ..\n",
       "6879    1\n",
       "5093    1\n",
       "2975    1\n",
       "6688    1\n",
       "2576    1\n",
       "Name: ParticipantID, Length: 65, dtype: int64"
      ]
     },
     "execution_count": 169,
     "metadata": {},
     "output_type": "execute_result"
    },
    {
     "data": {
      "text/html": [
       "<div>\n",
       "<style scoped>\n",
       "    .dataframe tbody tr th:only-of-type {\n",
       "        vertical-align: middle;\n",
       "    }\n",
       "\n",
       "    .dataframe tbody tr th {\n",
       "        vertical-align: top;\n",
       "    }\n",
       "\n",
       "    .dataframe thead th {\n",
       "        text-align: right;\n",
       "    }\n",
       "</style>\n",
       "<table border=\"1\" class=\"dataframe\">\n",
       "  <thead>\n",
       "    <tr style=\"text-align: right;\">\n",
       "      <th></th>\n",
       "      <th>35</th>\n",
       "      <th>62</th>\n",
       "    </tr>\n",
       "  </thead>\n",
       "  <tbody>\n",
       "    <tr>\n",
       "      <th>ParticipantID</th>\n",
       "      <td>8701</td>\n",
       "      <td>8701</td>\n",
       "    </tr>\n",
       "    <tr>\n",
       "      <th>SurveyDate</th>\n",
       "      <td>01/17/2020</td>\n",
       "      <td>01/22/2020</td>\n",
       "    </tr>\n",
       "    <tr>\n",
       "      <th>UserLanguage</th>\n",
       "      <td>EN</td>\n",
       "      <td>ES-ES</td>\n",
       "    </tr>\n",
       "    <tr>\n",
       "      <th>Duration (in seconds)</th>\n",
       "      <td>172</td>\n",
       "      <td>257</td>\n",
       "    </tr>\n",
       "    <tr>\n",
       "      <th>Q3_1</th>\n",
       "      <td>2</td>\n",
       "      <td>1</td>\n",
       "    </tr>\n",
       "    <tr>\n",
       "      <th>...</th>\n",
       "      <td>...</td>\n",
       "      <td>...</td>\n",
       "    </tr>\n",
       "    <tr>\n",
       "      <th>Q28</th>\n",
       "      <td>4</td>\n",
       "      <td>1</td>\n",
       "    </tr>\n",
       "    <tr>\n",
       "      <th>Q29</th>\n",
       "      <td>2</td>\n",
       "      <td>1</td>\n",
       "    </tr>\n",
       "    <tr>\n",
       "      <th>Q30</th>\n",
       "      <td>2</td>\n",
       "      <td>2</td>\n",
       "    </tr>\n",
       "    <tr>\n",
       "      <th>Q30_2_TEXT</th>\n",
       "      <td>DR</td>\n",
       "      <td>DR</td>\n",
       "    </tr>\n",
       "    <tr>\n",
       "      <th>Q31</th>\n",
       "      <td>38</td>\n",
       "      <td>30</td>\n",
       "    </tr>\n",
       "  </tbody>\n",
       "</table>\n",
       "<p>105 rows × 2 columns</p>\n",
       "</div>"
      ],
      "text/plain": [
       "                               35          62\n",
       "ParticipantID                8701        8701\n",
       "SurveyDate             01/17/2020  01/22/2020\n",
       "UserLanguage                   EN       ES-ES\n",
       "Duration (in seconds)         172         257\n",
       "Q3_1                            2           1\n",
       "...                           ...         ...\n",
       "Q28                             4           1\n",
       "Q29                             2           1\n",
       "Q30                             2           2\n",
       "Q30_2_TEXT                     DR          DR\n",
       "Q31                            38          30\n",
       "\n",
       "[105 rows x 2 columns]"
      ]
     },
     "execution_count": 169,
     "metadata": {},
     "output_type": "execute_result"
    }
   ],
   "source": [
    "# We see there is a duplicate Participant ID from above\n",
    "df['ParticipantID'].value_counts() #reveals there is a duplicate with #8701 \n",
    "#different reponses indicates this might be two different participants\n",
    "df.loc[df['ParticipantID']=='8701',:].T"
   ]
  },
  {
   "cell_type": "code",
   "execution_count": 170,
   "id": "45ab2c01-7136-43a7-869f-d947446bf118",
   "metadata": {
    "tags": []
   },
   "outputs": [
    {
     "data": {
      "text/plain": [
       "array(['ParticipantID', 'SurveyDate', 'UserLanguage',\n",
       "       'Duration (in seconds)', 'Q3_1', 'Q3_2', 'Q3_3', 'Q3_4', 'Q3_5',\n",
       "       'Q4', 'Q5', 'Q6_1', 'Q6_2', 'Q6_3', 'Q6_4', 'Q6_5', 'Q7_1', 'Q7_2',\n",
       "       'Q7_3', 'Q7_4', 'Q7_5', 'Q8', 'Q9', 'Q10', 'Q11', 'Q12', 'Q13',\n",
       "       'Q13_2_TEXT', 'Q14', 'Q15_1', 'Q15_2', 'Q15_3', 'Q15_4', 'Q15_5',\n",
       "       'Q15_6', 'Q15_7', 'Q15_8', 'Q15_9', 'Q15_10', 'Q15_11', 'Q15_12',\n",
       "       'Q15_13', 'Q15_14', 'Q15_15', 'Q15_16', 'Q15_17', 'Q15_18',\n",
       "       'Q15_19', 'Q15_20', 'Q15_21', 'Q15_22', 'Q15_23', 'Q15_24',\n",
       "       'Q15_25', 'Q15_26', 'Q15_27', 'Q15_28', 'Q15_29', 'Q16_1', 'Q16_2',\n",
       "       'Q16_3', 'Q16_4', 'Q16_5', 'Q16_6', 'Q16_7', 'Q16_8', 'Q16_9',\n",
       "       'Q16_10', 'Q16_11', 'Q16_12', 'Q16_13', 'Q16_14', 'Q16_15',\n",
       "       'Q16_16', 'Q16_17', 'Q17_1', 'Q17_2', 'Q17_3', 'Q17_4', 'Q17_5',\n",
       "       'Q17_6', 'Q17_7', 'Q17_8', 'Q17_9', 'Q17_10', 'Q17_11', 'Q17_12',\n",
       "       'Q17_13', 'Q18', 'Q32', 'Q19', 'Q20', 'Q21', 'Q21_3_TEXT', 'Q22',\n",
       "       'Q23', 'Q24', 'Q25', 'Q26', 'Q27', 'Q28', 'Q29', 'Q30',\n",
       "       'Q30_2_TEXT', 'Q31'], dtype=object)"
      ]
     },
     "execution_count": 170,
     "metadata": {},
     "output_type": "execute_result"
    },
    {
     "data": {
      "text/plain": [
       "66"
      ]
     },
     "execution_count": 170,
     "metadata": {},
     "output_type": "execute_result"
    },
    {
     "data": {
      "text/plain": [
       "2    28\n",
       "1    21\n",
       "3    10\n",
       "4     7\n",
       "Name: Q3_1, dtype: int64"
      ]
     },
     "execution_count": 170,
     "metadata": {},
     "output_type": "execute_result"
    },
    {
     "data": {
      "text/plain": [
       "64"
      ]
     },
     "execution_count": 170,
     "metadata": {},
     "output_type": "execute_result"
    },
    {
     "data": {
      "text/plain": [
       "1    28\n",
       "2    28\n",
       "3     5\n",
       "4     3\n",
       "Name: Q3_2, dtype: int64"
      ]
     },
     "execution_count": 170,
     "metadata": {},
     "output_type": "execute_result"
    },
    {
     "data": {
      "text/plain": [
       "64"
      ]
     },
     "execution_count": 170,
     "metadata": {},
     "output_type": "execute_result"
    },
    {
     "data": {
      "text/plain": [
       "1    35\n",
       "2    19\n",
       "4     5\n",
       "3     5\n",
       "Name: Q3_3, dtype: int64"
      ]
     },
     "execution_count": 170,
     "metadata": {},
     "output_type": "execute_result"
    },
    {
     "data": {
      "text/plain": [
       "66"
      ]
     },
     "execution_count": 170,
     "metadata": {},
     "output_type": "execute_result"
    },
    {
     "data": {
      "text/plain": [
       "1    31\n",
       "2    26\n",
       "3     6\n",
       "4     3\n",
       "Name: Q3_4, dtype: int64"
      ]
     },
     "execution_count": 170,
     "metadata": {},
     "output_type": "execute_result"
    },
    {
     "data": {
      "text/plain": [
       "66"
      ]
     },
     "execution_count": 170,
     "metadata": {},
     "output_type": "execute_result"
    },
    {
     "data": {
      "text/plain": [
       "1    30\n",
       "2    29\n",
       "3     7\n",
       "Name: Q3_5, dtype: int64"
      ]
     },
     "execution_count": 170,
     "metadata": {},
     "output_type": "execute_result"
    },
    {
     "data": {
      "text/plain": [
       "64"
      ]
     },
     "execution_count": 170,
     "metadata": {},
     "output_type": "execute_result"
    },
    {
     "data": {
      "text/plain": [
       "3    54\n",
       "1    10\n",
       "Name: Q4, dtype: int64"
      ]
     },
     "execution_count": 170,
     "metadata": {},
     "output_type": "execute_result"
    },
    {
     "data": {
      "text/plain": [
       "8"
      ]
     },
     "execution_count": 170,
     "metadata": {},
     "output_type": "execute_result"
    },
    {
     "data": {
      "text/plain": [
       "Church                        1\n",
       "psiquiatra                    1\n",
       "Books, online, my research    1\n",
       "Psychological treatment       1\n",
       "Therapist                     1\n",
       "event person                  1\n",
       "Attended a talk               1\n",
       "Familiares                    1\n",
       "Name: Q5, dtype: int64"
      ]
     },
     "execution_count": 170,
     "metadata": {},
     "output_type": "execute_result"
    },
    {
     "data": {
      "text/plain": [
       "50"
      ]
     },
     "execution_count": 170,
     "metadata": {},
     "output_type": "execute_result"
    },
    {
     "data": {
      "text/plain": [
       "4    22\n",
       "3    13\n",
       "1     6\n",
       "2     5\n",
       "5     4\n",
       "Name: Q6_1, dtype: int64"
      ]
     },
     "execution_count": 170,
     "metadata": {},
     "output_type": "execute_result"
    },
    {
     "data": {
      "text/plain": [
       "45"
      ]
     },
     "execution_count": 170,
     "metadata": {},
     "output_type": "execute_result"
    },
    {
     "data": {
      "text/plain": [
       "4    15\n",
       "2    12\n",
       "3    11\n",
       "1     6\n",
       "5     1\n",
       "Name: Q6_2, dtype: int64"
      ]
     },
     "execution_count": 170,
     "metadata": {},
     "output_type": "execute_result"
    },
    {
     "data": {
      "text/plain": [
       "41"
      ]
     },
     "execution_count": 170,
     "metadata": {},
     "output_type": "execute_result"
    },
    {
     "data": {
      "text/plain": [
       "4    17\n",
       "3    12\n",
       "2     5\n",
       "1     5\n",
       "5     2\n",
       "Name: Q6_3, dtype: int64"
      ]
     },
     "execution_count": 170,
     "metadata": {},
     "output_type": "execute_result"
    },
    {
     "data": {
      "text/plain": [
       "45"
      ]
     },
     "execution_count": 170,
     "metadata": {},
     "output_type": "execute_result"
    },
    {
     "data": {
      "text/plain": [
       "4    16\n",
       "3    12\n",
       "1     9\n",
       "2     6\n",
       "5     2\n",
       "Name: Q6_4, dtype: int64"
      ]
     },
     "execution_count": 170,
     "metadata": {},
     "output_type": "execute_result"
    },
    {
     "data": {
      "text/plain": [
       "45"
      ]
     },
     "execution_count": 170,
     "metadata": {},
     "output_type": "execute_result"
    },
    {
     "data": {
      "text/plain": [
       "3    15\n",
       "4    14\n",
       "2     6\n",
       "1     6\n",
       "5     4\n",
       "Name: Q6_5, dtype: int64"
      ]
     },
     "execution_count": 170,
     "metadata": {},
     "output_type": "execute_result"
    },
    {
     "data": {
      "text/plain": [
       "65"
      ]
     },
     "execution_count": 170,
     "metadata": {},
     "output_type": "execute_result"
    },
    {
     "data": {
      "text/plain": [
       "4    20\n",
       "3    16\n",
       "1    15\n",
       "2    14\n",
       "Name: Q7_1, dtype: int64"
      ]
     },
     "execution_count": 170,
     "metadata": {},
     "output_type": "execute_result"
    },
    {
     "data": {
      "text/plain": [
       "65"
      ]
     },
     "execution_count": 170,
     "metadata": {},
     "output_type": "execute_result"
    },
    {
     "data": {
      "text/plain": [
       "1    25\n",
       "4    19\n",
       "3    12\n",
       "2     9\n",
       "Name: Q7_2, dtype: int64"
      ]
     },
     "execution_count": 170,
     "metadata": {},
     "output_type": "execute_result"
    },
    {
     "data": {
      "text/plain": [
       "62"
      ]
     },
     "execution_count": 170,
     "metadata": {},
     "output_type": "execute_result"
    },
    {
     "data": {
      "text/plain": [
       "4    35\n",
       "3    22\n",
       "2     3\n",
       "1     2\n",
       "Name: Q7_3, dtype: int64"
      ]
     },
     "execution_count": 170,
     "metadata": {},
     "output_type": "execute_result"
    },
    {
     "data": {
      "text/plain": [
       "65"
      ]
     },
     "execution_count": 170,
     "metadata": {},
     "output_type": "execute_result"
    },
    {
     "data": {
      "text/plain": [
       "1    24\n",
       "4    23\n",
       "2    10\n",
       "3     8\n",
       "Name: Q7_4, dtype: int64"
      ]
     },
     "execution_count": 170,
     "metadata": {},
     "output_type": "execute_result"
    },
    {
     "data": {
      "text/plain": [
       "64"
      ]
     },
     "execution_count": 170,
     "metadata": {},
     "output_type": "execute_result"
    },
    {
     "data": {
      "text/plain": [
       "3    24\n",
       "4    21\n",
       "2    11\n",
       "1     8\n",
       "Name: Q7_5, dtype: int64"
      ]
     },
     "execution_count": 170,
     "metadata": {},
     "output_type": "execute_result"
    },
    {
     "data": {
      "text/plain": [
       "66"
      ]
     },
     "execution_count": 170,
     "metadata": {},
     "output_type": "execute_result"
    },
    {
     "data": {
      "text/plain": [
       "1    64\n",
       "2     2\n",
       "Name: Q8, dtype: int64"
      ]
     },
     "execution_count": 170,
     "metadata": {},
     "output_type": "execute_result"
    },
    {
     "data": {
      "text/plain": [
       "59"
      ]
     },
     "execution_count": 170,
     "metadata": {},
     "output_type": "execute_result"
    },
    {
     "data": {
      "text/plain": [
       "1    44\n",
       "2    15\n",
       "Name: Q9, dtype: int64"
      ]
     },
     "execution_count": 170,
     "metadata": {},
     "output_type": "execute_result"
    },
    {
     "data": {
      "text/plain": [
       "66"
      ]
     },
     "execution_count": 170,
     "metadata": {},
     "output_type": "execute_result"
    },
    {
     "data": {
      "text/plain": [
       "2    45\n",
       "1    21\n",
       "Name: Q10, dtype: int64"
      ]
     },
     "execution_count": 170,
     "metadata": {},
     "output_type": "execute_result"
    },
    {
     "data": {
      "text/plain": [
       "64"
      ]
     },
     "execution_count": 170,
     "metadata": {},
     "output_type": "execute_result"
    },
    {
     "data": {
      "text/plain": [
       "2    38\n",
       "1    26\n",
       "Name: Q11, dtype: int64"
      ]
     },
     "execution_count": 170,
     "metadata": {},
     "output_type": "execute_result"
    },
    {
     "data": {
      "text/plain": [
       "62"
      ]
     },
     "execution_count": 170,
     "metadata": {},
     "output_type": "execute_result"
    },
    {
     "data": {
      "text/plain": [
       "1    43\n",
       "2    19\n",
       "Name: Q12, dtype: int64"
      ]
     },
     "execution_count": 170,
     "metadata": {},
     "output_type": "execute_result"
    },
    {
     "data": {
      "text/plain": [
       "53"
      ]
     },
     "execution_count": 170,
     "metadata": {},
     "output_type": "execute_result"
    },
    {
     "data": {
      "text/plain": [
       "1    28\n",
       "2    25\n",
       "Name: Q13, dtype: int64"
      ]
     },
     "execution_count": 170,
     "metadata": {},
     "output_type": "execute_result"
    },
    {
     "data": {
      "text/plain": [
       "23"
      ]
     },
     "execution_count": 170,
     "metadata": {},
     "output_type": "execute_result"
    },
    {
     "data": {
      "text/plain": [
       "CCPH              3\n",
       "Dont have one     2\n",
       "library           2\n",
       "clinic            1\n",
       "senior center     1\n",
       "nunca             1\n",
       "Health center     1\n",
       "FRIEND'S HOUSE    1\n",
       "en el centro Y    1\n",
       "at work           1\n",
       "At work           1\n",
       "no la uso         1\n",
       "no                1\n",
       "Senior Center     1\n",
       "Library           1\n",
       "arc               1\n",
       "none              1\n",
       "LIBRARY           1\n",
       "NONE              1\n",
       "Name: Q13_2_TEXT, dtype: int64"
      ]
     },
     "execution_count": 170,
     "metadata": {},
     "output_type": "execute_result"
    },
    {
     "data": {
      "text/plain": [
       "66"
      ]
     },
     "execution_count": 170,
     "metadata": {},
     "output_type": "execute_result"
    },
    {
     "data": {
      "text/plain": [
       "2    19\n",
       "4    17\n",
       "3    14\n",
       "1     9\n",
       "5     7\n",
       "Name: Q14, dtype: int64"
      ]
     },
     "execution_count": 170,
     "metadata": {},
     "output_type": "execute_result"
    },
    {
     "data": {
      "text/plain": [
       "66"
      ]
     },
     "execution_count": 170,
     "metadata": {},
     "output_type": "execute_result"
    },
    {
     "data": {
      "text/plain": [
       "4    22\n",
       "3    19\n",
       "2    15\n",
       "1     5\n",
       "5     5\n",
       "Name: Q15_1, dtype: int64"
      ]
     },
     "execution_count": 170,
     "metadata": {},
     "output_type": "execute_result"
    },
    {
     "data": {
      "text/plain": [
       "66"
      ]
     },
     "execution_count": 170,
     "metadata": {},
     "output_type": "execute_result"
    },
    {
     "data": {
      "text/plain": [
       "4    25\n",
       "3    17\n",
       "2    13\n",
       "1     6\n",
       "5     5\n",
       "Name: Q15_2, dtype: int64"
      ]
     },
     "execution_count": 170,
     "metadata": {},
     "output_type": "execute_result"
    },
    {
     "data": {
      "text/plain": [
       "66"
      ]
     },
     "execution_count": 170,
     "metadata": {},
     "output_type": "execute_result"
    },
    {
     "data": {
      "text/plain": [
       "4    26\n",
       "3    20\n",
       "5    11\n",
       "2     5\n",
       "1     4\n",
       "Name: Q15_3, dtype: int64"
      ]
     },
     "execution_count": 170,
     "metadata": {},
     "output_type": "execute_result"
    },
    {
     "data": {
      "text/plain": [
       "65"
      ]
     },
     "execution_count": 170,
     "metadata": {},
     "output_type": "execute_result"
    },
    {
     "data": {
      "text/plain": [
       "4    26\n",
       "3    18\n",
       "2     9\n",
       "5     7\n",
       "1     5\n",
       "Name: Q15_4, dtype: int64"
      ]
     },
     "execution_count": 170,
     "metadata": {},
     "output_type": "execute_result"
    },
    {
     "data": {
      "text/plain": [
       "66"
      ]
     },
     "execution_count": 170,
     "metadata": {},
     "output_type": "execute_result"
    },
    {
     "data": {
      "text/plain": [
       "2    23\n",
       "4    17\n",
       "3    14\n",
       "1     9\n",
       "5     3\n",
       "Name: Q15_5, dtype: int64"
      ]
     },
     "execution_count": 170,
     "metadata": {},
     "output_type": "execute_result"
    },
    {
     "data": {
      "text/plain": [
       "65"
      ]
     },
     "execution_count": 170,
     "metadata": {},
     "output_type": "execute_result"
    },
    {
     "data": {
      "text/plain": [
       "3    28\n",
       "2    14\n",
       "4    11\n",
       "1    11\n",
       "5     1\n",
       "Name: Q15_6, dtype: int64"
      ]
     },
     "execution_count": 170,
     "metadata": {},
     "output_type": "execute_result"
    },
    {
     "data": {
      "text/plain": [
       "66"
      ]
     },
     "execution_count": 170,
     "metadata": {},
     "output_type": "execute_result"
    },
    {
     "data": {
      "text/plain": [
       "4    33\n",
       "3    18\n",
       "2    10\n",
       "5     5\n",
       "Name: Q15_7, dtype: int64"
      ]
     },
     "execution_count": 170,
     "metadata": {},
     "output_type": "execute_result"
    },
    {
     "data": {
      "text/plain": [
       "66"
      ]
     },
     "execution_count": 170,
     "metadata": {},
     "output_type": "execute_result"
    },
    {
     "data": {
      "text/plain": [
       "4    26\n",
       "3    21\n",
       "5     8\n",
       "2     6\n",
       "1     5\n",
       "Name: Q15_8, dtype: int64"
      ]
     },
     "execution_count": 170,
     "metadata": {},
     "output_type": "execute_result"
    },
    {
     "data": {
      "text/plain": [
       "66"
      ]
     },
     "execution_count": 170,
     "metadata": {},
     "output_type": "execute_result"
    },
    {
     "data": {
      "text/plain": [
       "4    29\n",
       "3    18\n",
       "2     7\n",
       "5     7\n",
       "1     5\n",
       "Name: Q15_9, dtype: int64"
      ]
     },
     "execution_count": 170,
     "metadata": {},
     "output_type": "execute_result"
    },
    {
     "data": {
      "text/plain": [
       "66"
      ]
     },
     "execution_count": 170,
     "metadata": {},
     "output_type": "execute_result"
    },
    {
     "data": {
      "text/plain": [
       "4    23\n",
       "3    17\n",
       "2    12\n",
       "1     7\n",
       "5     7\n",
       "Name: Q15_10, dtype: int64"
      ]
     },
     "execution_count": 170,
     "metadata": {},
     "output_type": "execute_result"
    },
    {
     "data": {
      "text/plain": [
       "66"
      ]
     },
     "execution_count": 170,
     "metadata": {},
     "output_type": "execute_result"
    },
    {
     "data": {
      "text/plain": [
       "3    23\n",
       "4    21\n",
       "5     9\n",
       "2     8\n",
       "1     5\n",
       "Name: Q15_11, dtype: int64"
      ]
     },
     "execution_count": 170,
     "metadata": {},
     "output_type": "execute_result"
    },
    {
     "data": {
      "text/plain": [
       "66"
      ]
     },
     "execution_count": 170,
     "metadata": {},
     "output_type": "execute_result"
    },
    {
     "data": {
      "text/plain": [
       "4    23\n",
       "3    21\n",
       "5    12\n",
       "1     5\n",
       "2     5\n",
       "Name: Q15_12, dtype: int64"
      ]
     },
     "execution_count": 170,
     "metadata": {},
     "output_type": "execute_result"
    },
    {
     "data": {
      "text/plain": [
       "64"
      ]
     },
     "execution_count": 170,
     "metadata": {},
     "output_type": "execute_result"
    },
    {
     "data": {
      "text/plain": [
       "4    26\n",
       "3    17\n",
       "5    11\n",
       "2     7\n",
       "1     3\n",
       "Name: Q15_13, dtype: int64"
      ]
     },
     "execution_count": 170,
     "metadata": {},
     "output_type": "execute_result"
    },
    {
     "data": {
      "text/plain": [
       "66"
      ]
     },
     "execution_count": 170,
     "metadata": {},
     "output_type": "execute_result"
    },
    {
     "data": {
      "text/plain": [
       "4    25\n",
       "3    18\n",
       "5    13\n",
       "2     9\n",
       "1     1\n",
       "Name: Q15_14, dtype: int64"
      ]
     },
     "execution_count": 170,
     "metadata": {},
     "output_type": "execute_result"
    },
    {
     "data": {
      "text/plain": [
       "66"
      ]
     },
     "execution_count": 170,
     "metadata": {},
     "output_type": "execute_result"
    },
    {
     "data": {
      "text/plain": [
       "4    28\n",
       "3    17\n",
       "2     9\n",
       "1     6\n",
       "5     6\n",
       "Name: Q15_15, dtype: int64"
      ]
     },
     "execution_count": 170,
     "metadata": {},
     "output_type": "execute_result"
    },
    {
     "data": {
      "text/plain": [
       "66"
      ]
     },
     "execution_count": 170,
     "metadata": {},
     "output_type": "execute_result"
    },
    {
     "data": {
      "text/plain": [
       "4    22\n",
       "3    20\n",
       "2    11\n",
       "5     9\n",
       "1     4\n",
       "Name: Q15_16, dtype: int64"
      ]
     },
     "execution_count": 170,
     "metadata": {},
     "output_type": "execute_result"
    },
    {
     "data": {
      "text/plain": [
       "66"
      ]
     },
     "execution_count": 170,
     "metadata": {},
     "output_type": "execute_result"
    },
    {
     "data": {
      "text/plain": [
       "4    25\n",
       "3    25\n",
       "2    12\n",
       "5     3\n",
       "1     1\n",
       "Name: Q15_17, dtype: int64"
      ]
     },
     "execution_count": 170,
     "metadata": {},
     "output_type": "execute_result"
    },
    {
     "data": {
      "text/plain": [
       "65"
      ]
     },
     "execution_count": 170,
     "metadata": {},
     "output_type": "execute_result"
    },
    {
     "data": {
      "text/plain": [
       "3    26\n",
       "4    16\n",
       "2    13\n",
       "5     7\n",
       "1     3\n",
       "Name: Q15_18, dtype: int64"
      ]
     },
     "execution_count": 170,
     "metadata": {},
     "output_type": "execute_result"
    },
    {
     "data": {
      "text/plain": [
       "66"
      ]
     },
     "execution_count": 170,
     "metadata": {},
     "output_type": "execute_result"
    },
    {
     "data": {
      "text/plain": [
       "4    22\n",
       "3    17\n",
       "2    14\n",
       "5    11\n",
       "1     2\n",
       "Name: Q15_19, dtype: int64"
      ]
     },
     "execution_count": 170,
     "metadata": {},
     "output_type": "execute_result"
    },
    {
     "data": {
      "text/plain": [
       "66"
      ]
     },
     "execution_count": 170,
     "metadata": {},
     "output_type": "execute_result"
    },
    {
     "data": {
      "text/plain": [
       "4    26\n",
       "3    20\n",
       "5    12\n",
       "2     7\n",
       "1     1\n",
       "Name: Q15_20, dtype: int64"
      ]
     },
     "execution_count": 170,
     "metadata": {},
     "output_type": "execute_result"
    },
    {
     "data": {
      "text/plain": [
       "66"
      ]
     },
     "execution_count": 170,
     "metadata": {},
     "output_type": "execute_result"
    },
    {
     "data": {
      "text/plain": [
       "4    27\n",
       "3    20\n",
       "5    12\n",
       "2     7\n",
       "Name: Q15_21, dtype: int64"
      ]
     },
     "execution_count": 170,
     "metadata": {},
     "output_type": "execute_result"
    },
    {
     "data": {
      "text/plain": [
       "66"
      ]
     },
     "execution_count": 170,
     "metadata": {},
     "output_type": "execute_result"
    },
    {
     "data": {
      "text/plain": [
       "3    19\n",
       "2    17\n",
       "4    15\n",
       "5    11\n",
       "1     4\n",
       "Name: Q15_22, dtype: int64"
      ]
     },
     "execution_count": 170,
     "metadata": {},
     "output_type": "execute_result"
    },
    {
     "data": {
      "text/plain": [
       "65"
      ]
     },
     "execution_count": 170,
     "metadata": {},
     "output_type": "execute_result"
    },
    {
     "data": {
      "text/plain": [
       "3    22\n",
       "4    19\n",
       "2    13\n",
       "5     6\n",
       "1     5\n",
       "Name: Q15_23, dtype: int64"
      ]
     },
     "execution_count": 170,
     "metadata": {},
     "output_type": "execute_result"
    },
    {
     "data": {
      "text/plain": [
       "63"
      ]
     },
     "execution_count": 170,
     "metadata": {},
     "output_type": "execute_result"
    },
    {
     "data": {
      "text/plain": [
       "4    19\n",
       "2    16\n",
       "3    16\n",
       "5     8\n",
       "1     4\n",
       "Name: Q15_24, dtype: int64"
      ]
     },
     "execution_count": 170,
     "metadata": {},
     "output_type": "execute_result"
    },
    {
     "data": {
      "text/plain": [
       "65"
      ]
     },
     "execution_count": 170,
     "metadata": {},
     "output_type": "execute_result"
    },
    {
     "data": {
      "text/plain": [
       "3    21\n",
       "4    19\n",
       "2    10\n",
       "5     8\n",
       "1     7\n",
       "Name: Q15_25, dtype: int64"
      ]
     },
     "execution_count": 170,
     "metadata": {},
     "output_type": "execute_result"
    },
    {
     "data": {
      "text/plain": [
       "66"
      ]
     },
     "execution_count": 170,
     "metadata": {},
     "output_type": "execute_result"
    },
    {
     "data": {
      "text/plain": [
       "3    22\n",
       "4    17\n",
       "2    14\n",
       "1     7\n",
       "5     6\n",
       "Name: Q15_26, dtype: int64"
      ]
     },
     "execution_count": 170,
     "metadata": {},
     "output_type": "execute_result"
    },
    {
     "data": {
      "text/plain": [
       "65"
      ]
     },
     "execution_count": 170,
     "metadata": {},
     "output_type": "execute_result"
    },
    {
     "data": {
      "text/plain": [
       "3    23\n",
       "2    19\n",
       "4    16\n",
       "5     4\n",
       "1     3\n",
       "Name: Q15_27, dtype: int64"
      ]
     },
     "execution_count": 170,
     "metadata": {},
     "output_type": "execute_result"
    },
    {
     "data": {
      "text/plain": [
       "66"
      ]
     },
     "execution_count": 170,
     "metadata": {},
     "output_type": "execute_result"
    },
    {
     "data": {
      "text/plain": [
       "3    25\n",
       "4    20\n",
       "5    11\n",
       "2     8\n",
       "1     2\n",
       "Name: Q15_28, dtype: int64"
      ]
     },
     "execution_count": 170,
     "metadata": {},
     "output_type": "execute_result"
    },
    {
     "data": {
      "text/plain": [
       "66"
      ]
     },
     "execution_count": 170,
     "metadata": {},
     "output_type": "execute_result"
    },
    {
     "data": {
      "text/plain": [
       "4    26\n",
       "3    22\n",
       "5    14\n",
       "2     4\n",
       "Name: Q15_29, dtype: int64"
      ]
     },
     "execution_count": 170,
     "metadata": {},
     "output_type": "execute_result"
    },
    {
     "data": {
      "text/plain": [
       "65"
      ]
     },
     "execution_count": 170,
     "metadata": {},
     "output_type": "execute_result"
    },
    {
     "data": {
      "text/plain": [
       "1    34\n",
       "2    31\n",
       "Name: Q16_1, dtype: int64"
      ]
     },
     "execution_count": 170,
     "metadata": {},
     "output_type": "execute_result"
    },
    {
     "data": {
      "text/plain": [
       "65"
      ]
     },
     "execution_count": 170,
     "metadata": {},
     "output_type": "execute_result"
    },
    {
     "data": {
      "text/plain": [
       "1    55\n",
       "2    10\n",
       "Name: Q16_2, dtype: int64"
      ]
     },
     "execution_count": 170,
     "metadata": {},
     "output_type": "execute_result"
    },
    {
     "data": {
      "text/plain": [
       "66"
      ]
     },
     "execution_count": 170,
     "metadata": {},
     "output_type": "execute_result"
    },
    {
     "data": {
      "text/plain": [
       "1    49\n",
       "2    17\n",
       "Name: Q16_3, dtype: int64"
      ]
     },
     "execution_count": 170,
     "metadata": {},
     "output_type": "execute_result"
    },
    {
     "data": {
      "text/plain": [
       "66"
      ]
     },
     "execution_count": 170,
     "metadata": {},
     "output_type": "execute_result"
    },
    {
     "data": {
      "text/plain": [
       "2    59\n",
       "1     7\n",
       "Name: Q16_4, dtype: int64"
      ]
     },
     "execution_count": 170,
     "metadata": {},
     "output_type": "execute_result"
    },
    {
     "data": {
      "text/plain": [
       "66"
      ]
     },
     "execution_count": 170,
     "metadata": {},
     "output_type": "execute_result"
    },
    {
     "data": {
      "text/plain": [
       "1    55\n",
       "2    11\n",
       "Name: Q16_5, dtype: int64"
      ]
     },
     "execution_count": 170,
     "metadata": {},
     "output_type": "execute_result"
    },
    {
     "data": {
      "text/plain": [
       "66"
      ]
     },
     "execution_count": 170,
     "metadata": {},
     "output_type": "execute_result"
    },
    {
     "data": {
      "text/plain": [
       "1    41\n",
       "2    25\n",
       "Name: Q16_6, dtype: int64"
      ]
     },
     "execution_count": 170,
     "metadata": {},
     "output_type": "execute_result"
    },
    {
     "data": {
      "text/plain": [
       "63"
      ]
     },
     "execution_count": 170,
     "metadata": {},
     "output_type": "execute_result"
    },
    {
     "data": {
      "text/plain": [
       "1    34\n",
       "2    29\n",
       "Name: Q16_7, dtype: int64"
      ]
     },
     "execution_count": 170,
     "metadata": {},
     "output_type": "execute_result"
    },
    {
     "data": {
      "text/plain": [
       "66"
      ]
     },
     "execution_count": 170,
     "metadata": {},
     "output_type": "execute_result"
    },
    {
     "data": {
      "text/plain": [
       "1    65\n",
       "2     1\n",
       "Name: Q16_8, dtype: int64"
      ]
     },
     "execution_count": 170,
     "metadata": {},
     "output_type": "execute_result"
    },
    {
     "data": {
      "text/plain": [
       "65"
      ]
     },
     "execution_count": 170,
     "metadata": {},
     "output_type": "execute_result"
    },
    {
     "data": {
      "text/plain": [
       "1    35\n",
       "2    30\n",
       "Name: Q16_9, dtype: int64"
      ]
     },
     "execution_count": 170,
     "metadata": {},
     "output_type": "execute_result"
    },
    {
     "data": {
      "text/plain": [
       "66"
      ]
     },
     "execution_count": 170,
     "metadata": {},
     "output_type": "execute_result"
    },
    {
     "data": {
      "text/plain": [
       "2    54\n",
       "1    12\n",
       "Name: Q16_10, dtype: int64"
      ]
     },
     "execution_count": 170,
     "metadata": {},
     "output_type": "execute_result"
    },
    {
     "data": {
      "text/plain": [
       "65"
      ]
     },
     "execution_count": 170,
     "metadata": {},
     "output_type": "execute_result"
    },
    {
     "data": {
      "text/plain": [
       "1    57\n",
       "2     8\n",
       "Name: Q16_11, dtype: int64"
      ]
     },
     "execution_count": 170,
     "metadata": {},
     "output_type": "execute_result"
    },
    {
     "data": {
      "text/plain": [
       "65"
      ]
     },
     "execution_count": 170,
     "metadata": {},
     "output_type": "execute_result"
    },
    {
     "data": {
      "text/plain": [
       "1    63\n",
       "2     2\n",
       "Name: Q16_12, dtype: int64"
      ]
     },
     "execution_count": 170,
     "metadata": {},
     "output_type": "execute_result"
    },
    {
     "data": {
      "text/plain": [
       "66"
      ]
     },
     "execution_count": 170,
     "metadata": {},
     "output_type": "execute_result"
    },
    {
     "data": {
      "text/plain": [
       "2    58\n",
       "1     8\n",
       "Name: Q16_13, dtype: int64"
      ]
     },
     "execution_count": 170,
     "metadata": {},
     "output_type": "execute_result"
    },
    {
     "data": {
      "text/plain": [
       "66"
      ]
     },
     "execution_count": 170,
     "metadata": {},
     "output_type": "execute_result"
    },
    {
     "data": {
      "text/plain": [
       "2    49\n",
       "1    17\n",
       "Name: Q16_14, dtype: int64"
      ]
     },
     "execution_count": 170,
     "metadata": {},
     "output_type": "execute_result"
    },
    {
     "data": {
      "text/plain": [
       "66"
      ]
     },
     "execution_count": 170,
     "metadata": {},
     "output_type": "execute_result"
    },
    {
     "data": {
      "text/plain": [
       "1    65\n",
       "2     1\n",
       "Name: Q16_15, dtype: int64"
      ]
     },
     "execution_count": 170,
     "metadata": {},
     "output_type": "execute_result"
    },
    {
     "data": {
      "text/plain": [
       "66"
      ]
     },
     "execution_count": 170,
     "metadata": {},
     "output_type": "execute_result"
    },
    {
     "data": {
      "text/plain": [
       "1    45\n",
       "2    21\n",
       "Name: Q16_16, dtype: int64"
      ]
     },
     "execution_count": 170,
     "metadata": {},
     "output_type": "execute_result"
    },
    {
     "data": {
      "text/plain": [
       "65"
      ]
     },
     "execution_count": 170,
     "metadata": {},
     "output_type": "execute_result"
    },
    {
     "data": {
      "text/plain": [
       "2    44\n",
       "1    21\n",
       "Name: Q16_17, dtype: int64"
      ]
     },
     "execution_count": 170,
     "metadata": {},
     "output_type": "execute_result"
    },
    {
     "data": {
      "text/plain": [
       "66"
      ]
     },
     "execution_count": 170,
     "metadata": {},
     "output_type": "execute_result"
    },
    {
     "data": {
      "text/plain": [
       "4    35\n",
       "3    25\n",
       "1     3\n",
       "2     2\n",
       "5     1\n",
       "Name: Q17_1, dtype: int64"
      ]
     },
     "execution_count": 170,
     "metadata": {},
     "output_type": "execute_result"
    },
    {
     "data": {
      "text/plain": [
       "66"
      ]
     },
     "execution_count": 170,
     "metadata": {},
     "output_type": "execute_result"
    },
    {
     "data": {
      "text/plain": [
       "3    34\n",
       "4    29\n",
       "1     2\n",
       "5     1\n",
       "Name: Q17_2, dtype: int64"
      ]
     },
     "execution_count": 170,
     "metadata": {},
     "output_type": "execute_result"
    },
    {
     "data": {
      "text/plain": [
       "65"
      ]
     },
     "execution_count": 170,
     "metadata": {},
     "output_type": "execute_result"
    },
    {
     "data": {
      "text/plain": [
       "3    33\n",
       "4    24\n",
       "1     5\n",
       "2     2\n",
       "5     1\n",
       "Name: Q17_3, dtype: int64"
      ]
     },
     "execution_count": 170,
     "metadata": {},
     "output_type": "execute_result"
    },
    {
     "data": {
      "text/plain": [
       "66"
      ]
     },
     "execution_count": 170,
     "metadata": {},
     "output_type": "execute_result"
    },
    {
     "data": {
      "text/plain": [
       "3    32\n",
       "4    15\n",
       "5    10\n",
       "2     5\n",
       "1     4\n",
       "Name: Q17_4, dtype: int64"
      ]
     },
     "execution_count": 170,
     "metadata": {},
     "output_type": "execute_result"
    },
    {
     "data": {
      "text/plain": [
       "66"
      ]
     },
     "execution_count": 170,
     "metadata": {},
     "output_type": "execute_result"
    },
    {
     "data": {
      "text/plain": [
       "3    24\n",
       "4    23\n",
       "2    11\n",
       "1     6\n",
       "5     2\n",
       "Name: Q17_5, dtype: int64"
      ]
     },
     "execution_count": 170,
     "metadata": {},
     "output_type": "execute_result"
    },
    {
     "data": {
      "text/plain": [
       "66"
      ]
     },
     "execution_count": 170,
     "metadata": {},
     "output_type": "execute_result"
    },
    {
     "data": {
      "text/plain": [
       "3    36\n",
       "4    20\n",
       "2     4\n",
       "1     3\n",
       "5     3\n",
       "Name: Q17_6, dtype: int64"
      ]
     },
     "execution_count": 170,
     "metadata": {},
     "output_type": "execute_result"
    },
    {
     "data": {
      "text/plain": [
       "66"
      ]
     },
     "execution_count": 170,
     "metadata": {},
     "output_type": "execute_result"
    },
    {
     "data": {
      "text/plain": [
       "3    37\n",
       "4    23\n",
       "5     3\n",
       "1     2\n",
       "2     1\n",
       "Name: Q17_7, dtype: int64"
      ]
     },
     "execution_count": 170,
     "metadata": {},
     "output_type": "execute_result"
    },
    {
     "data": {
      "text/plain": [
       "66"
      ]
     },
     "execution_count": 170,
     "metadata": {},
     "output_type": "execute_result"
    },
    {
     "data": {
      "text/plain": [
       "3    39\n",
       "4    15\n",
       "2     6\n",
       "5     4\n",
       "1     2\n",
       "Name: Q17_8, dtype: int64"
      ]
     },
     "execution_count": 170,
     "metadata": {},
     "output_type": "execute_result"
    },
    {
     "data": {
      "text/plain": [
       "65"
      ]
     },
     "execution_count": 170,
     "metadata": {},
     "output_type": "execute_result"
    },
    {
     "data": {
      "text/plain": [
       "3    27\n",
       "2    12\n",
       "4    12\n",
       "5     8\n",
       "1     6\n",
       "Name: Q17_9, dtype: int64"
      ]
     },
     "execution_count": 170,
     "metadata": {},
     "output_type": "execute_result"
    },
    {
     "data": {
      "text/plain": [
       "66"
      ]
     },
     "execution_count": 170,
     "metadata": {},
     "output_type": "execute_result"
    },
    {
     "data": {
      "text/plain": [
       "3    29\n",
       "4    21\n",
       "2     9\n",
       "1     6\n",
       "5     1\n",
       "Name: Q17_10, dtype: int64"
      ]
     },
     "execution_count": 170,
     "metadata": {},
     "output_type": "execute_result"
    },
    {
     "data": {
      "text/plain": [
       "66"
      ]
     },
     "execution_count": 170,
     "metadata": {},
     "output_type": "execute_result"
    },
    {
     "data": {
      "text/plain": [
       "3    41\n",
       "4    14\n",
       "2     7\n",
       "1     3\n",
       "5     1\n",
       "Name: Q17_11, dtype: int64"
      ]
     },
     "execution_count": 170,
     "metadata": {},
     "output_type": "execute_result"
    },
    {
     "data": {
      "text/plain": [
       "66"
      ]
     },
     "execution_count": 170,
     "metadata": {},
     "output_type": "execute_result"
    },
    {
     "data": {
      "text/plain": [
       "3    33\n",
       "4    15\n",
       "2    12\n",
       "5     4\n",
       "1     2\n",
       "Name: Q17_12, dtype: int64"
      ]
     },
     "execution_count": 170,
     "metadata": {},
     "output_type": "execute_result"
    },
    {
     "data": {
      "text/plain": [
       "66"
      ]
     },
     "execution_count": 170,
     "metadata": {},
     "output_type": "execute_result"
    },
    {
     "data": {
      "text/plain": [
       "3    25\n",
       "4    21\n",
       "2    12\n",
       "1     5\n",
       "5     3\n",
       "Name: Q17_13, dtype: int64"
      ]
     },
     "execution_count": 170,
     "metadata": {},
     "output_type": "execute_result"
    },
    {
     "data": {
      "text/plain": [
       "66"
      ]
     },
     "execution_count": 170,
     "metadata": {},
     "output_type": "execute_result"
    },
    {
     "data": {
      "text/plain": [
       "5    24\n",
       "6    16\n",
       "4    12\n",
       "2     6\n",
       "3     5\n",
       "7     2\n",
       "1     1\n",
       "Name: Q18, dtype: int64"
      ]
     },
     "execution_count": 170,
     "metadata": {},
     "output_type": "execute_result"
    },
    {
     "data": {
      "text/plain": [
       "65"
      ]
     },
     "execution_count": 170,
     "metadata": {},
     "output_type": "execute_result"
    },
    {
     "data": {
      "text/plain": [
       "2    53\n",
       "1    12\n",
       "Name: Q32, dtype: int64"
      ]
     },
     "execution_count": 170,
     "metadata": {},
     "output_type": "execute_result"
    },
    {
     "data": {
      "text/plain": [
       "65"
      ]
     },
     "execution_count": 170,
     "metadata": {},
     "output_type": "execute_result"
    },
    {
     "data": {
      "text/plain": [
       "4        50\n",
       "5        11\n",
       "1,2,4     1\n",
       "3,4       1\n",
       "4,5       1\n",
       "3         1\n",
       "Name: Q19, dtype: int64"
      ]
     },
     "execution_count": 170,
     "metadata": {},
     "output_type": "execute_result"
    },
    {
     "data": {
      "text/plain": [
       "61"
      ]
     },
     "execution_count": 170,
     "metadata": {},
     "output_type": "execute_result"
    },
    {
     "data": {
      "text/plain": [
       "1    19\n",
       "2    14\n",
       "3    14\n",
       "4     7\n",
       "5     7\n",
       "Name: Q20, dtype: int64"
      ]
     },
     "execution_count": 170,
     "metadata": {},
     "output_type": "execute_result"
    },
    {
     "data": {
      "text/plain": [
       "66"
      ]
     },
     "execution_count": 170,
     "metadata": {},
     "output_type": "execute_result"
    },
    {
     "data": {
      "text/plain": [
       "2    42\n",
       "1    24\n",
       "Name: Q21, dtype: int64"
      ]
     },
     "execution_count": 170,
     "metadata": {},
     "output_type": "execute_result"
    },
    {
     "data": {
      "text/plain": [
       "0"
      ]
     },
     "execution_count": 170,
     "metadata": {},
     "output_type": "execute_result"
    },
    {
     "data": {
      "text/plain": [
       "Series([], Name: Q21_3_TEXT, dtype: int64)"
      ]
     },
     "execution_count": 170,
     "metadata": {},
     "output_type": "execute_result"
    },
    {
     "data": {
      "text/plain": [
       "64"
      ]
     },
     "execution_count": 170,
     "metadata": {},
     "output_type": "execute_result"
    },
    {
     "data": {
      "text/plain": [
       "10040    24\n",
       "10033    23\n",
       "10032    13\n",
       "10034     3\n",
       "10031     1\n",
       "Name: Q22, dtype: int64"
      ]
     },
     "execution_count": 170,
     "metadata": {},
     "output_type": "execute_result"
    },
    {
     "data": {
      "text/plain": [
       "65"
      ]
     },
     "execution_count": 170,
     "metadata": {},
     "output_type": "execute_result"
    },
    {
     "data": {
      "text/plain": [
       "40          7\n",
       "30          6\n",
       "20          3\n",
       "29          3\n",
       "45          3\n",
       "43          3\n",
       "3           2\n",
       "27          2\n",
       "48          2\n",
       "4           2\n",
       "11          2\n",
       "35          2\n",
       "55          2\n",
       "8           2\n",
       "12          2\n",
       "19          1\n",
       "15          1\n",
       "10          1\n",
       "37          1\n",
       "47          1\n",
       "5 months    1\n",
       "23          1\n",
       "7           1\n",
       "1           1\n",
       "18          1\n",
       "26          1\n",
       "6           1\n",
       "49          1\n",
       "1.5         1\n",
       "36          1\n",
       "38          1\n",
       "63          1\n",
       "39          1\n",
       "57          1\n",
       "28          1\n",
       "13          1\n",
       "41          1\n",
       "Name: Q23, dtype: int64"
      ]
     },
     "execution_count": 170,
     "metadata": {},
     "output_type": "execute_result"
    },
    {
     "data": {
      "text/plain": [
       "65"
      ]
     },
     "execution_count": 170,
     "metadata": {},
     "output_type": "execute_result"
    },
    {
     "data": {
      "text/plain": [
       "4    23\n",
       "3    20\n",
       "5    17\n",
       "1     5\n",
       "Name: Q24, dtype: int64"
      ]
     },
     "execution_count": 170,
     "metadata": {},
     "output_type": "execute_result"
    },
    {
     "data": {
      "text/plain": [
       "66"
      ]
     },
     "execution_count": 170,
     "metadata": {},
     "output_type": "execute_result"
    },
    {
     "data": {
      "text/plain": [
       "4    31\n",
       "5    14\n",
       "3    14\n",
       "2     6\n",
       "1     1\n",
       "Name: Q25, dtype: int64"
      ]
     },
     "execution_count": 170,
     "metadata": {},
     "output_type": "execute_result"
    },
    {
     "data": {
      "text/plain": [
       "66"
      ]
     },
     "execution_count": 170,
     "metadata": {},
     "output_type": "execute_result"
    },
    {
     "data": {
      "text/plain": [
       "2    36\n",
       "1    30\n",
       "Name: Q26, dtype: int64"
      ]
     },
     "execution_count": 170,
     "metadata": {},
     "output_type": "execute_result"
    },
    {
     "data": {
      "text/plain": [
       "60"
      ]
     },
     "execution_count": 170,
     "metadata": {},
     "output_type": "execute_result"
    },
    {
     "data": {
      "text/plain": [
       "1    47\n",
       "2     9\n",
       "4     2\n",
       "3     2\n",
       "Name: Q27, dtype: int64"
      ]
     },
     "execution_count": 170,
     "metadata": {},
     "output_type": "execute_result"
    },
    {
     "data": {
      "text/plain": [
       "59"
      ]
     },
     "execution_count": 170,
     "metadata": {},
     "output_type": "execute_result"
    },
    {
     "data": {
      "text/plain": [
       "1    23\n",
       "2    16\n",
       "4    14\n",
       "3     6\n",
       "Name: Q28, dtype: int64"
      ]
     },
     "execution_count": 170,
     "metadata": {},
     "output_type": "execute_result"
    },
    {
     "data": {
      "text/plain": [
       "66"
      ]
     },
     "execution_count": 170,
     "metadata": {},
     "output_type": "execute_result"
    },
    {
     "data": {
      "text/plain": [
       "2    46\n",
       "1    20\n",
       "Name: Q29, dtype: int64"
      ]
     },
     "execution_count": 170,
     "metadata": {},
     "output_type": "execute_result"
    },
    {
     "data": {
      "text/plain": [
       "65"
      ]
     },
     "execution_count": 170,
     "metadata": {},
     "output_type": "execute_result"
    },
    {
     "data": {
      "text/plain": [
       "2    47\n",
       "1    18\n",
       "Name: Q30, dtype: int64"
      ]
     },
     "execution_count": 170,
     "metadata": {},
     "output_type": "execute_result"
    },
    {
     "data": {
      "text/plain": [
       "45"
      ]
     },
     "execution_count": 170,
     "metadata": {},
     "output_type": "execute_result"
    },
    {
     "data": {
      "text/plain": [
       "DR                    16\n",
       "Dominican Republic     6\n",
       "Rep Dom                5\n",
       "Ecuador                4\n",
       "D.R                    2\n",
       "Venezuela              2\n",
       "dr                     2\n",
       "Russia                 2\n",
       "Colombia               1\n",
       "Greece                 1\n",
       "germany                1\n",
       "Mexico                 1\n",
       "Peru                   1\n",
       "peru                   1\n",
       "Name: Q30_2_TEXT, dtype: int64"
      ]
     },
     "execution_count": 170,
     "metadata": {},
     "output_type": "execute_result"
    },
    {
     "data": {
      "text/plain": [
       "46"
      ]
     },
     "execution_count": 170,
     "metadata": {},
     "output_type": "execute_result"
    },
    {
     "data": {
      "text/plain": [
       "45          4\n",
       "30          4\n",
       "26          2\n",
       "29          2\n",
       "8           2\n",
       "1           2\n",
       "38          2\n",
       "40          2\n",
       "20          2\n",
       "55          2\n",
       "54          2\n",
       "25          2\n",
       "49          2\n",
       "3           2\n",
       "28          2\n",
       "63          1\n",
       "7           1\n",
       "23          1\n",
       "39          1\n",
       "48          1\n",
       "1.5         1\n",
       "57          1\n",
       "37          1\n",
       "5           1\n",
       "12          1\n",
       "52          1\n",
       "5 Months    1\n",
       "Name: Q31, dtype: int64"
      ]
     },
     "execution_count": 170,
     "metadata": {},
     "output_type": "execute_result"
    }
   ],
   "source": [
    "df.columns.values\n",
    "\n",
    "check_cols = ['Q3_1', 'Q3_2', 'Q3_3', 'Q3_4', 'Q3_5',\n",
    "       'Q4', 'Q5', 'Q6_1', 'Q6_2', 'Q6_3', 'Q6_4', 'Q6_5', 'Q7_1', 'Q7_2',\n",
    "       'Q7_3', 'Q7_4', 'Q7_5', 'Q8', 'Q9', 'Q10', 'Q11', 'Q12', 'Q13',\n",
    "       'Q13_2_TEXT', 'Q14', 'Q15_1', 'Q15_2', 'Q15_3', 'Q15_4', 'Q15_5',\n",
    "       'Q15_6', 'Q15_7', 'Q15_8', 'Q15_9', 'Q15_10', 'Q15_11', 'Q15_12',\n",
    "       'Q15_13', 'Q15_14', 'Q15_15', 'Q15_16', 'Q15_17', 'Q15_18',\n",
    "       'Q15_19', 'Q15_20', 'Q15_21', 'Q15_22', 'Q15_23', 'Q15_24',\n",
    "       'Q15_25', 'Q15_26', 'Q15_27', 'Q15_28', 'Q15_29', 'Q16_1', 'Q16_2',\n",
    "       'Q16_3', 'Q16_4', 'Q16_5', 'Q16_6', 'Q16_7', 'Q16_8', 'Q16_9',\n",
    "       'Q16_10', 'Q16_11', 'Q16_12', 'Q16_13', 'Q16_14', 'Q16_15',\n",
    "       'Q16_16', 'Q16_17', 'Q17_1', 'Q17_2', 'Q17_3', 'Q17_4', 'Q17_5',\n",
    "       'Q17_6', 'Q17_7', 'Q17_8', 'Q17_9', 'Q17_10', 'Q17_11', 'Q17_12',\n",
    "       'Q17_13', 'Q18', 'Q32', 'Q19', 'Q20', 'Q21', 'Q21_3_TEXT', 'Q22',\n",
    "       'Q23', 'Q24', 'Q25', 'Q26', 'Q27', 'Q28', 'Q29', 'Q30',\n",
    "       'Q30_2_TEXT', 'Q31']\n",
    "\n",
    "for i in range(101):\n",
    "    df[check_cols[i]].value_counts().sum()\n",
    "    df[check_cols[i]].value_counts()\n"
   ]
  },
  {
   "cell_type": "code",
   "execution_count": 171,
   "id": "407fee00-9a66-4c18-adc4-a75ec5b27185",
   "metadata": {},
   "outputs": [],
   "source": [
    "# Look at IDs for discrepancies --> Row #25 [9912`]\n",
    "df['ParticipantID'].to_csv('Baseline_Depression_ParticipantID.csv',index=False)"
   ]
  },
  {
   "cell_type": "code",
   "execution_count": 172,
   "id": "a959ac8e-0df7-4bed-9720-eb29b6edfe56",
   "metadata": {},
   "outputs": [],
   "source": [
    "# Look at Survey Dates for discrepancies --> all okay\n",
    "df['SurveyDate'].to_csv('Baseline_Depression_SurveyDate.csv',index=False)"
   ]
  },
  {
   "cell_type": "code",
   "execution_count": 173,
   "id": "cce14243-e5a5-4121-a6ef-534b05b4dfd3",
   "metadata": {},
   "outputs": [
    {
     "data": {
      "text/plain": [
       "10040    24\n",
       "10033    23\n",
       "10032    13\n",
       "10034     3\n",
       "10031     1\n",
       "Name: Q22, dtype: int64"
      ]
     },
     "execution_count": 173,
     "metadata": {},
     "output_type": "execute_result"
    }
   ],
   "source": [
    "# Check for outliers \n",
    "\n",
    "# ZIP Code -- ALL WAHI zip codes, 10034 (Inwood) but also 10031?\n",
    "df['Q22'].value_counts()\n",
    "# Years lived in WAHI \n",
    "#df['Q23'].value_counts() #someone said 5 months -- convert to years?\n",
    "# Check individually to make sure the number of years lived in WAHI is below max age\n",
    "#df.loc[df['Q18']=='7','Q23'].value_counts() #all satisfied\n",
    "\n",
    "\n",
    "# Years in the US \n",
    "#df['Q31'].value_counts() #flag 5 months to convert\n",
    "# Check individually to make sure the number of years in US is below max age\n",
    "#df.loc[df['Q18']=='7','Q31'].value_counts() #all satsified "
   ]
  },
  {
   "cell_type": "code",
   "execution_count": 174,
   "id": "a081ecef-c010-4ccd-9bda-2d0d8913322b",
   "metadata": {},
   "outputs": [
    {
     "data": {
      "text/plain": [
       "Series([], Name: Q5, dtype: int64)"
      ]
     },
     "execution_count": 174,
     "metadata": {},
     "output_type": "execute_result"
    },
    {
     "data": {
      "text/plain": [
       "Series([], Name: Q9, dtype: int64)"
      ]
     },
     "execution_count": 174,
     "metadata": {},
     "output_type": "execute_result"
    },
    {
     "data": {
      "text/plain": [
       "Series([], Name: Q13_2_TEXT, dtype: int64)"
      ]
     },
     "execution_count": 174,
     "metadata": {},
     "output_type": "execute_result"
    },
    {
     "data": {
      "text/plain": [
       "Series([], Name: Q21_3_TEXT, dtype: int64)"
      ]
     },
     "execution_count": 174,
     "metadata": {},
     "output_type": "execute_result"
    },
    {
     "data": {
      "text/plain": [
       "Series([], Name: Q21_3_TEXT, dtype: int64)"
      ]
     },
     "execution_count": 174,
     "metadata": {},
     "output_type": "execute_result"
    },
    {
     "data": {
      "text/plain": [
       "Series([], Name: Q30_2_TEXT, dtype: int64)"
      ]
     },
     "execution_count": 174,
     "metadata": {},
     "output_type": "execute_result"
    },
    {
     "data": {
      "text/plain": [
       "Series([], Name: Q31, dtype: int64)"
      ]
     },
     "execution_count": 174,
     "metadata": {},
     "output_type": "execute_result"
    }
   ],
   "source": [
    "# Logic Check (if statements): #all satisfied\n",
    "\n",
    "#Q5:\n",
    "df.loc[df['Q4']=='3','Q5'].value_counts() # satisfied\n",
    "#Q8:\n",
    "df.loc[df['Q8']=='2','Q9'].value_counts() #satisfied\n",
    "#Q13:\n",
    "df.loc[df['Q13']=='1','Q13_2_TEXT'].value_counts() #satisfied\n",
    "#Q21:\n",
    "df.loc[df['Q21']=='1','Q21_3_TEXT'].value_counts() #satisfied\n",
    "df.loc[df['Q21']=='2','Q21_3_TEXT'].value_counts() #satisfied\n",
    "#Q30:\n",
    "df.loc[df['Q30']=='1','Q30_2_TEXT'].value_counts() #satisfied\n",
    "#Q31:\n",
    "df.loc[df['Q30']=='1','Q31'].value_counts() #satisfied"
   ]
  },
  {
   "cell_type": "code",
   "execution_count": 175,
   "id": "c7a37546-e3ba-4c5f-8ad0-ad3317372ec9",
   "metadata": {},
   "outputs": [],
   "source": [
    "# To begin handling missing values, we need to mark the 'N/A' values as '-888'\n",
    "#Q5:\n",
    "df.loc[df['Q4']=='3','Q5'] = '-888'\n",
    "#Q8:\n",
    "df.loc[df['Q8']=='2','Q9'] = '-888'\n",
    "#Q13:\n",
    "df.loc[df['Q13']=='1','Q13_2_TEXT'] = '-888'\n",
    "#Q21:\n",
    "df.loc[df['Q21']=='1','Q21_3_TEXT'] = '-888'\n",
    "df.loc[df['Q21']=='2','Q21_3_TEXT'] = '-888'\n",
    "#Q30:\n",
    "df.loc[df['Q30']=='1','Q30_2_TEXT'] = '-888'\n",
    "#Q31:\n",
    "df.loc[df['Q30']=='1','Q31'] = '-888'"
   ]
  },
  {
   "cell_type": "code",
   "execution_count": 176,
   "id": "e310f80a-6410-4273-bd98-1c98c3c3f521",
   "metadata": {},
   "outputs": [
    {
     "name": "stdout",
     "output_type": "stream",
     "text": [
      "<class 'pandas.core.frame.DataFrame'>\n",
      "Int64Index: 66 entries, 0 to 65\n",
      "Data columns (total 105 columns):\n",
      " #    Column                 Non-Null Count  Dtype \n",
      "---   ------                 --------------  ----- \n",
      " 0    ParticipantID          66 non-null     object\n",
      " 1    SurveyDate             66 non-null     object\n",
      " 2    UserLanguage           66 non-null     object\n",
      " 3    Duration (in seconds)  66 non-null     object\n",
      " 4    Q3_1                   66 non-null     object\n",
      " 5    Q3_2                   64 non-null     object\n",
      " 6    Q3_3                   64 non-null     object\n",
      " 7    Q3_4                   66 non-null     object\n",
      " 8    Q3_5                   66 non-null     object\n",
      " 9    Q4                     64 non-null     object\n",
      " 10   Q5                     62 non-null     object\n",
      " 11   Q6_1                   50 non-null     object\n",
      " 12   Q6_2                   45 non-null     object\n",
      " 13   Q6_3                   41 non-null     object\n",
      " 14   Q6_4                   45 non-null     object\n",
      " 15   Q6_5                   45 non-null     object\n",
      " 16   Q7_1                   65 non-null     object\n",
      " 17   Q7_2                   65 non-null     object\n",
      " 18   Q7_3                   62 non-null     object\n",
      " 19   Q7_4                   65 non-null     object\n",
      " 20   Q7_5                   64 non-null     object\n",
      " 21   Q8                     66 non-null     object\n",
      " 22   Q9                     61 non-null     object\n",
      " 23   Q10                    66 non-null     object\n",
      " 24   Q11                    64 non-null     object\n",
      " 25   Q12                    62 non-null     object\n",
      " 26   Q13                    53 non-null     object\n",
      " 27   Q13_2_TEXT             51 non-null     object\n",
      " 28   Q14                    66 non-null     object\n",
      " 29   Q15_1                  66 non-null     object\n",
      " 30   Q15_2                  66 non-null     object\n",
      " 31   Q15_3                  66 non-null     object\n",
      " 32   Q15_4                  65 non-null     object\n",
      " 33   Q15_5                  66 non-null     object\n",
      " 34   Q15_6                  65 non-null     object\n",
      " 35   Q15_7                  66 non-null     object\n",
      " 36   Q15_8                  66 non-null     object\n",
      " 37   Q15_9                  66 non-null     object\n",
      " 38   Q15_10                 66 non-null     object\n",
      " 39   Q15_11                 66 non-null     object\n",
      " 40   Q15_12                 66 non-null     object\n",
      " 41   Q15_13                 64 non-null     object\n",
      " 42   Q15_14                 66 non-null     object\n",
      " 43   Q15_15                 66 non-null     object\n",
      " 44   Q15_16                 66 non-null     object\n",
      " 45   Q15_17                 66 non-null     object\n",
      " 46   Q15_18                 65 non-null     object\n",
      " 47   Q15_19                 66 non-null     object\n",
      " 48   Q15_20                 66 non-null     object\n",
      " 49   Q15_21                 66 non-null     object\n",
      " 50   Q15_22                 66 non-null     object\n",
      " 51   Q15_23                 65 non-null     object\n",
      " 52   Q15_24                 63 non-null     object\n",
      " 53   Q15_25                 65 non-null     object\n",
      " 54   Q15_26                 66 non-null     object\n",
      " 55   Q15_27                 65 non-null     object\n",
      " 56   Q15_28                 66 non-null     object\n",
      " 57   Q15_29                 66 non-null     object\n",
      " 58   Q16_1                  65 non-null     object\n",
      " 59   Q16_2                  65 non-null     object\n",
      " 60   Q16_3                  66 non-null     object\n",
      " 61   Q16_4                  66 non-null     object\n",
      " 62   Q16_5                  66 non-null     object\n",
      " 63   Q16_6                  66 non-null     object\n",
      " 64   Q16_7                  63 non-null     object\n",
      " 65   Q16_8                  66 non-null     object\n",
      " 66   Q16_9                  65 non-null     object\n",
      " 67   Q16_10                 66 non-null     object\n",
      " 68   Q16_11                 65 non-null     object\n",
      " 69   Q16_12                 65 non-null     object\n",
      " 70   Q16_13                 66 non-null     object\n",
      " 71   Q16_14                 66 non-null     object\n",
      " 72   Q16_15                 66 non-null     object\n",
      " 73   Q16_16                 66 non-null     object\n",
      " 74   Q16_17                 65 non-null     object\n",
      " 75   Q17_1                  66 non-null     object\n",
      " 76   Q17_2                  66 non-null     object\n",
      " 77   Q17_3                  65 non-null     object\n",
      " 78   Q17_4                  66 non-null     object\n",
      " 79   Q17_5                  66 non-null     object\n",
      " 80   Q17_6                  66 non-null     object\n",
      " 81   Q17_7                  66 non-null     object\n",
      " 82   Q17_8                  66 non-null     object\n",
      " 83   Q17_9                  65 non-null     object\n",
      " 84   Q17_10                 66 non-null     object\n",
      " 85   Q17_11                 66 non-null     object\n",
      " 86   Q17_12                 66 non-null     object\n",
      " 87   Q17_13                 66 non-null     object\n",
      " 88   Q18                    66 non-null     object\n",
      " 89   Q32                    65 non-null     object\n",
      " 90   Q19                    65 non-null     object\n",
      " 91   Q20                    61 non-null     object\n",
      " 92   Q21                    66 non-null     object\n",
      " 93   Q21_3_TEXT             66 non-null     object\n",
      " 94   Q22                    64 non-null     object\n",
      " 95   Q23                    65 non-null     object\n",
      " 96   Q24                    65 non-null     object\n",
      " 97   Q25                    66 non-null     object\n",
      " 98   Q26                    66 non-null     object\n",
      " 99   Q27                    60 non-null     object\n",
      " 100  Q28                    59 non-null     object\n",
      " 101  Q29                    66 non-null     object\n",
      " 102  Q30                    65 non-null     object\n",
      " 103  Q30_2_TEXT             63 non-null     object\n",
      " 104  Q31                    64 non-null     object\n",
      "dtypes: object(105)\n",
      "memory usage: 54.7+ KB\n"
     ]
    },
    {
     "data": {
      "text/plain": [
       "<AxesSubplot:>"
      ]
     },
     "execution_count": 176,
     "metadata": {},
     "output_type": "execute_result"
    },
    {
     "data": {
      "image/png": "[encoded data removed]",
      "text/plain": [
       "<Figure size 432x288 with 1 Axes>"
      ]
     },
     "metadata": {
      "needs_background": "light"
     },
     "output_type": "display_data"
    }
   ],
   "source": [
    "df.info(verbose=True,show_counts=True)\n",
    "sns.heatmap(df.isnull(),cbar=False)"
   ]
  },
  {
   "cell_type": "code",
   "execution_count": 177,
   "id": "b0dd4048-c755-41d4-b924-c87c193ded62",
   "metadata": {},
   "outputs": [
    {
     "name": "stdout",
     "output_type": "stream",
     "text": [
      "<class 'pandas.core.frame.DataFrame'>\n",
      "Int64Index: 66 entries, 0 to 65\n",
      "Data columns (total 105 columns):\n",
      " #    Column                 Non-Null Count  Dtype \n",
      "---   ------                 --------------  ----- \n",
      " 0    ParticipantID          66 non-null     object\n",
      " 1    SurveyDate             66 non-null     object\n",
      " 2    UserLanguage           66 non-null     object\n",
      " 3    Duration (in seconds)  66 non-null     object\n",
      " 4    Q3_1                   66 non-null     object\n",
      " 5    Q3_2                   66 non-null     object\n",
      " 6    Q3_3                   66 non-null     object\n",
      " 7    Q3_4                   66 non-null     object\n",
      " 8    Q3_5                   66 non-null     object\n",
      " 9    Q4                     66 non-null     object\n",
      " 10   Q5                     66 non-null     object\n",
      " 11   Q6_1                   66 non-null     object\n",
      " 12   Q6_2                   66 non-null     object\n",
      " 13   Q6_3                   66 non-null     object\n",
      " 14   Q6_4                   66 non-null     object\n",
      " 15   Q6_5                   66 non-null     object\n",
      " 16   Q7_1                   66 non-null     object\n",
      " 17   Q7_2                   66 non-null     object\n",
      " 18   Q7_3                   66 non-null     object\n",
      " 19   Q7_4                   66 non-null     object\n",
      " 20   Q7_5                   66 non-null     object\n",
      " 21   Q8                     66 non-null     object\n",
      " 22   Q9                     66 non-null     object\n",
      " 23   Q10                    66 non-null     object\n",
      " 24   Q11                    66 non-null     object\n",
      " 25   Q12                    66 non-null     object\n",
      " 26   Q13                    66 non-null     object\n",
      " 27   Q13_2_TEXT             66 non-null     object\n",
      " 28   Q14                    66 non-null     object\n",
      " 29   Q15_1                  66 non-null     object\n",
      " 30   Q15_2                  66 non-null     object\n",
      " 31   Q15_3                  66 non-null     object\n",
      " 32   Q15_4                  66 non-null     object\n",
      " 33   Q15_5                  66 non-null     object\n",
      " 34   Q15_6                  66 non-null     object\n",
      " 35   Q15_7                  66 non-null     object\n",
      " 36   Q15_8                  66 non-null     object\n",
      " 37   Q15_9                  66 non-null     object\n",
      " 38   Q15_10                 66 non-null     object\n",
      " 39   Q15_11                 66 non-null     object\n",
      " 40   Q15_12                 66 non-null     object\n",
      " 41   Q15_13                 66 non-null     object\n",
      " 42   Q15_14                 66 non-null     object\n",
      " 43   Q15_15                 66 non-null     object\n",
      " 44   Q15_16                 66 non-null     object\n",
      " 45   Q15_17                 66 non-null     object\n",
      " 46   Q15_18                 66 non-null     object\n",
      " 47   Q15_19                 66 non-null     object\n",
      " 48   Q15_20                 66 non-null     object\n",
      " 49   Q15_21                 66 non-null     object\n",
      " 50   Q15_22                 66 non-null     object\n",
      " 51   Q15_23                 66 non-null     object\n",
      " 52   Q15_24                 66 non-null     object\n",
      " 53   Q15_25                 66 non-null     object\n",
      " 54   Q15_26                 66 non-null     object\n",
      " 55   Q15_27                 66 non-null     object\n",
      " 56   Q15_28                 66 non-null     object\n",
      " 57   Q15_29                 66 non-null     object\n",
      " 58   Q16_1                  66 non-null     object\n",
      " 59   Q16_2                  66 non-null     object\n",
      " 60   Q16_3                  66 non-null     object\n",
      " 61   Q16_4                  66 non-null     object\n",
      " 62   Q16_5                  66 non-null     object\n",
      " 63   Q16_6                  66 non-null     object\n",
      " 64   Q16_7                  66 non-null     object\n",
      " 65   Q16_8                  66 non-null     object\n",
      " 66   Q16_9                  66 non-null     object\n",
      " 67   Q16_10                 66 non-null     object\n",
      " 68   Q16_11                 66 non-null     object\n",
      " 69   Q16_12                 66 non-null     object\n",
      " 70   Q16_13                 66 non-null     object\n",
      " 71   Q16_14                 66 non-null     object\n",
      " 72   Q16_15                 66 non-null     object\n",
      " 73   Q16_16                 66 non-null     object\n",
      " 74   Q16_17                 66 non-null     object\n",
      " 75   Q17_1                  66 non-null     object\n",
      " 76   Q17_2                  66 non-null     object\n",
      " 77   Q17_3                  66 non-null     object\n",
      " 78   Q17_4                  66 non-null     object\n",
      " 79   Q17_5                  66 non-null     object\n",
      " 80   Q17_6                  66 non-null     object\n",
      " 81   Q17_7                  66 non-null     object\n",
      " 82   Q17_8                  66 non-null     object\n",
      " 83   Q17_9                  66 non-null     object\n",
      " 84   Q17_10                 66 non-null     object\n",
      " 85   Q17_11                 66 non-null     object\n",
      " 86   Q17_12                 66 non-null     object\n",
      " 87   Q17_13                 66 non-null     object\n",
      " 88   Q18                    66 non-null     object\n",
      " 89   Q32                    66 non-null     object\n",
      " 90   Q19                    66 non-null     object\n",
      " 91   Q20                    66 non-null     object\n",
      " 92   Q21                    66 non-null     object\n",
      " 93   Q21_3_TEXT             66 non-null     object\n",
      " 94   Q22                    66 non-null     object\n",
      " 95   Q23                    66 non-null     object\n",
      " 96   Q24                    66 non-null     object\n",
      " 97   Q25                    66 non-null     object\n",
      " 98   Q26                    66 non-null     object\n",
      " 99   Q27                    66 non-null     object\n",
      " 100  Q28                    66 non-null     object\n",
      " 101  Q29                    66 non-null     object\n",
      " 102  Q30                    66 non-null     object\n",
      " 103  Q30_2_TEXT             66 non-null     object\n",
      " 104  Q31                    66 non-null     object\n",
      "dtypes: object(105)\n",
      "memory usage: 54.7+ KB\n"
     ]
    }
   ],
   "source": [
    "# Fill in missing values as '-999' and Export V1 of clean dataset\n",
    "df.fillna('-999',inplace=True)\n",
    "df.info(verbose=True,show_counts=True)\n",
    "df.to_csv('V1_Cleaned_Baseline_Depression.csv',index=False)"
   ]
  },
  {
   "cell_type": "code",
   "execution_count": null,
   "id": "54673e43-fd2a-4836-a7f5-9b760b8a7c0b",
   "metadata": {},
   "outputs": [],
   "source": []
  }
 ],
 "metadata": {
  "kernelspec": {
   "display_name": "Python 3",
   "language": "python",
   "name": "python3"
  },
  "language_info": {
   "codemirror_mode": {
    "name": "ipython",
    "version": 3
   },
   "file_extension": ".py",
   "mimetype": "text/x-python",
   "name": "python",
   "nbconvert_exporter": "python",
   "pygments_lexer": "ipython3",
   "version": "3.8.8"
  }
 },
 "nbformat": 4,
 "nbformat_minor": 5
}
