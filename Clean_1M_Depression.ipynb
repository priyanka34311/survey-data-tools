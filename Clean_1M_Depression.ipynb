{
 "cells": [
  {
   "cell_type": "code",
   "execution_count": 41,
   "id": "2d5b7356-b3e1-4299-b048-b328b6fee9f6",
   "metadata": {
    "tags": []
   },
   "outputs": [],
   "source": [
    "# Set up environment\n",
    "\n",
    "from IPython.core.interactiveshell import InteractiveShell\n",
    "InteractiveShell.ast_node_interactivity = \"all\"\n",
    "\n",
    "import pandas as pd\n",
    "import numpy as np\n",
    "import seaborn as sns"
   ]
  },
  {
   "cell_type": "code",
   "execution_count": 42,
   "id": "a005e4e4-82d8-40bd-a98e-158d0e8d8c97",
   "metadata": {
    "tags": []
   },
   "outputs": [
    {
     "data": {
      "text/plain": [
       "(46, 132)"
      ]
     },
     "execution_count": 42,
     "metadata": {},
     "output_type": "execute_result"
    },
    {
     "data": {
      "text/plain": [
       "array(['StartDate', 'EndDate', 'Status', 'IPAddress', 'Progress',\n",
       "       'Duration (in seconds)', 'Finished', 'RecordedDate', 'ResponseId',\n",
       "       'RecipientLastName', 'RecipientFirstName', 'RecipientEmail',\n",
       "       'ExternalReference', 'LocationLatitude', 'LocationLongitude',\n",
       "       'DistributionChannel', 'UserLanguage', 'Q1', 'Q2', 'Q3_1', 'Q3_2',\n",
       "       'Q3_3', 'Q3_4', 'Q3_5', 'Q3_6', 'Q4', 'Q5', 'Q6_1', 'Q6_2', 'Q6_3',\n",
       "       'Q6_4', 'Q6_5', 'Q6_6', 'Q7_1', 'Q7_2', 'Q7_3', 'Q7_4', 'Q7_5',\n",
       "       'Q7_6', 'Q7_7', 'Q7_8', 'Q7_9', 'Q13', 'Q13_2_TEXT', 'Q14',\n",
       "       'Q33_1', 'Q33_2', 'Q33_3', 'Q33_4', 'Q34', 'Q35_1', 'Q35_2',\n",
       "       'Q35_3', 'Q35_4', 'Q35_5', 'Q35_6', 'Q35_7', 'Q35_8', 'Q35_9',\n",
       "       'Q35_10', 'Q36_1', 'Q36_2', 'Q36_3', 'Q36_4', 'Q36_5', 'Q36_6',\n",
       "       'Q36_7', 'Q36_8', 'Q36_9', 'Q36_10', 'Q37', 'Q38', 'Q39', 'Q15_1',\n",
       "       'Q15_2', 'Q15_3', 'Q15_4', 'Q15_5', 'Q15_6', 'Q15_7', 'Q15_8',\n",
       "       'Q15_9', 'Q15_10', 'Q15_11', 'Q15_12', 'Q15_13', 'Q15_14',\n",
       "       'Q15_15', 'Q15_16', 'Q15_17', 'Q15_18', 'Q15_19', 'Q15_20',\n",
       "       'Q15_21', 'Q15_22', 'Q15_23', 'Q15_24', 'Q15_25', 'Q15_26',\n",
       "       'Q15_27', 'Q15_28', 'Q15_29', 'Q16_1', 'Q16_2', 'Q16_3', 'Q16_4',\n",
       "       'Q16_5', 'Q16_6', 'Q16_7', 'Q16_8', 'Q16_9', 'Q16_10', 'Q16_11',\n",
       "       'Q16_12', 'Q16_13', 'Q16_14', 'Q16_15', 'Q16_16', 'Q16_17',\n",
       "       'Q17_1', 'Q17_2', 'Q17_3', 'Q17_4', 'Q17_5', 'Q17_6', 'Q17_7',\n",
       "       'Q17_8', 'Q17_9', 'Q17_10', 'Q17_11', 'Q17_12', 'Q17_13'],\n",
       "      dtype=object)"
      ]
     },
     "execution_count": 42,
     "metadata": {},
     "output_type": "execute_result"
    }
   ],
   "source": [
    "# Read in and preview dataset\n",
    "\n",
    "df = pd.read_csv('Conexion 1M:Depression.csv')\n",
    "df.shape\n",
    "#df.info(verbose=True,show_counts=True)\n",
    "#df.head()\n",
    "#df.tail().T\n",
    "df.columns.values"
   ]
  },
  {
   "cell_type": "code",
   "execution_count": 43,
   "id": "47b7d558-c388-4333-a82e-4570d275ac01",
   "metadata": {},
   "outputs": [
    {
     "data": {
      "text/html": [
       "<div>\n",
       "<style scoped>\n",
       "    .dataframe tbody tr th:only-of-type {\n",
       "        vertical-align: middle;\n",
       "    }\n",
       "\n",
       "    .dataframe tbody tr th {\n",
       "        vertical-align: top;\n",
       "    }\n",
       "\n",
       "    .dataframe thead th {\n",
       "        text-align: right;\n",
       "    }\n",
       "</style>\n",
       "<table border=\"1\" class=\"dataframe\">\n",
       "  <thead>\n",
       "    <tr style=\"text-align: right;\">\n",
       "      <th></th>\n",
       "      <th>StartDate</th>\n",
       "      <th>EndDate</th>\n",
       "      <th>Status</th>\n",
       "      <th>IPAddress</th>\n",
       "      <th>Progress</th>\n",
       "      <th>Duration (in seconds)</th>\n",
       "      <th>Finished</th>\n",
       "      <th>RecordedDate</th>\n",
       "      <th>ResponseId</th>\n",
       "      <th>RecipientLastName</th>\n",
       "      <th>...</th>\n",
       "      <th>Q17_4</th>\n",
       "      <th>Q17_5</th>\n",
       "      <th>Q17_6</th>\n",
       "      <th>Q17_7</th>\n",
       "      <th>Q17_8</th>\n",
       "      <th>Q17_9</th>\n",
       "      <th>Q17_10</th>\n",
       "      <th>Q17_11</th>\n",
       "      <th>Q17_12</th>\n",
       "      <th>Q17_13</th>\n",
       "    </tr>\n",
       "  </thead>\n",
       "  <tbody>\n",
       "    <tr>\n",
       "      <th>2</th>\n",
       "      <td>2020-02-27 13:58:21</td>\n",
       "      <td>2020-02-27 14:01:34</td>\n",
       "      <td>4</td>\n",
       "      <td>156.111.111.152</td>\n",
       "      <td>100</td>\n",
       "      <td>193</td>\n",
       "      <td>1</td>\n",
       "      <td>2021-06-25 09:27:57</td>\n",
       "      <td>R_41scVuAkiRIC8TA</td>\n",
       "      <td>NaN</td>\n",
       "      <td>...</td>\n",
       "      <td>3</td>\n",
       "      <td>2</td>\n",
       "      <td>3</td>\n",
       "      <td>5</td>\n",
       "      <td>4</td>\n",
       "      <td>3</td>\n",
       "      <td>2</td>\n",
       "      <td>3</td>\n",
       "      <td>3</td>\n",
       "      <td>4</td>\n",
       "    </tr>\n",
       "    <tr>\n",
       "      <th>3</th>\n",
       "      <td>2020-02-20 13:48:48</td>\n",
       "      <td>2020-02-20 13:51:55</td>\n",
       "      <td>4</td>\n",
       "      <td>156.111.111.152</td>\n",
       "      <td>100</td>\n",
       "      <td>187</td>\n",
       "      <td>1</td>\n",
       "      <td>2021-06-25 09:27:57</td>\n",
       "      <td>R_cNDfD6lq8KjIyXA</td>\n",
       "      <td>NaN</td>\n",
       "      <td>...</td>\n",
       "      <td>4</td>\n",
       "      <td>4</td>\n",
       "      <td>4</td>\n",
       "      <td>4</td>\n",
       "      <td>4</td>\n",
       "      <td>4</td>\n",
       "      <td>4</td>\n",
       "      <td>4</td>\n",
       "      <td>4</td>\n",
       "      <td>4</td>\n",
       "    </tr>\n",
       "    <tr>\n",
       "      <th>4</th>\n",
       "      <td>2019-09-23 08:52:03</td>\n",
       "      <td>2019-09-23 08:58:01</td>\n",
       "      <td>4</td>\n",
       "      <td>156.111.111.161</td>\n",
       "      <td>100</td>\n",
       "      <td>358</td>\n",
       "      <td>1</td>\n",
       "      <td>2021-06-25 09:27:57</td>\n",
       "      <td>R_3KLlYpYH6KXFNvo</td>\n",
       "      <td>NaN</td>\n",
       "      <td>...</td>\n",
       "      <td>NaN</td>\n",
       "      <td>NaN</td>\n",
       "      <td>NaN</td>\n",
       "      <td>NaN</td>\n",
       "      <td>NaN</td>\n",
       "      <td>NaN</td>\n",
       "      <td>NaN</td>\n",
       "      <td>NaN</td>\n",
       "      <td>NaN</td>\n",
       "      <td>NaN</td>\n",
       "    </tr>\n",
       "    <tr>\n",
       "      <th>5</th>\n",
       "      <td>2020-01-10 09:52:33</td>\n",
       "      <td>2020-01-10 09:58:36</td>\n",
       "      <td>4</td>\n",
       "      <td>156.111.111.152</td>\n",
       "      <td>100</td>\n",
       "      <td>362</td>\n",
       "      <td>1</td>\n",
       "      <td>2021-06-25 09:27:57</td>\n",
       "      <td>R_3O6I7B3e9DV72u2</td>\n",
       "      <td>NaN</td>\n",
       "      <td>...</td>\n",
       "      <td>4</td>\n",
       "      <td>3</td>\n",
       "      <td>4</td>\n",
       "      <td>4</td>\n",
       "      <td>4</td>\n",
       "      <td>3</td>\n",
       "      <td>4</td>\n",
       "      <td>3</td>\n",
       "      <td>1</td>\n",
       "      <td>4</td>\n",
       "    </tr>\n",
       "    <tr>\n",
       "      <th>6</th>\n",
       "      <td>2019-09-22 11:01:33</td>\n",
       "      <td>2019-09-22 11:06:48</td>\n",
       "      <td>4</td>\n",
       "      <td>50.75.209.134</td>\n",
       "      <td>100</td>\n",
       "      <td>315</td>\n",
       "      <td>1</td>\n",
       "      <td>2021-06-25 09:27:57</td>\n",
       "      <td>R_8uoYsIflVdn6BBs</td>\n",
       "      <td>NaN</td>\n",
       "      <td>...</td>\n",
       "      <td>4</td>\n",
       "      <td>3</td>\n",
       "      <td>3</td>\n",
       "      <td>4</td>\n",
       "      <td>3</td>\n",
       "      <td>3</td>\n",
       "      <td>3</td>\n",
       "      <td>3</td>\n",
       "      <td>3</td>\n",
       "      <td>3</td>\n",
       "    </tr>\n",
       "    <tr>\n",
       "      <th>7</th>\n",
       "      <td>2020-02-27 13:25:34</td>\n",
       "      <td>2020-02-27 13:28:33</td>\n",
       "      <td>4</td>\n",
       "      <td>156.111.111.152</td>\n",
       "      <td>100</td>\n",
       "      <td>179</td>\n",
       "      <td>1</td>\n",
       "      <td>2021-06-25 09:27:57</td>\n",
       "      <td>R_41nHwtkgGFwVBbM</td>\n",
       "      <td>NaN</td>\n",
       "      <td>...</td>\n",
       "      <td>3</td>\n",
       "      <td>2</td>\n",
       "      <td>3</td>\n",
       "      <td>3</td>\n",
       "      <td>3</td>\n",
       "      <td>3</td>\n",
       "      <td>3</td>\n",
       "      <td>3</td>\n",
       "      <td>3</td>\n",
       "      <td>3</td>\n",
       "    </tr>\n",
       "    <tr>\n",
       "      <th>8</th>\n",
       "      <td>2020-02-21 12:39:46</td>\n",
       "      <td>2020-02-21 12:44:17</td>\n",
       "      <td>4</td>\n",
       "      <td>156.111.111.218</td>\n",
       "      <td>100</td>\n",
       "      <td>270</td>\n",
       "      <td>1</td>\n",
       "      <td>2021-06-25 09:27:57</td>\n",
       "      <td>R_5sswUwUXJyGTVnE</td>\n",
       "      <td>NaN</td>\n",
       "      <td>...</td>\n",
       "      <td>4</td>\n",
       "      <td>4</td>\n",
       "      <td>4</td>\n",
       "      <td>4</td>\n",
       "      <td>4</td>\n",
       "      <td>4</td>\n",
       "      <td>4</td>\n",
       "      <td>4</td>\n",
       "      <td>4</td>\n",
       "      <td>4</td>\n",
       "    </tr>\n",
       "    <tr>\n",
       "      <th>9</th>\n",
       "      <td>2019-12-05 09:24:04</td>\n",
       "      <td>2019-12-05 09:29:34</td>\n",
       "      <td>4</td>\n",
       "      <td>156.111.111.152</td>\n",
       "      <td>100</td>\n",
       "      <td>329</td>\n",
       "      <td>1</td>\n",
       "      <td>2021-06-25 09:27:57</td>\n",
       "      <td>R_87lnvRwVy6qR5nE</td>\n",
       "      <td>NaN</td>\n",
       "      <td>...</td>\n",
       "      <td>5</td>\n",
       "      <td>4</td>\n",
       "      <td>4</td>\n",
       "      <td>5</td>\n",
       "      <td>3</td>\n",
       "      <td>3</td>\n",
       "      <td>2</td>\n",
       "      <td>3</td>\n",
       "      <td>3</td>\n",
       "      <td>2</td>\n",
       "    </tr>\n",
       "    <tr>\n",
       "      <th>10</th>\n",
       "      <td>2020-01-10 09:38:48</td>\n",
       "      <td>2020-01-10 09:41:58</td>\n",
       "      <td>4</td>\n",
       "      <td>156.111.111.152</td>\n",
       "      <td>100</td>\n",
       "      <td>190</td>\n",
       "      <td>1</td>\n",
       "      <td>2021-06-25 09:27:57</td>\n",
       "      <td>R_bKtsjX6LJNSFpJ4</td>\n",
       "      <td>NaN</td>\n",
       "      <td>...</td>\n",
       "      <td>4</td>\n",
       "      <td>4</td>\n",
       "      <td>4</td>\n",
       "      <td>4</td>\n",
       "      <td>4</td>\n",
       "      <td>4</td>\n",
       "      <td>2</td>\n",
       "      <td>2</td>\n",
       "      <td>3</td>\n",
       "      <td>2</td>\n",
       "    </tr>\n",
       "    <tr>\n",
       "      <th>11</th>\n",
       "      <td>2020-02-14 10:42:23</td>\n",
       "      <td>2020-02-14 10:45:58</td>\n",
       "      <td>4</td>\n",
       "      <td>156.111.111.152</td>\n",
       "      <td>100</td>\n",
       "      <td>215</td>\n",
       "      <td>1</td>\n",
       "      <td>2021-06-25 09:27:57</td>\n",
       "      <td>R_cVcE2hqOK8OKkey</td>\n",
       "      <td>NaN</td>\n",
       "      <td>...</td>\n",
       "      <td>3</td>\n",
       "      <td>3</td>\n",
       "      <td>3</td>\n",
       "      <td>3</td>\n",
       "      <td>3</td>\n",
       "      <td>3</td>\n",
       "      <td>3</td>\n",
       "      <td>3</td>\n",
       "      <td>3</td>\n",
       "      <td>3</td>\n",
       "    </tr>\n",
       "    <tr>\n",
       "      <th>12</th>\n",
       "      <td>2021-04-28 14:16:19</td>\n",
       "      <td>2021-04-28 14:29:32</td>\n",
       "      <td>4</td>\n",
       "      <td>174.228.6.210</td>\n",
       "      <td>100</td>\n",
       "      <td>793</td>\n",
       "      <td>1</td>\n",
       "      <td>2021-06-25 09:27:57</td>\n",
       "      <td>R_eWAphf10PCOfDjE</td>\n",
       "      <td>NaN</td>\n",
       "      <td>...</td>\n",
       "      <td>3</td>\n",
       "      <td>3</td>\n",
       "      <td>3</td>\n",
       "      <td>3</td>\n",
       "      <td>3</td>\n",
       "      <td>3</td>\n",
       "      <td>3</td>\n",
       "      <td>3</td>\n",
       "      <td>3</td>\n",
       "      <td>2</td>\n",
       "    </tr>\n",
       "    <tr>\n",
       "      <th>13</th>\n",
       "      <td>2019-09-04 14:24:20</td>\n",
       "      <td>2019-09-04 14:30:25</td>\n",
       "      <td>4</td>\n",
       "      <td>156.111.111.160</td>\n",
       "      <td>100</td>\n",
       "      <td>365</td>\n",
       "      <td>1</td>\n",
       "      <td>2021-06-25 09:27:57</td>\n",
       "      <td>R_5nV8xaFcuxr2FL0</td>\n",
       "      <td>NaN</td>\n",
       "      <td>...</td>\n",
       "      <td>4</td>\n",
       "      <td>4</td>\n",
       "      <td>4</td>\n",
       "      <td>4</td>\n",
       "      <td>4</td>\n",
       "      <td>4</td>\n",
       "      <td>4</td>\n",
       "      <td>4</td>\n",
       "      <td>4</td>\n",
       "      <td>4</td>\n",
       "    </tr>\n",
       "    <tr>\n",
       "      <th>14</th>\n",
       "      <td>2019-11-11 10:42:12</td>\n",
       "      <td>2019-11-11 10:46:27</td>\n",
       "      <td>4</td>\n",
       "      <td>156.111.111.152</td>\n",
       "      <td>100</td>\n",
       "      <td>255</td>\n",
       "      <td>1</td>\n",
       "      <td>2021-06-25 09:27:57</td>\n",
       "      <td>R_6MeiL6tmCxdWS7s</td>\n",
       "      <td>NaN</td>\n",
       "      <td>...</td>\n",
       "      <td>3</td>\n",
       "      <td>3</td>\n",
       "      <td>3</td>\n",
       "      <td>3</td>\n",
       "      <td>3</td>\n",
       "      <td>3</td>\n",
       "      <td>2</td>\n",
       "      <td>3</td>\n",
       "      <td>3</td>\n",
       "      <td>2</td>\n",
       "    </tr>\n",
       "    <tr>\n",
       "      <th>15</th>\n",
       "      <td>2019-09-26 09:32:46</td>\n",
       "      <td>2019-09-26 09:42:19</td>\n",
       "      <td>4</td>\n",
       "      <td>156.111.111.152</td>\n",
       "      <td>100</td>\n",
       "      <td>573</td>\n",
       "      <td>1</td>\n",
       "      <td>2021-06-25 09:27:57</td>\n",
       "      <td>R_86UnWilBN24eia2</td>\n",
       "      <td>NaN</td>\n",
       "      <td>...</td>\n",
       "      <td>4</td>\n",
       "      <td>2</td>\n",
       "      <td>4</td>\n",
       "      <td>4</td>\n",
       "      <td>4</td>\n",
       "      <td>3</td>\n",
       "      <td>4</td>\n",
       "      <td>4</td>\n",
       "      <td>4</td>\n",
       "      <td>4</td>\n",
       "    </tr>\n",
       "    <tr>\n",
       "      <th>16</th>\n",
       "      <td>2020-06-05 10:02:22</td>\n",
       "      <td>2020-06-05 10:24:51</td>\n",
       "      <td>4</td>\n",
       "      <td>67.254.250.126</td>\n",
       "      <td>100</td>\n",
       "      <td>1348</td>\n",
       "      <td>1</td>\n",
       "      <td>2021-06-25 09:27:57</td>\n",
       "      <td>R_87hV6UVhJu8MFqm</td>\n",
       "      <td>NaN</td>\n",
       "      <td>...</td>\n",
       "      <td>3</td>\n",
       "      <td>3</td>\n",
       "      <td>3</td>\n",
       "      <td>3</td>\n",
       "      <td>3</td>\n",
       "      <td>3</td>\n",
       "      <td>3</td>\n",
       "      <td>3</td>\n",
       "      <td>3</td>\n",
       "      <td>4</td>\n",
       "    </tr>\n",
       "    <tr>\n",
       "      <th>17</th>\n",
       "      <td>2020-01-10 09:48:10</td>\n",
       "      <td>2020-01-10 09:52:11</td>\n",
       "      <td>4</td>\n",
       "      <td>156.111.111.152</td>\n",
       "      <td>100</td>\n",
       "      <td>240</td>\n",
       "      <td>1</td>\n",
       "      <td>2021-06-25 09:27:57</td>\n",
       "      <td>R_efXnptUd8oHoJka</td>\n",
       "      <td>NaN</td>\n",
       "      <td>...</td>\n",
       "      <td>2</td>\n",
       "      <td>2</td>\n",
       "      <td>1</td>\n",
       "      <td>3</td>\n",
       "      <td>NaN</td>\n",
       "      <td>2</td>\n",
       "      <td>4</td>\n",
       "      <td>2</td>\n",
       "      <td>2</td>\n",
       "      <td>3</td>\n",
       "    </tr>\n",
       "    <tr>\n",
       "      <th>18</th>\n",
       "      <td>2019-11-07 08:49:59</td>\n",
       "      <td>2019-11-07 08:55:07</td>\n",
       "      <td>4</td>\n",
       "      <td>156.111.111.152</td>\n",
       "      <td>100</td>\n",
       "      <td>308</td>\n",
       "      <td>1</td>\n",
       "      <td>2021-06-25 09:27:57</td>\n",
       "      <td>R_0ihKrPZXSckxPHo</td>\n",
       "      <td>NaN</td>\n",
       "      <td>...</td>\n",
       "      <td>3</td>\n",
       "      <td>3</td>\n",
       "      <td>3</td>\n",
       "      <td>4</td>\n",
       "      <td>3</td>\n",
       "      <td>4</td>\n",
       "      <td>4</td>\n",
       "      <td>4</td>\n",
       "      <td>4</td>\n",
       "      <td>4</td>\n",
       "    </tr>\n",
       "    <tr>\n",
       "      <th>19</th>\n",
       "      <td>2019-09-04 12:15:29</td>\n",
       "      <td>2019-09-04 12:54:25</td>\n",
       "      <td>4</td>\n",
       "      <td>156.111.111.160</td>\n",
       "      <td>100</td>\n",
       "      <td>2336</td>\n",
       "      <td>1</td>\n",
       "      <td>2021-06-25 09:27:57</td>\n",
       "      <td>R_6Fsf00XSrYCFF8q</td>\n",
       "      <td>NaN</td>\n",
       "      <td>...</td>\n",
       "      <td>3</td>\n",
       "      <td>4</td>\n",
       "      <td>4</td>\n",
       "      <td>2</td>\n",
       "      <td>4</td>\n",
       "      <td>2</td>\n",
       "      <td>4</td>\n",
       "      <td>4</td>\n",
       "      <td>4</td>\n",
       "      <td>4</td>\n",
       "    </tr>\n",
       "    <tr>\n",
       "      <th>20</th>\n",
       "      <td>2019-11-20 09:50:24</td>\n",
       "      <td>2019-11-20 09:55:29</td>\n",
       "      <td>4</td>\n",
       "      <td>156.111.111.159</td>\n",
       "      <td>100</td>\n",
       "      <td>304</td>\n",
       "      <td>1</td>\n",
       "      <td>2021-06-25 09:27:57</td>\n",
       "      <td>R_9LTAtDJciSgztVs</td>\n",
       "      <td>NaN</td>\n",
       "      <td>...</td>\n",
       "      <td>4</td>\n",
       "      <td>4</td>\n",
       "      <td>4</td>\n",
       "      <td>4</td>\n",
       "      <td>4</td>\n",
       "      <td>4</td>\n",
       "      <td>2</td>\n",
       "      <td>3</td>\n",
       "      <td>3</td>\n",
       "      <td>2</td>\n",
       "    </tr>\n",
       "    <tr>\n",
       "      <th>21</th>\n",
       "      <td>2019-09-04 13:12:05</td>\n",
       "      <td>2019-09-04 13:36:47</td>\n",
       "      <td>4</td>\n",
       "      <td>156.111.111.160</td>\n",
       "      <td>100</td>\n",
       "      <td>1481</td>\n",
       "      <td>1</td>\n",
       "      <td>2021-06-25 09:27:57</td>\n",
       "      <td>R_9NxZMKyDcDSwr2u</td>\n",
       "      <td>NaN</td>\n",
       "      <td>...</td>\n",
       "      <td>5</td>\n",
       "      <td>5</td>\n",
       "      <td>2</td>\n",
       "      <td>5</td>\n",
       "      <td>5</td>\n",
       "      <td>5</td>\n",
       "      <td>4</td>\n",
       "      <td>4</td>\n",
       "      <td>4</td>\n",
       "      <td>3</td>\n",
       "    </tr>\n",
       "    <tr>\n",
       "      <th>22</th>\n",
       "      <td>2019-12-05 09:34:30</td>\n",
       "      <td>2019-12-05 09:38:13</td>\n",
       "      <td>4</td>\n",
       "      <td>156.111.111.152</td>\n",
       "      <td>100</td>\n",
       "      <td>222</td>\n",
       "      <td>1</td>\n",
       "      <td>2021-06-25 09:27:57</td>\n",
       "      <td>R_6fj2XRAMDN2hpTo</td>\n",
       "      <td>NaN</td>\n",
       "      <td>...</td>\n",
       "      <td>3</td>\n",
       "      <td>3</td>\n",
       "      <td>3</td>\n",
       "      <td>3</td>\n",
       "      <td>3</td>\n",
       "      <td>3</td>\n",
       "      <td>3</td>\n",
       "      <td>3</td>\n",
       "      <td>3</td>\n",
       "      <td>3</td>\n",
       "    </tr>\n",
       "    <tr>\n",
       "      <th>23</th>\n",
       "      <td>2020-02-14 11:22:33</td>\n",
       "      <td>2020-02-14 11:25:21</td>\n",
       "      <td>4</td>\n",
       "      <td>156.111.111.152</td>\n",
       "      <td>100</td>\n",
       "      <td>167</td>\n",
       "      <td>1</td>\n",
       "      <td>2021-06-25 09:27:57</td>\n",
       "      <td>R_80twLZCoQlmWTKm</td>\n",
       "      <td>NaN</td>\n",
       "      <td>...</td>\n",
       "      <td>4</td>\n",
       "      <td>4</td>\n",
       "      <td>4</td>\n",
       "      <td>4</td>\n",
       "      <td>4</td>\n",
       "      <td>4</td>\n",
       "      <td>4</td>\n",
       "      <td>4</td>\n",
       "      <td>3</td>\n",
       "      <td>3</td>\n",
       "    </tr>\n",
       "    <tr>\n",
       "      <th>24</th>\n",
       "      <td>2020-02-27 13:54:57</td>\n",
       "      <td>2020-02-27 13:57:56</td>\n",
       "      <td>4</td>\n",
       "      <td>156.111.111.152</td>\n",
       "      <td>100</td>\n",
       "      <td>179</td>\n",
       "      <td>1</td>\n",
       "      <td>2021-06-25 09:27:57</td>\n",
       "      <td>R_8dgBjF7T5Lno2CW</td>\n",
       "      <td>NaN</td>\n",
       "      <td>...</td>\n",
       "      <td>4</td>\n",
       "      <td>4</td>\n",
       "      <td>4</td>\n",
       "      <td>4</td>\n",
       "      <td>4</td>\n",
       "      <td>4</td>\n",
       "      <td>NaN</td>\n",
       "      <td>4</td>\n",
       "      <td>4</td>\n",
       "      <td>4</td>\n",
       "    </tr>\n",
       "    <tr>\n",
       "      <th>25</th>\n",
       "      <td>2019-09-04 14:10:37</td>\n",
       "      <td>2019-09-04 14:19:06</td>\n",
       "      <td>4</td>\n",
       "      <td>156.111.111.160</td>\n",
       "      <td>100</td>\n",
       "      <td>509</td>\n",
       "      <td>1</td>\n",
       "      <td>2021-06-25 09:27:57</td>\n",
       "      <td>R_e9ftR1MISoOsX9I</td>\n",
       "      <td>NaN</td>\n",
       "      <td>...</td>\n",
       "      <td>3</td>\n",
       "      <td>3</td>\n",
       "      <td>3</td>\n",
       "      <td>3</td>\n",
       "      <td>3</td>\n",
       "      <td>3</td>\n",
       "      <td>3</td>\n",
       "      <td>3</td>\n",
       "      <td>3</td>\n",
       "      <td>3</td>\n",
       "    </tr>\n",
       "    <tr>\n",
       "      <th>26</th>\n",
       "      <td>2019-09-20 10:11:33</td>\n",
       "      <td>2019-09-20 10:17:36</td>\n",
       "      <td>4</td>\n",
       "      <td>143.104.238.38</td>\n",
       "      <td>100</td>\n",
       "      <td>363</td>\n",
       "      <td>1</td>\n",
       "      <td>2021-06-25 09:27:57</td>\n",
       "      <td>R_57kicBXyAP74yLI</td>\n",
       "      <td>NaN</td>\n",
       "      <td>...</td>\n",
       "      <td>3</td>\n",
       "      <td>3</td>\n",
       "      <td>3</td>\n",
       "      <td>4</td>\n",
       "      <td>3</td>\n",
       "      <td>3</td>\n",
       "      <td>3</td>\n",
       "      <td>5</td>\n",
       "      <td>4</td>\n",
       "      <td>3</td>\n",
       "    </tr>\n",
       "    <tr>\n",
       "      <th>27</th>\n",
       "      <td>2019-09-22 10:56:41</td>\n",
       "      <td>2019-09-22 11:01:00</td>\n",
       "      <td>4</td>\n",
       "      <td>50.75.209.134</td>\n",
       "      <td>100</td>\n",
       "      <td>258</td>\n",
       "      <td>1</td>\n",
       "      <td>2021-06-25 09:27:57</td>\n",
       "      <td>R_5q0BfJGatdf4bH0</td>\n",
       "      <td>NaN</td>\n",
       "      <td>...</td>\n",
       "      <td>5</td>\n",
       "      <td>3</td>\n",
       "      <td>3</td>\n",
       "      <td>4</td>\n",
       "      <td>5</td>\n",
       "      <td>5</td>\n",
       "      <td>4</td>\n",
       "      <td>3</td>\n",
       "      <td>4</td>\n",
       "      <td>4</td>\n",
       "    </tr>\n",
       "    <tr>\n",
       "      <th>28</th>\n",
       "      <td>2019-09-05 13:53:25</td>\n",
       "      <td>2019-09-05 13:58:54</td>\n",
       "      <td>4</td>\n",
       "      <td>156.111.111.160</td>\n",
       "      <td>100</td>\n",
       "      <td>328</td>\n",
       "      <td>1</td>\n",
       "      <td>2021-06-25 09:27:57</td>\n",
       "      <td>R_db4pVyQWIAtfsQC</td>\n",
       "      <td>NaN</td>\n",
       "      <td>...</td>\n",
       "      <td>4</td>\n",
       "      <td>4</td>\n",
       "      <td>4</td>\n",
       "      <td>4</td>\n",
       "      <td>4</td>\n",
       "      <td>4</td>\n",
       "      <td>4</td>\n",
       "      <td>4</td>\n",
       "      <td>4</td>\n",
       "      <td>4</td>\n",
       "    </tr>\n",
       "    <tr>\n",
       "      <th>29</th>\n",
       "      <td>2019-11-12 15:04:08</td>\n",
       "      <td>2019-11-12 15:08:16</td>\n",
       "      <td>4</td>\n",
       "      <td>156.111.111.159</td>\n",
       "      <td>100</td>\n",
       "      <td>247</td>\n",
       "      <td>1</td>\n",
       "      <td>2021-06-25 09:27:57</td>\n",
       "      <td>R_4GtMp4EF5jpJyku</td>\n",
       "      <td>NaN</td>\n",
       "      <td>...</td>\n",
       "      <td>2</td>\n",
       "      <td>2</td>\n",
       "      <td>3</td>\n",
       "      <td>3</td>\n",
       "      <td>3</td>\n",
       "      <td>2</td>\n",
       "      <td>4</td>\n",
       "      <td>3</td>\n",
       "      <td>3</td>\n",
       "      <td>3</td>\n",
       "    </tr>\n",
       "    <tr>\n",
       "      <th>30</th>\n",
       "      <td>2020-02-14 11:25:37</td>\n",
       "      <td>2020-02-14 11:29:11</td>\n",
       "      <td>4</td>\n",
       "      <td>156.111.111.152</td>\n",
       "      <td>100</td>\n",
       "      <td>214</td>\n",
       "      <td>1</td>\n",
       "      <td>2021-06-25 09:27:57</td>\n",
       "      <td>R_5Bc1b6uNvjOo8M6</td>\n",
       "      <td>NaN</td>\n",
       "      <td>...</td>\n",
       "      <td>4</td>\n",
       "      <td>4</td>\n",
       "      <td>5</td>\n",
       "      <td>3</td>\n",
       "      <td>3</td>\n",
       "      <td>4</td>\n",
       "      <td>4</td>\n",
       "      <td>4</td>\n",
       "      <td>3</td>\n",
       "      <td>2</td>\n",
       "    </tr>\n",
       "    <tr>\n",
       "      <th>31</th>\n",
       "      <td>2019-11-27 11:46:07</td>\n",
       "      <td>2019-11-27 11:50:13</td>\n",
       "      <td>4</td>\n",
       "      <td>156.111.111.159</td>\n",
       "      <td>100</td>\n",
       "      <td>245</td>\n",
       "      <td>1</td>\n",
       "      <td>2021-06-25 09:27:57</td>\n",
       "      <td>R_6lBp7Ir35HR5mK2</td>\n",
       "      <td>NaN</td>\n",
       "      <td>...</td>\n",
       "      <td>3</td>\n",
       "      <td>2</td>\n",
       "      <td>3</td>\n",
       "      <td>3</td>\n",
       "      <td>3</td>\n",
       "      <td>3</td>\n",
       "      <td>3</td>\n",
       "      <td>3</td>\n",
       "      <td>3</td>\n",
       "      <td>3</td>\n",
       "    </tr>\n",
       "    <tr>\n",
       "      <th>32</th>\n",
       "      <td>2020-03-05 14:05:07</td>\n",
       "      <td>2020-03-05 14:08:25</td>\n",
       "      <td>4</td>\n",
       "      <td>156.111.111.152</td>\n",
       "      <td>100</td>\n",
       "      <td>197</td>\n",
       "      <td>1</td>\n",
       "      <td>2021-06-25 09:27:57</td>\n",
       "      <td>R_bEejVaDW72id0Eu</td>\n",
       "      <td>NaN</td>\n",
       "      <td>...</td>\n",
       "      <td>5</td>\n",
       "      <td>1</td>\n",
       "      <td>3</td>\n",
       "      <td>3</td>\n",
       "      <td>4</td>\n",
       "      <td>4</td>\n",
       "      <td>4</td>\n",
       "      <td>4</td>\n",
       "      <td>3</td>\n",
       "      <td>4</td>\n",
       "    </tr>\n",
       "    <tr>\n",
       "      <th>33</th>\n",
       "      <td>2020-01-13 11:38:51</td>\n",
       "      <td>2020-01-13 11:43:25</td>\n",
       "      <td>4</td>\n",
       "      <td>156.111.111.159</td>\n",
       "      <td>100</td>\n",
       "      <td>274</td>\n",
       "      <td>1</td>\n",
       "      <td>2021-06-25 09:27:57</td>\n",
       "      <td>R_8CdE681AVeu3nTg</td>\n",
       "      <td>NaN</td>\n",
       "      <td>...</td>\n",
       "      <td>3</td>\n",
       "      <td>3</td>\n",
       "      <td>4</td>\n",
       "      <td>4</td>\n",
       "      <td>4</td>\n",
       "      <td>3</td>\n",
       "      <td>4</td>\n",
       "      <td>4</td>\n",
       "      <td>4</td>\n",
       "      <td>4</td>\n",
       "    </tr>\n",
       "    <tr>\n",
       "      <th>34</th>\n",
       "      <td>2020-03-05 13:43:23</td>\n",
       "      <td>2020-03-05 13:45:42</td>\n",
       "      <td>4</td>\n",
       "      <td>156.111.111.152</td>\n",
       "      <td>100</td>\n",
       "      <td>138</td>\n",
       "      <td>1</td>\n",
       "      <td>2021-06-25 09:27:57</td>\n",
       "      <td>R_50iA5wUPpJ0yEyq</td>\n",
       "      <td>NaN</td>\n",
       "      <td>...</td>\n",
       "      <td>4</td>\n",
       "      <td>4</td>\n",
       "      <td>4</td>\n",
       "      <td>4</td>\n",
       "      <td>4</td>\n",
       "      <td>1</td>\n",
       "      <td>4</td>\n",
       "      <td>4</td>\n",
       "      <td>1</td>\n",
       "      <td>4</td>\n",
       "    </tr>\n",
       "    <tr>\n",
       "      <th>35</th>\n",
       "      <td>2020-02-20 13:52:05</td>\n",
       "      <td>2020-02-20 13:55:21</td>\n",
       "      <td>4</td>\n",
       "      <td>156.111.111.152</td>\n",
       "      <td>100</td>\n",
       "      <td>195</td>\n",
       "      <td>1</td>\n",
       "      <td>2021-06-25 09:27:57</td>\n",
       "      <td>R_3DvDehJ2bloVTGC</td>\n",
       "      <td>NaN</td>\n",
       "      <td>...</td>\n",
       "      <td>3</td>\n",
       "      <td>4</td>\n",
       "      <td>4</td>\n",
       "      <td>4</td>\n",
       "      <td>NaN</td>\n",
       "      <td>5</td>\n",
       "      <td>4</td>\n",
       "      <td>3</td>\n",
       "      <td>4</td>\n",
       "      <td>3</td>\n",
       "    </tr>\n",
       "    <tr>\n",
       "      <th>36</th>\n",
       "      <td>2019-12-06 10:20:51</td>\n",
       "      <td>2019-12-06 10:24:20</td>\n",
       "      <td>4</td>\n",
       "      <td>156.111.111.159</td>\n",
       "      <td>100</td>\n",
       "      <td>209</td>\n",
       "      <td>1</td>\n",
       "      <td>2021-06-25 09:27:57</td>\n",
       "      <td>R_bOwzz34HPjMA9lc</td>\n",
       "      <td>NaN</td>\n",
       "      <td>...</td>\n",
       "      <td>3</td>\n",
       "      <td>3</td>\n",
       "      <td>3</td>\n",
       "      <td>4</td>\n",
       "      <td>3</td>\n",
       "      <td>3</td>\n",
       "      <td>3</td>\n",
       "      <td>3</td>\n",
       "      <td>3</td>\n",
       "      <td>3</td>\n",
       "    </tr>\n",
       "    <tr>\n",
       "      <th>37</th>\n",
       "      <td>2020-05-22 09:35:45</td>\n",
       "      <td>2020-05-22 09:56:02</td>\n",
       "      <td>4</td>\n",
       "      <td>67.254.250.126</td>\n",
       "      <td>100</td>\n",
       "      <td>1217</td>\n",
       "      <td>1</td>\n",
       "      <td>2021-06-25 09:27:57</td>\n",
       "      <td>R_bpl1xFGWRJOXgwu</td>\n",
       "      <td>NaN</td>\n",
       "      <td>...</td>\n",
       "      <td>3</td>\n",
       "      <td>3</td>\n",
       "      <td>3</td>\n",
       "      <td>3</td>\n",
       "      <td>3</td>\n",
       "      <td>3</td>\n",
       "      <td>3</td>\n",
       "      <td>3</td>\n",
       "      <td>3</td>\n",
       "      <td>3</td>\n",
       "    </tr>\n",
       "    <tr>\n",
       "      <th>38</th>\n",
       "      <td>2020-06-11 17:40:48</td>\n",
       "      <td>2020-06-11 17:41:04</td>\n",
       "      <td>4</td>\n",
       "      <td>67.254.250.126</td>\n",
       "      <td>95</td>\n",
       "      <td>15</td>\n",
       "      <td>0</td>\n",
       "      <td>2021-06-25 09:27:57</td>\n",
       "      <td>R_5BV5XcSayLnKYHc</td>\n",
       "      <td>NaN</td>\n",
       "      <td>...</td>\n",
       "      <td>NaN</td>\n",
       "      <td>NaN</td>\n",
       "      <td>NaN</td>\n",
       "      <td>NaN</td>\n",
       "      <td>NaN</td>\n",
       "      <td>NaN</td>\n",
       "      <td>NaN</td>\n",
       "      <td>NaN</td>\n",
       "      <td>NaN</td>\n",
       "      <td>NaN</td>\n",
       "    </tr>\n",
       "    <tr>\n",
       "      <th>39</th>\n",
       "      <td>2020-03-05 13:56:16</td>\n",
       "      <td>2020-03-05 13:59:42</td>\n",
       "      <td>4</td>\n",
       "      <td>156.111.111.152</td>\n",
       "      <td>100</td>\n",
       "      <td>206</td>\n",
       "      <td>1</td>\n",
       "      <td>2021-06-25 09:27:57</td>\n",
       "      <td>R_5pyd9KJ8bkmY9BI</td>\n",
       "      <td>NaN</td>\n",
       "      <td>...</td>\n",
       "      <td>3</td>\n",
       "      <td>4</td>\n",
       "      <td>4</td>\n",
       "      <td>3</td>\n",
       "      <td>3</td>\n",
       "      <td>3</td>\n",
       "      <td>4</td>\n",
       "      <td>3</td>\n",
       "      <td>5</td>\n",
       "      <td>4</td>\n",
       "    </tr>\n",
       "    <tr>\n",
       "      <th>40</th>\n",
       "      <td>2020-01-13 11:43:57</td>\n",
       "      <td>2020-01-13 11:48:49</td>\n",
       "      <td>4</td>\n",
       "      <td>156.111.111.159</td>\n",
       "      <td>100</td>\n",
       "      <td>292</td>\n",
       "      <td>1</td>\n",
       "      <td>2021-06-25 09:27:57</td>\n",
       "      <td>R_73P4Xsp8XIBdafk</td>\n",
       "      <td>NaN</td>\n",
       "      <td>...</td>\n",
       "      <td>3</td>\n",
       "      <td>3</td>\n",
       "      <td>3</td>\n",
       "      <td>3</td>\n",
       "      <td>3</td>\n",
       "      <td>3</td>\n",
       "      <td>5</td>\n",
       "      <td>3</td>\n",
       "      <td>5</td>\n",
       "      <td>5</td>\n",
       "    </tr>\n",
       "    <tr>\n",
       "      <th>41</th>\n",
       "      <td>2020-02-27 13:51:35</td>\n",
       "      <td>2020-02-27 13:54:37</td>\n",
       "      <td>4</td>\n",
       "      <td>156.111.111.152</td>\n",
       "      <td>100</td>\n",
       "      <td>181</td>\n",
       "      <td>1</td>\n",
       "      <td>2021-06-25 09:27:57</td>\n",
       "      <td>R_bKNq4x0mg9Q9b02</td>\n",
       "      <td>NaN</td>\n",
       "      <td>...</td>\n",
       "      <td>5</td>\n",
       "      <td>4</td>\n",
       "      <td>2</td>\n",
       "      <td>4</td>\n",
       "      <td>5</td>\n",
       "      <td>4</td>\n",
       "      <td>4</td>\n",
       "      <td>5</td>\n",
       "      <td>5</td>\n",
       "      <td>4</td>\n",
       "    </tr>\n",
       "    <tr>\n",
       "      <th>42</th>\n",
       "      <td>2021-01-05 14:25:28</td>\n",
       "      <td>2021-01-05 14:44:03</td>\n",
       "      <td>4</td>\n",
       "      <td>156.111.26.191</td>\n",
       "      <td>100</td>\n",
       "      <td>1114</td>\n",
       "      <td>1</td>\n",
       "      <td>2021-06-25 09:27:57</td>\n",
       "      <td>R_880mdGJGHMLx7Gm</td>\n",
       "      <td>NaN</td>\n",
       "      <td>...</td>\n",
       "      <td>3</td>\n",
       "      <td>3</td>\n",
       "      <td>3</td>\n",
       "      <td>3</td>\n",
       "      <td>3</td>\n",
       "      <td>3</td>\n",
       "      <td>2</td>\n",
       "      <td>2</td>\n",
       "      <td>2</td>\n",
       "      <td>2</td>\n",
       "    </tr>\n",
       "    <tr>\n",
       "      <th>43</th>\n",
       "      <td>2020-02-14 10:18:26</td>\n",
       "      <td>2020-02-14 10:21:26</td>\n",
       "      <td>4</td>\n",
       "      <td>156.111.111.152</td>\n",
       "      <td>100</td>\n",
       "      <td>180</td>\n",
       "      <td>1</td>\n",
       "      <td>2021-06-25 09:27:57</td>\n",
       "      <td>R_aeHcc7qokq3SLBk</td>\n",
       "      <td>NaN</td>\n",
       "      <td>...</td>\n",
       "      <td>4</td>\n",
       "      <td>4</td>\n",
       "      <td>4</td>\n",
       "      <td>4</td>\n",
       "      <td>4</td>\n",
       "      <td>4</td>\n",
       "      <td>4</td>\n",
       "      <td>4</td>\n",
       "      <td>4</td>\n",
       "      <td>4</td>\n",
       "    </tr>\n",
       "    <tr>\n",
       "      <th>44</th>\n",
       "      <td>2019-09-19 00:37:29</td>\n",
       "      <td>2019-09-22 10:55:57</td>\n",
       "      <td>4</td>\n",
       "      <td>50.75.209.134</td>\n",
       "      <td>100</td>\n",
       "      <td>296307</td>\n",
       "      <td>1</td>\n",
       "      <td>2021-06-25 09:27:57</td>\n",
       "      <td>R_bqkDtNJMs5EneHY</td>\n",
       "      <td>NaN</td>\n",
       "      <td>...</td>\n",
       "      <td>4</td>\n",
       "      <td>3</td>\n",
       "      <td>4</td>\n",
       "      <td>4</td>\n",
       "      <td>4</td>\n",
       "      <td>4</td>\n",
       "      <td>2</td>\n",
       "      <td>4</td>\n",
       "      <td>3</td>\n",
       "      <td>2</td>\n",
       "    </tr>\n",
       "    <tr>\n",
       "      <th>45</th>\n",
       "      <td>2019-10-18 10:27:37</td>\n",
       "      <td>2019-10-18 10:31:49</td>\n",
       "      <td>4</td>\n",
       "      <td>156.111.111.159</td>\n",
       "      <td>100</td>\n",
       "      <td>251</td>\n",
       "      <td>1</td>\n",
       "      <td>2021-06-25 09:27:57</td>\n",
       "      <td>R_cASiVRQ33dRRLcq</td>\n",
       "      <td>NaN</td>\n",
       "      <td>...</td>\n",
       "      <td>4</td>\n",
       "      <td>3</td>\n",
       "      <td>4</td>\n",
       "      <td>4</td>\n",
       "      <td>4</td>\n",
       "      <td>4</td>\n",
       "      <td>2</td>\n",
       "      <td>4</td>\n",
       "      <td>3</td>\n",
       "      <td>2</td>\n",
       "    </tr>\n",
       "  </tbody>\n",
       "</table>\n",
       "<p>44 rows × 132 columns</p>\n",
       "</div>"
      ],
      "text/plain": [
       "              StartDate              EndDate Status        IPAddress Progress  \\\n",
       "2   2020-02-27 13:58:21  2020-02-27 14:01:34      4  156.111.111.152      100   \n",
       "3   2020-02-20 13:48:48  2020-02-20 13:51:55      4  156.111.111.152      100   \n",
       "4   2019-09-23 08:52:03  2019-09-23 08:58:01      4  156.111.111.161      100   \n",
       "5   2020-01-10 09:52:33  2020-01-10 09:58:36      4  156.111.111.152      100   \n",
       "6   2019-09-22 11:01:33  2019-09-22 11:06:48      4    50.75.209.134      100   \n",
       "7   2020-02-27 13:25:34  2020-02-27 13:28:33      4  156.111.111.152      100   \n",
       "8   2020-02-21 12:39:46  2020-02-21 12:44:17      4  156.111.111.218      100   \n",
       "9   2019-12-05 09:24:04  2019-12-05 09:29:34      4  156.111.111.152      100   \n",
       "10  2020-01-10 09:38:48  2020-01-10 09:41:58      4  156.111.111.152      100   \n",
       "11  2020-02-14 10:42:23  2020-02-14 10:45:58      4  156.111.111.152      100   \n",
       "12  2021-04-28 14:16:19  2021-04-28 14:29:32      4    174.228.6.210      100   \n",
       "13  2019-09-04 14:24:20  2019-09-04 14:30:25      4  156.111.111.160      100   \n",
       "14  2019-11-11 10:42:12  2019-11-11 10:46:27      4  156.111.111.152      100   \n",
       "15  2019-09-26 09:32:46  2019-09-26 09:42:19      4  156.111.111.152      100   \n",
       "16  2020-06-05 10:02:22  2020-06-05 10:24:51      4   67.254.250.126      100   \n",
       "17  2020-01-10 09:48:10  2020-01-10 09:52:11      4  156.111.111.152      100   \n",
       "18  2019-11-07 08:49:59  2019-11-07 08:55:07      4  156.111.111.152      100   \n",
       "19  2019-09-04 12:15:29  2019-09-04 12:54:25      4  156.111.111.160      100   \n",
       "20  2019-11-20 09:50:24  2019-11-20 09:55:29      4  156.111.111.159      100   \n",
       "21  2019-09-04 13:12:05  2019-09-04 13:36:47      4  156.111.111.160      100   \n",
       "22  2019-12-05 09:34:30  2019-12-05 09:38:13      4  156.111.111.152      100   \n",
       "23  2020-02-14 11:22:33  2020-02-14 11:25:21      4  156.111.111.152      100   \n",
       "24  2020-02-27 13:54:57  2020-02-27 13:57:56      4  156.111.111.152      100   \n",
       "25  2019-09-04 14:10:37  2019-09-04 14:19:06      4  156.111.111.160      100   \n",
       "26  2019-09-20 10:11:33  2019-09-20 10:17:36      4   143.104.238.38      100   \n",
       "27  2019-09-22 10:56:41  2019-09-22 11:01:00      4    50.75.209.134      100   \n",
       "28  2019-09-05 13:53:25  2019-09-05 13:58:54      4  156.111.111.160      100   \n",
       "29  2019-11-12 15:04:08  2019-11-12 15:08:16      4  156.111.111.159      100   \n",
       "30  2020-02-14 11:25:37  2020-02-14 11:29:11      4  156.111.111.152      100   \n",
       "31  2019-11-27 11:46:07  2019-11-27 11:50:13      4  156.111.111.159      100   \n",
       "32  2020-03-05 14:05:07  2020-03-05 14:08:25      4  156.111.111.152      100   \n",
       "33  2020-01-13 11:38:51  2020-01-13 11:43:25      4  156.111.111.159      100   \n",
       "34  2020-03-05 13:43:23  2020-03-05 13:45:42      4  156.111.111.152      100   \n",
       "35  2020-02-20 13:52:05  2020-02-20 13:55:21      4  156.111.111.152      100   \n",
       "36  2019-12-06 10:20:51  2019-12-06 10:24:20      4  156.111.111.159      100   \n",
       "37  2020-05-22 09:35:45  2020-05-22 09:56:02      4   67.254.250.126      100   \n",
       "38  2020-06-11 17:40:48  2020-06-11 17:41:04      4   67.254.250.126       95   \n",
       "39  2020-03-05 13:56:16  2020-03-05 13:59:42      4  156.111.111.152      100   \n",
       "40  2020-01-13 11:43:57  2020-01-13 11:48:49      4  156.111.111.159      100   \n",
       "41  2020-02-27 13:51:35  2020-02-27 13:54:37      4  156.111.111.152      100   \n",
       "42  2021-01-05 14:25:28  2021-01-05 14:44:03      4   156.111.26.191      100   \n",
       "43  2020-02-14 10:18:26  2020-02-14 10:21:26      4  156.111.111.152      100   \n",
       "44  2019-09-19 00:37:29  2019-09-22 10:55:57      4    50.75.209.134      100   \n",
       "45  2019-10-18 10:27:37  2019-10-18 10:31:49      4  156.111.111.159      100   \n",
       "\n",
       "   Duration (in seconds) Finished         RecordedDate         ResponseId  \\\n",
       "2                    193        1  2021-06-25 09:27:57  R_41scVuAkiRIC8TA   \n",
       "3                    187        1  2021-06-25 09:27:57  R_cNDfD6lq8KjIyXA   \n",
       "4                    358        1  2021-06-25 09:27:57  R_3KLlYpYH6KXFNvo   \n",
       "5                    362        1  2021-06-25 09:27:57  R_3O6I7B3e9DV72u2   \n",
       "6                    315        1  2021-06-25 09:27:57  R_8uoYsIflVdn6BBs   \n",
       "7                    179        1  2021-06-25 09:27:57  R_41nHwtkgGFwVBbM   \n",
       "8                    270        1  2021-06-25 09:27:57  R_5sswUwUXJyGTVnE   \n",
       "9                    329        1  2021-06-25 09:27:57  R_87lnvRwVy6qR5nE   \n",
       "10                   190        1  2021-06-25 09:27:57  R_bKtsjX6LJNSFpJ4   \n",
       "11                   215        1  2021-06-25 09:27:57  R_cVcE2hqOK8OKkey   \n",
       "12                   793        1  2021-06-25 09:27:57  R_eWAphf10PCOfDjE   \n",
       "13                   365        1  2021-06-25 09:27:57  R_5nV8xaFcuxr2FL0   \n",
       "14                   255        1  2021-06-25 09:27:57  R_6MeiL6tmCxdWS7s   \n",
       "15                   573        1  2021-06-25 09:27:57  R_86UnWilBN24eia2   \n",
       "16                  1348        1  2021-06-25 09:27:57  R_87hV6UVhJu8MFqm   \n",
       "17                   240        1  2021-06-25 09:27:57  R_efXnptUd8oHoJka   \n",
       "18                   308        1  2021-06-25 09:27:57  R_0ihKrPZXSckxPHo   \n",
       "19                  2336        1  2021-06-25 09:27:57  R_6Fsf00XSrYCFF8q   \n",
       "20                   304        1  2021-06-25 09:27:57  R_9LTAtDJciSgztVs   \n",
       "21                  1481        1  2021-06-25 09:27:57  R_9NxZMKyDcDSwr2u   \n",
       "22                   222        1  2021-06-25 09:27:57  R_6fj2XRAMDN2hpTo   \n",
       "23                   167        1  2021-06-25 09:27:57  R_80twLZCoQlmWTKm   \n",
       "24                   179        1  2021-06-25 09:27:57  R_8dgBjF7T5Lno2CW   \n",
       "25                   509        1  2021-06-25 09:27:57  R_e9ftR1MISoOsX9I   \n",
       "26                   363        1  2021-06-25 09:27:57  R_57kicBXyAP74yLI   \n",
       "27                   258        1  2021-06-25 09:27:57  R_5q0BfJGatdf4bH0   \n",
       "28                   328        1  2021-06-25 09:27:57  R_db4pVyQWIAtfsQC   \n",
       "29                   247        1  2021-06-25 09:27:57  R_4GtMp4EF5jpJyku   \n",
       "30                   214        1  2021-06-25 09:27:57  R_5Bc1b6uNvjOo8M6   \n",
       "31                   245        1  2021-06-25 09:27:57  R_6lBp7Ir35HR5mK2   \n",
       "32                   197        1  2021-06-25 09:27:57  R_bEejVaDW72id0Eu   \n",
       "33                   274        1  2021-06-25 09:27:57  R_8CdE681AVeu3nTg   \n",
       "34                   138        1  2021-06-25 09:27:57  R_50iA5wUPpJ0yEyq   \n",
       "35                   195        1  2021-06-25 09:27:57  R_3DvDehJ2bloVTGC   \n",
       "36                   209        1  2021-06-25 09:27:57  R_bOwzz34HPjMA9lc   \n",
       "37                  1217        1  2021-06-25 09:27:57  R_bpl1xFGWRJOXgwu   \n",
       "38                    15        0  2021-06-25 09:27:57  R_5BV5XcSayLnKYHc   \n",
       "39                   206        1  2021-06-25 09:27:57  R_5pyd9KJ8bkmY9BI   \n",
       "40                   292        1  2021-06-25 09:27:57  R_73P4Xsp8XIBdafk   \n",
       "41                   181        1  2021-06-25 09:27:57  R_bKNq4x0mg9Q9b02   \n",
       "42                  1114        1  2021-06-25 09:27:57  R_880mdGJGHMLx7Gm   \n",
       "43                   180        1  2021-06-25 09:27:57  R_aeHcc7qokq3SLBk   \n",
       "44                296307        1  2021-06-25 09:27:57  R_bqkDtNJMs5EneHY   \n",
       "45                   251        1  2021-06-25 09:27:57  R_cASiVRQ33dRRLcq   \n",
       "\n",
       "   RecipientLastName  ... Q17_4 Q17_5 Q17_6 Q17_7 Q17_8 Q17_9 Q17_10 Q17_11  \\\n",
       "2                NaN  ...     3     2     3     5     4     3      2      3   \n",
       "3                NaN  ...     4     4     4     4     4     4      4      4   \n",
       "4                NaN  ...   NaN   NaN   NaN   NaN   NaN   NaN    NaN    NaN   \n",
       "5                NaN  ...     4     3     4     4     4     3      4      3   \n",
       "6                NaN  ...     4     3     3     4     3     3      3      3   \n",
       "7                NaN  ...     3     2     3     3     3     3      3      3   \n",
       "8                NaN  ...     4     4     4     4     4     4      4      4   \n",
       "9                NaN  ...     5     4     4     5     3     3      2      3   \n",
       "10               NaN  ...     4     4     4     4     4     4      2      2   \n",
       "11               NaN  ...     3     3     3     3     3     3      3      3   \n",
       "12               NaN  ...     3     3     3     3     3     3      3      3   \n",
       "13               NaN  ...     4     4     4     4     4     4      4      4   \n",
       "14               NaN  ...     3     3     3     3     3     3      2      3   \n",
       "15               NaN  ...     4     2     4     4     4     3      4      4   \n",
       "16               NaN  ...     3     3     3     3     3     3      3      3   \n",
       "17               NaN  ...     2     2     1     3   NaN     2      4      2   \n",
       "18               NaN  ...     3     3     3     4     3     4      4      4   \n",
       "19               NaN  ...     3     4     4     2     4     2      4      4   \n",
       "20               NaN  ...     4     4     4     4     4     4      2      3   \n",
       "21               NaN  ...     5     5     2     5     5     5      4      4   \n",
       "22               NaN  ...     3     3     3     3     3     3      3      3   \n",
       "23               NaN  ...     4     4     4     4     4     4      4      4   \n",
       "24               NaN  ...     4     4     4     4     4     4    NaN      4   \n",
       "25               NaN  ...     3     3     3     3     3     3      3      3   \n",
       "26               NaN  ...     3     3     3     4     3     3      3      5   \n",
       "27               NaN  ...     5     3     3     4     5     5      4      3   \n",
       "28               NaN  ...     4     4     4     4     4     4      4      4   \n",
       "29               NaN  ...     2     2     3     3     3     2      4      3   \n",
       "30               NaN  ...     4     4     5     3     3     4      4      4   \n",
       "31               NaN  ...     3     2     3     3     3     3      3      3   \n",
       "32               NaN  ...     5     1     3     3     4     4      4      4   \n",
       "33               NaN  ...     3     3     4     4     4     3      4      4   \n",
       "34               NaN  ...     4     4     4     4     4     1      4      4   \n",
       "35               NaN  ...     3     4     4     4   NaN     5      4      3   \n",
       "36               NaN  ...     3     3     3     4     3     3      3      3   \n",
       "37               NaN  ...     3     3     3     3     3     3      3      3   \n",
       "38               NaN  ...   NaN   NaN   NaN   NaN   NaN   NaN    NaN    NaN   \n",
       "39               NaN  ...     3     4     4     3     3     3      4      3   \n",
       "40               NaN  ...     3     3     3     3     3     3      5      3   \n",
       "41               NaN  ...     5     4     2     4     5     4      4      5   \n",
       "42               NaN  ...     3     3     3     3     3     3      2      2   \n",
       "43               NaN  ...     4     4     4     4     4     4      4      4   \n",
       "44               NaN  ...     4     3     4     4     4     4      2      4   \n",
       "45               NaN  ...     4     3     4     4     4     4      2      4   \n",
       "\n",
       "   Q17_12 Q17_13  \n",
       "2       3      4  \n",
       "3       4      4  \n",
       "4     NaN    NaN  \n",
       "5       1      4  \n",
       "6       3      3  \n",
       "7       3      3  \n",
       "8       4      4  \n",
       "9       3      2  \n",
       "10      3      2  \n",
       "11      3      3  \n",
       "12      3      2  \n",
       "13      4      4  \n",
       "14      3      2  \n",
       "15      4      4  \n",
       "16      3      4  \n",
       "17      2      3  \n",
       "18      4      4  \n",
       "19      4      4  \n",
       "20      3      2  \n",
       "21      4      3  \n",
       "22      3      3  \n",
       "23      3      3  \n",
       "24      4      4  \n",
       "25      3      3  \n",
       "26      4      3  \n",
       "27      4      4  \n",
       "28      4      4  \n",
       "29      3      3  \n",
       "30      3      2  \n",
       "31      3      3  \n",
       "32      3      4  \n",
       "33      4      4  \n",
       "34      1      4  \n",
       "35      4      3  \n",
       "36      3      3  \n",
       "37      3      3  \n",
       "38    NaN    NaN  \n",
       "39      5      4  \n",
       "40      5      5  \n",
       "41      5      4  \n",
       "42      2      2  \n",
       "43      4      4  \n",
       "44      3      2  \n",
       "45      3      2  \n",
       "\n",
       "[44 rows x 132 columns]"
      ]
     },
     "execution_count": 43,
     "metadata": {},
     "output_type": "execute_result"
    }
   ],
   "source": [
    "# Drop rows 0 & 1\n",
    "df = df.drop([0,1])\n",
    "df"
   ]
  },
  {
   "cell_type": "code",
   "execution_count": 44,
   "id": "59c4e906-24d7-4c06-abc5-e7bacb5a3496",
   "metadata": {},
   "outputs": [
    {
     "data": {
      "text/html": [
       "<div>\n",
       "<style scoped>\n",
       "    .dataframe tbody tr th:only-of-type {\n",
       "        vertical-align: middle;\n",
       "    }\n",
       "\n",
       "    .dataframe tbody tr th {\n",
       "        vertical-align: top;\n",
       "    }\n",
       "\n",
       "    .dataframe thead th {\n",
       "        text-align: right;\n",
       "    }\n",
       "</style>\n",
       "<table border=\"1\" class=\"dataframe\">\n",
       "  <thead>\n",
       "    <tr style=\"text-align: right;\">\n",
       "      <th></th>\n",
       "      <th>StartDate</th>\n",
       "      <th>EndDate</th>\n",
       "      <th>Status</th>\n",
       "      <th>IPAddress</th>\n",
       "      <th>Progress</th>\n",
       "      <th>Duration (in seconds)</th>\n",
       "      <th>Finished</th>\n",
       "      <th>RecordedDate</th>\n",
       "      <th>ResponseId</th>\n",
       "      <th>RecipientLastName</th>\n",
       "      <th>...</th>\n",
       "      <th>Q17_4</th>\n",
       "      <th>Q17_5</th>\n",
       "      <th>Q17_6</th>\n",
       "      <th>Q17_7</th>\n",
       "      <th>Q17_8</th>\n",
       "      <th>Q17_9</th>\n",
       "      <th>Q17_10</th>\n",
       "      <th>Q17_11</th>\n",
       "      <th>Q17_12</th>\n",
       "      <th>Q17_13</th>\n",
       "    </tr>\n",
       "  </thead>\n",
       "  <tbody>\n",
       "    <tr>\n",
       "      <th>0</th>\n",
       "      <td>0</td>\n",
       "      <td>0</td>\n",
       "      <td>0</td>\n",
       "      <td>0</td>\n",
       "      <td>0</td>\n",
       "      <td>0</td>\n",
       "      <td>0</td>\n",
       "      <td>0</td>\n",
       "      <td>0</td>\n",
       "      <td>0</td>\n",
       "      <td>...</td>\n",
       "      <td>0</td>\n",
       "      <td>0</td>\n",
       "      <td>0</td>\n",
       "      <td>0</td>\n",
       "      <td>0</td>\n",
       "      <td>0</td>\n",
       "      <td>0</td>\n",
       "      <td>0</td>\n",
       "      <td>0</td>\n",
       "      <td>0</td>\n",
       "    </tr>\n",
       "  </tbody>\n",
       "</table>\n",
       "<p>1 rows × 132 columns</p>\n",
       "</div>"
      ],
      "text/plain": [
       "   StartDate  EndDate  Status  IPAddress  Progress  Duration (in seconds)  \\\n",
       "0          0        0       0          0         0                      0   \n",
       "\n",
       "   Finished  RecordedDate  ResponseId  RecipientLastName  ...  Q17_4  Q17_5  \\\n",
       "0         0             0           0                  0  ...      0      0   \n",
       "\n",
       "   Q17_6  Q17_7  Q17_8  Q17_9  Q17_10  Q17_11  Q17_12  Q17_13  \n",
       "0      0      0      0      0       0       0       0       0  \n",
       "\n",
       "[1 rows x 132 columns]"
      ]
     },
     "execution_count": 44,
     "metadata": {},
     "output_type": "execute_result"
    },
    {
     "data": {
      "text/html": [
       "<div>\n",
       "<style scoped>\n",
       "    .dataframe tbody tr th:only-of-type {\n",
       "        vertical-align: middle;\n",
       "    }\n",
       "\n",
       "    .dataframe tbody tr th {\n",
       "        vertical-align: top;\n",
       "    }\n",
       "\n",
       "    .dataframe thead th {\n",
       "        text-align: right;\n",
       "    }\n",
       "</style>\n",
       "<table border=\"1\" class=\"dataframe\">\n",
       "  <thead>\n",
       "    <tr style=\"text-align: right;\">\n",
       "      <th></th>\n",
       "      <th>0</th>\n",
       "      <th>1</th>\n",
       "      <th>2</th>\n",
       "      <th>3</th>\n",
       "      <th>4</th>\n",
       "      <th>5</th>\n",
       "      <th>6</th>\n",
       "      <th>7</th>\n",
       "      <th>8</th>\n",
       "      <th>9</th>\n",
       "      <th>...</th>\n",
       "      <th>34</th>\n",
       "      <th>35</th>\n",
       "      <th>36</th>\n",
       "      <th>37</th>\n",
       "      <th>38</th>\n",
       "      <th>39</th>\n",
       "      <th>40</th>\n",
       "      <th>41</th>\n",
       "      <th>42</th>\n",
       "      <th>43</th>\n",
       "    </tr>\n",
       "  </thead>\n",
       "  <tbody>\n",
       "    <tr>\n",
       "      <th>StartDate</th>\n",
       "      <td>2020-02-27 13:58:21</td>\n",
       "      <td>2020-02-20 13:48:48</td>\n",
       "      <td>2019-09-23 08:52:03</td>\n",
       "      <td>2020-01-10 09:52:33</td>\n",
       "      <td>2019-09-22 11:01:33</td>\n",
       "      <td>2020-02-27 13:25:34</td>\n",
       "      <td>2020-02-21 12:39:46</td>\n",
       "      <td>2019-12-05 09:24:04</td>\n",
       "      <td>2020-01-10 09:38:48</td>\n",
       "      <td>2020-02-14 10:42:23</td>\n",
       "      <td>...</td>\n",
       "      <td>2019-12-06 10:20:51</td>\n",
       "      <td>2020-05-22 09:35:45</td>\n",
       "      <td>2020-06-11 17:40:48</td>\n",
       "      <td>2020-03-05 13:56:16</td>\n",
       "      <td>2020-01-13 11:43:57</td>\n",
       "      <td>2020-02-27 13:51:35</td>\n",
       "      <td>2021-01-05 14:25:28</td>\n",
       "      <td>2020-02-14 10:18:26</td>\n",
       "      <td>2019-09-19 00:37:29</td>\n",
       "      <td>2019-10-18 10:27:37</td>\n",
       "    </tr>\n",
       "    <tr>\n",
       "      <th>EndDate</th>\n",
       "      <td>2020-02-27 14:01:34</td>\n",
       "      <td>2020-02-20 13:51:55</td>\n",
       "      <td>2019-09-23 08:58:01</td>\n",
       "      <td>2020-01-10 09:58:36</td>\n",
       "      <td>2019-09-22 11:06:48</td>\n",
       "      <td>2020-02-27 13:28:33</td>\n",
       "      <td>2020-02-21 12:44:17</td>\n",
       "      <td>2019-12-05 09:29:34</td>\n",
       "      <td>2020-01-10 09:41:58</td>\n",
       "      <td>2020-02-14 10:45:58</td>\n",
       "      <td>...</td>\n",
       "      <td>2019-12-06 10:24:20</td>\n",
       "      <td>2020-05-22 09:56:02</td>\n",
       "      <td>2020-06-11 17:41:04</td>\n",
       "      <td>2020-03-05 13:59:42</td>\n",
       "      <td>2020-01-13 11:48:49</td>\n",
       "      <td>2020-02-27 13:54:37</td>\n",
       "      <td>2021-01-05 14:44:03</td>\n",
       "      <td>2020-02-14 10:21:26</td>\n",
       "      <td>2019-09-22 10:55:57</td>\n",
       "      <td>2019-10-18 10:31:49</td>\n",
       "    </tr>\n",
       "    <tr>\n",
       "      <th>Status</th>\n",
       "      <td>4</td>\n",
       "      <td>4</td>\n",
       "      <td>4</td>\n",
       "      <td>4</td>\n",
       "      <td>4</td>\n",
       "      <td>4</td>\n",
       "      <td>4</td>\n",
       "      <td>4</td>\n",
       "      <td>4</td>\n",
       "      <td>4</td>\n",
       "      <td>...</td>\n",
       "      <td>4</td>\n",
       "      <td>4</td>\n",
       "      <td>4</td>\n",
       "      <td>4</td>\n",
       "      <td>4</td>\n",
       "      <td>4</td>\n",
       "      <td>4</td>\n",
       "      <td>4</td>\n",
       "      <td>4</td>\n",
       "      <td>4</td>\n",
       "    </tr>\n",
       "    <tr>\n",
       "      <th>IPAddress</th>\n",
       "      <td>156.111.111.152</td>\n",
       "      <td>156.111.111.152</td>\n",
       "      <td>156.111.111.161</td>\n",
       "      <td>156.111.111.152</td>\n",
       "      <td>50.75.209.134</td>\n",
       "      <td>156.111.111.152</td>\n",
       "      <td>156.111.111.218</td>\n",
       "      <td>156.111.111.152</td>\n",
       "      <td>156.111.111.152</td>\n",
       "      <td>156.111.111.152</td>\n",
       "      <td>...</td>\n",
       "      <td>156.111.111.159</td>\n",
       "      <td>67.254.250.126</td>\n",
       "      <td>67.254.250.126</td>\n",
       "      <td>156.111.111.152</td>\n",
       "      <td>156.111.111.159</td>\n",
       "      <td>156.111.111.152</td>\n",
       "      <td>156.111.26.191</td>\n",
       "      <td>156.111.111.152</td>\n",
       "      <td>50.75.209.134</td>\n",
       "      <td>156.111.111.159</td>\n",
       "    </tr>\n",
       "    <tr>\n",
       "      <th>Progress</th>\n",
       "      <td>100</td>\n",
       "      <td>100</td>\n",
       "      <td>100</td>\n",
       "      <td>100</td>\n",
       "      <td>100</td>\n",
       "      <td>100</td>\n",
       "      <td>100</td>\n",
       "      <td>100</td>\n",
       "      <td>100</td>\n",
       "      <td>100</td>\n",
       "      <td>...</td>\n",
       "      <td>100</td>\n",
       "      <td>100</td>\n",
       "      <td>95</td>\n",
       "      <td>100</td>\n",
       "      <td>100</td>\n",
       "      <td>100</td>\n",
       "      <td>100</td>\n",
       "      <td>100</td>\n",
       "      <td>100</td>\n",
       "      <td>100</td>\n",
       "    </tr>\n",
       "    <tr>\n",
       "      <th>...</th>\n",
       "      <td>...</td>\n",
       "      <td>...</td>\n",
       "      <td>...</td>\n",
       "      <td>...</td>\n",
       "      <td>...</td>\n",
       "      <td>...</td>\n",
       "      <td>...</td>\n",
       "      <td>...</td>\n",
       "      <td>...</td>\n",
       "      <td>...</td>\n",
       "      <td>...</td>\n",
       "      <td>...</td>\n",
       "      <td>...</td>\n",
       "      <td>...</td>\n",
       "      <td>...</td>\n",
       "      <td>...</td>\n",
       "      <td>...</td>\n",
       "      <td>...</td>\n",
       "      <td>...</td>\n",
       "      <td>...</td>\n",
       "      <td>...</td>\n",
       "    </tr>\n",
       "    <tr>\n",
       "      <th>Q17_9</th>\n",
       "      <td>3</td>\n",
       "      <td>4</td>\n",
       "      <td>NaN</td>\n",
       "      <td>3</td>\n",
       "      <td>3</td>\n",
       "      <td>3</td>\n",
       "      <td>4</td>\n",
       "      <td>3</td>\n",
       "      <td>4</td>\n",
       "      <td>3</td>\n",
       "      <td>...</td>\n",
       "      <td>3</td>\n",
       "      <td>3</td>\n",
       "      <td>NaN</td>\n",
       "      <td>3</td>\n",
       "      <td>3</td>\n",
       "      <td>4</td>\n",
       "      <td>3</td>\n",
       "      <td>4</td>\n",
       "      <td>4</td>\n",
       "      <td>4</td>\n",
       "    </tr>\n",
       "    <tr>\n",
       "      <th>Q17_10</th>\n",
       "      <td>2</td>\n",
       "      <td>4</td>\n",
       "      <td>NaN</td>\n",
       "      <td>4</td>\n",
       "      <td>3</td>\n",
       "      <td>3</td>\n",
       "      <td>4</td>\n",
       "      <td>2</td>\n",
       "      <td>2</td>\n",
       "      <td>3</td>\n",
       "      <td>...</td>\n",
       "      <td>3</td>\n",
       "      <td>3</td>\n",
       "      <td>NaN</td>\n",
       "      <td>4</td>\n",
       "      <td>5</td>\n",
       "      <td>4</td>\n",
       "      <td>2</td>\n",
       "      <td>4</td>\n",
       "      <td>2</td>\n",
       "      <td>2</td>\n",
       "    </tr>\n",
       "    <tr>\n",
       "      <th>Q17_11</th>\n",
       "      <td>3</td>\n",
       "      <td>4</td>\n",
       "      <td>NaN</td>\n",
       "      <td>3</td>\n",
       "      <td>3</td>\n",
       "      <td>3</td>\n",
       "      <td>4</td>\n",
       "      <td>3</td>\n",
       "      <td>2</td>\n",
       "      <td>3</td>\n",
       "      <td>...</td>\n",
       "      <td>3</td>\n",
       "      <td>3</td>\n",
       "      <td>NaN</td>\n",
       "      <td>3</td>\n",
       "      <td>3</td>\n",
       "      <td>5</td>\n",
       "      <td>2</td>\n",
       "      <td>4</td>\n",
       "      <td>4</td>\n",
       "      <td>4</td>\n",
       "    </tr>\n",
       "    <tr>\n",
       "      <th>Q17_12</th>\n",
       "      <td>3</td>\n",
       "      <td>4</td>\n",
       "      <td>NaN</td>\n",
       "      <td>1</td>\n",
       "      <td>3</td>\n",
       "      <td>3</td>\n",
       "      <td>4</td>\n",
       "      <td>3</td>\n",
       "      <td>3</td>\n",
       "      <td>3</td>\n",
       "      <td>...</td>\n",
       "      <td>3</td>\n",
       "      <td>3</td>\n",
       "      <td>NaN</td>\n",
       "      <td>5</td>\n",
       "      <td>5</td>\n",
       "      <td>5</td>\n",
       "      <td>2</td>\n",
       "      <td>4</td>\n",
       "      <td>3</td>\n",
       "      <td>3</td>\n",
       "    </tr>\n",
       "    <tr>\n",
       "      <th>Q17_13</th>\n",
       "      <td>4</td>\n",
       "      <td>4</td>\n",
       "      <td>NaN</td>\n",
       "      <td>4</td>\n",
       "      <td>3</td>\n",
       "      <td>3</td>\n",
       "      <td>4</td>\n",
       "      <td>2</td>\n",
       "      <td>2</td>\n",
       "      <td>3</td>\n",
       "      <td>...</td>\n",
       "      <td>3</td>\n",
       "      <td>3</td>\n",
       "      <td>NaN</td>\n",
       "      <td>4</td>\n",
       "      <td>5</td>\n",
       "      <td>4</td>\n",
       "      <td>2</td>\n",
       "      <td>4</td>\n",
       "      <td>2</td>\n",
       "      <td>2</td>\n",
       "    </tr>\n",
       "  </tbody>\n",
       "</table>\n",
       "<p>132 rows × 44 columns</p>\n",
       "</div>"
      ],
      "text/plain": [
       "                            0                    1                    2   \\\n",
       "StartDate  2020-02-27 13:58:21  2020-02-20 13:48:48  2019-09-23 08:52:03   \n",
       "EndDate    2020-02-27 14:01:34  2020-02-20 13:51:55  2019-09-23 08:58:01   \n",
       "Status                       4                    4                    4   \n",
       "IPAddress      156.111.111.152      156.111.111.152      156.111.111.161   \n",
       "Progress                   100                  100                  100   \n",
       "...                        ...                  ...                  ...   \n",
       "Q17_9                        3                    4                  NaN   \n",
       "Q17_10                       2                    4                  NaN   \n",
       "Q17_11                       3                    4                  NaN   \n",
       "Q17_12                       3                    4                  NaN   \n",
       "Q17_13                       4                    4                  NaN   \n",
       "\n",
       "                            3                    4                    5   \\\n",
       "StartDate  2020-01-10 09:52:33  2019-09-22 11:01:33  2020-02-27 13:25:34   \n",
       "EndDate    2020-01-10 09:58:36  2019-09-22 11:06:48  2020-02-27 13:28:33   \n",
       "Status                       4                    4                    4   \n",
       "IPAddress      156.111.111.152        50.75.209.134      156.111.111.152   \n",
       "Progress                   100                  100                  100   \n",
       "...                        ...                  ...                  ...   \n",
       "Q17_9                        3                    3                    3   \n",
       "Q17_10                       4                    3                    3   \n",
       "Q17_11                       3                    3                    3   \n",
       "Q17_12                       1                    3                    3   \n",
       "Q17_13                       4                    3                    3   \n",
       "\n",
       "                            6                    7                    8   \\\n",
       "StartDate  2020-02-21 12:39:46  2019-12-05 09:24:04  2020-01-10 09:38:48   \n",
       "EndDate    2020-02-21 12:44:17  2019-12-05 09:29:34  2020-01-10 09:41:58   \n",
       "Status                       4                    4                    4   \n",
       "IPAddress      156.111.111.218      156.111.111.152      156.111.111.152   \n",
       "Progress                   100                  100                  100   \n",
       "...                        ...                  ...                  ...   \n",
       "Q17_9                        4                    3                    4   \n",
       "Q17_10                       4                    2                    2   \n",
       "Q17_11                       4                    3                    2   \n",
       "Q17_12                       4                    3                    3   \n",
       "Q17_13                       4                    2                    2   \n",
       "\n",
       "                            9   ...                   34                   35  \\\n",
       "StartDate  2020-02-14 10:42:23  ...  2019-12-06 10:20:51  2020-05-22 09:35:45   \n",
       "EndDate    2020-02-14 10:45:58  ...  2019-12-06 10:24:20  2020-05-22 09:56:02   \n",
       "Status                       4  ...                    4                    4   \n",
       "IPAddress      156.111.111.152  ...      156.111.111.159       67.254.250.126   \n",
       "Progress                   100  ...                  100                  100   \n",
       "...                        ...  ...                  ...                  ...   \n",
       "Q17_9                        3  ...                    3                    3   \n",
       "Q17_10                       3  ...                    3                    3   \n",
       "Q17_11                       3  ...                    3                    3   \n",
       "Q17_12                       3  ...                    3                    3   \n",
       "Q17_13                       3  ...                    3                    3   \n",
       "\n",
       "                            36                   37                   38  \\\n",
       "StartDate  2020-06-11 17:40:48  2020-03-05 13:56:16  2020-01-13 11:43:57   \n",
       "EndDate    2020-06-11 17:41:04  2020-03-05 13:59:42  2020-01-13 11:48:49   \n",
       "Status                       4                    4                    4   \n",
       "IPAddress       67.254.250.126      156.111.111.152      156.111.111.159   \n",
       "Progress                    95                  100                  100   \n",
       "...                        ...                  ...                  ...   \n",
       "Q17_9                      NaN                    3                    3   \n",
       "Q17_10                     NaN                    4                    5   \n",
       "Q17_11                     NaN                    3                    3   \n",
       "Q17_12                     NaN                    5                    5   \n",
       "Q17_13                     NaN                    4                    5   \n",
       "\n",
       "                            39                   40                   41  \\\n",
       "StartDate  2020-02-27 13:51:35  2021-01-05 14:25:28  2020-02-14 10:18:26   \n",
       "EndDate    2020-02-27 13:54:37  2021-01-05 14:44:03  2020-02-14 10:21:26   \n",
       "Status                       4                    4                    4   \n",
       "IPAddress      156.111.111.152       156.111.26.191      156.111.111.152   \n",
       "Progress                   100                  100                  100   \n",
       "...                        ...                  ...                  ...   \n",
       "Q17_9                        4                    3                    4   \n",
       "Q17_10                       4                    2                    4   \n",
       "Q17_11                       5                    2                    4   \n",
       "Q17_12                       5                    2                    4   \n",
       "Q17_13                       4                    2                    4   \n",
       "\n",
       "                            42                   43  \n",
       "StartDate  2019-09-19 00:37:29  2019-10-18 10:27:37  \n",
       "EndDate    2019-09-22 10:55:57  2019-10-18 10:31:49  \n",
       "Status                       4                    4  \n",
       "IPAddress        50.75.209.134      156.111.111.159  \n",
       "Progress                   100                  100  \n",
       "...                        ...                  ...  \n",
       "Q17_9                        4                    4  \n",
       "Q17_10                       2                    2  \n",
       "Q17_11                       4                    4  \n",
       "Q17_12                       3                    3  \n",
       "Q17_13                       2                    2  \n",
       "\n",
       "[132 rows x 44 columns]"
      ]
     },
     "execution_count": 44,
     "metadata": {},
     "output_type": "execute_result"
    }
   ],
   "source": [
    "# Add new indices to dataframe\n",
    "\n",
    "df_idx = pd.read_csv('1M_Depression_Col_Append.csv')\n",
    "df_idx\n",
    "\n",
    "df = pd.concat([df,df_idx],ignore_index=True)\n",
    "\n",
    "df.drop(44,inplace=True)\n",
    "df.T"
   ]
  },
  {
   "cell_type": "code",
   "execution_count": 45,
   "id": "388a3b43-3284-495b-9dff-36dfb1c881e3",
   "metadata": {},
   "outputs": [
    {
     "data": {
      "text/plain": [
       "(44, 117)"
      ]
     },
     "execution_count": 45,
     "metadata": {},
     "output_type": "execute_result"
    }
   ],
   "source": [
    "# Drop Qualtrics columns that don't provide pertinent info\n",
    "drop_cols = ['StartDate', 'EndDate', 'Status', 'IPAddress', 'Progress',\n",
    "             'Finished', 'RecordedDate', 'ResponseId',\n",
    "       'RecipientLastName', 'RecipientFirstName', 'RecipientEmail',\n",
    "       'ExternalReference', 'LocationLatitude', 'LocationLongitude','DistributionChannel']\n",
    "df = df.drop(columns=drop_cols)\n",
    "df.shape"
   ]
  },
  {
   "cell_type": "code",
   "execution_count": 46,
   "id": "edaf1cf4-f1f4-42b3-ad20-e828c3bf3d88",
   "metadata": {},
   "outputs": [
    {
     "data": {
      "text/html": [
       "<div>\n",
       "<style scoped>\n",
       "    .dataframe tbody tr th:only-of-type {\n",
       "        vertical-align: middle;\n",
       "    }\n",
       "\n",
       "    .dataframe tbody tr th {\n",
       "        vertical-align: top;\n",
       "    }\n",
       "\n",
       "    .dataframe thead th {\n",
       "        text-align: right;\n",
       "    }\n",
       "</style>\n",
       "<table border=\"1\" class=\"dataframe\">\n",
       "  <thead>\n",
       "    <tr style=\"text-align: right;\">\n",
       "      <th></th>\n",
       "      <th>39</th>\n",
       "      <th>40</th>\n",
       "      <th>41</th>\n",
       "      <th>42</th>\n",
       "      <th>43</th>\n",
       "    </tr>\n",
       "  </thead>\n",
       "  <tbody>\n",
       "    <tr>\n",
       "      <th>ParticipantID</th>\n",
       "      <td>8701</td>\n",
       "      <td>7751</td>\n",
       "      <td>9178</td>\n",
       "      <td>3094</td>\n",
       "      <td>3094</td>\n",
       "    </tr>\n",
       "    <tr>\n",
       "      <th>SurveyDate</th>\n",
       "      <td>02/26/2020</td>\n",
       "      <td>01/05/2021</td>\n",
       "      <td>02/14/2020</td>\n",
       "      <td>09/15/2019</td>\n",
       "      <td>09/15/2019</td>\n",
       "    </tr>\n",
       "    <tr>\n",
       "      <th>UserLanguage</th>\n",
       "      <td>ES</td>\n",
       "      <td>EN</td>\n",
       "      <td>ES</td>\n",
       "      <td>EN</td>\n",
       "      <td>EN</td>\n",
       "    </tr>\n",
       "    <tr>\n",
       "      <th>Duration (in seconds)</th>\n",
       "      <td>181</td>\n",
       "      <td>1114</td>\n",
       "      <td>180</td>\n",
       "      <td>296307</td>\n",
       "      <td>251</td>\n",
       "    </tr>\n",
       "    <tr>\n",
       "      <th>Q3_1</th>\n",
       "      <td>2</td>\n",
       "      <td>2</td>\n",
       "      <td>2</td>\n",
       "      <td>2</td>\n",
       "      <td>2</td>\n",
       "    </tr>\n",
       "    <tr>\n",
       "      <th>...</th>\n",
       "      <td>...</td>\n",
       "      <td>...</td>\n",
       "      <td>...</td>\n",
       "      <td>...</td>\n",
       "      <td>...</td>\n",
       "    </tr>\n",
       "    <tr>\n",
       "      <th>Q17_9</th>\n",
       "      <td>4</td>\n",
       "      <td>3</td>\n",
       "      <td>4</td>\n",
       "      <td>4</td>\n",
       "      <td>4</td>\n",
       "    </tr>\n",
       "    <tr>\n",
       "      <th>Q17_10</th>\n",
       "      <td>4</td>\n",
       "      <td>2</td>\n",
       "      <td>4</td>\n",
       "      <td>2</td>\n",
       "      <td>2</td>\n",
       "    </tr>\n",
       "    <tr>\n",
       "      <th>Q17_11</th>\n",
       "      <td>5</td>\n",
       "      <td>2</td>\n",
       "      <td>4</td>\n",
       "      <td>4</td>\n",
       "      <td>4</td>\n",
       "    </tr>\n",
       "    <tr>\n",
       "      <th>Q17_12</th>\n",
       "      <td>5</td>\n",
       "      <td>2</td>\n",
       "      <td>4</td>\n",
       "      <td>3</td>\n",
       "      <td>3</td>\n",
       "    </tr>\n",
       "    <tr>\n",
       "      <th>Q17_13</th>\n",
       "      <td>4</td>\n",
       "      <td>2</td>\n",
       "      <td>4</td>\n",
       "      <td>2</td>\n",
       "      <td>2</td>\n",
       "    </tr>\n",
       "  </tbody>\n",
       "</table>\n",
       "<p>117 rows × 5 columns</p>\n",
       "</div>"
      ],
      "text/plain": [
       "                               39          40          41          42  \\\n",
       "ParticipantID                8701        7751        9178        3094   \n",
       "SurveyDate             02/26/2020  01/05/2021  02/14/2020  09/15/2019   \n",
       "UserLanguage                   ES          EN          ES          EN   \n",
       "Duration (in seconds)         181        1114         180      296307   \n",
       "Q3_1                            2           2           2           2   \n",
       "...                           ...         ...         ...         ...   \n",
       "Q17_9                           4           3           4           4   \n",
       "Q17_10                          4           2           4           2   \n",
       "Q17_11                          5           2           4           4   \n",
       "Q17_12                          5           2           4           3   \n",
       "Q17_13                          4           2           4           2   \n",
       "\n",
       "                               43  \n",
       "ParticipantID                3094  \n",
       "SurveyDate             09/15/2019  \n",
       "UserLanguage                   EN  \n",
       "Duration (in seconds)         251  \n",
       "Q3_1                            2  \n",
       "...                           ...  \n",
       "Q17_9                           4  \n",
       "Q17_10                          2  \n",
       "Q17_11                          4  \n",
       "Q17_12                          3  \n",
       "Q17_13                          2  \n",
       "\n",
       "[117 rows x 5 columns]"
      ]
     },
     "execution_count": 46,
     "metadata": {},
     "output_type": "execute_result"
    }
   ],
   "source": [
    "# Change column order of dataset for better storytelling\n",
    "ID = df['Q1']\n",
    "df.drop(labels=['Q1'],axis=1,inplace=True)\n",
    "df.insert(0,'ParticipantID',ID)\n",
    "\n",
    "Date = df['Q2']\n",
    "df.drop(labels=['Q2'],axis=1,inplace=True)\n",
    "df.insert(1,'SurveyDate',Date)\n",
    "\n",
    "Language = df['UserLanguage']\n",
    "df.drop(labels=['UserLanguage'],axis=1,inplace=True)\n",
    "df.insert(2,'UserLanguage',Language)\n",
    "\n",
    "Seconds = df['Duration (in seconds)']\n",
    "df.drop(labels=['Duration (in seconds)'],axis=1,inplace=True)\n",
    "df.insert(3,'Duration (in seconds)',Seconds)\n",
    "\n",
    "# preview the dataset to check re-formatting\n",
    "df.tail().T"
   ]
  },
  {
   "cell_type": "code",
   "execution_count": 47,
   "id": "a78eccae-fffa-431e-bd4f-7333fd786bff",
   "metadata": {},
   "outputs": [
    {
     "data": {
      "text/plain": [
       "42"
      ]
     },
     "execution_count": 47,
     "metadata": {},
     "output_type": "execute_result"
    },
    {
     "data": {
      "text/plain": [
       "False    44\n",
       "dtype: int64"
      ]
     },
     "execution_count": 47,
     "metadata": {},
     "output_type": "execute_result"
    }
   ],
   "source": [
    "# Begin cleaning.\n",
    "# Check if there are duplicates in the Participant IDs or flag identical rows\n",
    "df['ParticipantID'].nunique() #HOGAN\n",
    "df.duplicated().value_counts()"
   ]
  },
  {
   "cell_type": "code",
   "execution_count": 48,
   "id": "ae5b7ec8-48c6-4934-ac38-1bc8e6d3c30f",
   "metadata": {},
   "outputs": [
    {
     "data": {
      "text/plain": [
       "3094     2\n",
       "4381     1\n",
       "2975     1\n",
       "3455     1\n",
       "7865     1\n",
       "1425     1\n",
       "0415     1\n",
       "2153     1\n",
       "6688     1\n",
       "5232     1\n",
       "3741     1\n",
       "9912     1\n",
       "9051     1\n",
       "8020     1\n",
       "8302     1\n",
       "7518     1\n",
       "0342     1\n",
       "8087     1\n",
       "0981     1\n",
       "8701     1\n",
       "7751     1\n",
       "4064     1\n",
       "8943     1\n",
       "Hogan    1\n",
       "3259     1\n",
       "7058     1\n",
       "0218     1\n",
       "7573     1\n",
       "2084     1\n",
       "9178     1\n",
       "8491     1\n",
       "1445     1\n",
       "8602     1\n",
       "1947     1\n",
       "2073     1\n",
       "3083     1\n",
       "2564     1\n",
       "1830     1\n",
       "8447     1\n",
       "3070     1\n",
       "7030     1\n",
       "5323     1\n",
       "Name: ParticipantID, dtype: int64"
      ]
     },
     "execution_count": 48,
     "metadata": {},
     "output_type": "execute_result"
    },
    {
     "data": {
      "text/html": [
       "<div>\n",
       "<style scoped>\n",
       "    .dataframe tbody tr th:only-of-type {\n",
       "        vertical-align: middle;\n",
       "    }\n",
       "\n",
       "    .dataframe tbody tr th {\n",
       "        vertical-align: top;\n",
       "    }\n",
       "\n",
       "    .dataframe thead th {\n",
       "        text-align: right;\n",
       "    }\n",
       "</style>\n",
       "<table border=\"1\" class=\"dataframe\">\n",
       "  <thead>\n",
       "    <tr style=\"text-align: right;\">\n",
       "      <th></th>\n",
       "      <th>42</th>\n",
       "      <th>43</th>\n",
       "    </tr>\n",
       "  </thead>\n",
       "  <tbody>\n",
       "    <tr>\n",
       "      <th>ParticipantID</th>\n",
       "      <td>3094</td>\n",
       "      <td>3094</td>\n",
       "    </tr>\n",
       "    <tr>\n",
       "      <th>SurveyDate</th>\n",
       "      <td>09/15/2019</td>\n",
       "      <td>09/15/2019</td>\n",
       "    </tr>\n",
       "    <tr>\n",
       "      <th>UserLanguage</th>\n",
       "      <td>EN</td>\n",
       "      <td>EN</td>\n",
       "    </tr>\n",
       "    <tr>\n",
       "      <th>Duration (in seconds)</th>\n",
       "      <td>296307</td>\n",
       "      <td>251</td>\n",
       "    </tr>\n",
       "    <tr>\n",
       "      <th>Q3_1</th>\n",
       "      <td>2</td>\n",
       "      <td>2</td>\n",
       "    </tr>\n",
       "    <tr>\n",
       "      <th>...</th>\n",
       "      <td>...</td>\n",
       "      <td>...</td>\n",
       "    </tr>\n",
       "    <tr>\n",
       "      <th>Q17_9</th>\n",
       "      <td>4</td>\n",
       "      <td>4</td>\n",
       "    </tr>\n",
       "    <tr>\n",
       "      <th>Q17_10</th>\n",
       "      <td>2</td>\n",
       "      <td>2</td>\n",
       "    </tr>\n",
       "    <tr>\n",
       "      <th>Q17_11</th>\n",
       "      <td>4</td>\n",
       "      <td>4</td>\n",
       "    </tr>\n",
       "    <tr>\n",
       "      <th>Q17_12</th>\n",
       "      <td>3</td>\n",
       "      <td>3</td>\n",
       "    </tr>\n",
       "    <tr>\n",
       "      <th>Q17_13</th>\n",
       "      <td>2</td>\n",
       "      <td>2</td>\n",
       "    </tr>\n",
       "  </tbody>\n",
       "</table>\n",
       "<p>117 rows × 2 columns</p>\n",
       "</div>"
      ],
      "text/plain": [
       "                               42          43\n",
       "ParticipantID                3094        3094\n",
       "SurveyDate             09/15/2019  09/15/2019\n",
       "UserLanguage                   EN          EN\n",
       "Duration (in seconds)      296307         251\n",
       "Q3_1                            2           2\n",
       "...                           ...         ...\n",
       "Q17_9                           4           4\n",
       "Q17_10                          2           2\n",
       "Q17_11                          4           4\n",
       "Q17_12                          3           3\n",
       "Q17_13                          2           2\n",
       "\n",
       "[117 rows x 2 columns]"
      ]
     },
     "execution_count": 48,
     "metadata": {},
     "output_type": "execute_result"
    }
   ],
   "source": [
    "# We see there is a duplicate Participant ID from above\n",
    "df['ParticipantID'].value_counts() #3094 is a duplicate and there is a missing value\n",
    "df.loc[df['ParticipantID']=='3094',:].T\n",
    "# The duplicate has very similar entries but differs by duration in seconds"
   ]
  },
  {
   "cell_type": "code",
   "execution_count": 49,
   "id": "29a0827f-c1a4-4c6c-adc5-9cee51d2c728",
   "metadata": {},
   "outputs": [
    {
     "data": {
      "text/plain": [
       "array(['ParticipantID', 'SurveyDate', 'UserLanguage',\n",
       "       'Duration (in seconds)', 'Q3_1', 'Q3_2', 'Q3_3', 'Q3_4', 'Q3_5',\n",
       "       'Q3_6', 'Q4', 'Q5', 'Q6_1', 'Q6_2', 'Q6_3', 'Q6_4', 'Q6_5', 'Q6_6',\n",
       "       'Q7_1', 'Q7_2', 'Q7_3', 'Q7_4', 'Q7_5', 'Q7_6', 'Q7_7', 'Q7_8',\n",
       "       'Q7_9', 'Q13', 'Q13_2_TEXT', 'Q14', 'Q33_1', 'Q33_2', 'Q33_3',\n",
       "       'Q33_4', 'Q34', 'Q35_1', 'Q35_2', 'Q35_3', 'Q35_4', 'Q35_5',\n",
       "       'Q35_6', 'Q35_7', 'Q35_8', 'Q35_9', 'Q35_10', 'Q36_1', 'Q36_2',\n",
       "       'Q36_3', 'Q36_4', 'Q36_5', 'Q36_6', 'Q36_7', 'Q36_8', 'Q36_9',\n",
       "       'Q36_10', 'Q37', 'Q38', 'Q39', 'Q15_1', 'Q15_2', 'Q15_3', 'Q15_4',\n",
       "       'Q15_5', 'Q15_6', 'Q15_7', 'Q15_8', 'Q15_9', 'Q15_10', 'Q15_11',\n",
       "       'Q15_12', 'Q15_13', 'Q15_14', 'Q15_15', 'Q15_16', 'Q15_17',\n",
       "       'Q15_18', 'Q15_19', 'Q15_20', 'Q15_21', 'Q15_22', 'Q15_23',\n",
       "       'Q15_24', 'Q15_25', 'Q15_26', 'Q15_27', 'Q15_28', 'Q15_29',\n",
       "       'Q16_1', 'Q16_2', 'Q16_3', 'Q16_4', 'Q16_5', 'Q16_6', 'Q16_7',\n",
       "       'Q16_8', 'Q16_9', 'Q16_10', 'Q16_11', 'Q16_12', 'Q16_13', 'Q16_14',\n",
       "       'Q16_15', 'Q16_16', 'Q16_17', 'Q17_1', 'Q17_2', 'Q17_3', 'Q17_4',\n",
       "       'Q17_5', 'Q17_6', 'Q17_7', 'Q17_8', 'Q17_9', 'Q17_10', 'Q17_11',\n",
       "       'Q17_12', 'Q17_13'], dtype=object)"
      ]
     },
     "execution_count": 49,
     "metadata": {},
     "output_type": "execute_result"
    },
    {
     "data": {
      "text/plain": [
       "43"
      ]
     },
     "execution_count": 49,
     "metadata": {},
     "output_type": "execute_result"
    },
    {
     "data": {
      "text/plain": [
       "2    13\n",
       "1    11\n",
       "3    11\n",
       "4     8\n",
       "Name: Q3_1, dtype: int64"
      ]
     },
     "execution_count": 49,
     "metadata": {},
     "output_type": "execute_result"
    },
    {
     "data": {
      "text/plain": [
       "43"
      ]
     },
     "execution_count": 49,
     "metadata": {},
     "output_type": "execute_result"
    },
    {
     "data": {
      "text/plain": [
       "2    21\n",
       "1    11\n",
       "4     7\n",
       "3     4\n",
       "Name: Q3_2, dtype: int64"
      ]
     },
     "execution_count": 49,
     "metadata": {},
     "output_type": "execute_result"
    },
    {
     "data": {
      "text/plain": [
       "43"
      ]
     },
     "execution_count": 49,
     "metadata": {},
     "output_type": "execute_result"
    },
    {
     "data": {
      "text/plain": [
       "3    22\n",
       "2    10\n",
       "4     6\n",
       "1     5\n",
       "Name: Q3_3, dtype: int64"
      ]
     },
     "execution_count": 49,
     "metadata": {},
     "output_type": "execute_result"
    },
    {
     "data": {
      "text/plain": [
       "42"
      ]
     },
     "execution_count": 49,
     "metadata": {},
     "output_type": "execute_result"
    },
    {
     "data": {
      "text/plain": [
       "3    18\n",
       "2    14\n",
       "4     7\n",
       "1     3\n",
       "Name: Q3_4, dtype: int64"
      ]
     },
     "execution_count": 49,
     "metadata": {},
     "output_type": "execute_result"
    },
    {
     "data": {
      "text/plain": [
       "42"
      ]
     },
     "execution_count": 49,
     "metadata": {},
     "output_type": "execute_result"
    },
    {
     "data": {
      "text/plain": [
       "2    17\n",
       "1    12\n",
       "3    10\n",
       "4     3\n",
       "Name: Q3_5, dtype: int64"
      ]
     },
     "execution_count": 49,
     "metadata": {},
     "output_type": "execute_result"
    },
    {
     "data": {
      "text/plain": [
       "42"
      ]
     },
     "execution_count": 49,
     "metadata": {},
     "output_type": "execute_result"
    },
    {
     "data": {
      "text/plain": [
       "1    18\n",
       "2    15\n",
       "3     6\n",
       "4     3\n",
       "Name: Q3_6, dtype: int64"
      ]
     },
     "execution_count": 49,
     "metadata": {},
     "output_type": "execute_result"
    },
    {
     "data": {
      "text/plain": [
       "43"
      ]
     },
     "execution_count": 49,
     "metadata": {},
     "output_type": "execute_result"
    },
    {
     "data": {
      "text/plain": [
       "2    32\n",
       "1    11\n",
       "Name: Q4, dtype: int64"
      ]
     },
     "execution_count": 49,
     "metadata": {},
     "output_type": "execute_result"
    },
    {
     "data": {
      "text/plain": [
       "9"
      ]
     },
     "execution_count": 49,
     "metadata": {},
     "output_type": "execute_result"
    },
    {
     "data": {
      "text/plain": [
       "My daughter is a nurse         1\n",
       "Depressed people               1\n",
       "Reading and watching videos    1\n",
       "WEBMD                          1\n",
       "Google                         1\n",
       "Talking to a friend            1\n",
       "Therapy                        1\n",
       "Health fair pamphlets          1\n",
       "WebMD                          1\n",
       "Name: Q5, dtype: int64"
      ]
     },
     "execution_count": 49,
     "metadata": {},
     "output_type": "execute_result"
    },
    {
     "data": {
      "text/plain": [
       "36"
      ]
     },
     "execution_count": 49,
     "metadata": {},
     "output_type": "execute_result"
    },
    {
     "data": {
      "text/plain": [
       "4    17\n",
       "5     7\n",
       "3     6\n",
       "2     3\n",
       "1     3\n",
       "Name: Q6_1, dtype: int64"
      ]
     },
     "execution_count": 49,
     "metadata": {},
     "output_type": "execute_result"
    },
    {
     "data": {
      "text/plain": [
       "37"
      ]
     },
     "execution_count": 49,
     "metadata": {},
     "output_type": "execute_result"
    },
    {
     "data": {
      "text/plain": [
       "4    13\n",
       "2     7\n",
       "5     6\n",
       "3     6\n",
       "1     5\n",
       "Name: Q6_2, dtype: int64"
      ]
     },
     "execution_count": 49,
     "metadata": {},
     "output_type": "execute_result"
    },
    {
     "data": {
      "text/plain": [
       "39"
      ]
     },
     "execution_count": 49,
     "metadata": {},
     "output_type": "execute_result"
    },
    {
     "data": {
      "text/plain": [
       "4    23\n",
       "5     8\n",
       "3     4\n",
       "1     3\n",
       "2     1\n",
       "Name: Q6_3, dtype: int64"
      ]
     },
     "execution_count": 49,
     "metadata": {},
     "output_type": "execute_result"
    },
    {
     "data": {
      "text/plain": [
       "37"
      ]
     },
     "execution_count": 49,
     "metadata": {},
     "output_type": "execute_result"
    },
    {
     "data": {
      "text/plain": [
       "4    20\n",
       "3     8\n",
       "5     8\n",
       "1     1\n",
       "Name: Q6_4, dtype: int64"
      ]
     },
     "execution_count": 49,
     "metadata": {},
     "output_type": "execute_result"
    },
    {
     "data": {
      "text/plain": [
       "33"
      ]
     },
     "execution_count": 49,
     "metadata": {},
     "output_type": "execute_result"
    },
    {
     "data": {
      "text/plain": [
       "4    14\n",
       "3     7\n",
       "5     4\n",
       "1     4\n",
       "2     4\n",
       "Name: Q6_5, dtype: int64"
      ]
     },
     "execution_count": 49,
     "metadata": {},
     "output_type": "execute_result"
    },
    {
     "data": {
      "text/plain": [
       "33"
      ]
     },
     "execution_count": 49,
     "metadata": {},
     "output_type": "execute_result"
    },
    {
     "data": {
      "text/plain": [
       "4    15\n",
       "2     8\n",
       "5     6\n",
       "3     3\n",
       "1     1\n",
       "Name: Q6_6, dtype: int64"
      ]
     },
     "execution_count": 49,
     "metadata": {},
     "output_type": "execute_result"
    },
    {
     "data": {
      "text/plain": [
       "36"
      ]
     },
     "execution_count": 49,
     "metadata": {},
     "output_type": "execute_result"
    },
    {
     "data": {
      "text/plain": [
       "1    12\n",
       "3     8\n",
       "4     8\n",
       "2     8\n",
       "Name: Q7_1, dtype: int64"
      ]
     },
     "execution_count": 49,
     "metadata": {},
     "output_type": "execute_result"
    },
    {
     "data": {
      "text/plain": [
       "14"
      ]
     },
     "execution_count": 49,
     "metadata": {},
     "output_type": "execute_result"
    },
    {
     "data": {
      "text/plain": [
       "1    6\n",
       "2    4\n",
       "3    3\n",
       "4    1\n",
       "Name: Q7_2, dtype: int64"
      ]
     },
     "execution_count": 49,
     "metadata": {},
     "output_type": "execute_result"
    },
    {
     "data": {
      "text/plain": [
       "32"
      ]
     },
     "execution_count": 49,
     "metadata": {},
     "output_type": "execute_result"
    },
    {
     "data": {
      "text/plain": [
       "1    21\n",
       "3     5\n",
       "4     5\n",
       "2     1\n",
       "Name: Q7_3, dtype: int64"
      ]
     },
     "execution_count": 49,
     "metadata": {},
     "output_type": "execute_result"
    },
    {
     "data": {
      "text/plain": [
       "32"
      ]
     },
     "execution_count": 49,
     "metadata": {},
     "output_type": "execute_result"
    },
    {
     "data": {
      "text/plain": [
       "1    21\n",
       "2     6\n",
       "3     3\n",
       "4     2\n",
       "Name: Q7_4, dtype: int64"
      ]
     },
     "execution_count": 49,
     "metadata": {},
     "output_type": "execute_result"
    },
    {
     "data": {
      "text/plain": [
       "33"
      ]
     },
     "execution_count": 49,
     "metadata": {},
     "output_type": "execute_result"
    },
    {
     "data": {
      "text/plain": [
       "3    13\n",
       "2    10\n",
       "4     6\n",
       "1     4\n",
       "Name: Q7_5, dtype: int64"
      ]
     },
     "execution_count": 49,
     "metadata": {},
     "output_type": "execute_result"
    },
    {
     "data": {
      "text/plain": [
       "37"
      ]
     },
     "execution_count": 49,
     "metadata": {},
     "output_type": "execute_result"
    },
    {
     "data": {
      "text/plain": [
       "3    10\n",
       "2    10\n",
       "1     9\n",
       "4     8\n",
       "Name: Q7_6, dtype: int64"
      ]
     },
     "execution_count": 49,
     "metadata": {},
     "output_type": "execute_result"
    },
    {
     "data": {
      "text/plain": [
       "17"
      ]
     },
     "execution_count": 49,
     "metadata": {},
     "output_type": "execute_result"
    },
    {
     "data": {
      "text/plain": [
       "3    7\n",
       "4    7\n",
       "2    2\n",
       "1    1\n",
       "Name: Q7_7, dtype: int64"
      ]
     },
     "execution_count": 49,
     "metadata": {},
     "output_type": "execute_result"
    },
    {
     "data": {
      "text/plain": [
       "29"
      ]
     },
     "execution_count": 49,
     "metadata": {},
     "output_type": "execute_result"
    },
    {
     "data": {
      "text/plain": [
       "1    12\n",
       "2    12\n",
       "3     3\n",
       "4     2\n",
       "Name: Q7_8, dtype: int64"
      ]
     },
     "execution_count": 49,
     "metadata": {},
     "output_type": "execute_result"
    },
    {
     "data": {
      "text/plain": [
       "35"
      ]
     },
     "execution_count": 49,
     "metadata": {},
     "output_type": "execute_result"
    },
    {
     "data": {
      "text/plain": [
       "3    12\n",
       "2    11\n",
       "4     9\n",
       "1     3\n",
       "Name: Q7_9, dtype: int64"
      ]
     },
     "execution_count": 49,
     "metadata": {},
     "output_type": "execute_result"
    },
    {
     "data": {
      "text/plain": [
       "43"
      ]
     },
     "execution_count": 49,
     "metadata": {},
     "output_type": "execute_result"
    },
    {
     "data": {
      "text/plain": [
       "1    23\n",
       "2    11\n",
       "3     9\n",
       "Name: Q13, dtype: int64"
      ]
     },
     "execution_count": 49,
     "metadata": {},
     "output_type": "execute_result"
    },
    {
     "data": {
      "text/plain": [
       "11"
      ]
     },
     "execution_count": 49,
     "metadata": {},
     "output_type": "execute_result"
    },
    {
     "data": {
      "text/plain": [
       "Library           3\n",
       "Health Center     1\n",
       "Cell phone        1\n",
       "Public Library    1\n",
       "Isabella          1\n",
       "With my niece     1\n",
       "Inwood library    1\n",
       "work              1\n",
       "Senior Center     1\n",
       "Name: Q13_2_TEXT, dtype: int64"
      ]
     },
     "execution_count": 49,
     "metadata": {},
     "output_type": "execute_result"
    },
    {
     "data": {
      "text/plain": [
       "42"
      ]
     },
     "execution_count": 49,
     "metadata": {},
     "output_type": "execute_result"
    },
    {
     "data": {
      "text/plain": [
       "3    12\n",
       "5    11\n",
       "4    10\n",
       "2     7\n",
       "1     2\n",
       "Name: Q14, dtype: int64"
      ]
     },
     "execution_count": 49,
     "metadata": {},
     "output_type": "execute_result"
    },
    {
     "data": {
      "text/plain": [
       "43"
      ]
     },
     "execution_count": 49,
     "metadata": {},
     "output_type": "execute_result"
    },
    {
     "data": {
      "text/plain": [
       "3    17\n",
       "1    13\n",
       "2     9\n",
       "4     4\n",
       "Name: Q33_1, dtype: int64"
      ]
     },
     "execution_count": 49,
     "metadata": {},
     "output_type": "execute_result"
    },
    {
     "data": {
      "text/plain": [
       "42"
      ]
     },
     "execution_count": 49,
     "metadata": {},
     "output_type": "execute_result"
    },
    {
     "data": {
      "text/plain": [
       "1    30\n",
       "2     4\n",
       "4     4\n",
       "3     4\n",
       "Name: Q33_2, dtype: int64"
      ]
     },
     "execution_count": 49,
     "metadata": {},
     "output_type": "execute_result"
    },
    {
     "data": {
      "text/plain": [
       "43"
      ]
     },
     "execution_count": 49,
     "metadata": {},
     "output_type": "execute_result"
    },
    {
     "data": {
      "text/plain": [
       "1    20\n",
       "3    10\n",
       "2     8\n",
       "4     5\n",
       "Name: Q33_3, dtype: int64"
      ]
     },
     "execution_count": 49,
     "metadata": {},
     "output_type": "execute_result"
    },
    {
     "data": {
      "text/plain": [
       "42"
      ]
     },
     "execution_count": 49,
     "metadata": {},
     "output_type": "execute_result"
    },
    {
     "data": {
      "text/plain": [
       "1    14\n",
       "3    12\n",
       "2    11\n",
       "4     5\n",
       "Name: Q33_4, dtype: int64"
      ]
     },
     "execution_count": 49,
     "metadata": {},
     "output_type": "execute_result"
    },
    {
     "data": {
      "text/plain": [
       "41"
      ]
     },
     "execution_count": 49,
     "metadata": {},
     "output_type": "execute_result"
    },
    {
     "data": {
      "text/plain": [
       "1    21\n",
       "2    15\n",
       "4     3\n",
       "3     2\n",
       "Name: Q34, dtype: int64"
      ]
     },
     "execution_count": 49,
     "metadata": {},
     "output_type": "execute_result"
    },
    {
     "data": {
      "text/plain": [
       "42"
      ]
     },
     "execution_count": 49,
     "metadata": {},
     "output_type": "execute_result"
    },
    {
     "data": {
      "text/plain": [
       "4    21\n",
       "3    10\n",
       "5     5\n",
       "2     5\n",
       "1     1\n",
       "Name: Q35_1, dtype: int64"
      ]
     },
     "execution_count": 49,
     "metadata": {},
     "output_type": "execute_result"
    },
    {
     "data": {
      "text/plain": [
       "42"
      ]
     },
     "execution_count": 49,
     "metadata": {},
     "output_type": "execute_result"
    },
    {
     "data": {
      "text/plain": [
       "4    22\n",
       "5     8\n",
       "3     6\n",
       "2     5\n",
       "1     1\n",
       "Name: Q35_2, dtype: int64"
      ]
     },
     "execution_count": 49,
     "metadata": {},
     "output_type": "execute_result"
    },
    {
     "data": {
      "text/plain": [
       "43"
      ]
     },
     "execution_count": 49,
     "metadata": {},
     "output_type": "execute_result"
    },
    {
     "data": {
      "text/plain": [
       "4    25\n",
       "5    10\n",
       "3     6\n",
       "2     1\n",
       "1     1\n",
       "Name: Q35_3, dtype: int64"
      ]
     },
     "execution_count": 49,
     "metadata": {},
     "output_type": "execute_result"
    },
    {
     "data": {
      "text/plain": [
       "43"
      ]
     },
     "execution_count": 49,
     "metadata": {},
     "output_type": "execute_result"
    },
    {
     "data": {
      "text/plain": [
       "4    20\n",
       "5    12\n",
       "2     5\n",
       "3     5\n",
       "1     1\n",
       "Name: Q35_4, dtype: int64"
      ]
     },
     "execution_count": 49,
     "metadata": {},
     "output_type": "execute_result"
    },
    {
     "data": {
      "text/plain": [
       "43"
      ]
     },
     "execution_count": 49,
     "metadata": {},
     "output_type": "execute_result"
    },
    {
     "data": {
      "text/plain": [
       "4    28\n",
       "5     7\n",
       "3     7\n",
       "2     1\n",
       "Name: Q35_5, dtype: int64"
      ]
     },
     "execution_count": 49,
     "metadata": {},
     "output_type": "execute_result"
    },
    {
     "data": {
      "text/plain": [
       "43"
      ]
     },
     "execution_count": 49,
     "metadata": {},
     "output_type": "execute_result"
    },
    {
     "data": {
      "text/plain": [
       "4    22\n",
       "5    16\n",
       "2     3\n",
       "3     2\n",
       "Name: Q35_6, dtype: int64"
      ]
     },
     "execution_count": 49,
     "metadata": {},
     "output_type": "execute_result"
    },
    {
     "data": {
      "text/plain": [
       "42"
      ]
     },
     "execution_count": 49,
     "metadata": {},
     "output_type": "execute_result"
    },
    {
     "data": {
      "text/plain": [
       "1    11\n",
       "4    10\n",
       "3     9\n",
       "2     9\n",
       "5     3\n",
       "Name: Q35_7, dtype: int64"
      ]
     },
     "execution_count": 49,
     "metadata": {},
     "output_type": "execute_result"
    },
    {
     "data": {
      "text/plain": [
       "43"
      ]
     },
     "execution_count": 49,
     "metadata": {},
     "output_type": "execute_result"
    },
    {
     "data": {
      "text/plain": [
       "4    26\n",
       "5     7\n",
       "2     4\n",
       "3     4\n",
       "1     2\n",
       "Name: Q35_8, dtype: int64"
      ]
     },
     "execution_count": 49,
     "metadata": {},
     "output_type": "execute_result"
    },
    {
     "data": {
      "text/plain": [
       "42"
      ]
     },
     "execution_count": 49,
     "metadata": {},
     "output_type": "execute_result"
    },
    {
     "data": {
      "text/plain": [
       "4    20\n",
       "3     9\n",
       "5     6\n",
       "2     5\n",
       "1     2\n",
       "Name: Q35_9, dtype: int64"
      ]
     },
     "execution_count": 49,
     "metadata": {},
     "output_type": "execute_result"
    },
    {
     "data": {
      "text/plain": [
       "42"
      ]
     },
     "execution_count": 49,
     "metadata": {},
     "output_type": "execute_result"
    },
    {
     "data": {
      "text/plain": [
       "4    17\n",
       "3    12\n",
       "5     8\n",
       "2     4\n",
       "1     1\n",
       "Name: Q35_10, dtype: int64"
      ]
     },
     "execution_count": 49,
     "metadata": {},
     "output_type": "execute_result"
    },
    {
     "data": {
      "text/plain": [
       "42"
      ]
     },
     "execution_count": 49,
     "metadata": {},
     "output_type": "execute_result"
    },
    {
     "data": {
      "text/plain": [
       "2    28\n",
       "1    14\n",
       "Name: Q36_1, dtype: int64"
      ]
     },
     "execution_count": 49,
     "metadata": {},
     "output_type": "execute_result"
    },
    {
     "data": {
      "text/plain": [
       "43"
      ]
     },
     "execution_count": 49,
     "metadata": {},
     "output_type": "execute_result"
    },
    {
     "data": {
      "text/plain": [
       "1    29\n",
       "2    14\n",
       "Name: Q36_2, dtype: int64"
      ]
     },
     "execution_count": 49,
     "metadata": {},
     "output_type": "execute_result"
    },
    {
     "data": {
      "text/plain": [
       "42"
      ]
     },
     "execution_count": 49,
     "metadata": {},
     "output_type": "execute_result"
    },
    {
     "data": {
      "text/plain": [
       "1    31\n",
       "2    11\n",
       "Name: Q36_3, dtype: int64"
      ]
     },
     "execution_count": 49,
     "metadata": {},
     "output_type": "execute_result"
    },
    {
     "data": {
      "text/plain": [
       "43"
      ]
     },
     "execution_count": 49,
     "metadata": {},
     "output_type": "execute_result"
    },
    {
     "data": {
      "text/plain": [
       "1    35\n",
       "2     8\n",
       "Name: Q36_4, dtype: int64"
      ]
     },
     "execution_count": 49,
     "metadata": {},
     "output_type": "execute_result"
    },
    {
     "data": {
      "text/plain": [
       "41"
      ]
     },
     "execution_count": 49,
     "metadata": {},
     "output_type": "execute_result"
    },
    {
     "data": {
      "text/plain": [
       "1    31\n",
       "2    10\n",
       "Name: Q36_5, dtype: int64"
      ]
     },
     "execution_count": 49,
     "metadata": {},
     "output_type": "execute_result"
    },
    {
     "data": {
      "text/plain": [
       "43"
      ]
     },
     "execution_count": 49,
     "metadata": {},
     "output_type": "execute_result"
    },
    {
     "data": {
      "text/plain": [
       "1    34\n",
       "2     9\n",
       "Name: Q36_6, dtype: int64"
      ]
     },
     "execution_count": 49,
     "metadata": {},
     "output_type": "execute_result"
    },
    {
     "data": {
      "text/plain": [
       "42"
      ]
     },
     "execution_count": 49,
     "metadata": {},
     "output_type": "execute_result"
    },
    {
     "data": {
      "text/plain": [
       "2    21\n",
       "1    21\n",
       "Name: Q36_7, dtype: int64"
      ]
     },
     "execution_count": 49,
     "metadata": {},
     "output_type": "execute_result"
    },
    {
     "data": {
      "text/plain": [
       "42"
      ]
     },
     "execution_count": 49,
     "metadata": {},
     "output_type": "execute_result"
    },
    {
     "data": {
      "text/plain": [
       "2    30\n",
       "1    12\n",
       "Name: Q36_8, dtype: int64"
      ]
     },
     "execution_count": 49,
     "metadata": {},
     "output_type": "execute_result"
    },
    {
     "data": {
      "text/plain": [
       "42"
      ]
     },
     "execution_count": 49,
     "metadata": {},
     "output_type": "execute_result"
    },
    {
     "data": {
      "text/plain": [
       "1    26\n",
       "2    16\n",
       "Name: Q36_9, dtype: int64"
      ]
     },
     "execution_count": 49,
     "metadata": {},
     "output_type": "execute_result"
    },
    {
     "data": {
      "text/plain": [
       "41"
      ]
     },
     "execution_count": 49,
     "metadata": {},
     "output_type": "execute_result"
    },
    {
     "data": {
      "text/plain": [
       "1    23\n",
       "2    18\n",
       "Name: Q36_10, dtype: int64"
      ]
     },
     "execution_count": 49,
     "metadata": {},
     "output_type": "execute_result"
    },
    {
     "data": {
      "text/plain": [
       "32"
      ]
     },
     "execution_count": 49,
     "metadata": {},
     "output_type": "execute_result"
    },
    {
     "data": {
      "text/plain": [
       "Nothing                                                                                                               4\n",
       "Raise my awareness so that i can observe and see if anyone needs help                                                 1\n",
       "I try not to think too much about my problems.                                                                        1\n",
       "I made my own listing of conexion-clinical depression \"to-do-list\"                                                    1\n",
       "Read a lot about what you can get out of the W                                                                        1\n",
       "salir de pensamientos negativos                                                                                       1\n",
       "Recommend Conexion to others, visited CCPH for more info                                                              1\n",
       "comento lo que aprendi con otras personas                                                                             1\n",
       "I have decided to take a computer course, return to work, take steps to eat healthier, be sociable.                   1\n",
       "Contacted other reliable sources                                                                                      1\n",
       "Reflecting on how to manage my high blood pressure now                                                                1\n",
       "How to find information                                                                                               1\n",
       "Change my nutrition and exercise habits                                                                               1\n",
       "Talk with my family and friends                                                                                       1\n",
       "I felt less afraid of what I was going through                                                                        1\n",
       "How to talk to the family members i have                                                                              1\n",
       "To pray to God of Israel                                                                                              1\n",
       "Depression is a disease                                                                                               1\n",
       "not up to date, 2 months off shift                                                                                    1\n",
       "I've been more aware of my moods                                                                                      1\n",
       "Value myself because I am human; Resolve emotional conflicts                                                          1\n",
       "Share my information with other people that I think need it.                                                          1\n",
       "Talk to my friends who have depression.                                                                               1\n",
       "I decided i should be more proactive and not be afraid to reach out and support someone suffering from depression.    1\n",
       "Reflected, organized healthy thoughts                                                                                 1\n",
       "To improve my exercise habits                                                                                         1\n",
       "Communicate with my family and friends                                                                                1\n",
       "Go to therapy                                                                                                         1\n",
       "Being involved in the community helps people with depression.                                                         1\n",
       "Name: Q37, dtype: int64"
      ]
     },
     "execution_count": 49,
     "metadata": {},
     "output_type": "execute_result"
    },
    {
     "data": {
      "text/plain": [
       "32"
      ]
     },
     "execution_count": 49,
     "metadata": {},
     "output_type": "execute_result"
    },
    {
     "data": {
      "text/plain": [
       "see people I know                                                                           1\n",
       "Not sure yet, but information is valuable                                                   1\n",
       "articles, suggestions for lifestyle, very informative                                       1\n",
       "I liked the testimonials                                                                    1\n",
       "I loved it because it was a way to learn how to help someone who needs it                   1\n",
       "Because it was easy to understand                                                           1\n",
       "Not feeling alone                                                                           1\n",
       "Localized information, videos                                                               1\n",
       "clean out the old pages from 2018+ back and delete it                                       1\n",
       "How it helped me connect to a therapist                                                     1\n",
       "The coordinator tried to help/                                                              1\n",
       "very informative and easy to understand                                                     1\n",
       "si encuentro algun problema en mi, tengo lugares donde asistir                              1\n",
       "Exercise, breathing, relaxing                                                               1\n",
       "Using internet                                                                              1\n",
       "Easy to navigate, has a lot of information                                                  1\n",
       "I liked the videos of the individuals' testimonies - that made everything more relatable    1\n",
       "The testimonies because one can empathize with what they are going thorough.                1\n",
       "Tener el telefono inteligente y usar Google                                                 1\n",
       "Variety of topics//Medicine awareness                                                       1\n",
       "The articles.                                                                               1\n",
       "it's easy to navigate and understand                                                        1\n",
       "I learned how to use a computer                                                             1\n",
       "The information i gained for me to help others.                                             1\n",
       "Ease of Access and easiness of article (can read and run)                                   1\n",
       "Be aware of the different scenarios                                                         1\n",
       "The article on severe depression                                                            1\n",
       "Very important topics                                                                       1\n",
       "Eat healthier                                                                               1\n",
       "The testimony from the woman because it is an example of how to overcome depression         1\n",
       "Everything because i learned alot                                                           1\n",
       "How to get help                                                                             1\n",
       "Name: Q38, dtype: int64"
      ]
     },
     "execution_count": 49,
     "metadata": {},
     "output_type": "execute_result"
    },
    {
     "data": {
      "text/plain": [
       "30"
      ]
     },
     "execution_count": 49,
     "metadata": {},
     "output_type": "execute_result"
    },
    {
     "data": {
      "text/plain": [
       "Giving it more publicity to get a bigger reach of people                                      1\n",
       "For me, everything seems good to me.                                                          1\n",
       "Going to the doctor, i realized my depression                                                 1\n",
       "There should be talks and conferences related to this topic for after using Conexion          1\n",
       "Looking for medical help                                                                      1\n",
       "List local resources/support groups                                                           1\n",
       "Everything was very clear and easy to understand                                              1\n",
       "Promoting more education programs for the community                                           1\n",
       "Everything is great. Keep up the good work.                                                   1\n",
       "nothing                                                                                       1\n",
       "Nothing                                                                                       1\n",
       "Let everyone know about it                                                                    1\n",
       "Maybe by having stories about young seniors, who eventually got better and how they did it    1\n",
       "Giving talks every now and then                                                               1\n",
       "Make it less complicated                                                                      1\n",
       "Getting help                                                                                  1\n",
       "better way to get the information                                                             1\n",
       "Keep adding information, add a forum where people can comment or ask questions                1\n",
       "Make it easier to use in the computer                                                         1\n",
       "dont know                                                                                     1\n",
       "Make the sign in + password box higher on the page                                            1\n",
       "Google                                                                                        1\n",
       "Make the sign in and password box higher on the page                                          1\n",
       "Create events where we promote GHH and CCPH                                                   1\n",
       "Giving more information to the community because we did not know a lot of these things.       1\n",
       "entrar a la web y leer mas                                                                    1\n",
       "Add more personal stories                                                                     1\n",
       "Give a talk on depression to the members of the community                                     1\n",
       "getting the website to work consistently                                                      1\n",
       "Looking for more help to keep helping my family                                               1\n",
       "Name: Q39, dtype: int64"
      ]
     },
     "execution_count": 49,
     "metadata": {},
     "output_type": "execute_result"
    },
    {
     "data": {
      "text/plain": [
       "43"
      ]
     },
     "execution_count": 49,
     "metadata": {},
     "output_type": "execute_result"
    },
    {
     "data": {
      "text/plain": [
       "4    17\n",
       "3    15\n",
       "5     7\n",
       "1     3\n",
       "2     1\n",
       "Name: Q15_1, dtype: int64"
      ]
     },
     "execution_count": 49,
     "metadata": {},
     "output_type": "execute_result"
    },
    {
     "data": {
      "text/plain": [
       "43"
      ]
     },
     "execution_count": 49,
     "metadata": {},
     "output_type": "execute_result"
    },
    {
     "data": {
      "text/plain": [
       "4    17\n",
       "3    17\n",
       "5     8\n",
       "2     1\n",
       "Name: Q15_2, dtype: int64"
      ]
     },
     "execution_count": 49,
     "metadata": {},
     "output_type": "execute_result"
    },
    {
     "data": {
      "text/plain": [
       "43"
      ]
     },
     "execution_count": 49,
     "metadata": {},
     "output_type": "execute_result"
    },
    {
     "data": {
      "text/plain": [
       "4    20\n",
       "5    11\n",
       "3    11\n",
       "2     1\n",
       "Name: Q15_3, dtype: int64"
      ]
     },
     "execution_count": 49,
     "metadata": {},
     "output_type": "execute_result"
    },
    {
     "data": {
      "text/plain": [
       "43"
      ]
     },
     "execution_count": 49,
     "metadata": {},
     "output_type": "execute_result"
    },
    {
     "data": {
      "text/plain": [
       "4    18\n",
       "3    14\n",
       "5     7\n",
       "2     3\n",
       "1     1\n",
       "Name: Q15_4, dtype: int64"
      ]
     },
     "execution_count": 49,
     "metadata": {},
     "output_type": "execute_result"
    },
    {
     "data": {
      "text/plain": [
       "43"
      ]
     },
     "execution_count": 49,
     "metadata": {},
     "output_type": "execute_result"
    },
    {
     "data": {
      "text/plain": [
       "4    13\n",
       "3    11\n",
       "5     9\n",
       "2     7\n",
       "1     3\n",
       "Name: Q15_5, dtype: int64"
      ]
     },
     "execution_count": 49,
     "metadata": {},
     "output_type": "execute_result"
    },
    {
     "data": {
      "text/plain": [
       "43"
      ]
     },
     "execution_count": 49,
     "metadata": {},
     "output_type": "execute_result"
    },
    {
     "data": {
      "text/plain": [
       "4    15\n",
       "3    13\n",
       "5     6\n",
       "1     5\n",
       "2     4\n",
       "Name: Q15_6, dtype: int64"
      ]
     },
     "execution_count": 49,
     "metadata": {},
     "output_type": "execute_result"
    },
    {
     "data": {
      "text/plain": [
       "43"
      ]
     },
     "execution_count": 49,
     "metadata": {},
     "output_type": "execute_result"
    },
    {
     "data": {
      "text/plain": [
       "4    19\n",
       "3    11\n",
       "5     9\n",
       "1     4\n",
       "Name: Q15_7, dtype: int64"
      ]
     },
     "execution_count": 49,
     "metadata": {},
     "output_type": "execute_result"
    },
    {
     "data": {
      "text/plain": [
       "43"
      ]
     },
     "execution_count": 49,
     "metadata": {},
     "output_type": "execute_result"
    },
    {
     "data": {
      "text/plain": [
       "4    21\n",
       "3    10\n",
       "5     9\n",
       "2     2\n",
       "1     1\n",
       "Name: Q15_8, dtype: int64"
      ]
     },
     "execution_count": 49,
     "metadata": {},
     "output_type": "execute_result"
    },
    {
     "data": {
      "text/plain": [
       "43"
      ]
     },
     "execution_count": 49,
     "metadata": {},
     "output_type": "execute_result"
    },
    {
     "data": {
      "text/plain": [
       "4    17\n",
       "5    11\n",
       "3    10\n",
       "2     3\n",
       "1     2\n",
       "Name: Q15_9, dtype: int64"
      ]
     },
     "execution_count": 49,
     "metadata": {},
     "output_type": "execute_result"
    },
    {
     "data": {
      "text/plain": [
       "43"
      ]
     },
     "execution_count": 49,
     "metadata": {},
     "output_type": "execute_result"
    },
    {
     "data": {
      "text/plain": [
       "4    17\n",
       "3    13\n",
       "5    10\n",
       "2     3\n",
       "Name: Q15_10, dtype: int64"
      ]
     },
     "execution_count": 49,
     "metadata": {},
     "output_type": "execute_result"
    },
    {
     "data": {
      "text/plain": [
       "42"
      ]
     },
     "execution_count": 49,
     "metadata": {},
     "output_type": "execute_result"
    },
    {
     "data": {
      "text/plain": [
       "4    19\n",
       "3    11\n",
       "5     4\n",
       "1     4\n",
       "2     4\n",
       "Name: Q15_11, dtype: int64"
      ]
     },
     "execution_count": 49,
     "metadata": {},
     "output_type": "execute_result"
    },
    {
     "data": {
      "text/plain": [
       "42"
      ]
     },
     "execution_count": 49,
     "metadata": {},
     "output_type": "execute_result"
    },
    {
     "data": {
      "text/plain": [
       "4    22\n",
       "3    10\n",
       "5     5\n",
       "1     4\n",
       "2     1\n",
       "Name: Q15_12, dtype: int64"
      ]
     },
     "execution_count": 49,
     "metadata": {},
     "output_type": "execute_result"
    },
    {
     "data": {
      "text/plain": [
       "42"
      ]
     },
     "execution_count": 49,
     "metadata": {},
     "output_type": "execute_result"
    },
    {
     "data": {
      "text/plain": [
       "4    23\n",
       "3    11\n",
       "5     6\n",
       "1     2\n",
       "Name: Q15_13, dtype: int64"
      ]
     },
     "execution_count": 49,
     "metadata": {},
     "output_type": "execute_result"
    },
    {
     "data": {
      "text/plain": [
       "42"
      ]
     },
     "execution_count": 49,
     "metadata": {},
     "output_type": "execute_result"
    },
    {
     "data": {
      "text/plain": [
       "4    16\n",
       "3    15\n",
       "5     7\n",
       "2     2\n",
       "1     2\n",
       "Name: Q15_14, dtype: int64"
      ]
     },
     "execution_count": 49,
     "metadata": {},
     "output_type": "execute_result"
    },
    {
     "data": {
      "text/plain": [
       "42"
      ]
     },
     "execution_count": 49,
     "metadata": {},
     "output_type": "execute_result"
    },
    {
     "data": {
      "text/plain": [
       "4    15\n",
       "3    14\n",
       "5     6\n",
       "1     4\n",
       "2     3\n",
       "Name: Q15_15, dtype: int64"
      ]
     },
     "execution_count": 49,
     "metadata": {},
     "output_type": "execute_result"
    },
    {
     "data": {
      "text/plain": [
       "42"
      ]
     },
     "execution_count": 49,
     "metadata": {},
     "output_type": "execute_result"
    },
    {
     "data": {
      "text/plain": [
       "4    18\n",
       "3    12\n",
       "2     5\n",
       "1     4\n",
       "5     3\n",
       "Name: Q15_16, dtype: int64"
      ]
     },
     "execution_count": 49,
     "metadata": {},
     "output_type": "execute_result"
    },
    {
     "data": {
      "text/plain": [
       "42"
      ]
     },
     "execution_count": 49,
     "metadata": {},
     "output_type": "execute_result"
    },
    {
     "data": {
      "text/plain": [
       "4    16\n",
       "3    11\n",
       "5    10\n",
       "1     3\n",
       "2     2\n",
       "Name: Q15_17, dtype: int64"
      ]
     },
     "execution_count": 49,
     "metadata": {},
     "output_type": "execute_result"
    },
    {
     "data": {
      "text/plain": [
       "42"
      ]
     },
     "execution_count": 49,
     "metadata": {},
     "output_type": "execute_result"
    },
    {
     "data": {
      "text/plain": [
       "3    15\n",
       "4    14\n",
       "5     8\n",
       "2     4\n",
       "1     1\n",
       "Name: Q15_18, dtype: int64"
      ]
     },
     "execution_count": 49,
     "metadata": {},
     "output_type": "execute_result"
    },
    {
     "data": {
      "text/plain": [
       "42"
      ]
     },
     "execution_count": 49,
     "metadata": {},
     "output_type": "execute_result"
    },
    {
     "data": {
      "text/plain": [
       "4    20\n",
       "5     9\n",
       "3     7\n",
       "2     4\n",
       "1     2\n",
       "Name: Q15_19, dtype: int64"
      ]
     },
     "execution_count": 49,
     "metadata": {},
     "output_type": "execute_result"
    },
    {
     "data": {
      "text/plain": [
       "42"
      ]
     },
     "execution_count": 49,
     "metadata": {},
     "output_type": "execute_result"
    },
    {
     "data": {
      "text/plain": [
       "5    15\n",
       "4    15\n",
       "3     8\n",
       "2     2\n",
       "1     2\n",
       "Name: Q15_20, dtype: int64"
      ]
     },
     "execution_count": 49,
     "metadata": {},
     "output_type": "execute_result"
    },
    {
     "data": {
      "text/plain": [
       "41"
      ]
     },
     "execution_count": 49,
     "metadata": {},
     "output_type": "execute_result"
    },
    {
     "data": {
      "text/plain": [
       "4    19\n",
       "5     9\n",
       "3     7\n",
       "2     4\n",
       "1     2\n",
       "Name: Q15_21, dtype: int64"
      ]
     },
     "execution_count": 49,
     "metadata": {},
     "output_type": "execute_result"
    },
    {
     "data": {
      "text/plain": [
       "42"
      ]
     },
     "execution_count": 49,
     "metadata": {},
     "output_type": "execute_result"
    },
    {
     "data": {
      "text/plain": [
       "3    16\n",
       "4    13\n",
       "2     6\n",
       "5     4\n",
       "1     3\n",
       "Name: Q15_22, dtype: int64"
      ]
     },
     "execution_count": 49,
     "metadata": {},
     "output_type": "execute_result"
    },
    {
     "data": {
      "text/plain": [
       "42"
      ]
     },
     "execution_count": 49,
     "metadata": {},
     "output_type": "execute_result"
    },
    {
     "data": {
      "text/plain": [
       "4    16\n",
       "3    12\n",
       "5     8\n",
       "2     4\n",
       "1     2\n",
       "Name: Q15_23, dtype: int64"
      ]
     },
     "execution_count": 49,
     "metadata": {},
     "output_type": "execute_result"
    },
    {
     "data": {
      "text/plain": [
       "42"
      ]
     },
     "execution_count": 49,
     "metadata": {},
     "output_type": "execute_result"
    },
    {
     "data": {
      "text/plain": [
       "4    16\n",
       "3    10\n",
       "5     9\n",
       "2     6\n",
       "1     1\n",
       "Name: Q15_24, dtype: int64"
      ]
     },
     "execution_count": 49,
     "metadata": {},
     "output_type": "execute_result"
    },
    {
     "data": {
      "text/plain": [
       "42"
      ]
     },
     "execution_count": 49,
     "metadata": {},
     "output_type": "execute_result"
    },
    {
     "data": {
      "text/plain": [
       "4    15\n",
       "5    11\n",
       "3     9\n",
       "2     5\n",
       "1     2\n",
       "Name: Q15_25, dtype: int64"
      ]
     },
     "execution_count": 49,
     "metadata": {},
     "output_type": "execute_result"
    },
    {
     "data": {
      "text/plain": [
       "42"
      ]
     },
     "execution_count": 49,
     "metadata": {},
     "output_type": "execute_result"
    },
    {
     "data": {
      "text/plain": [
       "4    14\n",
       "3    12\n",
       "5     8\n",
       "2     5\n",
       "1     3\n",
       "Name: Q15_26, dtype: int64"
      ]
     },
     "execution_count": 49,
     "metadata": {},
     "output_type": "execute_result"
    },
    {
     "data": {
      "text/plain": [
       "42"
      ]
     },
     "execution_count": 49,
     "metadata": {},
     "output_type": "execute_result"
    },
    {
     "data": {
      "text/plain": [
       "4    19\n",
       "3     8\n",
       "2     6\n",
       "5     5\n",
       "1     4\n",
       "Name: Q15_27, dtype: int64"
      ]
     },
     "execution_count": 49,
     "metadata": {},
     "output_type": "execute_result"
    },
    {
     "data": {
      "text/plain": [
       "42"
      ]
     },
     "execution_count": 49,
     "metadata": {},
     "output_type": "execute_result"
    },
    {
     "data": {
      "text/plain": [
       "5    15\n",
       "4    15\n",
       "3     7\n",
       "2     4\n",
       "1     1\n",
       "Name: Q15_28, dtype: int64"
      ]
     },
     "execution_count": 49,
     "metadata": {},
     "output_type": "execute_result"
    },
    {
     "data": {
      "text/plain": [
       "41"
      ]
     },
     "execution_count": 49,
     "metadata": {},
     "output_type": "execute_result"
    },
    {
     "data": {
      "text/plain": [
       "4    20\n",
       "5     9\n",
       "3     7\n",
       "2     3\n",
       "1     2\n",
       "Name: Q15_29, dtype: int64"
      ]
     },
     "execution_count": 49,
     "metadata": {},
     "output_type": "execute_result"
    },
    {
     "data": {
      "text/plain": [
       "42"
      ]
     },
     "execution_count": 49,
     "metadata": {},
     "output_type": "execute_result"
    },
    {
     "data": {
      "text/plain": [
       "1    22\n",
       "2    20\n",
       "Name: Q16_1, dtype: int64"
      ]
     },
     "execution_count": 49,
     "metadata": {},
     "output_type": "execute_result"
    },
    {
     "data": {
      "text/plain": [
       "42"
      ]
     },
     "execution_count": 49,
     "metadata": {},
     "output_type": "execute_result"
    },
    {
     "data": {
      "text/plain": [
       "1    36\n",
       "2     6\n",
       "Name: Q16_2, dtype: int64"
      ]
     },
     "execution_count": 49,
     "metadata": {},
     "output_type": "execute_result"
    },
    {
     "data": {
      "text/plain": [
       "42"
      ]
     },
     "execution_count": 49,
     "metadata": {},
     "output_type": "execute_result"
    },
    {
     "data": {
      "text/plain": [
       "1    35\n",
       "2     7\n",
       "Name: Q16_3, dtype: int64"
      ]
     },
     "execution_count": 49,
     "metadata": {},
     "output_type": "execute_result"
    },
    {
     "data": {
      "text/plain": [
       "42"
      ]
     },
     "execution_count": 49,
     "metadata": {},
     "output_type": "execute_result"
    },
    {
     "data": {
      "text/plain": [
       "2    34\n",
       "1     8\n",
       "Name: Q16_4, dtype: int64"
      ]
     },
     "execution_count": 49,
     "metadata": {},
     "output_type": "execute_result"
    },
    {
     "data": {
      "text/plain": [
       "42"
      ]
     },
     "execution_count": 49,
     "metadata": {},
     "output_type": "execute_result"
    },
    {
     "data": {
      "text/plain": [
       "1    36\n",
       "2     6\n",
       "Name: Q16_5, dtype: int64"
      ]
     },
     "execution_count": 49,
     "metadata": {},
     "output_type": "execute_result"
    },
    {
     "data": {
      "text/plain": [
       "42"
      ]
     },
     "execution_count": 49,
     "metadata": {},
     "output_type": "execute_result"
    },
    {
     "data": {
      "text/plain": [
       "1    35\n",
       "2     7\n",
       "Name: Q16_6, dtype: int64"
      ]
     },
     "execution_count": 49,
     "metadata": {},
     "output_type": "execute_result"
    },
    {
     "data": {
      "text/plain": [
       "42"
      ]
     },
     "execution_count": 49,
     "metadata": {},
     "output_type": "execute_result"
    },
    {
     "data": {
      "text/plain": [
       "1    24\n",
       "2    18\n",
       "Name: Q16_7, dtype: int64"
      ]
     },
     "execution_count": 49,
     "metadata": {},
     "output_type": "execute_result"
    },
    {
     "data": {
      "text/plain": [
       "42"
      ]
     },
     "execution_count": 49,
     "metadata": {},
     "output_type": "execute_result"
    },
    {
     "data": {
      "text/plain": [
       "1    41\n",
       "2     1\n",
       "Name: Q16_8, dtype: int64"
      ]
     },
     "execution_count": 49,
     "metadata": {},
     "output_type": "execute_result"
    },
    {
     "data": {
      "text/plain": [
       "42"
      ]
     },
     "execution_count": 49,
     "metadata": {},
     "output_type": "execute_result"
    },
    {
     "data": {
      "text/plain": [
       "1    25\n",
       "2    17\n",
       "Name: Q16_9, dtype: int64"
      ]
     },
     "execution_count": 49,
     "metadata": {},
     "output_type": "execute_result"
    },
    {
     "data": {
      "text/plain": [
       "42"
      ]
     },
     "execution_count": 49,
     "metadata": {},
     "output_type": "execute_result"
    },
    {
     "data": {
      "text/plain": [
       "2    37\n",
       "1     5\n",
       "Name: Q16_10, dtype: int64"
      ]
     },
     "execution_count": 49,
     "metadata": {},
     "output_type": "execute_result"
    },
    {
     "data": {
      "text/plain": [
       "42"
      ]
     },
     "execution_count": 49,
     "metadata": {},
     "output_type": "execute_result"
    },
    {
     "data": {
      "text/plain": [
       "1    41\n",
       "2     1\n",
       "Name: Q16_11, dtype: int64"
      ]
     },
     "execution_count": 49,
     "metadata": {},
     "output_type": "execute_result"
    },
    {
     "data": {
      "text/plain": [
       "42"
      ]
     },
     "execution_count": 49,
     "metadata": {},
     "output_type": "execute_result"
    },
    {
     "data": {
      "text/plain": [
       "1    39\n",
       "2     3\n",
       "Name: Q16_12, dtype: int64"
      ]
     },
     "execution_count": 49,
     "metadata": {},
     "output_type": "execute_result"
    },
    {
     "data": {
      "text/plain": [
       "42"
      ]
     },
     "execution_count": 49,
     "metadata": {},
     "output_type": "execute_result"
    },
    {
     "data": {
      "text/plain": [
       "2    34\n",
       "1     8\n",
       "Name: Q16_13, dtype: int64"
      ]
     },
     "execution_count": 49,
     "metadata": {},
     "output_type": "execute_result"
    },
    {
     "data": {
      "text/plain": [
       "41"
      ]
     },
     "execution_count": 49,
     "metadata": {},
     "output_type": "execute_result"
    },
    {
     "data": {
      "text/plain": [
       "2    36\n",
       "1     5\n",
       "Name: Q16_14, dtype: int64"
      ]
     },
     "execution_count": 49,
     "metadata": {},
     "output_type": "execute_result"
    },
    {
     "data": {
      "text/plain": [
       "42"
      ]
     },
     "execution_count": 49,
     "metadata": {},
     "output_type": "execute_result"
    },
    {
     "data": {
      "text/plain": [
       "1    42\n",
       "Name: Q16_15, dtype: int64"
      ]
     },
     "execution_count": 49,
     "metadata": {},
     "output_type": "execute_result"
    },
    {
     "data": {
      "text/plain": [
       "42"
      ]
     },
     "execution_count": 49,
     "metadata": {},
     "output_type": "execute_result"
    },
    {
     "data": {
      "text/plain": [
       "1    24\n",
       "2    18\n",
       "Name: Q16_16, dtype: int64"
      ]
     },
     "execution_count": 49,
     "metadata": {},
     "output_type": "execute_result"
    },
    {
     "data": {
      "text/plain": [
       "41"
      ]
     },
     "execution_count": 49,
     "metadata": {},
     "output_type": "execute_result"
    },
    {
     "data": {
      "text/plain": [
       "2    31\n",
       "1    10\n",
       "Name: Q16_17, dtype: int64"
      ]
     },
     "execution_count": 49,
     "metadata": {},
     "output_type": "execute_result"
    },
    {
     "data": {
      "text/plain": [
       "41"
      ]
     },
     "execution_count": 49,
     "metadata": {},
     "output_type": "execute_result"
    },
    {
     "data": {
      "text/plain": [
       "4    26\n",
       "3    13\n",
       "2     2\n",
       "Name: Q17_1, dtype: int64"
      ]
     },
     "execution_count": 49,
     "metadata": {},
     "output_type": "execute_result"
    },
    {
     "data": {
      "text/plain": [
       "42"
      ]
     },
     "execution_count": 49,
     "metadata": {},
     "output_type": "execute_result"
    },
    {
     "data": {
      "text/plain": [
       "4    24\n",
       "3    16\n",
       "1     2\n",
       "Name: Q17_2, dtype: int64"
      ]
     },
     "execution_count": 49,
     "metadata": {},
     "output_type": "execute_result"
    },
    {
     "data": {
      "text/plain": [
       "42"
      ]
     },
     "execution_count": 49,
     "metadata": {},
     "output_type": "execute_result"
    },
    {
     "data": {
      "text/plain": [
       "3    23\n",
       "4    14\n",
       "2     3\n",
       "1     2\n",
       "Name: Q17_3, dtype: int64"
      ]
     },
     "execution_count": 49,
     "metadata": {},
     "output_type": "execute_result"
    },
    {
     "data": {
      "text/plain": [
       "42"
      ]
     },
     "execution_count": 49,
     "metadata": {},
     "output_type": "execute_result"
    },
    {
     "data": {
      "text/plain": [
       "3    19\n",
       "4    16\n",
       "5     5\n",
       "2     2\n",
       "Name: Q17_4, dtype: int64"
      ]
     },
     "execution_count": 49,
     "metadata": {},
     "output_type": "execute_result"
    },
    {
     "data": {
      "text/plain": [
       "42"
      ]
     },
     "execution_count": 49,
     "metadata": {},
     "output_type": "execute_result"
    },
    {
     "data": {
      "text/plain": [
       "3    18\n",
       "4    16\n",
       "2     6\n",
       "5     1\n",
       "1     1\n",
       "Name: Q17_5, dtype: int64"
      ]
     },
     "execution_count": 49,
     "metadata": {},
     "output_type": "execute_result"
    },
    {
     "data": {
      "text/plain": [
       "42"
      ]
     },
     "execution_count": 49,
     "metadata": {},
     "output_type": "execute_result"
    },
    {
     "data": {
      "text/plain": [
       "3    19\n",
       "4    19\n",
       "2     2\n",
       "5     1\n",
       "1     1\n",
       "Name: Q17_6, dtype: int64"
      ]
     },
     "execution_count": 49,
     "metadata": {},
     "output_type": "execute_result"
    },
    {
     "data": {
      "text/plain": [
       "42"
      ]
     },
     "execution_count": 49,
     "metadata": {},
     "output_type": "execute_result"
    },
    {
     "data": {
      "text/plain": [
       "4    22\n",
       "3    16\n",
       "5     3\n",
       "2     1\n",
       "Name: Q17_7, dtype: int64"
      ]
     },
     "execution_count": 49,
     "metadata": {},
     "output_type": "execute_result"
    },
    {
     "data": {
      "text/plain": [
       "40"
      ]
     },
     "execution_count": 49,
     "metadata": {},
     "output_type": "execute_result"
    },
    {
     "data": {
      "text/plain": [
       "3    19\n",
       "4    18\n",
       "5     3\n",
       "Name: Q17_8, dtype: int64"
      ]
     },
     "execution_count": 49,
     "metadata": {},
     "output_type": "execute_result"
    },
    {
     "data": {
      "text/plain": [
       "42"
      ]
     },
     "execution_count": 49,
     "metadata": {},
     "output_type": "execute_result"
    },
    {
     "data": {
      "text/plain": [
       "3    20\n",
       "4    15\n",
       "5     3\n",
       "2     3\n",
       "1     1\n",
       "Name: Q17_9, dtype: int64"
      ]
     },
     "execution_count": 49,
     "metadata": {},
     "output_type": "execute_result"
    },
    {
     "data": {
      "text/plain": [
       "41"
      ]
     },
     "execution_count": 49,
     "metadata": {},
     "output_type": "execute_result"
    },
    {
     "data": {
      "text/plain": [
       "4    21\n",
       "3    11\n",
       "2     8\n",
       "5     1\n",
       "Name: Q17_10, dtype: int64"
      ]
     },
     "execution_count": 49,
     "metadata": {},
     "output_type": "execute_result"
    },
    {
     "data": {
      "text/plain": [
       "42"
      ]
     },
     "execution_count": 49,
     "metadata": {},
     "output_type": "execute_result"
    },
    {
     "data": {
      "text/plain": [
       "3    20\n",
       "4    17\n",
       "2     3\n",
       "5     2\n",
       "Name: Q17_11, dtype: int64"
      ]
     },
     "execution_count": 49,
     "metadata": {},
     "output_type": "execute_result"
    },
    {
     "data": {
      "text/plain": [
       "42"
      ]
     },
     "execution_count": 49,
     "metadata": {},
     "output_type": "execute_result"
    },
    {
     "data": {
      "text/plain": [
       "3    21\n",
       "4    14\n",
       "5     3\n",
       "1     2\n",
       "2     2\n",
       "Name: Q17_12, dtype: int64"
      ]
     },
     "execution_count": 49,
     "metadata": {},
     "output_type": "execute_result"
    },
    {
     "data": {
      "text/plain": [
       "42"
      ]
     },
     "execution_count": 49,
     "metadata": {},
     "output_type": "execute_result"
    },
    {
     "data": {
      "text/plain": [
       "4    18\n",
       "3    14\n",
       "2     9\n",
       "5     1\n",
       "Name: Q17_13, dtype: int64"
      ]
     },
     "execution_count": 49,
     "metadata": {},
     "output_type": "execute_result"
    }
   ],
   "source": [
    "df.columns.values\n",
    "\n",
    "check_cols = ['Q3_1', 'Q3_2', 'Q3_3', 'Q3_4', 'Q3_5',\n",
    "       'Q3_6', 'Q4', 'Q5', 'Q6_1', 'Q6_2', 'Q6_3', 'Q6_4', 'Q6_5', 'Q6_6',\n",
    "       'Q7_1', 'Q7_2', 'Q7_3', 'Q7_4', 'Q7_5', 'Q7_6', 'Q7_7', 'Q7_8',\n",
    "       'Q7_9', 'Q13', 'Q13_2_TEXT', 'Q14', 'Q33_1', 'Q33_2', 'Q33_3',\n",
    "       'Q33_4', 'Q34', 'Q35_1', 'Q35_2', 'Q35_3', 'Q35_4', 'Q35_5',\n",
    "       'Q35_6', 'Q35_7', 'Q35_8', 'Q35_9', 'Q35_10', 'Q36_1', 'Q36_2',\n",
    "       'Q36_3', 'Q36_4', 'Q36_5', 'Q36_6', 'Q36_7', 'Q36_8', 'Q36_9',\n",
    "       'Q36_10', 'Q37', 'Q38', 'Q39', 'Q15_1', 'Q15_2', 'Q15_3', 'Q15_4',\n",
    "       'Q15_5', 'Q15_6', 'Q15_7', 'Q15_8', 'Q15_9', 'Q15_10', 'Q15_11',\n",
    "       'Q15_12', 'Q15_13', 'Q15_14', 'Q15_15', 'Q15_16', 'Q15_17',\n",
    "       'Q15_18', 'Q15_19', 'Q15_20', 'Q15_21', 'Q15_22', 'Q15_23',\n",
    "       'Q15_24', 'Q15_25', 'Q15_26', 'Q15_27', 'Q15_28', 'Q15_29',\n",
    "       'Q16_1', 'Q16_2', 'Q16_3', 'Q16_4', 'Q16_5', 'Q16_6', 'Q16_7',\n",
    "       'Q16_8', 'Q16_9', 'Q16_10', 'Q16_11', 'Q16_12', 'Q16_13', 'Q16_14',\n",
    "       'Q16_15', 'Q16_16', 'Q16_17', 'Q17_1', 'Q17_2', 'Q17_3', 'Q17_4',\n",
    "       'Q17_5', 'Q17_6', 'Q17_7', 'Q17_8', 'Q17_9', 'Q17_10', 'Q17_11',\n",
    "       'Q17_12', 'Q17_13']\n",
    "\n",
    "for i in range(113):\n",
    "    df[check_cols[i]].value_counts().sum()\n",
    "    df[check_cols[i]].value_counts()"
   ]
  },
  {
   "cell_type": "code",
   "execution_count": 50,
   "id": "3fe30ad1-e3a1-4a16-8c85-8dc84f58de10",
   "metadata": {},
   "outputs": [],
   "source": [
    "# Check for IDs for discrepancies # Hogan and Missing value\n",
    "df['ParticipantID'].to_csv('1M_Depression_ParticipantID.csv',index=False)"
   ]
  },
  {
   "cell_type": "code",
   "execution_count": 51,
   "id": "97cde8fa-d347-4561-bf85-5670281666ae",
   "metadata": {},
   "outputs": [],
   "source": [
    "# Check Dates for discrepancies # missing value corresponding to above\n",
    "df['SurveyDate'].to_csv('1M_Depression_SurveyDate.csv',index=False)"
   ]
  },
  {
   "cell_type": "code",
   "execution_count": 52,
   "id": "8accd1c6-3f0e-4bf7-b38c-b60fab343cbd",
   "metadata": {},
   "outputs": [
    {
     "data": {
      "text/plain": [
       "Series([], Name: Q5, dtype: int64)"
      ]
     },
     "execution_count": 52,
     "metadata": {},
     "output_type": "execute_result"
    },
    {
     "data": {
      "text/plain": [
       "Series([], Name: Q13_2_TEXT, dtype: int64)"
      ]
     },
     "execution_count": 52,
     "metadata": {},
     "output_type": "execute_result"
    },
    {
     "data": {
      "text/plain": [
       "Series([], Name: Q13_2_TEXT, dtype: int64)"
      ]
     },
     "execution_count": 52,
     "metadata": {},
     "output_type": "execute_result"
    }
   ],
   "source": [
    "# Logic checks: (if statements) #all satisfied\n",
    "#Q5:\n",
    "df.loc[df['Q4']=='2','Q5'].value_counts()\n",
    "#Q10:\n",
    "df.loc[df['Q13']=='1','Q13_2_TEXT'].value_counts()\n",
    "df.loc[df['Q13']=='3','Q13_2_TEXT'].value_counts()\n"
   ]
  },
  {
   "cell_type": "code",
   "execution_count": 53,
   "id": "ba3c4d77-6d49-4dea-b8a3-3e8ca42793e1",
   "metadata": {},
   "outputs": [],
   "source": [
    "# To begin handling the missing values, we need to mark the 'N/A' values as '-888'\n",
    "\n",
    "#Q5:\n",
    "df.loc[df['Q4']=='2','Q5'] = '-888'\n",
    "#Q10:\n",
    "df.loc[df['Q13']=='1','Q13_2_TEXT'] = '-888'\n",
    "df.loc[df['Q13']=='3','Q13_2_TEXT'] = '-888'\n",
    "\n"
   ]
  },
  {
   "cell_type": "code",
   "execution_count": 56,
   "id": "b8781171-84fb-43e9-988f-ca1acc4a36bf",
   "metadata": {},
   "outputs": [
    {
     "name": "stdout",
     "output_type": "stream",
     "text": [
      "<class 'pandas.core.frame.DataFrame'>\n",
      "Int64Index: 44 entries, 0 to 43\n",
      "Data columns (total 117 columns):\n",
      " #    Column                 Non-Null Count  Dtype \n",
      "---   ------                 --------------  ----- \n",
      " 0    ParticipantID          43 non-null     object\n",
      " 1    SurveyDate             43 non-null     object\n",
      " 2    UserLanguage           44 non-null     object\n",
      " 3    Duration (in seconds)  44 non-null     object\n",
      " 4    Q3_1                   43 non-null     object\n",
      " 5    Q3_2                   43 non-null     object\n",
      " 6    Q3_3                   43 non-null     object\n",
      " 7    Q3_4                   42 non-null     object\n",
      " 8    Q3_5                   42 non-null     object\n",
      " 9    Q3_6                   42 non-null     object\n",
      " 10   Q4                     43 non-null     object\n",
      " 11   Q5                     41 non-null     object\n",
      " 12   Q6_1                   36 non-null     object\n",
      " 13   Q6_2                   37 non-null     object\n",
      " 14   Q6_3                   39 non-null     object\n",
      " 15   Q6_4                   37 non-null     object\n",
      " 16   Q6_5                   33 non-null     object\n",
      " 17   Q6_6                   33 non-null     object\n",
      " 18   Q7_1                   36 non-null     object\n",
      " 19   Q7_2                   14 non-null     object\n",
      " 20   Q7_3                   32 non-null     object\n",
      " 21   Q7_4                   32 non-null     object\n",
      " 22   Q7_5                   33 non-null     object\n",
      " 23   Q7_6                   37 non-null     object\n",
      " 24   Q7_7                   17 non-null     object\n",
      " 25   Q7_8                   29 non-null     object\n",
      " 26   Q7_9                   35 non-null     object\n",
      " 27   Q13                    43 non-null     object\n",
      " 28   Q13_2_TEXT             43 non-null     object\n",
      " 29   Q14                    42 non-null     object\n",
      " 30   Q33_1                  43 non-null     object\n",
      " 31   Q33_2                  42 non-null     object\n",
      " 32   Q33_3                  43 non-null     object\n",
      " 33   Q33_4                  42 non-null     object\n",
      " 34   Q34                    41 non-null     object\n",
      " 35   Q35_1                  42 non-null     object\n",
      " 36   Q35_2                  42 non-null     object\n",
      " 37   Q35_3                  43 non-null     object\n",
      " 38   Q35_4                  43 non-null     object\n",
      " 39   Q35_5                  43 non-null     object\n",
      " 40   Q35_6                  43 non-null     object\n",
      " 41   Q35_7                  42 non-null     object\n",
      " 42   Q35_8                  43 non-null     object\n",
      " 43   Q35_9                  42 non-null     object\n",
      " 44   Q35_10                 42 non-null     object\n",
      " 45   Q36_1                  42 non-null     object\n",
      " 46   Q36_2                  43 non-null     object\n",
      " 47   Q36_3                  42 non-null     object\n",
      " 48   Q36_4                  43 non-null     object\n",
      " 49   Q36_5                  41 non-null     object\n",
      " 50   Q36_6                  43 non-null     object\n",
      " 51   Q36_7                  42 non-null     object\n",
      " 52   Q36_8                  42 non-null     object\n",
      " 53   Q36_9                  42 non-null     object\n",
      " 54   Q36_10                 41 non-null     object\n",
      " 55   Q37                    32 non-null     object\n",
      " 56   Q38                    32 non-null     object\n",
      " 57   Q39                    30 non-null     object\n",
      " 58   Q15_1                  43 non-null     object\n",
      " 59   Q15_2                  43 non-null     object\n",
      " 60   Q15_3                  43 non-null     object\n",
      " 61   Q15_4                  43 non-null     object\n",
      " 62   Q15_5                  43 non-null     object\n",
      " 63   Q15_6                  43 non-null     object\n",
      " 64   Q15_7                  43 non-null     object\n",
      " 65   Q15_8                  43 non-null     object\n",
      " 66   Q15_9                  43 non-null     object\n",
      " 67   Q15_10                 43 non-null     object\n",
      " 68   Q15_11                 42 non-null     object\n",
      " 69   Q15_12                 42 non-null     object\n",
      " 70   Q15_13                 42 non-null     object\n",
      " 71   Q15_14                 42 non-null     object\n",
      " 72   Q15_15                 42 non-null     object\n",
      " 73   Q15_16                 42 non-null     object\n",
      " 74   Q15_17                 42 non-null     object\n",
      " 75   Q15_18                 42 non-null     object\n",
      " 76   Q15_19                 42 non-null     object\n",
      " 77   Q15_20                 42 non-null     object\n",
      " 78   Q15_21                 41 non-null     object\n",
      " 79   Q15_22                 42 non-null     object\n",
      " 80   Q15_23                 42 non-null     object\n",
      " 81   Q15_24                 42 non-null     object\n",
      " 82   Q15_25                 42 non-null     object\n",
      " 83   Q15_26                 42 non-null     object\n",
      " 84   Q15_27                 42 non-null     object\n",
      " 85   Q15_28                 42 non-null     object\n",
      " 86   Q15_29                 41 non-null     object\n",
      " 87   Q16_1                  42 non-null     object\n",
      " 88   Q16_2                  42 non-null     object\n",
      " 89   Q16_3                  42 non-null     object\n",
      " 90   Q16_4                  42 non-null     object\n",
      " 91   Q16_5                  42 non-null     object\n",
      " 92   Q16_6                  42 non-null     object\n",
      " 93   Q16_7                  42 non-null     object\n",
      " 94   Q16_8                  42 non-null     object\n",
      " 95   Q16_9                  42 non-null     object\n",
      " 96   Q16_10                 42 non-null     object\n",
      " 97   Q16_11                 42 non-null     object\n",
      " 98   Q16_12                 42 non-null     object\n",
      " 99   Q16_13                 42 non-null     object\n",
      " 100  Q16_14                 41 non-null     object\n",
      " 101  Q16_15                 42 non-null     object\n",
      " 102  Q16_16                 42 non-null     object\n",
      " 103  Q16_17                 41 non-null     object\n",
      " 104  Q17_1                  41 non-null     object\n",
      " 105  Q17_2                  42 non-null     object\n",
      " 106  Q17_3                  42 non-null     object\n",
      " 107  Q17_4                  42 non-null     object\n",
      " 108  Q17_5                  42 non-null     object\n",
      " 109  Q17_6                  42 non-null     object\n",
      " 110  Q17_7                  42 non-null     object\n",
      " 111  Q17_8                  40 non-null     object\n",
      " 112  Q17_9                  42 non-null     object\n",
      " 113  Q17_10                 41 non-null     object\n",
      " 114  Q17_11                 42 non-null     object\n",
      " 115  Q17_12                 42 non-null     object\n",
      " 116  Q17_13                 42 non-null     object\n",
      "dtypes: object(117)\n",
      "memory usage: 41.6+ KB\n"
     ]
    },
    {
     "data": {
      "text/plain": [
       "<AxesSubplot:>"
      ]
     },
     "execution_count": 56,
     "metadata": {},
     "output_type": "execute_result"
    },
    {
     "data": {
      "image/png": "[encoded data removed]",
      "text/plain": [
       "<Figure size 432x288 with 1 Axes>"
      ]
     },
     "metadata": {
      "needs_background": "light"
     },
     "output_type": "display_data"
    }
   ],
   "source": [
    "# Look at which questions have the most missing values\n",
    "df.info(verbose=True,show_counts=True)\n",
    "# Heatmap to visualize the pattern of missing values\n",
    "sns.heatmap(df.isnull(),cbar=False)"
   ]
  },
  {
   "cell_type": "code",
   "execution_count": 58,
   "id": "b1197ada-f69d-4488-8c69-0b42bcd9ad19",
   "metadata": {},
   "outputs": [
    {
     "name": "stdout",
     "output_type": "stream",
     "text": [
      "<class 'pandas.core.frame.DataFrame'>\n",
      "Int64Index: 44 entries, 0 to 43\n",
      "Data columns (total 117 columns):\n",
      " #    Column                 Non-Null Count  Dtype \n",
      "---   ------                 --------------  ----- \n",
      " 0    ParticipantID          44 non-null     object\n",
      " 1    SurveyDate             44 non-null     object\n",
      " 2    UserLanguage           44 non-null     object\n",
      " 3    Duration (in seconds)  44 non-null     object\n",
      " 4    Q3_1                   44 non-null     object\n",
      " 5    Q3_2                   44 non-null     object\n",
      " 6    Q3_3                   44 non-null     object\n",
      " 7    Q3_4                   44 non-null     object\n",
      " 8    Q3_5                   44 non-null     object\n",
      " 9    Q3_6                   44 non-null     object\n",
      " 10   Q4                     44 non-null     object\n",
      " 11   Q5                     44 non-null     object\n",
      " 12   Q6_1                   44 non-null     object\n",
      " 13   Q6_2                   44 non-null     object\n",
      " 14   Q6_3                   44 non-null     object\n",
      " 15   Q6_4                   44 non-null     object\n",
      " 16   Q6_5                   44 non-null     object\n",
      " 17   Q6_6                   44 non-null     object\n",
      " 18   Q7_1                   44 non-null     object\n",
      " 19   Q7_2                   44 non-null     object\n",
      " 20   Q7_3                   44 non-null     object\n",
      " 21   Q7_4                   44 non-null     object\n",
      " 22   Q7_5                   44 non-null     object\n",
      " 23   Q7_6                   44 non-null     object\n",
      " 24   Q7_7                   44 non-null     object\n",
      " 25   Q7_8                   44 non-null     object\n",
      " 26   Q7_9                   44 non-null     object\n",
      " 27   Q13                    44 non-null     object\n",
      " 28   Q13_2_TEXT             44 non-null     object\n",
      " 29   Q14                    44 non-null     object\n",
      " 30   Q33_1                  44 non-null     object\n",
      " 31   Q33_2                  44 non-null     object\n",
      " 32   Q33_3                  44 non-null     object\n",
      " 33   Q33_4                  44 non-null     object\n",
      " 34   Q34                    44 non-null     object\n",
      " 35   Q35_1                  44 non-null     object\n",
      " 36   Q35_2                  44 non-null     object\n",
      " 37   Q35_3                  44 non-null     object\n",
      " 38   Q35_4                  44 non-null     object\n",
      " 39   Q35_5                  44 non-null     object\n",
      " 40   Q35_6                  44 non-null     object\n",
      " 41   Q35_7                  44 non-null     object\n",
      " 42   Q35_8                  44 non-null     object\n",
      " 43   Q35_9                  44 non-null     object\n",
      " 44   Q35_10                 44 non-null     object\n",
      " 45   Q36_1                  44 non-null     object\n",
      " 46   Q36_2                  44 non-null     object\n",
      " 47   Q36_3                  44 non-null     object\n",
      " 48   Q36_4                  44 non-null     object\n",
      " 49   Q36_5                  44 non-null     object\n",
      " 50   Q36_6                  44 non-null     object\n",
      " 51   Q36_7                  44 non-null     object\n",
      " 52   Q36_8                  44 non-null     object\n",
      " 53   Q36_9                  44 non-null     object\n",
      " 54   Q36_10                 44 non-null     object\n",
      " 55   Q37                    44 non-null     object\n",
      " 56   Q38                    44 non-null     object\n",
      " 57   Q39                    44 non-null     object\n",
      " 58   Q15_1                  44 non-null     object\n",
      " 59   Q15_2                  44 non-null     object\n",
      " 60   Q15_3                  44 non-null     object\n",
      " 61   Q15_4                  44 non-null     object\n",
      " 62   Q15_5                  44 non-null     object\n",
      " 63   Q15_6                  44 non-null     object\n",
      " 64   Q15_7                  44 non-null     object\n",
      " 65   Q15_8                  44 non-null     object\n",
      " 66   Q15_9                  44 non-null     object\n",
      " 67   Q15_10                 44 non-null     object\n",
      " 68   Q15_11                 44 non-null     object\n",
      " 69   Q15_12                 44 non-null     object\n",
      " 70   Q15_13                 44 non-null     object\n",
      " 71   Q15_14                 44 non-null     object\n",
      " 72   Q15_15                 44 non-null     object\n",
      " 73   Q15_16                 44 non-null     object\n",
      " 74   Q15_17                 44 non-null     object\n",
      " 75   Q15_18                 44 non-null     object\n",
      " 76   Q15_19                 44 non-null     object\n",
      " 77   Q15_20                 44 non-null     object\n",
      " 78   Q15_21                 44 non-null     object\n",
      " 79   Q15_22                 44 non-null     object\n",
      " 80   Q15_23                 44 non-null     object\n",
      " 81   Q15_24                 44 non-null     object\n",
      " 82   Q15_25                 44 non-null     object\n",
      " 83   Q15_26                 44 non-null     object\n",
      " 84   Q15_27                 44 non-null     object\n",
      " 85   Q15_28                 44 non-null     object\n",
      " 86   Q15_29                 44 non-null     object\n",
      " 87   Q16_1                  44 non-null     object\n",
      " 88   Q16_2                  44 non-null     object\n",
      " 89   Q16_3                  44 non-null     object\n",
      " 90   Q16_4                  44 non-null     object\n",
      " 91   Q16_5                  44 non-null     object\n",
      " 92   Q16_6                  44 non-null     object\n",
      " 93   Q16_7                  44 non-null     object\n",
      " 94   Q16_8                  44 non-null     object\n",
      " 95   Q16_9                  44 non-null     object\n",
      " 96   Q16_10                 44 non-null     object\n",
      " 97   Q16_11                 44 non-null     object\n",
      " 98   Q16_12                 44 non-null     object\n",
      " 99   Q16_13                 44 non-null     object\n",
      " 100  Q16_14                 44 non-null     object\n",
      " 101  Q16_15                 44 non-null     object\n",
      " 102  Q16_16                 44 non-null     object\n",
      " 103  Q16_17                 44 non-null     object\n",
      " 104  Q17_1                  44 non-null     object\n",
      " 105  Q17_2                  44 non-null     object\n",
      " 106  Q17_3                  44 non-null     object\n",
      " 107  Q17_4                  44 non-null     object\n",
      " 108  Q17_5                  44 non-null     object\n",
      " 109  Q17_6                  44 non-null     object\n",
      " 110  Q17_7                  44 non-null     object\n",
      " 111  Q17_8                  44 non-null     object\n",
      " 112  Q17_9                  44 non-null     object\n",
      " 113  Q17_10                 44 non-null     object\n",
      " 114  Q17_11                 44 non-null     object\n",
      " 115  Q17_12                 44 non-null     object\n",
      " 116  Q17_13                 44 non-null     object\n",
      "dtypes: object(117)\n",
      "memory usage: 41.6+ KB\n"
     ]
    }
   ],
   "source": [
    "# Fill in missing values as '-999' and export to *.csv\n",
    "\n",
    "df.fillna('-999',inplace=True)\n",
    "df.info(verbose=True,show_counts=True)\n",
    "df.to_csv('V1_Cleaned_1M_Depression.csv',index=False)"
   ]
  },
  {
   "cell_type": "code",
   "execution_count": null,
   "id": "1ca85336-404f-456d-8bf0-ad3b45d82f41",
   "metadata": {},
   "outputs": [],
   "source": []
  }
 ],
 "metadata": {
  "kernelspec": {
   "display_name": "Python 3",
   "language": "python",
   "name": "python3"
  },
  "language_info": {
   "codemirror_mode": {
    "name": "ipython",
    "version": 3
   },
   "file_extension": ".py",
   "mimetype": "text/x-python",
   "name": "python",
   "nbconvert_exporter": "python",
   "pygments_lexer": "ipython3",
   "version": "3.8.8"
  }
 },
 "nbformat": 4,
 "nbformat_minor": 5
}
