{
 "cells": [
  {
   "cell_type": "code",
   "execution_count": 25,
   "id": "be977a84-711e-42c1-98db-8c66b6454ff6",
   "metadata": {},
   "outputs": [],
   "source": [
    "# Set up environment\n",
    "\n",
    "from IPython.core.interactiveshell import InteractiveShell\n",
    "InteractiveShell.ast_node_interactivity = \"all\"\n",
    "\n",
    "import pandas as pd\n",
    "import numpy as np\n",
    "import seaborn as sns"
   ]
  },
  {
   "cell_type": "code",
   "execution_count": 26,
   "id": "4b1d1b35-9c56-4053-89e5-c599f1c7a303",
   "metadata": {},
   "outputs": [],
   "source": [
    "# Read in datasets\n",
    "\n",
    "#DF 1 --> diabetes\n",
    "\n",
    "df1_b = pd.read_csv('V1_Cleaned_Baseline_Diabetes.csv',na_values='-999')\n",
    "df1_m = pd.read_csv('V1_Cleaned_1M_Diabetes.csv',na_values='-999')"
   ]
  },
  {
   "cell_type": "code",
   "execution_count": 27,
   "id": "cd2d011b-dc85-4b79-a9cb-2ce41f6f2d01",
   "metadata": {},
   "outputs": [
    {
     "data": {
      "text/plain": [
       "array([ 175,  362,  889,  905, 1183, 1485, 1550, 1563, 1850, 2228, 2369,\n",
       "       3198, 3485, 3548, 3707, 4035, 4421, 4532, 4646, 4749, 5532, 5694,\n",
       "       5707, 6004, 6144, 6227, 7308, 7615, 7632, 7865, 8315, 8599, 8882,\n",
       "       9629, 9679, 9766, 9985])"
      ]
     },
     "execution_count": 27,
     "metadata": {},
     "output_type": "execute_result"
    }
   ],
   "source": [
    "# Use np.settdiff1d to make sure there were no added participants who did not\n",
    "# take baseline survey\n",
    "\n",
    "missing_at_baseline = np.setdiff1d(df1_m['ParticipantID'],df1_b['ParticipantID'])\n",
    "missing_at_baseline"
   ]
  },
  {
   "cell_type": "code",
   "execution_count": 28,
   "id": "cee41ebd-f3f6-47aa-9c21-325b205b6b61",
   "metadata": {},
   "outputs": [
    {
     "data": {
      "text/plain": [
       "0     6004\n",
       "1     3707\n",
       "2     9152\n",
       "3     9525\n",
       "4     2369\n",
       "      ... \n",
       "58    7615\n",
       "59    8295\n",
       "60    9902\n",
       "61    5169\n",
       "62    7751\n",
       "Name: ParticipantID, Length: 63, dtype: object"
      ]
     },
     "execution_count": 28,
     "metadata": {},
     "output_type": "execute_result"
    }
   ],
   "source": [
    "# Get LTF participants \n",
    "df1_b['ParticipantID']"
   ]
  },
  {
   "cell_type": "code",
   "execution_count": 29,
   "id": "a5c73ab3-fea4-4fe4-81b3-ce66567ac9be",
   "metadata": {},
   "outputs": [
    {
     "data": {
      "text/plain": [
       "0     9629\n",
       "1     6144\n",
       "2     7632\n",
       "3     1550\n",
       "4     4035\n",
       "5     2369\n",
       "6     5532\n",
       "7     4749\n",
       "8     3548\n",
       "9     7865\n",
       "10    2228\n",
       "11    3707\n",
       "12    4532\n",
       "13    9985\n",
       "14     362\n",
       "15    1563\n",
       "16    8315\n",
       "17    7308\n",
       "18    7615\n",
       "19    9679\n",
       "20    1183\n",
       "21    8882\n",
       "22    5694\n",
       "23    1850\n",
       "24     905\n",
       "25     175\n",
       "26    3485\n",
       "27    3198\n",
       "28    5707\n",
       "29     889\n",
       "30    4646\n",
       "31    1485\n",
       "32    8599\n",
       "33    6227\n",
       "34    4421\n",
       "35    9766\n",
       "36    6004\n",
       "Name: ParticipantID, dtype: int64"
      ]
     },
     "execution_count": 29,
     "metadata": {},
     "output_type": "execute_result"
    }
   ],
   "source": [
    "df1_m['ParticipantID']"
   ]
  },
  {
   "cell_type": "code",
   "execution_count": null,
   "id": "9e469019-7553-4eef-ab65-fec58d27ed32",
   "metadata": {},
   "outputs": [],
   "source": []
  }
 ],
 "metadata": {
  "kernelspec": {
   "display_name": "Python 3",
   "language": "python",
   "name": "python3"
  },
  "language_info": {
   "codemirror_mode": {
    "name": "ipython",
    "version": 3
   },
   "file_extension": ".py",
   "mimetype": "text/x-python",
   "name": "python",
   "nbconvert_exporter": "python",
   "pygments_lexer": "ipython3",
   "version": "3.8.8"
  }
 },
 "nbformat": 4,
 "nbformat_minor": 5
}
