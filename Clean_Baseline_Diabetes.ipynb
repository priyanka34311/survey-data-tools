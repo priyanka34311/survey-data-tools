{
 "cells": [
  {
   "cell_type": "code",
   "execution_count": 49,
   "id": "83945eb5-3f0f-4a69-8573-9e54586a1a81",
   "metadata": {},
   "outputs": [],
   "source": [
    "# Set up environment\n",
    "\n",
    "from IPython.core.interactiveshell import InteractiveShell\n",
    "InteractiveShell.ast_node_interactivity = \"all\"\n",
    "\n",
    "import pandas as pd\n",
    "import numpy as np\n",
    "import seaborn as sns"
   ]
  },
  {
   "cell_type": "code",
   "execution_count": 50,
   "id": "c1857615-f0c2-4349-a08a-979139f49de8",
   "metadata": {
    "tags": []
   },
   "outputs": [
    {
     "data": {
      "text/plain": [
       "(65, 124)"
      ]
     },
     "execution_count": 50,
     "metadata": {},
     "output_type": "execute_result"
    },
    {
     "data": {
      "text/plain": [
       "array(['StartDate', 'EndDate', 'Status', 'IPAddress', 'Progress',\n",
       "       'Duration (in seconds)', 'Finished', 'RecordedDate', 'ResponseId',\n",
       "       'RecipientLastName', 'RecipientFirstName', 'RecipientEmail',\n",
       "       'ExternalReference', 'LocationLatitude', 'LocationLongitude',\n",
       "       'DistributionChannel', 'UserLanguage', 'Q1', 'Q2', 'Q3_1', 'Q3_2',\n",
       "       'Q3_3', 'Q3_4', 'Q3_5', 'Q4', 'Q5', 'Q6_1', 'Q6_2', 'Q6_3', 'Q6_4',\n",
       "       'Q6_5', 'Q7_1', 'Q7_2', 'Q7_3', 'Q7_4', 'Q7_5', 'Q8', 'Q9', 'Q10',\n",
       "       'Q11', 'Q12', 'Q13', 'Q13_2_TEXT', 'Q14', 'Q15_1', 'Q15_2',\n",
       "       'Q15_3', 'Q15_4', 'Q15_5', 'Q15_6', 'Q15_7', 'Q15_8', 'Q15_9',\n",
       "       'Q15_10', 'Q15_11', 'Q15_12', 'Q15_13', 'Q15_14', 'Q15_15',\n",
       "       'Q15_16', 'Q15_17', 'Q15_18', 'Q15_19', 'Q15_20', 'Q15_21',\n",
       "       'Q15_22', 'Q15_23', 'Q15_24', 'Q15_25', 'Q15_26', 'Q15_27',\n",
       "       'Q15_28', 'Q15_29', 'Q16_1', 'Q16_2', 'Q16_3', 'Q16_4', 'Q16_5',\n",
       "       'Q16_6', 'Q16_7', 'Q16_8', 'Q16_9', 'Q16_10', 'Q16_11', 'Q16_12',\n",
       "       'Q16_13', 'Q16_14', 'Q16_15', 'Q16_16', 'Q16_17', 'Q16_18',\n",
       "       'Q16_19', 'Q16_20', 'Q16_21', 'Q17_1', 'Q17_2', 'Q17_3', 'Q17_4',\n",
       "       'Q17_5', 'Q17_6', 'Q17_7', 'Q17_8', 'Q17_9', 'Q17_10', 'Q17_11',\n",
       "       'Q17_12', 'Q17_13', 'Q18', 'Q32', 'Q19', 'Q20', 'Q21',\n",
       "       'Q21_3_TEXT', 'Q22', 'Q23', 'Q24', 'Q25', 'Q26', 'Q27', 'Q28',\n",
       "       'Q29', 'Q30', 'Q30_2_TEXT', 'Q31'], dtype=object)"
      ]
     },
     "execution_count": 50,
     "metadata": {},
     "output_type": "execute_result"
    }
   ],
   "source": [
    "# Read in and preview dataset\n",
    "\n",
    "df = pd.read_csv('Conexion Baseline:Diabetes.csv')\n",
    "df.shape\n",
    "#df.info(verbose=True,show_counts=True)\n",
    "#df.head()\n",
    "#df.tail().T\n",
    "df.columns.values\n"
   ]
  },
  {
   "cell_type": "code",
   "execution_count": 51,
   "id": "08a6d51b-064b-4b98-afa0-e97073a4d274",
   "metadata": {},
   "outputs": [
    {
     "data": {
      "text/html": [
       "<div>\n",
       "<style scoped>\n",
       "    .dataframe tbody tr th:only-of-type {\n",
       "        vertical-align: middle;\n",
       "    }\n",
       "\n",
       "    .dataframe tbody tr th {\n",
       "        vertical-align: top;\n",
       "    }\n",
       "\n",
       "    .dataframe thead th {\n",
       "        text-align: right;\n",
       "    }\n",
       "</style>\n",
       "<table border=\"1\" class=\"dataframe\">\n",
       "  <thead>\n",
       "    <tr style=\"text-align: right;\">\n",
       "      <th></th>\n",
       "      <th>StartDate</th>\n",
       "      <th>EndDate</th>\n",
       "      <th>Status</th>\n",
       "      <th>IPAddress</th>\n",
       "      <th>Progress</th>\n",
       "      <th>Duration (in seconds)</th>\n",
       "      <th>Finished</th>\n",
       "      <th>RecordedDate</th>\n",
       "      <th>ResponseId</th>\n",
       "      <th>RecipientLastName</th>\n",
       "      <th>...</th>\n",
       "      <th>Q23</th>\n",
       "      <th>Q24</th>\n",
       "      <th>Q25</th>\n",
       "      <th>Q26</th>\n",
       "      <th>Q27</th>\n",
       "      <th>Q28</th>\n",
       "      <th>Q29</th>\n",
       "      <th>Q30</th>\n",
       "      <th>Q30_2_TEXT</th>\n",
       "      <th>Q31</th>\n",
       "    </tr>\n",
       "  </thead>\n",
       "  <tbody>\n",
       "    <tr>\n",
       "      <th>2</th>\n",
       "      <td>2020-01-31 11:34:03</td>\n",
       "      <td>2020-01-31 11:36:39</td>\n",
       "      <td>4</td>\n",
       "      <td>156.111.111.218</td>\n",
       "      <td>100</td>\n",
       "      <td>156</td>\n",
       "      <td>1</td>\n",
       "      <td>2021-06-25 09:29:49</td>\n",
       "      <td>R_0vm0KyeIk3DuuH4</td>\n",
       "      <td>NaN</td>\n",
       "      <td>...</td>\n",
       "      <td>30</td>\n",
       "      <td>5</td>\n",
       "      <td>5</td>\n",
       "      <td>1</td>\n",
       "      <td>1</td>\n",
       "      <td>1</td>\n",
       "      <td>2</td>\n",
       "      <td>2</td>\n",
       "      <td>DR</td>\n",
       "      <td>34</td>\n",
       "    </tr>\n",
       "    <tr>\n",
       "      <th>3</th>\n",
       "      <td>2019-11-11 10:50:20</td>\n",
       "      <td>2019-11-11 10:53:45</td>\n",
       "      <td>4</td>\n",
       "      <td>156.111.111.152</td>\n",
       "      <td>100</td>\n",
       "      <td>205</td>\n",
       "      <td>1</td>\n",
       "      <td>2021-06-25 09:29:49</td>\n",
       "      <td>R_3z0HyQn3i4cQAfQ</td>\n",
       "      <td>NaN</td>\n",
       "      <td>...</td>\n",
       "      <td>40</td>\n",
       "      <td>4</td>\n",
       "      <td>5</td>\n",
       "      <td>2</td>\n",
       "      <td>4</td>\n",
       "      <td>3</td>\n",
       "      <td>1</td>\n",
       "      <td>2</td>\n",
       "      <td>Italy</td>\n",
       "      <td>45</td>\n",
       "    </tr>\n",
       "    <tr>\n",
       "      <th>4</th>\n",
       "      <td>2020-01-31 11:43:17</td>\n",
       "      <td>2020-01-31 11:54:16</td>\n",
       "      <td>4</td>\n",
       "      <td>156.111.111.218</td>\n",
       "      <td>100</td>\n",
       "      <td>659</td>\n",
       "      <td>1</td>\n",
       "      <td>2021-06-25 09:29:49</td>\n",
       "      <td>R_86Uy7YAXspTcyRU</td>\n",
       "      <td>NaN</td>\n",
       "      <td>...</td>\n",
       "      <td>50</td>\n",
       "      <td>4</td>\n",
       "      <td>5</td>\n",
       "      <td>NaN</td>\n",
       "      <td>NaN</td>\n",
       "      <td>4</td>\n",
       "      <td>2</td>\n",
       "      <td>2</td>\n",
       "      <td>Jamaica</td>\n",
       "      <td>50+</td>\n",
       "    </tr>\n",
       "    <tr>\n",
       "      <th>5</th>\n",
       "      <td>2020-01-23 11:41:47</td>\n",
       "      <td>2020-01-23 11:45:29</td>\n",
       "      <td>4</td>\n",
       "      <td>156.111.111.218</td>\n",
       "      <td>100</td>\n",
       "      <td>221</td>\n",
       "      <td>1</td>\n",
       "      <td>2021-06-25 09:29:49</td>\n",
       "      <td>R_9vEueQiCHzsQi58</td>\n",
       "      <td>NaN</td>\n",
       "      <td>...</td>\n",
       "      <td>NaN</td>\n",
       "      <td>NaN</td>\n",
       "      <td>NaN</td>\n",
       "      <td>NaN</td>\n",
       "      <td>NaN</td>\n",
       "      <td>1</td>\n",
       "      <td>NaN</td>\n",
       "      <td>NaN</td>\n",
       "      <td>NaN</td>\n",
       "      <td>NaN</td>\n",
       "    </tr>\n",
       "    <tr>\n",
       "      <th>6</th>\n",
       "      <td>2020-01-23 12:12:41</td>\n",
       "      <td>2020-01-23 12:15:23</td>\n",
       "      <td>4</td>\n",
       "      <td>156.111.111.218</td>\n",
       "      <td>100</td>\n",
       "      <td>161</td>\n",
       "      <td>1</td>\n",
       "      <td>2021-06-25 09:29:49</td>\n",
       "      <td>R_0Ba77b9iP0XBkPk</td>\n",
       "      <td>NaN</td>\n",
       "      <td>...</td>\n",
       "      <td>35</td>\n",
       "      <td>5</td>\n",
       "      <td>5</td>\n",
       "      <td>2</td>\n",
       "      <td>NaN</td>\n",
       "      <td>3</td>\n",
       "      <td>2</td>\n",
       "      <td>2</td>\n",
       "      <td>DR</td>\n",
       "      <td>35</td>\n",
       "    </tr>\n",
       "    <tr>\n",
       "      <th>...</th>\n",
       "      <td>...</td>\n",
       "      <td>...</td>\n",
       "      <td>...</td>\n",
       "      <td>...</td>\n",
       "      <td>...</td>\n",
       "      <td>...</td>\n",
       "      <td>...</td>\n",
       "      <td>...</td>\n",
       "      <td>...</td>\n",
       "      <td>...</td>\n",
       "      <td>...</td>\n",
       "      <td>...</td>\n",
       "      <td>...</td>\n",
       "      <td>...</td>\n",
       "      <td>...</td>\n",
       "      <td>...</td>\n",
       "      <td>...</td>\n",
       "      <td>...</td>\n",
       "      <td>...</td>\n",
       "      <td>...</td>\n",
       "      <td>...</td>\n",
       "    </tr>\n",
       "    <tr>\n",
       "      <th>60</th>\n",
       "      <td>2020-01-10 10:14:07</td>\n",
       "      <td>2020-01-10 10:17:34</td>\n",
       "      <td>4</td>\n",
       "      <td>156.111.111.152</td>\n",
       "      <td>100</td>\n",
       "      <td>207</td>\n",
       "      <td>1</td>\n",
       "      <td>2021-06-25 09:29:49</td>\n",
       "      <td>R_eRqgEROZHQ16Mjc</td>\n",
       "      <td>NaN</td>\n",
       "      <td>...</td>\n",
       "      <td>34</td>\n",
       "      <td>4</td>\n",
       "      <td>4</td>\n",
       "      <td>2</td>\n",
       "      <td>1</td>\n",
       "      <td>1</td>\n",
       "      <td>2</td>\n",
       "      <td>2</td>\n",
       "      <td>DR</td>\n",
       "      <td>34</td>\n",
       "    </tr>\n",
       "    <tr>\n",
       "      <th>61</th>\n",
       "      <td>2019-09-03 12:28:16</td>\n",
       "      <td>2019-09-03 12:33:45</td>\n",
       "      <td>4</td>\n",
       "      <td>156.111.111.160</td>\n",
       "      <td>100</td>\n",
       "      <td>329</td>\n",
       "      <td>1</td>\n",
       "      <td>2021-06-25 09:29:49</td>\n",
       "      <td>R_4TUCWqIxQ25W7K6</td>\n",
       "      <td>NaN</td>\n",
       "      <td>...</td>\n",
       "      <td>20</td>\n",
       "      <td>4</td>\n",
       "      <td>5</td>\n",
       "      <td>1</td>\n",
       "      <td>3</td>\n",
       "      <td>2</td>\n",
       "      <td>2</td>\n",
       "      <td>2</td>\n",
       "      <td>U.K.</td>\n",
       "      <td>50+</td>\n",
       "    </tr>\n",
       "    <tr>\n",
       "      <th>62</th>\n",
       "      <td>2019-11-25 10:03:00</td>\n",
       "      <td>2019-11-25 10:13:26</td>\n",
       "      <td>4</td>\n",
       "      <td>156.111.111.152</td>\n",
       "      <td>100</td>\n",
       "      <td>625</td>\n",
       "      <td>1</td>\n",
       "      <td>2021-06-25 09:29:49</td>\n",
       "      <td>R_9EtyT8FQbuILNRA</td>\n",
       "      <td>NaN</td>\n",
       "      <td>...</td>\n",
       "      <td>30</td>\n",
       "      <td>5</td>\n",
       "      <td>5</td>\n",
       "      <td>NaN</td>\n",
       "      <td>2</td>\n",
       "      <td>NaN</td>\n",
       "      <td>1</td>\n",
       "      <td>2</td>\n",
       "      <td>Lima, Peru</td>\n",
       "      <td>54</td>\n",
       "    </tr>\n",
       "    <tr>\n",
       "      <th>63</th>\n",
       "      <td>2019-11-04 09:19:46</td>\n",
       "      <td>2019-11-04 09:24:59</td>\n",
       "      <td>4</td>\n",
       "      <td>156.111.111.152</td>\n",
       "      <td>100</td>\n",
       "      <td>313</td>\n",
       "      <td>1</td>\n",
       "      <td>2021-06-25 09:29:49</td>\n",
       "      <td>R_ddqy4Xkr5Xr2EXs</td>\n",
       "      <td>NaN</td>\n",
       "      <td>...</td>\n",
       "      <td>45</td>\n",
       "      <td>4</td>\n",
       "      <td>4</td>\n",
       "      <td>1</td>\n",
       "      <td>1</td>\n",
       "      <td>1</td>\n",
       "      <td>2</td>\n",
       "      <td>2</td>\n",
       "      <td>Dominican Republic</td>\n",
       "      <td>47</td>\n",
       "    </tr>\n",
       "    <tr>\n",
       "      <th>64</th>\n",
       "      <td>2020-11-17 13:56:48</td>\n",
       "      <td>2020-11-17 13:59:48</td>\n",
       "      <td>4</td>\n",
       "      <td>98.203.88.57</td>\n",
       "      <td>6</td>\n",
       "      <td>180</td>\n",
       "      <td>0</td>\n",
       "      <td>2021-06-25 09:29:49</td>\n",
       "      <td>R_eLgkGZ3222SEXjw</td>\n",
       "      <td>NaN</td>\n",
       "      <td>...</td>\n",
       "      <td>NaN</td>\n",
       "      <td>NaN</td>\n",
       "      <td>NaN</td>\n",
       "      <td>NaN</td>\n",
       "      <td>NaN</td>\n",
       "      <td>NaN</td>\n",
       "      <td>NaN</td>\n",
       "      <td>NaN</td>\n",
       "      <td>NaN</td>\n",
       "      <td>NaN</td>\n",
       "    </tr>\n",
       "  </tbody>\n",
       "</table>\n",
       "<p>63 rows × 124 columns</p>\n",
       "</div>"
      ],
      "text/plain": [
       "              StartDate              EndDate Status        IPAddress Progress  \\\n",
       "2   2020-01-31 11:34:03  2020-01-31 11:36:39      4  156.111.111.218      100   \n",
       "3   2019-11-11 10:50:20  2019-11-11 10:53:45      4  156.111.111.152      100   \n",
       "4   2020-01-31 11:43:17  2020-01-31 11:54:16      4  156.111.111.218      100   \n",
       "5   2020-01-23 11:41:47  2020-01-23 11:45:29      4  156.111.111.218      100   \n",
       "6   2020-01-23 12:12:41  2020-01-23 12:15:23      4  156.111.111.218      100   \n",
       "..                  ...                  ...    ...              ...      ...   \n",
       "60  2020-01-10 10:14:07  2020-01-10 10:17:34      4  156.111.111.152      100   \n",
       "61  2019-09-03 12:28:16  2019-09-03 12:33:45      4  156.111.111.160      100   \n",
       "62  2019-11-25 10:03:00  2019-11-25 10:13:26      4  156.111.111.152      100   \n",
       "63  2019-11-04 09:19:46  2019-11-04 09:24:59      4  156.111.111.152      100   \n",
       "64  2020-11-17 13:56:48  2020-11-17 13:59:48      4     98.203.88.57        6   \n",
       "\n",
       "   Duration (in seconds) Finished         RecordedDate         ResponseId  \\\n",
       "2                    156        1  2021-06-25 09:29:49  R_0vm0KyeIk3DuuH4   \n",
       "3                    205        1  2021-06-25 09:29:49  R_3z0HyQn3i4cQAfQ   \n",
       "4                    659        1  2021-06-25 09:29:49  R_86Uy7YAXspTcyRU   \n",
       "5                    221        1  2021-06-25 09:29:49  R_9vEueQiCHzsQi58   \n",
       "6                    161        1  2021-06-25 09:29:49  R_0Ba77b9iP0XBkPk   \n",
       "..                   ...      ...                  ...                ...   \n",
       "60                   207        1  2021-06-25 09:29:49  R_eRqgEROZHQ16Mjc   \n",
       "61                   329        1  2021-06-25 09:29:49  R_4TUCWqIxQ25W7K6   \n",
       "62                   625        1  2021-06-25 09:29:49  R_9EtyT8FQbuILNRA   \n",
       "63                   313        1  2021-06-25 09:29:49  R_ddqy4Xkr5Xr2EXs   \n",
       "64                   180        0  2021-06-25 09:29:49  R_eLgkGZ3222SEXjw   \n",
       "\n",
       "   RecipientLastName  ...  Q23  Q24  Q25  Q26  Q27  Q28  Q29  Q30  \\\n",
       "2                NaN  ...   30    5    5    1    1    1    2    2   \n",
       "3                NaN  ...   40    4    5    2    4    3    1    2   \n",
       "4                NaN  ...   50    4    5  NaN  NaN    4    2    2   \n",
       "5                NaN  ...  NaN  NaN  NaN  NaN  NaN    1  NaN  NaN   \n",
       "6                NaN  ...   35    5    5    2  NaN    3    2    2   \n",
       "..               ...  ...  ...  ...  ...  ...  ...  ...  ...  ...   \n",
       "60               NaN  ...   34    4    4    2    1    1    2    2   \n",
       "61               NaN  ...   20    4    5    1    3    2    2    2   \n",
       "62               NaN  ...   30    5    5  NaN    2  NaN    1    2   \n",
       "63               NaN  ...   45    4    4    1    1    1    2    2   \n",
       "64               NaN  ...  NaN  NaN  NaN  NaN  NaN  NaN  NaN  NaN   \n",
       "\n",
       "            Q30_2_TEXT  Q31  \n",
       "2                   DR   34  \n",
       "3                Italy   45  \n",
       "4              Jamaica  50+  \n",
       "5                  NaN  NaN  \n",
       "6                   DR   35  \n",
       "..                 ...  ...  \n",
       "60                  DR   34  \n",
       "61                U.K.  50+  \n",
       "62          Lima, Peru   54  \n",
       "63  Dominican Republic   47  \n",
       "64                 NaN  NaN  \n",
       "\n",
       "[63 rows x 124 columns]"
      ]
     },
     "execution_count": 51,
     "metadata": {},
     "output_type": "execute_result"
    }
   ],
   "source": [
    "# Drop rows 0 & 1\n",
    "df = df.drop([0,1])\n",
    "df"
   ]
  },
  {
   "cell_type": "code",
   "execution_count": 52,
   "id": "cfe0b8e4-6543-480a-a8fe-0f9e8392da90",
   "metadata": {},
   "outputs": [
    {
     "data": {
      "text/html": [
       "<div>\n",
       "<style scoped>\n",
       "    .dataframe tbody tr th:only-of-type {\n",
       "        vertical-align: middle;\n",
       "    }\n",
       "\n",
       "    .dataframe tbody tr th {\n",
       "        vertical-align: top;\n",
       "    }\n",
       "\n",
       "    .dataframe thead th {\n",
       "        text-align: right;\n",
       "    }\n",
       "</style>\n",
       "<table border=\"1\" class=\"dataframe\">\n",
       "  <thead>\n",
       "    <tr style=\"text-align: right;\">\n",
       "      <th></th>\n",
       "      <th>StartDate</th>\n",
       "      <th>EndDate</th>\n",
       "      <th>Status</th>\n",
       "      <th>IPAddress</th>\n",
       "      <th>Progress</th>\n",
       "      <th>Duration (in seconds)</th>\n",
       "      <th>Finished</th>\n",
       "      <th>RecordedDate</th>\n",
       "      <th>ResponseId</th>\n",
       "      <th>RecipientLastName</th>\n",
       "      <th>...</th>\n",
       "      <th>Q23</th>\n",
       "      <th>Q24</th>\n",
       "      <th>Q25</th>\n",
       "      <th>Q26</th>\n",
       "      <th>Q27</th>\n",
       "      <th>Q28</th>\n",
       "      <th>Q29</th>\n",
       "      <th>Q30</th>\n",
       "      <th>Q30_2_TEXT</th>\n",
       "      <th>Q31</th>\n",
       "    </tr>\n",
       "  </thead>\n",
       "  <tbody>\n",
       "    <tr>\n",
       "      <th>0</th>\n",
       "      <td>0</td>\n",
       "      <td>0</td>\n",
       "      <td>0</td>\n",
       "      <td>0</td>\n",
       "      <td>0</td>\n",
       "      <td>0</td>\n",
       "      <td>0</td>\n",
       "      <td>0</td>\n",
       "      <td>0</td>\n",
       "      <td>0</td>\n",
       "      <td>...</td>\n",
       "      <td>0</td>\n",
       "      <td>0</td>\n",
       "      <td>0</td>\n",
       "      <td>0</td>\n",
       "      <td>0</td>\n",
       "      <td>0</td>\n",
       "      <td>0</td>\n",
       "      <td>0</td>\n",
       "      <td>0</td>\n",
       "      <td>0</td>\n",
       "    </tr>\n",
       "  </tbody>\n",
       "</table>\n",
       "<p>1 rows × 124 columns</p>\n",
       "</div>"
      ],
      "text/plain": [
       "   StartDate  EndDate  Status  IPAddress  Progress  Duration (in seconds)  \\\n",
       "0          0        0       0          0         0                      0   \n",
       "\n",
       "   Finished  RecordedDate  ResponseId  RecipientLastName  ...  Q23  Q24  Q25  \\\n",
       "0         0             0           0                  0  ...    0    0    0   \n",
       "\n",
       "   Q26  Q27  Q28  Q29  Q30  Q30_2_TEXT  Q31  \n",
       "0    0    0    0    0    0           0    0  \n",
       "\n",
       "[1 rows x 124 columns]"
      ]
     },
     "execution_count": 52,
     "metadata": {},
     "output_type": "execute_result"
    },
    {
     "data": {
      "text/html": [
       "<div>\n",
       "<style scoped>\n",
       "    .dataframe tbody tr th:only-of-type {\n",
       "        vertical-align: middle;\n",
       "    }\n",
       "\n",
       "    .dataframe tbody tr th {\n",
       "        vertical-align: top;\n",
       "    }\n",
       "\n",
       "    .dataframe thead th {\n",
       "        text-align: right;\n",
       "    }\n",
       "</style>\n",
       "<table border=\"1\" class=\"dataframe\">\n",
       "  <thead>\n",
       "    <tr style=\"text-align: right;\">\n",
       "      <th></th>\n",
       "      <th>StartDate</th>\n",
       "      <th>EndDate</th>\n",
       "      <th>Status</th>\n",
       "      <th>IPAddress</th>\n",
       "      <th>Progress</th>\n",
       "      <th>Duration (in seconds)</th>\n",
       "      <th>Finished</th>\n",
       "      <th>RecordedDate</th>\n",
       "      <th>ResponseId</th>\n",
       "      <th>RecipientLastName</th>\n",
       "      <th>...</th>\n",
       "      <th>Q23</th>\n",
       "      <th>Q24</th>\n",
       "      <th>Q25</th>\n",
       "      <th>Q26</th>\n",
       "      <th>Q27</th>\n",
       "      <th>Q28</th>\n",
       "      <th>Q29</th>\n",
       "      <th>Q30</th>\n",
       "      <th>Q30_2_TEXT</th>\n",
       "      <th>Q31</th>\n",
       "    </tr>\n",
       "  </thead>\n",
       "  <tbody>\n",
       "    <tr>\n",
       "      <th>0</th>\n",
       "      <td>2020-01-31 11:34:03</td>\n",
       "      <td>2020-01-31 11:36:39</td>\n",
       "      <td>4</td>\n",
       "      <td>156.111.111.218</td>\n",
       "      <td>100</td>\n",
       "      <td>156</td>\n",
       "      <td>1</td>\n",
       "      <td>2021-06-25 09:29:49</td>\n",
       "      <td>R_0vm0KyeIk3DuuH4</td>\n",
       "      <td>NaN</td>\n",
       "      <td>...</td>\n",
       "      <td>30</td>\n",
       "      <td>5</td>\n",
       "      <td>5</td>\n",
       "      <td>1</td>\n",
       "      <td>1</td>\n",
       "      <td>1</td>\n",
       "      <td>2</td>\n",
       "      <td>2</td>\n",
       "      <td>DR</td>\n",
       "      <td>34</td>\n",
       "    </tr>\n",
       "    <tr>\n",
       "      <th>1</th>\n",
       "      <td>2019-11-11 10:50:20</td>\n",
       "      <td>2019-11-11 10:53:45</td>\n",
       "      <td>4</td>\n",
       "      <td>156.111.111.152</td>\n",
       "      <td>100</td>\n",
       "      <td>205</td>\n",
       "      <td>1</td>\n",
       "      <td>2021-06-25 09:29:49</td>\n",
       "      <td>R_3z0HyQn3i4cQAfQ</td>\n",
       "      <td>NaN</td>\n",
       "      <td>...</td>\n",
       "      <td>40</td>\n",
       "      <td>4</td>\n",
       "      <td>5</td>\n",
       "      <td>2</td>\n",
       "      <td>4</td>\n",
       "      <td>3</td>\n",
       "      <td>1</td>\n",
       "      <td>2</td>\n",
       "      <td>Italy</td>\n",
       "      <td>45</td>\n",
       "    </tr>\n",
       "    <tr>\n",
       "      <th>2</th>\n",
       "      <td>2020-01-31 11:43:17</td>\n",
       "      <td>2020-01-31 11:54:16</td>\n",
       "      <td>4</td>\n",
       "      <td>156.111.111.218</td>\n",
       "      <td>100</td>\n",
       "      <td>659</td>\n",
       "      <td>1</td>\n",
       "      <td>2021-06-25 09:29:49</td>\n",
       "      <td>R_86Uy7YAXspTcyRU</td>\n",
       "      <td>NaN</td>\n",
       "      <td>...</td>\n",
       "      <td>50</td>\n",
       "      <td>4</td>\n",
       "      <td>5</td>\n",
       "      <td>NaN</td>\n",
       "      <td>NaN</td>\n",
       "      <td>4</td>\n",
       "      <td>2</td>\n",
       "      <td>2</td>\n",
       "      <td>Jamaica</td>\n",
       "      <td>50+</td>\n",
       "    </tr>\n",
       "    <tr>\n",
       "      <th>3</th>\n",
       "      <td>2020-01-23 11:41:47</td>\n",
       "      <td>2020-01-23 11:45:29</td>\n",
       "      <td>4</td>\n",
       "      <td>156.111.111.218</td>\n",
       "      <td>100</td>\n",
       "      <td>221</td>\n",
       "      <td>1</td>\n",
       "      <td>2021-06-25 09:29:49</td>\n",
       "      <td>R_9vEueQiCHzsQi58</td>\n",
       "      <td>NaN</td>\n",
       "      <td>...</td>\n",
       "      <td>NaN</td>\n",
       "      <td>NaN</td>\n",
       "      <td>NaN</td>\n",
       "      <td>NaN</td>\n",
       "      <td>NaN</td>\n",
       "      <td>1</td>\n",
       "      <td>NaN</td>\n",
       "      <td>NaN</td>\n",
       "      <td>NaN</td>\n",
       "      <td>NaN</td>\n",
       "    </tr>\n",
       "    <tr>\n",
       "      <th>4</th>\n",
       "      <td>2020-01-23 12:12:41</td>\n",
       "      <td>2020-01-23 12:15:23</td>\n",
       "      <td>4</td>\n",
       "      <td>156.111.111.218</td>\n",
       "      <td>100</td>\n",
       "      <td>161</td>\n",
       "      <td>1</td>\n",
       "      <td>2021-06-25 09:29:49</td>\n",
       "      <td>R_0Ba77b9iP0XBkPk</td>\n",
       "      <td>NaN</td>\n",
       "      <td>...</td>\n",
       "      <td>35</td>\n",
       "      <td>5</td>\n",
       "      <td>5</td>\n",
       "      <td>2</td>\n",
       "      <td>NaN</td>\n",
       "      <td>3</td>\n",
       "      <td>2</td>\n",
       "      <td>2</td>\n",
       "      <td>DR</td>\n",
       "      <td>35</td>\n",
       "    </tr>\n",
       "    <tr>\n",
       "      <th>...</th>\n",
       "      <td>...</td>\n",
       "      <td>...</td>\n",
       "      <td>...</td>\n",
       "      <td>...</td>\n",
       "      <td>...</td>\n",
       "      <td>...</td>\n",
       "      <td>...</td>\n",
       "      <td>...</td>\n",
       "      <td>...</td>\n",
       "      <td>...</td>\n",
       "      <td>...</td>\n",
       "      <td>...</td>\n",
       "      <td>...</td>\n",
       "      <td>...</td>\n",
       "      <td>...</td>\n",
       "      <td>...</td>\n",
       "      <td>...</td>\n",
       "      <td>...</td>\n",
       "      <td>...</td>\n",
       "      <td>...</td>\n",
       "      <td>...</td>\n",
       "    </tr>\n",
       "    <tr>\n",
       "      <th>58</th>\n",
       "      <td>2020-01-10 10:14:07</td>\n",
       "      <td>2020-01-10 10:17:34</td>\n",
       "      <td>4</td>\n",
       "      <td>156.111.111.152</td>\n",
       "      <td>100</td>\n",
       "      <td>207</td>\n",
       "      <td>1</td>\n",
       "      <td>2021-06-25 09:29:49</td>\n",
       "      <td>R_eRqgEROZHQ16Mjc</td>\n",
       "      <td>NaN</td>\n",
       "      <td>...</td>\n",
       "      <td>34</td>\n",
       "      <td>4</td>\n",
       "      <td>4</td>\n",
       "      <td>2</td>\n",
       "      <td>1</td>\n",
       "      <td>1</td>\n",
       "      <td>2</td>\n",
       "      <td>2</td>\n",
       "      <td>DR</td>\n",
       "      <td>34</td>\n",
       "    </tr>\n",
       "    <tr>\n",
       "      <th>59</th>\n",
       "      <td>2019-09-03 12:28:16</td>\n",
       "      <td>2019-09-03 12:33:45</td>\n",
       "      <td>4</td>\n",
       "      <td>156.111.111.160</td>\n",
       "      <td>100</td>\n",
       "      <td>329</td>\n",
       "      <td>1</td>\n",
       "      <td>2021-06-25 09:29:49</td>\n",
       "      <td>R_4TUCWqIxQ25W7K6</td>\n",
       "      <td>NaN</td>\n",
       "      <td>...</td>\n",
       "      <td>20</td>\n",
       "      <td>4</td>\n",
       "      <td>5</td>\n",
       "      <td>1</td>\n",
       "      <td>3</td>\n",
       "      <td>2</td>\n",
       "      <td>2</td>\n",
       "      <td>2</td>\n",
       "      <td>U.K.</td>\n",
       "      <td>50+</td>\n",
       "    </tr>\n",
       "    <tr>\n",
       "      <th>60</th>\n",
       "      <td>2019-11-25 10:03:00</td>\n",
       "      <td>2019-11-25 10:13:26</td>\n",
       "      <td>4</td>\n",
       "      <td>156.111.111.152</td>\n",
       "      <td>100</td>\n",
       "      <td>625</td>\n",
       "      <td>1</td>\n",
       "      <td>2021-06-25 09:29:49</td>\n",
       "      <td>R_9EtyT8FQbuILNRA</td>\n",
       "      <td>NaN</td>\n",
       "      <td>...</td>\n",
       "      <td>30</td>\n",
       "      <td>5</td>\n",
       "      <td>5</td>\n",
       "      <td>NaN</td>\n",
       "      <td>2</td>\n",
       "      <td>NaN</td>\n",
       "      <td>1</td>\n",
       "      <td>2</td>\n",
       "      <td>Lima, Peru</td>\n",
       "      <td>54</td>\n",
       "    </tr>\n",
       "    <tr>\n",
       "      <th>61</th>\n",
       "      <td>2019-11-04 09:19:46</td>\n",
       "      <td>2019-11-04 09:24:59</td>\n",
       "      <td>4</td>\n",
       "      <td>156.111.111.152</td>\n",
       "      <td>100</td>\n",
       "      <td>313</td>\n",
       "      <td>1</td>\n",
       "      <td>2021-06-25 09:29:49</td>\n",
       "      <td>R_ddqy4Xkr5Xr2EXs</td>\n",
       "      <td>NaN</td>\n",
       "      <td>...</td>\n",
       "      <td>45</td>\n",
       "      <td>4</td>\n",
       "      <td>4</td>\n",
       "      <td>1</td>\n",
       "      <td>1</td>\n",
       "      <td>1</td>\n",
       "      <td>2</td>\n",
       "      <td>2</td>\n",
       "      <td>Dominican Republic</td>\n",
       "      <td>47</td>\n",
       "    </tr>\n",
       "    <tr>\n",
       "      <th>62</th>\n",
       "      <td>2020-11-17 13:56:48</td>\n",
       "      <td>2020-11-17 13:59:48</td>\n",
       "      <td>4</td>\n",
       "      <td>98.203.88.57</td>\n",
       "      <td>6</td>\n",
       "      <td>180</td>\n",
       "      <td>0</td>\n",
       "      <td>2021-06-25 09:29:49</td>\n",
       "      <td>R_eLgkGZ3222SEXjw</td>\n",
       "      <td>NaN</td>\n",
       "      <td>...</td>\n",
       "      <td>NaN</td>\n",
       "      <td>NaN</td>\n",
       "      <td>NaN</td>\n",
       "      <td>NaN</td>\n",
       "      <td>NaN</td>\n",
       "      <td>NaN</td>\n",
       "      <td>NaN</td>\n",
       "      <td>NaN</td>\n",
       "      <td>NaN</td>\n",
       "      <td>NaN</td>\n",
       "    </tr>\n",
       "  </tbody>\n",
       "</table>\n",
       "<p>63 rows × 124 columns</p>\n",
       "</div>"
      ],
      "text/plain": [
       "              StartDate              EndDate Status        IPAddress Progress  \\\n",
       "0   2020-01-31 11:34:03  2020-01-31 11:36:39      4  156.111.111.218      100   \n",
       "1   2019-11-11 10:50:20  2019-11-11 10:53:45      4  156.111.111.152      100   \n",
       "2   2020-01-31 11:43:17  2020-01-31 11:54:16      4  156.111.111.218      100   \n",
       "3   2020-01-23 11:41:47  2020-01-23 11:45:29      4  156.111.111.218      100   \n",
       "4   2020-01-23 12:12:41  2020-01-23 12:15:23      4  156.111.111.218      100   \n",
       "..                  ...                  ...    ...              ...      ...   \n",
       "58  2020-01-10 10:14:07  2020-01-10 10:17:34      4  156.111.111.152      100   \n",
       "59  2019-09-03 12:28:16  2019-09-03 12:33:45      4  156.111.111.160      100   \n",
       "60  2019-11-25 10:03:00  2019-11-25 10:13:26      4  156.111.111.152      100   \n",
       "61  2019-11-04 09:19:46  2019-11-04 09:24:59      4  156.111.111.152      100   \n",
       "62  2020-11-17 13:56:48  2020-11-17 13:59:48      4     98.203.88.57        6   \n",
       "\n",
       "   Duration (in seconds) Finished         RecordedDate         ResponseId  \\\n",
       "0                    156        1  2021-06-25 09:29:49  R_0vm0KyeIk3DuuH4   \n",
       "1                    205        1  2021-06-25 09:29:49  R_3z0HyQn3i4cQAfQ   \n",
       "2                    659        1  2021-06-25 09:29:49  R_86Uy7YAXspTcyRU   \n",
       "3                    221        1  2021-06-25 09:29:49  R_9vEueQiCHzsQi58   \n",
       "4                    161        1  2021-06-25 09:29:49  R_0Ba77b9iP0XBkPk   \n",
       "..                   ...      ...                  ...                ...   \n",
       "58                   207        1  2021-06-25 09:29:49  R_eRqgEROZHQ16Mjc   \n",
       "59                   329        1  2021-06-25 09:29:49  R_4TUCWqIxQ25W7K6   \n",
       "60                   625        1  2021-06-25 09:29:49  R_9EtyT8FQbuILNRA   \n",
       "61                   313        1  2021-06-25 09:29:49  R_ddqy4Xkr5Xr2EXs   \n",
       "62                   180        0  2021-06-25 09:29:49  R_eLgkGZ3222SEXjw   \n",
       "\n",
       "   RecipientLastName  ...  Q23  Q24  Q25  Q26  Q27  Q28  Q29  Q30  \\\n",
       "0                NaN  ...   30    5    5    1    1    1    2    2   \n",
       "1                NaN  ...   40    4    5    2    4    3    1    2   \n",
       "2                NaN  ...   50    4    5  NaN  NaN    4    2    2   \n",
       "3                NaN  ...  NaN  NaN  NaN  NaN  NaN    1  NaN  NaN   \n",
       "4                NaN  ...   35    5    5    2  NaN    3    2    2   \n",
       "..               ...  ...  ...  ...  ...  ...  ...  ...  ...  ...   \n",
       "58               NaN  ...   34    4    4    2    1    1    2    2   \n",
       "59               NaN  ...   20    4    5    1    3    2    2    2   \n",
       "60               NaN  ...   30    5    5  NaN    2  NaN    1    2   \n",
       "61               NaN  ...   45    4    4    1    1    1    2    2   \n",
       "62               NaN  ...  NaN  NaN  NaN  NaN  NaN  NaN  NaN  NaN   \n",
       "\n",
       "            Q30_2_TEXT  Q31  \n",
       "0                   DR   34  \n",
       "1                Italy   45  \n",
       "2              Jamaica  50+  \n",
       "3                  NaN  NaN  \n",
       "4                   DR   35  \n",
       "..                 ...  ...  \n",
       "58                  DR   34  \n",
       "59                U.K.  50+  \n",
       "60          Lima, Peru   54  \n",
       "61  Dominican Republic   47  \n",
       "62                 NaN  NaN  \n",
       "\n",
       "[63 rows x 124 columns]"
      ]
     },
     "execution_count": 52,
     "metadata": {},
     "output_type": "execute_result"
    }
   ],
   "source": [
    "# Add new indices to dataframe\n",
    "\n",
    "df_idx = pd.read_csv('Baseline_Diabetes_Cols_Append.csv')\n",
    "df_idx\n",
    "\n",
    "df = pd.concat([df,df_idx],ignore_index=True)\n",
    "\n",
    "df.drop(63,inplace=True)\n",
    "df"
   ]
  },
  {
   "cell_type": "code",
   "execution_count": 53,
   "id": "0ea262e0-88f5-4c53-8e17-d8ece21e8109",
   "metadata": {},
   "outputs": [
    {
     "data": {
      "text/plain": [
       "(63, 109)"
      ]
     },
     "execution_count": 53,
     "metadata": {},
     "output_type": "execute_result"
    }
   ],
   "source": [
    "# Drop Qualtrics columns that don't provide pertinent\n",
    "drop_cols = ['StartDate', 'EndDate', 'Status', 'IPAddress', 'Progress',\n",
    "             'Finished', 'RecordedDate', 'ResponseId',\n",
    "       'RecipientLastName', 'RecipientFirstName', 'RecipientEmail',\n",
    "       'ExternalReference', 'LocationLatitude', 'LocationLongitude','DistributionChannel']\n",
    "df = df.drop(columns=drop_cols)\n",
    "df.shape"
   ]
  },
  {
   "cell_type": "code",
   "execution_count": 54,
   "id": "26773f57-6b70-4a58-8f37-ea69a0abee2b",
   "metadata": {},
   "outputs": [
    {
     "data": {
      "text/html": [
       "<div>\n",
       "<style scoped>\n",
       "    .dataframe tbody tr th:only-of-type {\n",
       "        vertical-align: middle;\n",
       "    }\n",
       "\n",
       "    .dataframe tbody tr th {\n",
       "        vertical-align: top;\n",
       "    }\n",
       "\n",
       "    .dataframe thead th {\n",
       "        text-align: right;\n",
       "    }\n",
       "</style>\n",
       "<table border=\"1\" class=\"dataframe\">\n",
       "  <thead>\n",
       "    <tr style=\"text-align: right;\">\n",
       "      <th></th>\n",
       "      <th>0</th>\n",
       "      <th>1</th>\n",
       "      <th>2</th>\n",
       "      <th>3</th>\n",
       "      <th>4</th>\n",
       "    </tr>\n",
       "  </thead>\n",
       "  <tbody>\n",
       "    <tr>\n",
       "      <th>ParticipantID</th>\n",
       "      <td>6004</td>\n",
       "      <td>3707</td>\n",
       "      <td>9152</td>\n",
       "      <td>9525</td>\n",
       "      <td>2369</td>\n",
       "    </tr>\n",
       "    <tr>\n",
       "      <th>SurveyDate</th>\n",
       "      <td>01/22/2020</td>\n",
       "      <td>11/11/2019</td>\n",
       "      <td>01/24/2020</td>\n",
       "      <td>01/17/2020</td>\n",
       "      <td>01/17/2020</td>\n",
       "    </tr>\n",
       "    <tr>\n",
       "      <th>UserLanguage</th>\n",
       "      <td>ES</td>\n",
       "      <td>EN</td>\n",
       "      <td>EN</td>\n",
       "      <td>ES</td>\n",
       "      <td>ES</td>\n",
       "    </tr>\n",
       "    <tr>\n",
       "      <th>Duration (in seconds)</th>\n",
       "      <td>156</td>\n",
       "      <td>205</td>\n",
       "      <td>659</td>\n",
       "      <td>221</td>\n",
       "      <td>161</td>\n",
       "    </tr>\n",
       "    <tr>\n",
       "      <th>Q3_1</th>\n",
       "      <td>1</td>\n",
       "      <td>1</td>\n",
       "      <td>2</td>\n",
       "      <td>2</td>\n",
       "      <td>3</td>\n",
       "    </tr>\n",
       "    <tr>\n",
       "      <th>...</th>\n",
       "      <td>...</td>\n",
       "      <td>...</td>\n",
       "      <td>...</td>\n",
       "      <td>...</td>\n",
       "      <td>...</td>\n",
       "    </tr>\n",
       "    <tr>\n",
       "      <th>Q28</th>\n",
       "      <td>1</td>\n",
       "      <td>3</td>\n",
       "      <td>4</td>\n",
       "      <td>1</td>\n",
       "      <td>3</td>\n",
       "    </tr>\n",
       "    <tr>\n",
       "      <th>Q29</th>\n",
       "      <td>2</td>\n",
       "      <td>1</td>\n",
       "      <td>2</td>\n",
       "      <td>NaN</td>\n",
       "      <td>2</td>\n",
       "    </tr>\n",
       "    <tr>\n",
       "      <th>Q30</th>\n",
       "      <td>2</td>\n",
       "      <td>2</td>\n",
       "      <td>2</td>\n",
       "      <td>NaN</td>\n",
       "      <td>2</td>\n",
       "    </tr>\n",
       "    <tr>\n",
       "      <th>Q30_2_TEXT</th>\n",
       "      <td>DR</td>\n",
       "      <td>Italy</td>\n",
       "      <td>Jamaica</td>\n",
       "      <td>NaN</td>\n",
       "      <td>DR</td>\n",
       "    </tr>\n",
       "    <tr>\n",
       "      <th>Q31</th>\n",
       "      <td>34</td>\n",
       "      <td>45</td>\n",
       "      <td>50+</td>\n",
       "      <td>NaN</td>\n",
       "      <td>35</td>\n",
       "    </tr>\n",
       "  </tbody>\n",
       "</table>\n",
       "<p>109 rows × 5 columns</p>\n",
       "</div>"
      ],
      "text/plain": [
       "                                0           1           2           3  \\\n",
       "ParticipantID                6004        3707        9152        9525   \n",
       "SurveyDate             01/22/2020  11/11/2019  01/24/2020  01/17/2020   \n",
       "UserLanguage                   ES          EN          EN          ES   \n",
       "Duration (in seconds)         156         205         659         221   \n",
       "Q3_1                            1           1           2           2   \n",
       "...                           ...         ...         ...         ...   \n",
       "Q28                             1           3           4           1   \n",
       "Q29                             2           1           2         NaN   \n",
       "Q30                             2           2           2         NaN   \n",
       "Q30_2_TEXT                     DR       Italy     Jamaica         NaN   \n",
       "Q31                            34          45         50+         NaN   \n",
       "\n",
       "                                4  \n",
       "ParticipantID                2369  \n",
       "SurveyDate             01/17/2020  \n",
       "UserLanguage                   ES  \n",
       "Duration (in seconds)         161  \n",
       "Q3_1                            3  \n",
       "...                           ...  \n",
       "Q28                             3  \n",
       "Q29                             2  \n",
       "Q30                             2  \n",
       "Q30_2_TEXT                     DR  \n",
       "Q31                            35  \n",
       "\n",
       "[109 rows x 5 columns]"
      ]
     },
     "execution_count": 54,
     "metadata": {},
     "output_type": "execute_result"
    }
   ],
   "source": [
    "# Change column order of dataset for better storytelling\n",
    "ID = df['Q1']\n",
    "df.drop(labels=['Q1'],axis=1,inplace=True)\n",
    "df.insert(0,'ParticipantID',ID)\n",
    "\n",
    "Date = df['Q2']\n",
    "df.drop(labels=['Q2'],axis=1,inplace=True)\n",
    "df.insert(1,'SurveyDate',Date)\n",
    "\n",
    "Language = df['UserLanguage']\n",
    "df.drop(labels=['UserLanguage'],axis=1,inplace=True)\n",
    "df.insert(2,'UserLanguage',Language)\n",
    "\n",
    "Seconds = df['Duration (in seconds)']\n",
    "df.drop(labels=['Duration (in seconds)'],axis=1,inplace=True)\n",
    "df.insert(3,'Duration (in seconds)',Seconds)\n",
    "\n",
    "# preview the dataset to check re-formatting\n",
    "df.head().T"
   ]
  },
  {
   "cell_type": "code",
   "execution_count": 55,
   "id": "a7f1aeba-34e8-4e01-9550-aa77c111b707",
   "metadata": {},
   "outputs": [
    {
     "data": {
      "text/plain": [
       "63"
      ]
     },
     "execution_count": 55,
     "metadata": {},
     "output_type": "execute_result"
    },
    {
     "data": {
      "text/plain": [
       "False    63\n",
       "dtype: int64"
      ]
     },
     "execution_count": 55,
     "metadata": {},
     "output_type": "execute_result"
    }
   ],
   "source": [
    "# Begin cleaning.\n",
    "# Check if there are duplicates in the Participant IDs or flag identical rows\n",
    "df['ParticipantID'].nunique()\n",
    "df.duplicated().value_counts()\n"
   ]
  },
  {
   "cell_type": "code",
   "execution_count": 56,
   "id": "05589bf8-78dc-44d0-94d8-f239c08c488e",
   "metadata": {},
   "outputs": [
    {
     "data": {
      "text/plain": [
       "array(['ParticipantID', 'SurveyDate', 'UserLanguage',\n",
       "       'Duration (in seconds)', 'Q3_1', 'Q3_2', 'Q3_3', 'Q3_4', 'Q3_5',\n",
       "       'Q4', 'Q5', 'Q6_1', 'Q6_2', 'Q6_3', 'Q6_4', 'Q6_5', 'Q7_1', 'Q7_2',\n",
       "       'Q7_3', 'Q7_4', 'Q7_5', 'Q8', 'Q9', 'Q10', 'Q11', 'Q12', 'Q13',\n",
       "       'Q13_2_TEXT', 'Q14', 'Q15_1', 'Q15_2', 'Q15_3', 'Q15_4', 'Q15_5',\n",
       "       'Q15_6', 'Q15_7', 'Q15_8', 'Q15_9', 'Q15_10', 'Q15_11', 'Q15_12',\n",
       "       'Q15_13', 'Q15_14', 'Q15_15', 'Q15_16', 'Q15_17', 'Q15_18',\n",
       "       'Q15_19', 'Q15_20', 'Q15_21', 'Q15_22', 'Q15_23', 'Q15_24',\n",
       "       'Q15_25', 'Q15_26', 'Q15_27', 'Q15_28', 'Q15_29', 'Q16_1', 'Q16_2',\n",
       "       'Q16_3', 'Q16_4', 'Q16_5', 'Q16_6', 'Q16_7', 'Q16_8', 'Q16_9',\n",
       "       'Q16_10', 'Q16_11', 'Q16_12', 'Q16_13', 'Q16_14', 'Q16_15',\n",
       "       'Q16_16', 'Q16_17', 'Q16_18', 'Q16_19', 'Q16_20', 'Q16_21',\n",
       "       'Q17_1', 'Q17_2', 'Q17_3', 'Q17_4', 'Q17_5', 'Q17_6', 'Q17_7',\n",
       "       'Q17_8', 'Q17_9', 'Q17_10', 'Q17_11', 'Q17_12', 'Q17_13', 'Q18',\n",
       "       'Q32', 'Q19', 'Q20', 'Q21', 'Q21_3_TEXT', 'Q22', 'Q23', 'Q24',\n",
       "       'Q25', 'Q26', 'Q27', 'Q28', 'Q29', 'Q30', 'Q30_2_TEXT', 'Q31'],\n",
       "      dtype=object)"
      ]
     },
     "execution_count": 56,
     "metadata": {},
     "output_type": "execute_result"
    },
    {
     "data": {
      "text/plain": [
       "60"
      ]
     },
     "execution_count": 56,
     "metadata": {},
     "output_type": "execute_result"
    },
    {
     "data": {
      "text/plain": [
       "2    21\n",
       "1    15\n",
       "3    15\n",
       "4     9\n",
       "Name: Q3_1, dtype: int64"
      ]
     },
     "execution_count": 56,
     "metadata": {},
     "output_type": "execute_result"
    },
    {
     "data": {
      "text/plain": [
       "58"
      ]
     },
     "execution_count": 56,
     "metadata": {},
     "output_type": "execute_result"
    },
    {
     "data": {
      "text/plain": [
       "2    20\n",
       "1    18\n",
       "4    10\n",
       "3    10\n",
       "Name: Q3_2, dtype: int64"
      ]
     },
     "execution_count": 56,
     "metadata": {},
     "output_type": "execute_result"
    },
    {
     "data": {
      "text/plain": [
       "58"
      ]
     },
     "execution_count": 56,
     "metadata": {},
     "output_type": "execute_result"
    },
    {
     "data": {
      "text/plain": [
       "1    27\n",
       "2    19\n",
       "3     8\n",
       "4     4\n",
       "Name: Q3_3, dtype: int64"
      ]
     },
     "execution_count": 56,
     "metadata": {},
     "output_type": "execute_result"
    },
    {
     "data": {
      "text/plain": [
       "58"
      ]
     },
     "execution_count": 56,
     "metadata": {},
     "output_type": "execute_result"
    },
    {
     "data": {
      "text/plain": [
       "2    20\n",
       "1    18\n",
       "3    13\n",
       "4     7\n",
       "Name: Q3_4, dtype: int64"
      ]
     },
     "execution_count": 56,
     "metadata": {},
     "output_type": "execute_result"
    },
    {
     "data": {
      "text/plain": [
       "59"
      ]
     },
     "execution_count": 56,
     "metadata": {},
     "output_type": "execute_result"
    },
    {
     "data": {
      "text/plain": [
       "2    24\n",
       "1    21\n",
       "3    11\n",
       "4     3\n",
       "Name: Q3_5, dtype: int64"
      ]
     },
     "execution_count": 56,
     "metadata": {},
     "output_type": "execute_result"
    },
    {
     "data": {
      "text/plain": [
       "62"
      ]
     },
     "execution_count": 56,
     "metadata": {},
     "output_type": "execute_result"
    },
    {
     "data": {
      "text/plain": [
       "2    48\n",
       "1    14\n",
       "Name: Q4, dtype: int64"
      ]
     },
     "execution_count": 56,
     "metadata": {},
     "output_type": "execute_result"
    },
    {
     "data": {
      "text/plain": [
       "13"
      ]
     },
     "execution_count": 56,
     "metadata": {},
     "output_type": "execute_result"
    },
    {
     "data": {
      "text/plain": [
       "Doctor                                                               2\n",
       "Books                                                                1\n",
       "From family members who were hospitalized for diabetes previously    1\n",
       "Primary doctor                                                       1\n",
       "Studied medicine for 6 years                                         1\n",
       "Eating too much                                                      1\n",
       "Charla sobre nutricion para controlar el azucar                      1\n",
       "People on the streets and hospitals                                  1\n",
       "medios de comunicacion                                               1\n",
       "Naomi Berrie Diabetes Center                                         1\n",
       "My mother is diabetic and is always talking about her disease.       1\n",
       "health meeting at Montefiore                                         1\n",
       "Name: Q5, dtype: int64"
      ]
     },
     "execution_count": 56,
     "metadata": {},
     "output_type": "execute_result"
    },
    {
     "data": {
      "text/plain": [
       "53"
      ]
     },
     "execution_count": 56,
     "metadata": {},
     "output_type": "execute_result"
    },
    {
     "data": {
      "text/plain": [
       "4    21\n",
       "3    15\n",
       "5     9\n",
       "2     5\n",
       "1     3\n",
       "Name: Q6_1, dtype: int64"
      ]
     },
     "execution_count": 56,
     "metadata": {},
     "output_type": "execute_result"
    },
    {
     "data": {
      "text/plain": [
       "49"
      ]
     },
     "execution_count": 56,
     "metadata": {},
     "output_type": "execute_result"
    },
    {
     "data": {
      "text/plain": [
       "4    19\n",
       "3    19\n",
       "2     4\n",
       "5     4\n",
       "1     3\n",
       "Name: Q6_2, dtype: int64"
      ]
     },
     "execution_count": 56,
     "metadata": {},
     "output_type": "execute_result"
    },
    {
     "data": {
      "text/plain": [
       "43"
      ]
     },
     "execution_count": 56,
     "metadata": {},
     "output_type": "execute_result"
    },
    {
     "data": {
      "text/plain": [
       "3    19\n",
       "4    13\n",
       "1     6\n",
       "2     4\n",
       "5     1\n",
       "Name: Q6_3, dtype: int64"
      ]
     },
     "execution_count": 56,
     "metadata": {},
     "output_type": "execute_result"
    },
    {
     "data": {
      "text/plain": [
       "47"
      ]
     },
     "execution_count": 56,
     "metadata": {},
     "output_type": "execute_result"
    },
    {
     "data": {
      "text/plain": [
       "4    22\n",
       "3    15\n",
       "5     5\n",
       "1     3\n",
       "2     2\n",
       "Name: Q6_4, dtype: int64"
      ]
     },
     "execution_count": 56,
     "metadata": {},
     "output_type": "execute_result"
    },
    {
     "data": {
      "text/plain": [
       "47"
      ]
     },
     "execution_count": 56,
     "metadata": {},
     "output_type": "execute_result"
    },
    {
     "data": {
      "text/plain": [
       "4    17\n",
       "3    14\n",
       "5     9\n",
       "1     5\n",
       "2     2\n",
       "Name: Q6_5, dtype: int64"
      ]
     },
     "execution_count": 56,
     "metadata": {},
     "output_type": "execute_result"
    },
    {
     "data": {
      "text/plain": [
       "59"
      ]
     },
     "execution_count": 56,
     "metadata": {},
     "output_type": "execute_result"
    },
    {
     "data": {
      "text/plain": [
       "4    18\n",
       "2    15\n",
       "1    13\n",
       "3    13\n",
       "Name: Q7_1, dtype: int64"
      ]
     },
     "execution_count": 56,
     "metadata": {},
     "output_type": "execute_result"
    },
    {
     "data": {
      "text/plain": [
       "57"
      ]
     },
     "execution_count": 56,
     "metadata": {},
     "output_type": "execute_result"
    },
    {
     "data": {
      "text/plain": [
       "4    20\n",
       "1    16\n",
       "3    12\n",
       "2     9\n",
       "Name: Q7_2, dtype: int64"
      ]
     },
     "execution_count": 56,
     "metadata": {},
     "output_type": "execute_result"
    },
    {
     "data": {
      "text/plain": [
       "54"
      ]
     },
     "execution_count": 56,
     "metadata": {},
     "output_type": "execute_result"
    },
    {
     "data": {
      "text/plain": [
       "4    30\n",
       "3    18\n",
       "2     3\n",
       "1     3\n",
       "Name: Q7_3, dtype: int64"
      ]
     },
     "execution_count": 56,
     "metadata": {},
     "output_type": "execute_result"
    },
    {
     "data": {
      "text/plain": [
       "58"
      ]
     },
     "execution_count": 56,
     "metadata": {},
     "output_type": "execute_result"
    },
    {
     "data": {
      "text/plain": [
       "1    22\n",
       "4    19\n",
       "2    14\n",
       "3     3\n",
       "Name: Q7_4, dtype: int64"
      ]
     },
     "execution_count": 56,
     "metadata": {},
     "output_type": "execute_result"
    },
    {
     "data": {
      "text/plain": [
       "58"
      ]
     },
     "execution_count": 56,
     "metadata": {},
     "output_type": "execute_result"
    },
    {
     "data": {
      "text/plain": [
       "3    20\n",
       "4    18\n",
       "2    16\n",
       "1     4\n",
       "Name: Q7_5, dtype: int64"
      ]
     },
     "execution_count": 56,
     "metadata": {},
     "output_type": "execute_result"
    },
    {
     "data": {
      "text/plain": [
       "62"
      ]
     },
     "execution_count": 56,
     "metadata": {},
     "output_type": "execute_result"
    },
    {
     "data": {
      "text/plain": [
       "1    59\n",
       "2     3\n",
       "Name: Q8, dtype: int64"
      ]
     },
     "execution_count": 56,
     "metadata": {},
     "output_type": "execute_result"
    },
    {
     "data": {
      "text/plain": [
       "52"
      ]
     },
     "execution_count": 56,
     "metadata": {},
     "output_type": "execute_result"
    },
    {
     "data": {
      "text/plain": [
       "1    43\n",
       "2     9\n",
       "Name: Q9, dtype: int64"
      ]
     },
     "execution_count": 56,
     "metadata": {},
     "output_type": "execute_result"
    },
    {
     "data": {
      "text/plain": [
       "60"
      ]
     },
     "execution_count": 56,
     "metadata": {},
     "output_type": "execute_result"
    },
    {
     "data": {
      "text/plain": [
       "1    31\n",
       "2    29\n",
       "Name: Q10, dtype: int64"
      ]
     },
     "execution_count": 56,
     "metadata": {},
     "output_type": "execute_result"
    },
    {
     "data": {
      "text/plain": [
       "60"
      ]
     },
     "execution_count": 56,
     "metadata": {},
     "output_type": "execute_result"
    },
    {
     "data": {
      "text/plain": [
       "2    35\n",
       "1    25\n",
       "Name: Q11, dtype: int64"
      ]
     },
     "execution_count": 56,
     "metadata": {},
     "output_type": "execute_result"
    },
    {
     "data": {
      "text/plain": [
       "61"
      ]
     },
     "execution_count": 56,
     "metadata": {},
     "output_type": "execute_result"
    },
    {
     "data": {
      "text/plain": [
       "1    50\n",
       "2    11\n",
       "Name: Q12, dtype: int64"
      ]
     },
     "execution_count": 56,
     "metadata": {},
     "output_type": "execute_result"
    },
    {
     "data": {
      "text/plain": [
       "53"
      ]
     },
     "execution_count": 56,
     "metadata": {},
     "output_type": "execute_result"
    },
    {
     "data": {
      "text/plain": [
       "1    35\n",
       "2    18\n",
       "Name: Q13, dtype: int64"
      ]
     },
     "execution_count": 56,
     "metadata": {},
     "output_type": "execute_result"
    },
    {
     "data": {
      "text/plain": [
       "14"
      ]
     },
     "execution_count": 56,
     "metadata": {},
     "output_type": "execute_result"
    },
    {
     "data": {
      "text/plain": [
       "no                           3\n",
       "library                      2\n",
       "never                        2\n",
       "LIBRARY                      1\n",
       "centro Isabella              1\n",
       "tablet, telefono             1\n",
       "Don't have one               1\n",
       "NO                           1\n",
       "My Friend's                  1\n",
       "library and senior center    1\n",
       "Name: Q13_2_TEXT, dtype: int64"
      ]
     },
     "execution_count": 56,
     "metadata": {},
     "output_type": "execute_result"
    },
    {
     "data": {
      "text/plain": [
       "62"
      ]
     },
     "execution_count": 56,
     "metadata": {},
     "output_type": "execute_result"
    },
    {
     "data": {
      "text/plain": [
       "2    16\n",
       "3    16\n",
       "4    13\n",
       "1    11\n",
       "5     6\n",
       "Name: Q14, dtype: int64"
      ]
     },
     "execution_count": 56,
     "metadata": {},
     "output_type": "execute_result"
    },
    {
     "data": {
      "text/plain": [
       "62"
      ]
     },
     "execution_count": 56,
     "metadata": {},
     "output_type": "execute_result"
    },
    {
     "data": {
      "text/plain": [
       "4    25\n",
       "2    15\n",
       "3    11\n",
       "5     6\n",
       "1     5\n",
       "Name: Q15_1, dtype: int64"
      ]
     },
     "execution_count": 56,
     "metadata": {},
     "output_type": "execute_result"
    },
    {
     "data": {
      "text/plain": [
       "62"
      ]
     },
     "execution_count": 56,
     "metadata": {},
     "output_type": "execute_result"
    },
    {
     "data": {
      "text/plain": [
       "4    22\n",
       "2    15\n",
       "3    13\n",
       "5     8\n",
       "1     4\n",
       "Name: Q15_2, dtype: int64"
      ]
     },
     "execution_count": 56,
     "metadata": {},
     "output_type": "execute_result"
    },
    {
     "data": {
      "text/plain": [
       "62"
      ]
     },
     "execution_count": 56,
     "metadata": {},
     "output_type": "execute_result"
    },
    {
     "data": {
      "text/plain": [
       "4    28\n",
       "5    13\n",
       "2     9\n",
       "3     8\n",
       "1     4\n",
       "Name: Q15_3, dtype: int64"
      ]
     },
     "execution_count": 56,
     "metadata": {},
     "output_type": "execute_result"
    },
    {
     "data": {
      "text/plain": [
       "62"
      ]
     },
     "execution_count": 56,
     "metadata": {},
     "output_type": "execute_result"
    },
    {
     "data": {
      "text/plain": [
       "4    20\n",
       "3    16\n",
       "2    11\n",
       "5     8\n",
       "1     7\n",
       "Name: Q15_4, dtype: int64"
      ]
     },
     "execution_count": 56,
     "metadata": {},
     "output_type": "execute_result"
    },
    {
     "data": {
      "text/plain": [
       "61"
      ]
     },
     "execution_count": 56,
     "metadata": {},
     "output_type": "execute_result"
    },
    {
     "data": {
      "text/plain": [
       "3    23\n",
       "4    15\n",
       "2     9\n",
       "1     7\n",
       "5     7\n",
       "Name: Q15_5, dtype: int64"
      ]
     },
     "execution_count": 56,
     "metadata": {},
     "output_type": "execute_result"
    },
    {
     "data": {
      "text/plain": [
       "61"
      ]
     },
     "execution_count": 56,
     "metadata": {},
     "output_type": "execute_result"
    },
    {
     "data": {
      "text/plain": [
       "2    15\n",
       "3    15\n",
       "4    13\n",
       "1    11\n",
       "5     7\n",
       "Name: Q15_6, dtype: int64"
      ]
     },
     "execution_count": 56,
     "metadata": {},
     "output_type": "execute_result"
    },
    {
     "data": {
      "text/plain": [
       "62"
      ]
     },
     "execution_count": 56,
     "metadata": {},
     "output_type": "execute_result"
    },
    {
     "data": {
      "text/plain": [
       "4    25\n",
       "5    15\n",
       "2    10\n",
       "3     7\n",
       "1     5\n",
       "Name: Q15_7, dtype: int64"
      ]
     },
     "execution_count": 56,
     "metadata": {},
     "output_type": "execute_result"
    },
    {
     "data": {
      "text/plain": [
       "61"
      ]
     },
     "execution_count": 56,
     "metadata": {},
     "output_type": "execute_result"
    },
    {
     "data": {
      "text/plain": [
       "4    26\n",
       "5    13\n",
       "3    11\n",
       "1     6\n",
       "2     5\n",
       "Name: Q15_8, dtype: int64"
      ]
     },
     "execution_count": 56,
     "metadata": {},
     "output_type": "execute_result"
    },
    {
     "data": {
      "text/plain": [
       "61"
      ]
     },
     "execution_count": 56,
     "metadata": {},
     "output_type": "execute_result"
    },
    {
     "data": {
      "text/plain": [
       "4    18\n",
       "3    17\n",
       "5    14\n",
       "2     6\n",
       "1     6\n",
       "Name: Q15_9, dtype: int64"
      ]
     },
     "execution_count": 56,
     "metadata": {},
     "output_type": "execute_result"
    },
    {
     "data": {
      "text/plain": [
       "61"
      ]
     },
     "execution_count": 56,
     "metadata": {},
     "output_type": "execute_result"
    },
    {
     "data": {
      "text/plain": [
       "4    17\n",
       "1    14\n",
       "2    13\n",
       "3    11\n",
       "5     6\n",
       "Name: Q15_10, dtype: int64"
      ]
     },
     "execution_count": 56,
     "metadata": {},
     "output_type": "execute_result"
    },
    {
     "data": {
      "text/plain": [
       "62"
      ]
     },
     "execution_count": 56,
     "metadata": {},
     "output_type": "execute_result"
    },
    {
     "data": {
      "text/plain": [
       "4    25\n",
       "2    12\n",
       "5    10\n",
       "3     8\n",
       "1     7\n",
       "Name: Q15_11, dtype: int64"
      ]
     },
     "execution_count": 56,
     "metadata": {},
     "output_type": "execute_result"
    },
    {
     "data": {
      "text/plain": [
       "61"
      ]
     },
     "execution_count": 56,
     "metadata": {},
     "output_type": "execute_result"
    },
    {
     "data": {
      "text/plain": [
       "4    22\n",
       "3    17\n",
       "2    11\n",
       "5     9\n",
       "1     2\n",
       "Name: Q15_12, dtype: int64"
      ]
     },
     "execution_count": 56,
     "metadata": {},
     "output_type": "execute_result"
    },
    {
     "data": {
      "text/plain": [
       "61"
      ]
     },
     "execution_count": 56,
     "metadata": {},
     "output_type": "execute_result"
    },
    {
     "data": {
      "text/plain": [
       "4    23\n",
       "5    15\n",
       "3    13\n",
       "2     8\n",
       "1     2\n",
       "Name: Q15_13, dtype: int64"
      ]
     },
     "execution_count": 56,
     "metadata": {},
     "output_type": "execute_result"
    },
    {
     "data": {
      "text/plain": [
       "62"
      ]
     },
     "execution_count": 56,
     "metadata": {},
     "output_type": "execute_result"
    },
    {
     "data": {
      "text/plain": [
       "4    20\n",
       "5    17\n",
       "3    12\n",
       "2     9\n",
       "1     4\n",
       "Name: Q15_14, dtype: int64"
      ]
     },
     "execution_count": 56,
     "metadata": {},
     "output_type": "execute_result"
    },
    {
     "data": {
      "text/plain": [
       "62"
      ]
     },
     "execution_count": 56,
     "metadata": {},
     "output_type": "execute_result"
    },
    {
     "data": {
      "text/plain": [
       "4    22\n",
       "3    14\n",
       "5    12\n",
       "2     9\n",
       "1     5\n",
       "Name: Q15_15, dtype: int64"
      ]
     },
     "execution_count": 56,
     "metadata": {},
     "output_type": "execute_result"
    },
    {
     "data": {
      "text/plain": [
       "60"
      ]
     },
     "execution_count": 56,
     "metadata": {},
     "output_type": "execute_result"
    },
    {
     "data": {
      "text/plain": [
       "5    14\n",
       "2    13\n",
       "3    13\n",
       "4    10\n",
       "1    10\n",
       "Name: Q15_16, dtype: int64"
      ]
     },
     "execution_count": 56,
     "metadata": {},
     "output_type": "execute_result"
    },
    {
     "data": {
      "text/plain": [
       "61"
      ]
     },
     "execution_count": 56,
     "metadata": {},
     "output_type": "execute_result"
    },
    {
     "data": {
      "text/plain": [
       "4    16\n",
       "3    14\n",
       "5    13\n",
       "1    10\n",
       "2     8\n",
       "Name: Q15_17, dtype: int64"
      ]
     },
     "execution_count": 56,
     "metadata": {},
     "output_type": "execute_result"
    },
    {
     "data": {
      "text/plain": [
       "57"
      ]
     },
     "execution_count": 56,
     "metadata": {},
     "output_type": "execute_result"
    },
    {
     "data": {
      "text/plain": [
       "4    15\n",
       "5    13\n",
       "3    12\n",
       "2     9\n",
       "1     8\n",
       "Name: Q15_18, dtype: int64"
      ]
     },
     "execution_count": 56,
     "metadata": {},
     "output_type": "execute_result"
    },
    {
     "data": {
      "text/plain": [
       "61"
      ]
     },
     "execution_count": 56,
     "metadata": {},
     "output_type": "execute_result"
    },
    {
     "data": {
      "text/plain": [
       "4    19\n",
       "5    15\n",
       "3    14\n",
       "2     8\n",
       "1     5\n",
       "Name: Q15_19, dtype: int64"
      ]
     },
     "execution_count": 56,
     "metadata": {},
     "output_type": "execute_result"
    },
    {
     "data": {
      "text/plain": [
       "62"
      ]
     },
     "execution_count": 56,
     "metadata": {},
     "output_type": "execute_result"
    },
    {
     "data": {
      "text/plain": [
       "4    18\n",
       "3    18\n",
       "5    14\n",
       "2     8\n",
       "1     4\n",
       "Name: Q15_20, dtype: int64"
      ]
     },
     "execution_count": 56,
     "metadata": {},
     "output_type": "execute_result"
    },
    {
     "data": {
      "text/plain": [
       "60"
      ]
     },
     "execution_count": 56,
     "metadata": {},
     "output_type": "execute_result"
    },
    {
     "data": {
      "text/plain": [
       "4    20\n",
       "3    15\n",
       "5    14\n",
       "2     9\n",
       "1     2\n",
       "Name: Q15_21, dtype: int64"
      ]
     },
     "execution_count": 56,
     "metadata": {},
     "output_type": "execute_result"
    },
    {
     "data": {
      "text/plain": [
       "60"
      ]
     },
     "execution_count": 56,
     "metadata": {},
     "output_type": "execute_result"
    },
    {
     "data": {
      "text/plain": [
       "5    17\n",
       "4    14\n",
       "3    14\n",
       "2    12\n",
       "1     3\n",
       "Name: Q15_22, dtype: int64"
      ]
     },
     "execution_count": 56,
     "metadata": {},
     "output_type": "execute_result"
    },
    {
     "data": {
      "text/plain": [
       "61"
      ]
     },
     "execution_count": 56,
     "metadata": {},
     "output_type": "execute_result"
    },
    {
     "data": {
      "text/plain": [
       "4    26\n",
       "3    17\n",
       "2    10\n",
       "1     6\n",
       "5     2\n",
       "Name: Q15_23, dtype: int64"
      ]
     },
     "execution_count": 56,
     "metadata": {},
     "output_type": "execute_result"
    },
    {
     "data": {
      "text/plain": [
       "60"
      ]
     },
     "execution_count": 56,
     "metadata": {},
     "output_type": "execute_result"
    },
    {
     "data": {
      "text/plain": [
       "4    18\n",
       "5    15\n",
       "2    13\n",
       "3     9\n",
       "1     5\n",
       "Name: Q15_24, dtype: int64"
      ]
     },
     "execution_count": 56,
     "metadata": {},
     "output_type": "execute_result"
    },
    {
     "data": {
      "text/plain": [
       "61"
      ]
     },
     "execution_count": 56,
     "metadata": {},
     "output_type": "execute_result"
    },
    {
     "data": {
      "text/plain": [
       "4    18\n",
       "3    15\n",
       "5    12\n",
       "2    11\n",
       "1     5\n",
       "Name: Q15_25, dtype: int64"
      ]
     },
     "execution_count": 56,
     "metadata": {},
     "output_type": "execute_result"
    },
    {
     "data": {
      "text/plain": [
       "61"
      ]
     },
     "execution_count": 56,
     "metadata": {},
     "output_type": "execute_result"
    },
    {
     "data": {
      "text/plain": [
       "4    19\n",
       "3    13\n",
       "2    12\n",
       "5     9\n",
       "1     8\n",
       "Name: Q15_26, dtype: int64"
      ]
     },
     "execution_count": 56,
     "metadata": {},
     "output_type": "execute_result"
    },
    {
     "data": {
      "text/plain": [
       "62"
      ]
     },
     "execution_count": 56,
     "metadata": {},
     "output_type": "execute_result"
    },
    {
     "data": {
      "text/plain": [
       "4    20\n",
       "2    13\n",
       "3    11\n",
       "1    10\n",
       "5     8\n",
       "Name: Q15_27, dtype: int64"
      ]
     },
     "execution_count": 56,
     "metadata": {},
     "output_type": "execute_result"
    },
    {
     "data": {
      "text/plain": [
       "62"
      ]
     },
     "execution_count": 56,
     "metadata": {},
     "output_type": "execute_result"
    },
    {
     "data": {
      "text/plain": [
       "4    20\n",
       "3    15\n",
       "5    15\n",
       "2     9\n",
       "1     3\n",
       "Name: Q15_28, dtype: int64"
      ]
     },
     "execution_count": 56,
     "metadata": {},
     "output_type": "execute_result"
    },
    {
     "data": {
      "text/plain": [
       "61"
      ]
     },
     "execution_count": 56,
     "metadata": {},
     "output_type": "execute_result"
    },
    {
     "data": {
      "text/plain": [
       "5    20\n",
       "4    19\n",
       "3    10\n",
       "2     8\n",
       "1     4\n",
       "Name: Q15_29, dtype: int64"
      ]
     },
     "execution_count": 56,
     "metadata": {},
     "output_type": "execute_result"
    },
    {
     "data": {
      "text/plain": [
       "62"
      ]
     },
     "execution_count": 56,
     "metadata": {},
     "output_type": "execute_result"
    },
    {
     "data": {
      "text/plain": [
       "1    45\n",
       "2    17\n",
       "Name: Q16_1, dtype: int64"
      ]
     },
     "execution_count": 56,
     "metadata": {},
     "output_type": "execute_result"
    },
    {
     "data": {
      "text/plain": [
       "61"
      ]
     },
     "execution_count": 56,
     "metadata": {},
     "output_type": "execute_result"
    },
    {
     "data": {
      "text/plain": [
       "1    53\n",
       "2     8\n",
       "Name: Q16_2, dtype: int64"
      ]
     },
     "execution_count": 56,
     "metadata": {},
     "output_type": "execute_result"
    },
    {
     "data": {
      "text/plain": [
       "60"
      ]
     },
     "execution_count": 56,
     "metadata": {},
     "output_type": "execute_result"
    },
    {
     "data": {
      "text/plain": [
       "2    36\n",
       "1    24\n",
       "Name: Q16_3, dtype: int64"
      ]
     },
     "execution_count": 56,
     "metadata": {},
     "output_type": "execute_result"
    },
    {
     "data": {
      "text/plain": [
       "55"
      ]
     },
     "execution_count": 56,
     "metadata": {},
     "output_type": "execute_result"
    },
    {
     "data": {
      "text/plain": [
       "2    42\n",
       "1    13\n",
       "Name: Q16_4, dtype: int64"
      ]
     },
     "execution_count": 56,
     "metadata": {},
     "output_type": "execute_result"
    },
    {
     "data": {
      "text/plain": [
       "58"
      ]
     },
     "execution_count": 56,
     "metadata": {},
     "output_type": "execute_result"
    },
    {
     "data": {
      "text/plain": [
       "1    55\n",
       "2     3\n",
       "Name: Q16_5, dtype: int64"
      ]
     },
     "execution_count": 56,
     "metadata": {},
     "output_type": "execute_result"
    },
    {
     "data": {
      "text/plain": [
       "59"
      ]
     },
     "execution_count": 56,
     "metadata": {},
     "output_type": "execute_result"
    },
    {
     "data": {
      "text/plain": [
       "1    43\n",
       "2    16\n",
       "Name: Q16_6, dtype: int64"
      ]
     },
     "execution_count": 56,
     "metadata": {},
     "output_type": "execute_result"
    },
    {
     "data": {
      "text/plain": [
       "62"
      ]
     },
     "execution_count": 56,
     "metadata": {},
     "output_type": "execute_result"
    },
    {
     "data": {
      "text/plain": [
       "2    43\n",
       "1    19\n",
       "Name: Q16_7, dtype: int64"
      ]
     },
     "execution_count": 56,
     "metadata": {},
     "output_type": "execute_result"
    },
    {
     "data": {
      "text/plain": [
       "61"
      ]
     },
     "execution_count": 56,
     "metadata": {},
     "output_type": "execute_result"
    },
    {
     "data": {
      "text/plain": [
       "1    57\n",
       "2     4\n",
       "Name: Q16_8, dtype: int64"
      ]
     },
     "execution_count": 56,
     "metadata": {},
     "output_type": "execute_result"
    },
    {
     "data": {
      "text/plain": [
       "58"
      ]
     },
     "execution_count": 56,
     "metadata": {},
     "output_type": "execute_result"
    },
    {
     "data": {
      "text/plain": [
       "2    37\n",
       "1    21\n",
       "Name: Q16_9, dtype: int64"
      ]
     },
     "execution_count": 56,
     "metadata": {},
     "output_type": "execute_result"
    },
    {
     "data": {
      "text/plain": [
       "61"
      ]
     },
     "execution_count": 56,
     "metadata": {},
     "output_type": "execute_result"
    },
    {
     "data": {
      "text/plain": [
       "2    51\n",
       "1    10\n",
       "Name: Q16_10, dtype: int64"
      ]
     },
     "execution_count": 56,
     "metadata": {},
     "output_type": "execute_result"
    },
    {
     "data": {
      "text/plain": [
       "61"
      ]
     },
     "execution_count": 56,
     "metadata": {},
     "output_type": "execute_result"
    },
    {
     "data": {
      "text/plain": [
       "1    52\n",
       "2     9\n",
       "Name: Q16_11, dtype: int64"
      ]
     },
     "execution_count": 56,
     "metadata": {},
     "output_type": "execute_result"
    },
    {
     "data": {
      "text/plain": [
       "59"
      ]
     },
     "execution_count": 56,
     "metadata": {},
     "output_type": "execute_result"
    },
    {
     "data": {
      "text/plain": [
       "2    37\n",
       "1    22\n",
       "Name: Q16_12, dtype: int64"
      ]
     },
     "execution_count": 56,
     "metadata": {},
     "output_type": "execute_result"
    },
    {
     "data": {
      "text/plain": [
       "60"
      ]
     },
     "execution_count": 56,
     "metadata": {},
     "output_type": "execute_result"
    },
    {
     "data": {
      "text/plain": [
       "2    41\n",
       "1    19\n",
       "Name: Q16_13, dtype: int64"
      ]
     },
     "execution_count": 56,
     "metadata": {},
     "output_type": "execute_result"
    },
    {
     "data": {
      "text/plain": [
       "61"
      ]
     },
     "execution_count": 56,
     "metadata": {},
     "output_type": "execute_result"
    },
    {
     "data": {
      "text/plain": [
       "1    48\n",
       "2    13\n",
       "Name: Q16_14, dtype: int64"
      ]
     },
     "execution_count": 56,
     "metadata": {},
     "output_type": "execute_result"
    },
    {
     "data": {
      "text/plain": [
       "61"
      ]
     },
     "execution_count": 56,
     "metadata": {},
     "output_type": "execute_result"
    },
    {
     "data": {
      "text/plain": [
       "1    55\n",
       "2     6\n",
       "Name: Q16_15, dtype: int64"
      ]
     },
     "execution_count": 56,
     "metadata": {},
     "output_type": "execute_result"
    },
    {
     "data": {
      "text/plain": [
       "62"
      ]
     },
     "execution_count": 56,
     "metadata": {},
     "output_type": "execute_result"
    },
    {
     "data": {
      "text/plain": [
       "1    61\n",
       "2     1\n",
       "Name: Q16_16, dtype: int64"
      ]
     },
     "execution_count": 56,
     "metadata": {},
     "output_type": "execute_result"
    },
    {
     "data": {
      "text/plain": [
       "60"
      ]
     },
     "execution_count": 56,
     "metadata": {},
     "output_type": "execute_result"
    },
    {
     "data": {
      "text/plain": [
       "1    44\n",
       "2    16\n",
       "Name: Q16_17, dtype: int64"
      ]
     },
     "execution_count": 56,
     "metadata": {},
     "output_type": "execute_result"
    },
    {
     "data": {
      "text/plain": [
       "62"
      ]
     },
     "execution_count": 56,
     "metadata": {},
     "output_type": "execute_result"
    },
    {
     "data": {
      "text/plain": [
       "4    37\n",
       "3    23\n",
       "2     1\n",
       "1     1\n",
       "Name: Q17_1, dtype: int64"
      ]
     },
     "execution_count": 56,
     "metadata": {},
     "output_type": "execute_result"
    },
    {
     "data": {
      "text/plain": [
       "61"
      ]
     },
     "execution_count": 56,
     "metadata": {},
     "output_type": "execute_result"
    },
    {
     "data": {
      "text/plain": [
       "4    35\n",
       "3    23\n",
       "2     2\n",
       "1     1\n",
       "Name: Q17_2, dtype: int64"
      ]
     },
     "execution_count": 56,
     "metadata": {},
     "output_type": "execute_result"
    },
    {
     "data": {
      "text/plain": [
       "62"
      ]
     },
     "execution_count": 56,
     "metadata": {},
     "output_type": "execute_result"
    },
    {
     "data": {
      "text/plain": [
       "4    29\n",
       "3    29\n",
       "2     3\n",
       "1     1\n",
       "Name: Q17_3, dtype: int64"
      ]
     },
     "execution_count": 56,
     "metadata": {},
     "output_type": "execute_result"
    },
    {
     "data": {
      "text/plain": [
       "61"
      ]
     },
     "execution_count": 56,
     "metadata": {},
     "output_type": "execute_result"
    },
    {
     "data": {
      "text/plain": [
       "3    32\n",
       "4    19\n",
       "2     6\n",
       "1     2\n",
       "5     2\n",
       "Name: Q17_4, dtype: int64"
      ]
     },
     "execution_count": 56,
     "metadata": {},
     "output_type": "execute_result"
    },
    {
     "data": {
      "text/plain": [
       "61"
      ]
     },
     "execution_count": 56,
     "metadata": {},
     "output_type": "execute_result"
    },
    {
     "data": {
      "text/plain": [
       "3    25\n",
       "4    21\n",
       "2    12\n",
       "1     3\n",
       "Name: Q17_5, dtype: int64"
      ]
     },
     "execution_count": 56,
     "metadata": {},
     "output_type": "execute_result"
    },
    {
     "data": {
      "text/plain": [
       "62"
      ]
     },
     "execution_count": 56,
     "metadata": {},
     "output_type": "execute_result"
    },
    {
     "data": {
      "text/plain": [
       "3    30\n",
       "4    25\n",
       "1     5\n",
       "2     1\n",
       "5     1\n",
       "Name: Q17_6, dtype: int64"
      ]
     },
     "execution_count": 56,
     "metadata": {},
     "output_type": "execute_result"
    },
    {
     "data": {
      "text/plain": [
       "61"
      ]
     },
     "execution_count": 56,
     "metadata": {},
     "output_type": "execute_result"
    },
    {
     "data": {
      "text/plain": [
       "4    27\n",
       "3    27\n",
       "2     5\n",
       "1     2\n",
       "Name: Q17_7, dtype: int64"
      ]
     },
     "execution_count": 56,
     "metadata": {},
     "output_type": "execute_result"
    },
    {
     "data": {
      "text/plain": [
       "62"
      ]
     },
     "execution_count": 56,
     "metadata": {},
     "output_type": "execute_result"
    },
    {
     "data": {
      "text/plain": [
       "4    28\n",
       "3    24\n",
       "2     8\n",
       "1     2\n",
       "Name: Q17_8, dtype: int64"
      ]
     },
     "execution_count": 56,
     "metadata": {},
     "output_type": "execute_result"
    },
    {
     "data": {
      "text/plain": [
       "61"
      ]
     },
     "execution_count": 56,
     "metadata": {},
     "output_type": "execute_result"
    },
    {
     "data": {
      "text/plain": [
       "3    30\n",
       "4    19\n",
       "2     9\n",
       "1     2\n",
       "5     1\n",
       "Name: Q17_9, dtype: int64"
      ]
     },
     "execution_count": 56,
     "metadata": {},
     "output_type": "execute_result"
    },
    {
     "data": {
      "text/plain": [
       "62"
      ]
     },
     "execution_count": 56,
     "metadata": {},
     "output_type": "execute_result"
    },
    {
     "data": {
      "text/plain": [
       "3    28\n",
       "4    24\n",
       "2     7\n",
       "1     3\n",
       "Name: Q17_10, dtype: int64"
      ]
     },
     "execution_count": 56,
     "metadata": {},
     "output_type": "execute_result"
    },
    {
     "data": {
      "text/plain": [
       "61"
      ]
     },
     "execution_count": 56,
     "metadata": {},
     "output_type": "execute_result"
    },
    {
     "data": {
      "text/plain": [
       "3    25\n",
       "4    21\n",
       "2    11\n",
       "1     4\n",
       "Name: Q17_11, dtype: int64"
      ]
     },
     "execution_count": 56,
     "metadata": {},
     "output_type": "execute_result"
    },
    {
     "data": {
      "text/plain": [
       "62"
      ]
     },
     "execution_count": 56,
     "metadata": {},
     "output_type": "execute_result"
    },
    {
     "data": {
      "text/plain": [
       "4    24\n",
       "3    22\n",
       "2    10\n",
       "1     6\n",
       "Name: Q17_12, dtype: int64"
      ]
     },
     "execution_count": 56,
     "metadata": {},
     "output_type": "execute_result"
    },
    {
     "data": {
      "text/plain": [
       "62"
      ]
     },
     "execution_count": 56,
     "metadata": {},
     "output_type": "execute_result"
    },
    {
     "data": {
      "text/plain": [
       "4    26\n",
       "3    24\n",
       "2     9\n",
       "1     2\n",
       "5     1\n",
       "Name: Q17_13, dtype: int64"
      ]
     },
     "execution_count": 56,
     "metadata": {},
     "output_type": "execute_result"
    },
    {
     "data": {
      "text/plain": [
       "61"
      ]
     },
     "execution_count": 56,
     "metadata": {},
     "output_type": "execute_result"
    },
    {
     "data": {
      "text/plain": [
       "5    21\n",
       "6    20\n",
       "4     7\n",
       "7     5\n",
       "2     5\n",
       "3     2\n",
       "1     1\n",
       "Name: Q18, dtype: int64"
      ]
     },
     "execution_count": 56,
     "metadata": {},
     "output_type": "execute_result"
    },
    {
     "data": {
      "text/plain": [
       "56"
      ]
     },
     "execution_count": 56,
     "metadata": {},
     "output_type": "execute_result"
    },
    {
     "data": {
      "text/plain": [
       "2    43\n",
       "1    13\n",
       "Name: Q32, dtype: int64"
      ]
     },
     "execution_count": 56,
     "metadata": {},
     "output_type": "execute_result"
    },
    {
     "data": {
      "text/plain": [
       "60"
      ]
     },
     "execution_count": 56,
     "metadata": {},
     "output_type": "execute_result"
    },
    {
     "data": {
      "text/plain": [
       "4      45\n",
       "3       6\n",
       "5       4\n",
       "3,4     2\n",
       "4,5     2\n",
       "2       1\n",
       "Name: Q19, dtype: int64"
      ]
     },
     "execution_count": 56,
     "metadata": {},
     "output_type": "execute_result"
    },
    {
     "data": {
      "text/plain": [
       "48"
      ]
     },
     "execution_count": 56,
     "metadata": {},
     "output_type": "execute_result"
    },
    {
     "data": {
      "text/plain": [
       "2    15\n",
       "3    11\n",
       "1    10\n",
       "4     9\n",
       "5     3\n",
       "Name: Q20, dtype: int64"
      ]
     },
     "execution_count": 56,
     "metadata": {},
     "output_type": "execute_result"
    },
    {
     "data": {
      "text/plain": [
       "60"
      ]
     },
     "execution_count": 56,
     "metadata": {},
     "output_type": "execute_result"
    },
    {
     "data": {
      "text/plain": [
       "2    40\n",
       "1    20\n",
       "Name: Q21, dtype: int64"
      ]
     },
     "execution_count": 56,
     "metadata": {},
     "output_type": "execute_result"
    },
    {
     "data": {
      "text/plain": [
       "0"
      ]
     },
     "execution_count": 56,
     "metadata": {},
     "output_type": "execute_result"
    },
    {
     "data": {
      "text/plain": [
       "Series([], Name: Q21_3_TEXT, dtype: int64)"
      ]
     },
     "execution_count": 56,
     "metadata": {},
     "output_type": "execute_result"
    },
    {
     "data": {
      "text/plain": [
       "60"
      ]
     },
     "execution_count": 56,
     "metadata": {},
     "output_type": "execute_result"
    },
    {
     "data": {
      "text/plain": [
       "10033    19\n",
       "10032    19\n",
       "10040    15\n",
       "10034     7\n",
       "Name: Q22, dtype: int64"
      ]
     },
     "execution_count": 56,
     "metadata": {},
     "output_type": "execute_result"
    },
    {
     "data": {
      "text/plain": [
       "61"
      ]
     },
     "execution_count": 56,
     "metadata": {},
     "output_type": "execute_result"
    },
    {
     "data": {
      "text/plain": [
       "30            6\n",
       "35            6\n",
       "20            4\n",
       "40            3\n",
       "10            3\n",
       "45            3\n",
       "44            2\n",
       "50            2\n",
       "5             2\n",
       "42            2\n",
       "25            2\n",
       "3             2\n",
       "15            2\n",
       "19            1\n",
       "0             1\n",
       "6             1\n",
       "\"Longtime\"    1\n",
       "58            1\n",
       "7             1\n",
       "32            1\n",
       "8             1\n",
       "78            1\n",
       "52            1\n",
       "16            1\n",
       "12+           1\n",
       "56            1\n",
       "2             1\n",
       "63            1\n",
       "36            1\n",
       "54            1\n",
       "34            1\n",
       "17            1\n",
       "41            1\n",
       "50+           1\n",
       "18            1\n",
       "Name: Q23, dtype: int64"
      ]
     },
     "execution_count": 56,
     "metadata": {},
     "output_type": "execute_result"
    },
    {
     "data": {
      "text/plain": [
       "60"
      ]
     },
     "execution_count": 56,
     "metadata": {},
     "output_type": "execute_result"
    },
    {
     "data": {
      "text/plain": [
       "5    24\n",
       "4    19\n",
       "3    15\n",
       "2     1\n",
       "1     1\n",
       "Name: Q24, dtype: int64"
      ]
     },
     "execution_count": 56,
     "metadata": {},
     "output_type": "execute_result"
    },
    {
     "data": {
      "text/plain": [
       "58"
      ]
     },
     "execution_count": 56,
     "metadata": {},
     "output_type": "execute_result"
    },
    {
     "data": {
      "text/plain": [
       "5    27\n",
       "4    18\n",
       "3    11\n",
       "2     1\n",
       "1     1\n",
       "Name: Q25, dtype: int64"
      ]
     },
     "execution_count": 56,
     "metadata": {},
     "output_type": "execute_result"
    },
    {
     "data": {
      "text/plain": [
       "55"
      ]
     },
     "execution_count": 56,
     "metadata": {},
     "output_type": "execute_result"
    },
    {
     "data": {
      "text/plain": [
       "1    28\n",
       "2    27\n",
       "Name: Q26, dtype: int64"
      ]
     },
     "execution_count": 56,
     "metadata": {},
     "output_type": "execute_result"
    },
    {
     "data": {
      "text/plain": [
       "41"
      ]
     },
     "execution_count": 56,
     "metadata": {},
     "output_type": "execute_result"
    },
    {
     "data": {
      "text/plain": [
       "1    28\n",
       "2     6\n",
       "3     5\n",
       "4     2\n",
       "Name: Q27, dtype: int64"
      ]
     },
     "execution_count": 56,
     "metadata": {},
     "output_type": "execute_result"
    },
    {
     "data": {
      "text/plain": [
       "48"
      ]
     },
     "execution_count": 56,
     "metadata": {},
     "output_type": "execute_result"
    },
    {
     "data": {
      "text/plain": [
       "2    19\n",
       "1    12\n",
       "4     9\n",
       "3     8\n",
       "Name: Q28, dtype: int64"
      ]
     },
     "execution_count": 56,
     "metadata": {},
     "output_type": "execute_result"
    },
    {
     "data": {
      "text/plain": [
       "58"
      ]
     },
     "execution_count": 56,
     "metadata": {},
     "output_type": "execute_result"
    },
    {
     "data": {
      "text/plain": [
       "2    33\n",
       "1    25\n",
       "Name: Q29, dtype: int64"
      ]
     },
     "execution_count": 56,
     "metadata": {},
     "output_type": "execute_result"
    },
    {
     "data": {
      "text/plain": [
       "60"
      ]
     },
     "execution_count": 56,
     "metadata": {},
     "output_type": "execute_result"
    },
    {
     "data": {
      "text/plain": [
       "2    48\n",
       "1    12\n",
       "Name: Q30, dtype: int64"
      ]
     },
     "execution_count": 56,
     "metadata": {},
     "output_type": "execute_result"
    },
    {
     "data": {
      "text/plain": [
       "45"
      ]
     },
     "execution_count": 56,
     "metadata": {},
     "output_type": "execute_result"
    },
    {
     "data": {
      "text/plain": [
       "DR                      14\n",
       "Dominican Republic       5\n",
       "dr                       4\n",
       "Peru                     4\n",
       "Rep Dom                  3\n",
       "Japan                    1\n",
       "Rep. Dom.                1\n",
       "Republica Dominicana     1\n",
       "Jamaica                  1\n",
       "Ecuador                  1\n",
       "Cuba                     1\n",
       "Santo Domingo            1\n",
       "Dom. Rep                 1\n",
       "Lima, Peru               1\n",
       "U.K.                     1\n",
       "Mexico                   1\n",
       "Italy                    1\n",
       "Dom Rep                  1\n",
       "Colombia                 1\n",
       "Dom.Rep.                 1\n",
       "Name: Q30_2_TEXT, dtype: int64"
      ]
     },
     "execution_count": 56,
     "metadata": {},
     "output_type": "execute_result"
    },
    {
     "data": {
      "text/plain": [
       "45"
      ]
     },
     "execution_count": 56,
     "metadata": {},
     "output_type": "execute_result"
    },
    {
     "data": {
      "text/plain": [
       "35     5\n",
       "45     4\n",
       "50     4\n",
       "17     2\n",
       "5      2\n",
       "10     2\n",
       "20     2\n",
       "34     2\n",
       "30     2\n",
       "50+    2\n",
       "16     1\n",
       "47     1\n",
       "51+    1\n",
       "15     1\n",
       "60     1\n",
       "48     1\n",
       "8      1\n",
       "49     1\n",
       "52     1\n",
       "37     1\n",
       "3      1\n",
       "0      1\n",
       "40     1\n",
       "42     1\n",
       "9      1\n",
       "54     1\n",
       "7      1\n",
       "32     1\n",
       "Name: Q31, dtype: int64"
      ]
     },
     "execution_count": 56,
     "metadata": {},
     "output_type": "execute_result"
    }
   ],
   "source": [
    "df.columns.values\n",
    "\n",
    "check_cols = ['Q3_1', 'Q3_2', 'Q3_3', 'Q3_4', 'Q3_5',\n",
    "       'Q4', 'Q5', 'Q6_1', 'Q6_2', 'Q6_3', 'Q6_4', 'Q6_5', 'Q7_1', 'Q7_2',\n",
    "       'Q7_3', 'Q7_4', 'Q7_5', 'Q8', 'Q9', 'Q10', 'Q11', 'Q12', 'Q13',\n",
    "       'Q13_2_TEXT', 'Q14', 'Q15_1', 'Q15_2', 'Q15_3', 'Q15_4', 'Q15_5',\n",
    "       'Q15_6', 'Q15_7', 'Q15_8', 'Q15_9', 'Q15_10', 'Q15_11', 'Q15_12',\n",
    "       'Q15_13', 'Q15_14', 'Q15_15', 'Q15_16', 'Q15_17', 'Q15_18',\n",
    "       'Q15_19', 'Q15_20', 'Q15_21', 'Q15_22', 'Q15_23', 'Q15_24',\n",
    "       'Q15_25', 'Q15_26', 'Q15_27', 'Q15_28', 'Q15_29', 'Q16_1', 'Q16_2',\n",
    "       'Q16_3', 'Q16_4', 'Q16_5', 'Q16_6', 'Q16_7', 'Q16_8', 'Q16_9',\n",
    "       'Q16_10', 'Q16_11', 'Q16_12', 'Q16_13', 'Q16_14', 'Q16_15',\n",
    "       'Q16_16', 'Q16_17', 'Q17_1', 'Q17_2', 'Q17_3', 'Q17_4', 'Q17_5',\n",
    "       'Q17_6', 'Q17_7', 'Q17_8', 'Q17_9', 'Q17_10', 'Q17_11', 'Q17_12',\n",
    "       'Q17_13', 'Q18', 'Q32', 'Q19', 'Q20', 'Q21', 'Q21_3_TEXT', 'Q22',\n",
    "       'Q23', 'Q24', 'Q25', 'Q26', 'Q27', 'Q28', 'Q29', 'Q30',\n",
    "       'Q30_2_TEXT', 'Q31']\n",
    "\n",
    "for i in range(101):\n",
    "    df[check_cols[i]].value_counts().sum()\n",
    "    df[check_cols[i]].value_counts()\n"
   ]
  },
  {
   "cell_type": "code",
   "execution_count": 57,
   "id": "a12c16ec-0321-4abe-b3be-a184ad01d0ae",
   "metadata": {},
   "outputs": [],
   "source": [
    "# Look at IDs for discrepancies #Row 10\n",
    "df['ParticipantID'].to_csv('Baseline_Diabetes_ParticipantID.csv',index=False)"
   ]
  },
  {
   "cell_type": "code",
   "execution_count": 58,
   "id": "7d56b1ab-a4a9-47d4-8c55-384d618b8e77",
   "metadata": {},
   "outputs": [],
   "source": [
    "# Look at Survey Dates for discrepancies #Row 10\n",
    "df['SurveyDate'].to_csv('Baseline_Diabetes_SurveyDate.csv',index=False)"
   ]
  },
  {
   "cell_type": "code",
   "execution_count": 59,
   "id": "1b42f8c9-97d0-4438-afb0-e50dd7e25474",
   "metadata": {},
   "outputs": [
    {
     "data": {
      "text/plain": [
       "10033    19\n",
       "10032    19\n",
       "10040    15\n",
       "10034     7\n",
       "Name: Q22, dtype: int64"
      ]
     },
     "execution_count": 59,
     "metadata": {},
     "output_type": "execute_result"
    }
   ],
   "source": [
    "# Check for outliers \n",
    "# ZIP Code -- ALL WAHI zip codes, 10034 (Inwood) \n",
    "df['Q22'].value_counts()\n",
    "# Years lived in WAHI \n",
    "#df['Q23'].value_counts() # Change \"longtime\" & \"#+\" entries? *Note: min = 0\n",
    "# Check individually to make sure the number of years lived in WAHI is below max age\n",
    "#df.loc[df['Q18']=='7','Q23'].value_counts() #all satisfied\n",
    "\n",
    "# Years in the US \n",
    "#df['Q31'].value_counts() #min = 0\n",
    "# Check individually to make sure the number of years in US is below max age\n",
    "#df.loc[df['Q18']=='7','Q31'].value_counts() #all satisfied "
   ]
  },
  {
   "cell_type": "code",
   "execution_count": 60,
   "id": "c1735ba1-f1d2-4f40-9253-3f2bcf9ff769",
   "metadata": {},
   "outputs": [
    {
     "data": {
      "text/plain": [
       "Series([], Name: Q5, dtype: int64)"
      ]
     },
     "execution_count": 60,
     "metadata": {},
     "output_type": "execute_result"
    },
    {
     "data": {
      "text/plain": [
       "Series([], Name: Q9, dtype: int64)"
      ]
     },
     "execution_count": 60,
     "metadata": {},
     "output_type": "execute_result"
    },
    {
     "data": {
      "text/plain": [
       "Series([], Name: Q13_2_TEXT, dtype: int64)"
      ]
     },
     "execution_count": 60,
     "metadata": {},
     "output_type": "execute_result"
    },
    {
     "data": {
      "text/plain": [
       "Series([], Name: Q21_3_TEXT, dtype: int64)"
      ]
     },
     "execution_count": 60,
     "metadata": {},
     "output_type": "execute_result"
    },
    {
     "data": {
      "text/plain": [
       "Series([], Name: Q21_3_TEXT, dtype: int64)"
      ]
     },
     "execution_count": 60,
     "metadata": {},
     "output_type": "execute_result"
    },
    {
     "data": {
      "text/plain": [
       "Series([], Name: Q30_2_TEXT, dtype: int64)"
      ]
     },
     "execution_count": 60,
     "metadata": {},
     "output_type": "execute_result"
    },
    {
     "data": {
      "text/plain": [
       "Series([], Name: Q31, dtype: int64)"
      ]
     },
     "execution_count": 60,
     "metadata": {},
     "output_type": "execute_result"
    }
   ],
   "source": [
    "# Logic Check (if statements): #all satisfied\n",
    "\n",
    "#Q5:\n",
    "df.loc[df['Q4']=='3','Q5'].value_counts() # satisfied\n",
    "#Q8:\n",
    "df.loc[df['Q8']=='2','Q9'].value_counts() #satisfied\n",
    "#Q13:\n",
    "df.loc[df['Q13']=='1','Q13_2_TEXT'].value_counts() #satisfied\n",
    "#Q21:\n",
    "df.loc[df['Q21']=='1','Q21_3_TEXT'].value_counts() #satisfied\n",
    "df.loc[df['Q21']=='2','Q21_3_TEXT'].value_counts() #satisfied\n",
    "#Q30:\n",
    "df.loc[df['Q30']=='1','Q30_2_TEXT'].value_counts() #satisfied\n",
    "#Q31:\n",
    "df.loc[df['Q30']=='1','Q31'].value_counts() #satisfied"
   ]
  },
  {
   "cell_type": "code",
   "execution_count": 62,
   "id": "26302a80-e69d-48f6-b8e4-e9816f0fa7e1",
   "metadata": {},
   "outputs": [],
   "source": [
    "# To handle missing values, we need to first make note of the 'N/A' values\n",
    "# and mark them as '-888'\n",
    "\n",
    "#Q5:\n",
    "df.loc[df['Q4']=='2','Q5'] = '-888'\n",
    "#Q8:\n",
    "df.loc[df['Q8']=='2','Q9'] = '-888'\n",
    "#Q13:\n",
    "df.loc[df['Q13']=='1','Q13_2_TEXT'] = '-888'\n",
    "#Q21:\n",
    "df.loc[df['Q21']=='1','Q21_3_TEXT'] = '-888'\n",
    "df.loc[df['Q21']=='2','Q21_3_TEXT'] = '-888'\n",
    "#Q30:\n",
    "df.loc[df['Q30']=='1','Q30_2_TEXT'] = '-888'\n",
    "#Q31:\n",
    "df.loc[df['Q30']=='1','Q31'] = '-888'"
   ]
  },
  {
   "cell_type": "code",
   "execution_count": 63,
   "id": "7c0c72f8-3119-4694-87b3-613cbbabc945",
   "metadata": {},
   "outputs": [
    {
     "name": "stdout",
     "output_type": "stream",
     "text": [
      "<class 'pandas.core.frame.DataFrame'>\n",
      "Int64Index: 63 entries, 0 to 62\n",
      "Data columns (total 109 columns):\n",
      " #    Column                 Non-Null Count  Dtype \n",
      "---   ------                 --------------  ----- \n",
      " 0    ParticipantID          63 non-null     object\n",
      " 1    SurveyDate             63 non-null     object\n",
      " 2    UserLanguage           63 non-null     object\n",
      " 3    Duration (in seconds)  63 non-null     object\n",
      " 4    Q3_1                   60 non-null     object\n",
      " 5    Q3_2                   58 non-null     object\n",
      " 6    Q3_3                   58 non-null     object\n",
      " 7    Q3_4                   58 non-null     object\n",
      " 8    Q3_5                   59 non-null     object\n",
      " 9    Q4                     62 non-null     object\n",
      " 10   Q5                     61 non-null     object\n",
      " 11   Q6_1                   53 non-null     object\n",
      " 12   Q6_2                   49 non-null     object\n",
      " 13   Q6_3                   43 non-null     object\n",
      " 14   Q6_4                   47 non-null     object\n",
      " 15   Q6_5                   47 non-null     object\n",
      " 16   Q7_1                   59 non-null     object\n",
      " 17   Q7_2                   57 non-null     object\n",
      " 18   Q7_3                   54 non-null     object\n",
      " 19   Q7_4                   58 non-null     object\n",
      " 20   Q7_5                   58 non-null     object\n",
      " 21   Q8                     62 non-null     object\n",
      " 22   Q9                     55 non-null     object\n",
      " 23   Q10                    60 non-null     object\n",
      " 24   Q11                    60 non-null     object\n",
      " 25   Q12                    61 non-null     object\n",
      " 26   Q13                    53 non-null     object\n",
      " 27   Q13_2_TEXT             49 non-null     object\n",
      " 28   Q14                    62 non-null     object\n",
      " 29   Q15_1                  62 non-null     object\n",
      " 30   Q15_2                  62 non-null     object\n",
      " 31   Q15_3                  62 non-null     object\n",
      " 32   Q15_4                  62 non-null     object\n",
      " 33   Q15_5                  61 non-null     object\n",
      " 34   Q15_6                  61 non-null     object\n",
      " 35   Q15_7                  62 non-null     object\n",
      " 36   Q15_8                  61 non-null     object\n",
      " 37   Q15_9                  61 non-null     object\n",
      " 38   Q15_10                 61 non-null     object\n",
      " 39   Q15_11                 62 non-null     object\n",
      " 40   Q15_12                 61 non-null     object\n",
      " 41   Q15_13                 61 non-null     object\n",
      " 42   Q15_14                 62 non-null     object\n",
      " 43   Q15_15                 62 non-null     object\n",
      " 44   Q15_16                 60 non-null     object\n",
      " 45   Q15_17                 61 non-null     object\n",
      " 46   Q15_18                 57 non-null     object\n",
      " 47   Q15_19                 61 non-null     object\n",
      " 48   Q15_20                 62 non-null     object\n",
      " 49   Q15_21                 60 non-null     object\n",
      " 50   Q15_22                 60 non-null     object\n",
      " 51   Q15_23                 61 non-null     object\n",
      " 52   Q15_24                 60 non-null     object\n",
      " 53   Q15_25                 61 non-null     object\n",
      " 54   Q15_26                 61 non-null     object\n",
      " 55   Q15_27                 62 non-null     object\n",
      " 56   Q15_28                 62 non-null     object\n",
      " 57   Q15_29                 61 non-null     object\n",
      " 58   Q16_1                  62 non-null     object\n",
      " 59   Q16_2                  61 non-null     object\n",
      " 60   Q16_3                  60 non-null     object\n",
      " 61   Q16_4                  55 non-null     object\n",
      " 62   Q16_5                  58 non-null     object\n",
      " 63   Q16_6                  59 non-null     object\n",
      " 64   Q16_7                  62 non-null     object\n",
      " 65   Q16_8                  61 non-null     object\n",
      " 66   Q16_9                  58 non-null     object\n",
      " 67   Q16_10                 61 non-null     object\n",
      " 68   Q16_11                 61 non-null     object\n",
      " 69   Q16_12                 59 non-null     object\n",
      " 70   Q16_13                 60 non-null     object\n",
      " 71   Q16_14                 61 non-null     object\n",
      " 72   Q16_15                 61 non-null     object\n",
      " 73   Q16_16                 62 non-null     object\n",
      " 74   Q16_17                 60 non-null     object\n",
      " 75   Q16_18                 62 non-null     object\n",
      " 76   Q16_19                 61 non-null     object\n",
      " 77   Q16_20                 60 non-null     object\n",
      " 78   Q16_21                 59 non-null     object\n",
      " 79   Q17_1                  62 non-null     object\n",
      " 80   Q17_2                  61 non-null     object\n",
      " 81   Q17_3                  62 non-null     object\n",
      " 82   Q17_4                  61 non-null     object\n",
      " 83   Q17_5                  61 non-null     object\n",
      " 84   Q17_6                  62 non-null     object\n",
      " 85   Q17_7                  61 non-null     object\n",
      " 86   Q17_8                  62 non-null     object\n",
      " 87   Q17_9                  61 non-null     object\n",
      " 88   Q17_10                 62 non-null     object\n",
      " 89   Q17_11                 61 non-null     object\n",
      " 90   Q17_12                 62 non-null     object\n",
      " 91   Q17_13                 62 non-null     object\n",
      " 92   Q18                    61 non-null     object\n",
      " 93   Q32                    56 non-null     object\n",
      " 94   Q19                    60 non-null     object\n",
      " 95   Q20                    48 non-null     object\n",
      " 96   Q21                    60 non-null     object\n",
      " 97   Q21_3_TEXT             60 non-null     object\n",
      " 98   Q22                    60 non-null     object\n",
      " 99   Q23                    61 non-null     object\n",
      " 100  Q24                    60 non-null     object\n",
      " 101  Q25                    58 non-null     object\n",
      " 102  Q26                    55 non-null     object\n",
      " 103  Q27                    41 non-null     object\n",
      " 104  Q28                    48 non-null     object\n",
      " 105  Q29                    58 non-null     object\n",
      " 106  Q30                    60 non-null     object\n",
      " 107  Q30_2_TEXT             57 non-null     object\n",
      " 108  Q31                    57 non-null     object\n",
      "dtypes: object(109)\n",
      "memory usage: 54.1+ KB\n"
     ]
    }
   ],
   "source": [
    "# Let's see which columns have missing values\n",
    "\n",
    "df.info(verbose=True,show_counts=True)"
   ]
  },
  {
   "cell_type": "code",
   "execution_count": 64,
   "id": "87c11e9a-af80-43ff-8638-1bebcf09d96c",
   "metadata": {},
   "outputs": [
    {
     "data": {
      "text/plain": [
       "<AxesSubplot:>"
      ]
     },
     "execution_count": 64,
     "metadata": {},
     "output_type": "execute_result"
    },
    {
     "data": {
      "image/png": "[encoded data removed]",
      "text/plain": [
       "<Figure size 432x288 with 1 Axes>"
      ]
     },
     "metadata": {
      "needs_background": "light"
     },
     "output_type": "display_data"
    }
   ],
   "source": [
    "# heatmap of missing values\n",
    "\n",
    "sns.heatmap(df.isnull(),cbar=False)"
   ]
  },
  {
   "cell_type": "code",
   "execution_count": 65,
   "id": "fc3abacd-6683-47e4-9611-2a28db64eeb0",
   "metadata": {},
   "outputs": [
    {
     "name": "stdout",
     "output_type": "stream",
     "text": [
      "<class 'pandas.core.frame.DataFrame'>\n",
      "Int64Index: 63 entries, 0 to 62\n",
      "Data columns (total 109 columns):\n",
      " #    Column                 Non-Null Count  Dtype \n",
      "---   ------                 --------------  ----- \n",
      " 0    ParticipantID          63 non-null     object\n",
      " 1    SurveyDate             63 non-null     object\n",
      " 2    UserLanguage           63 non-null     object\n",
      " 3    Duration (in seconds)  63 non-null     object\n",
      " 4    Q3_1                   63 non-null     object\n",
      " 5    Q3_2                   63 non-null     object\n",
      " 6    Q3_3                   63 non-null     object\n",
      " 7    Q3_4                   63 non-null     object\n",
      " 8    Q3_5                   63 non-null     object\n",
      " 9    Q4                     63 non-null     object\n",
      " 10   Q5                     63 non-null     object\n",
      " 11   Q6_1                   63 non-null     object\n",
      " 12   Q6_2                   63 non-null     object\n",
      " 13   Q6_3                   63 non-null     object\n",
      " 14   Q6_4                   63 non-null     object\n",
      " 15   Q6_5                   63 non-null     object\n",
      " 16   Q7_1                   63 non-null     object\n",
      " 17   Q7_2                   63 non-null     object\n",
      " 18   Q7_3                   63 non-null     object\n",
      " 19   Q7_4                   63 non-null     object\n",
      " 20   Q7_5                   63 non-null     object\n",
      " 21   Q8                     63 non-null     object\n",
      " 22   Q9                     63 non-null     object\n",
      " 23   Q10                    63 non-null     object\n",
      " 24   Q11                    63 non-null     object\n",
      " 25   Q12                    63 non-null     object\n",
      " 26   Q13                    63 non-null     object\n",
      " 27   Q13_2_TEXT             63 non-null     object\n",
      " 28   Q14                    63 non-null     object\n",
      " 29   Q15_1                  63 non-null     object\n",
      " 30   Q15_2                  63 non-null     object\n",
      " 31   Q15_3                  63 non-null     object\n",
      " 32   Q15_4                  63 non-null     object\n",
      " 33   Q15_5                  63 non-null     object\n",
      " 34   Q15_6                  63 non-null     object\n",
      " 35   Q15_7                  63 non-null     object\n",
      " 36   Q15_8                  63 non-null     object\n",
      " 37   Q15_9                  63 non-null     object\n",
      " 38   Q15_10                 63 non-null     object\n",
      " 39   Q15_11                 63 non-null     object\n",
      " 40   Q15_12                 63 non-null     object\n",
      " 41   Q15_13                 63 non-null     object\n",
      " 42   Q15_14                 63 non-null     object\n",
      " 43   Q15_15                 63 non-null     object\n",
      " 44   Q15_16                 63 non-null     object\n",
      " 45   Q15_17                 63 non-null     object\n",
      " 46   Q15_18                 63 non-null     object\n",
      " 47   Q15_19                 63 non-null     object\n",
      " 48   Q15_20                 63 non-null     object\n",
      " 49   Q15_21                 63 non-null     object\n",
      " 50   Q15_22                 63 non-null     object\n",
      " 51   Q15_23                 63 non-null     object\n",
      " 52   Q15_24                 63 non-null     object\n",
      " 53   Q15_25                 63 non-null     object\n",
      " 54   Q15_26                 63 non-null     object\n",
      " 55   Q15_27                 63 non-null     object\n",
      " 56   Q15_28                 63 non-null     object\n",
      " 57   Q15_29                 63 non-null     object\n",
      " 58   Q16_1                  63 non-null     object\n",
      " 59   Q16_2                  63 non-null     object\n",
      " 60   Q16_3                  63 non-null     object\n",
      " 61   Q16_4                  63 non-null     object\n",
      " 62   Q16_5                  63 non-null     object\n",
      " 63   Q16_6                  63 non-null     object\n",
      " 64   Q16_7                  63 non-null     object\n",
      " 65   Q16_8                  63 non-null     object\n",
      " 66   Q16_9                  63 non-null     object\n",
      " 67   Q16_10                 63 non-null     object\n",
      " 68   Q16_11                 63 non-null     object\n",
      " 69   Q16_12                 63 non-null     object\n",
      " 70   Q16_13                 63 non-null     object\n",
      " 71   Q16_14                 63 non-null     object\n",
      " 72   Q16_15                 63 non-null     object\n",
      " 73   Q16_16                 63 non-null     object\n",
      " 74   Q16_17                 63 non-null     object\n",
      " 75   Q16_18                 63 non-null     object\n",
      " 76   Q16_19                 63 non-null     object\n",
      " 77   Q16_20                 63 non-null     object\n",
      " 78   Q16_21                 63 non-null     object\n",
      " 79   Q17_1                  63 non-null     object\n",
      " 80   Q17_2                  63 non-null     object\n",
      " 81   Q17_3                  63 non-null     object\n",
      " 82   Q17_4                  63 non-null     object\n",
      " 83   Q17_5                  63 non-null     object\n",
      " 84   Q17_6                  63 non-null     object\n",
      " 85   Q17_7                  63 non-null     object\n",
      " 86   Q17_8                  63 non-null     object\n",
      " 87   Q17_9                  63 non-null     object\n",
      " 88   Q17_10                 63 non-null     object\n",
      " 89   Q17_11                 63 non-null     object\n",
      " 90   Q17_12                 63 non-null     object\n",
      " 91   Q17_13                 63 non-null     object\n",
      " 92   Q18                    63 non-null     object\n",
      " 93   Q32                    63 non-null     object\n",
      " 94   Q19                    63 non-null     object\n",
      " 95   Q20                    63 non-null     object\n",
      " 96   Q21                    63 non-null     object\n",
      " 97   Q21_3_TEXT             63 non-null     object\n",
      " 98   Q22                    63 non-null     object\n",
      " 99   Q23                    63 non-null     object\n",
      " 100  Q24                    63 non-null     object\n",
      " 101  Q25                    63 non-null     object\n",
      " 102  Q26                    63 non-null     object\n",
      " 103  Q27                    63 non-null     object\n",
      " 104  Q28                    63 non-null     object\n",
      " 105  Q29                    63 non-null     object\n",
      " 106  Q30                    63 non-null     object\n",
      " 107  Q30_2_TEXT             63 non-null     object\n",
      " 108  Q31                    63 non-null     object\n",
      "dtypes: object(109)\n",
      "memory usage: 54.1+ KB\n"
     ]
    }
   ],
   "source": [
    "# Let's denote missing values as -999\n",
    "\n",
    "df.fillna('-999',inplace=True)\n",
    "df.info(verbose=True,show_counts=True)"
   ]
  },
  {
   "cell_type": "code",
   "execution_count": 66,
   "id": "30b36f3d-9a60-495a-812b-7592836550d7",
   "metadata": {},
   "outputs": [],
   "source": [
    "# Export dataset\n",
    "\n",
    "df.to_csv('V1_Cleaned_Baseline_Diabetes.csv',index=False)"
   ]
  },
  {
   "cell_type": "code",
   "execution_count": null,
   "id": "96099057-f1e0-49aa-9de4-890dd8238f33",
   "metadata": {},
   "outputs": [],
   "source": []
  }
 ],
 "metadata": {
  "kernelspec": {
   "display_name": "Python 3",
   "language": "python",
   "name": "python3"
  },
  "language_info": {
   "codemirror_mode": {
    "name": "ipython",
    "version": 3
   },
   "file_extension": ".py",
   "mimetype": "text/x-python",
   "name": "python",
   "nbconvert_exporter": "python",
   "pygments_lexer": "ipython3",
   "version": "3.8.8"
  }
 },
 "nbformat": 4,
 "nbformat_minor": 5
}
